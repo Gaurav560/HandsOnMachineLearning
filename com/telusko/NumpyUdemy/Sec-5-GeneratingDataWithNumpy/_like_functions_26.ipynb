{
 "cells": [
  {
   "cell_type": "code",
   "id": "initial_id",
   "metadata": {
    "collapsed": true,
    "ExecuteTime": {
     "end_time": "2024-11-23T18:30:59.785691Z",
     "start_time": "2024-11-23T18:30:59.781178Z"
    }
   },
   "source": [
    "#_like functions-similar to np.zeros(),np.full(),np.ones()but only difference is it you don't need to specify a shape or type. it takes another array as an argument whose shape and type it takes.\n",
    "\n",
    "import numpy as np\n",
    "np_full=np.full((5,5),5)\n",
    "np_full\n"
   ],
   "outputs": [
    {
     "data": {
      "text/plain": [
       "array([[5, 5, 5, 5, 5],\n",
       "       [5, 5, 5, 5, 5],\n",
       "       [5, 5, 5, 5, 5],\n",
       "       [5, 5, 5, 5, 5],\n",
       "       [5, 5, 5, 5, 5]])"
      ]
     },
     "execution_count": 13,
     "metadata": {},
     "output_type": "execute_result"
    }
   ],
   "execution_count": 13
  },
  {
   "metadata": {},
   "cell_type": "markdown",
   "source": "",
   "id": "13f7ad734f3787f3"
  },
  {
   "metadata": {
    "ExecuteTime": {
     "end_time": "2024-11-23T18:30:52.043638Z",
     "start_time": "2024-11-23T18:30:52.041427Z"
    }
   },
   "cell_type": "code",
   "source": [
    "#using like function\n",
    "np_zeros=np.zeros_like(np_full)\n",
    "#works same for np.ones_like(),np.empty_like()\n",
    "np_zeros"
   ],
   "id": "61c90fab53fc9c62",
   "outputs": [
    {
     "data": {
      "text/plain": [
       "array([[0, 0, 0, 0, 0],\n",
       "       [0, 0, 0, 0, 0],\n",
       "       [0, 0, 0, 0, 0],\n",
       "       [0, 0, 0, 0, 0],\n",
       "       [0, 0, 0, 0, 0]])"
      ]
     },
     "execution_count": 12,
     "metadata": {},
     "output_type": "execute_result"
    }
   ],
   "execution_count": 12
  },
  {
   "metadata": {},
   "cell_type": "markdown",
   "source": [
    "### use of np.zeros_like\n",
    "#### n any computational analysis, initializing data structures is a critical step. zeros_like ensures that the initialized array matches the shape and data type of an existing array, avoiding manual errors and ensuring dimensional consistency.\n",
    "\n",
    "#### Example: Imagine you are working on a system of linear equations and need to create a vector for storing intermediate results during iterations. Using zeros_like, you can initialize a vector that perfectly matches the dimensionality of the coefficients matrix.\n",
    "#### a switch where we can change the values of 0 and 1 and back."
   ],
   "id": "f810fc6d9bf66dd5"
  },
  {
   "metadata": {},
   "cell_type": "markdown",
   "source": "",
   "id": "a49066039b6bc41d"
  },
  {
   "metadata": {},
   "cell_type": "markdown",
   "source": "",
   "id": "ef5c50e19213f6bb"
  },
  {
   "metadata": {},
   "cell_type": "markdown",
   "source": "",
   "id": "9280ccc21cf434e6"
  }
 ],
 "metadata": {
  "kernelspec": {
   "display_name": "Python 3",
   "language": "python",
   "name": "python3"
  },
  "language_info": {
   "codemirror_mode": {
    "name": "ipython",
    "version": 2
   },
   "file_extension": ".py",
   "mimetype": "text/x-python",
   "name": "python",
   "nbconvert_exporter": "python",
   "pygments_lexer": "ipython2",
   "version": "2.7.6"
  }
 },
 "nbformat": 4,
 "nbformat_minor": 5
}
