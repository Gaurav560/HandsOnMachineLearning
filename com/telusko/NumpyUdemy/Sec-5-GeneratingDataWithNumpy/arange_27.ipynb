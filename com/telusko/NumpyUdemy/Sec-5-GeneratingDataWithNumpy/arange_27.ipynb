{
 "cells": [
  {
   "metadata": {},
   "cell_type": "markdown",
   "source": [
    "#### To generate a sequence of non-random values using NumPy, you can use the `arange` function. The name \"arange\" stands for \"array range.\" It is similar to Python's built-in `range` function, but with a key difference: while `range` returns a Python object, `arange` generates a NumPy array.\n",
    "\n",
    "#### The `arange` function creates a sequence of integer values within a specified range, making it a versatile tool for numerical computations.\n"
   ],
   "id": "86e48abd552350c1"
  },
  {
   "metadata": {
    "ExecuteTime": {
     "end_time": "2024-11-23T20:23:01.803699Z",
     "start_time": "2024-11-23T20:23:01.800124Z"
    }
   },
   "cell_type": "code",
   "source": [
    "# using python's built in range fn\n",
    "list(range(27))"
   ],
   "id": "e313895078dc7f2c",
   "outputs": [
    {
     "data": {
      "text/plain": [
       "[0,\n",
       " 1,\n",
       " 2,\n",
       " 3,\n",
       " 4,\n",
       " 5,\n",
       " 6,\n",
       " 7,\n",
       " 8,\n",
       " 9,\n",
       " 10,\n",
       " 11,\n",
       " 12,\n",
       " 13,\n",
       " 14,\n",
       " 15,\n",
       " 16,\n",
       " 17,\n",
       " 18,\n",
       " 19,\n",
       " 20,\n",
       " 21,\n",
       " 22,\n",
       " 23,\n",
       " 24,\n",
       " 25,\n",
       " 26]"
      ]
     },
     "execution_count": 97,
     "metadata": {},
     "output_type": "execute_result"
    }
   ],
   "execution_count": 97
  },
  {
   "metadata": {
    "ExecuteTime": {
     "end_time": "2024-11-23T20:23:01.820457Z",
     "start_time": "2024-11-23T20:23:01.818782Z"
    }
   },
   "cell_type": "code",
   "source": "import numpy as np",
   "id": "58ce8525b11243e7",
   "outputs": [],
   "execution_count": 98
  },
  {
   "metadata": {
    "ExecuteTime": {
     "end_time": "2024-11-23T20:23:01.828458Z",
     "start_time": "2024-11-23T20:23:01.825844Z"
    }
   },
   "cell_type": "code",
   "source": [
    "#using arange() fn of numpy.\n",
    "array_range = np.arange(10)\n",
    "#note: array value starts from 0 only.\n",
    "array_range"
   ],
   "id": "f1d53978408318b2",
   "outputs": [
    {
     "data": {
      "text/plain": [
       "array([0, 1, 2, 3, 4, 5, 6, 7, 8, 9])"
      ]
     },
     "execution_count": 99,
     "metadata": {},
     "output_type": "execute_result"
    }
   ],
   "execution_count": 99
  },
  {
   "metadata": {},
   "cell_type": "markdown",
   "source": [
    "#### arange takes upto 4 arguments. start, stop, step and datatype.\n",
    "#### start: starting point of array\n",
    "#### stop: ending point\n",
    "#### step: jump between values\n",
    "#### dtype: datatype\n",
    "\n",
    "####  when a stop argument is not provided, the function assumes that stop=start and switches the origin to 0 but if you provide only stop argument, it will throw exception.\n"
   ],
   "id": "208a2acd497fe77f"
  },
  {
   "metadata": {
    "ExecuteTime": {
     "end_time": "2024-11-23T20:23:01.845207Z",
     "start_time": "2024-11-23T20:23:01.842948Z"
    }
   },
   "cell_type": "code",
   "source": [
    "# this works in newer versions of numpy\n",
    "array_range1=np.arange(stop=14)\n",
    "array_range1"
   ],
   "id": "fd1bed47d69840bf",
   "outputs": [
    {
     "data": {
      "text/plain": [
       "array([ 0,  1,  2,  3,  4,  5,  6,  7,  8,  9, 10, 11, 12, 13])"
      ]
     },
     "execution_count": 100,
     "metadata": {},
     "output_type": "execute_result"
    }
   ],
   "execution_count": 100
  },
  {
   "metadata": {
    "ExecuteTime": {
     "end_time": "2024-11-23T20:23:01.860449Z",
     "start_time": "2024-11-23T20:23:01.857970Z"
    }
   },
   "cell_type": "code",
   "source": [
    "array_range2=np.arange(start=0,stop=30,step=4,dtype=float)\n",
    "array_range2"
   ],
   "id": "6077717587e9dc39",
   "outputs": [
    {
     "data": {
      "text/plain": [
       "array([ 0.,  4.,  8., 12., 16., 20., 24., 28.])"
      ]
     },
     "execution_count": 101,
     "metadata": {},
     "output_type": "execute_result"
    }
   ],
   "execution_count": 101
  },
  {
   "metadata": {
    "ExecuteTime": {
     "end_time": "2024-11-23T20:23:01.935046Z",
     "start_time": "2024-11-23T20:23:01.932394Z"
    }
   },
   "cell_type": "code",
   "source": [
    "array_range3 = np.arange(start=0, stop=30, step=2.5, dtype=np.int32)\n",
    "#### Since 30 ÷ 2.5 = 12, this results in 12 original steps up to 30. However, because dtype=np.int32 is specified, the function assumes you want integer values only. It truncates the values to integers and returns the first 12 values within that range.\n",
    "array_range3"
   ],
   "id": "2ce4157974af4508",
   "outputs": [
    {
     "data": {
      "text/plain": [
       "array([ 0,  2,  4,  6,  8, 10, 12, 14, 16, 18, 20, 22], dtype=int32)"
      ]
     },
     "execution_count": 102,
     "metadata": {},
     "output_type": "execute_result"
    }
   ],
   "execution_count": 102
  },
  {
   "metadata": {
    "ExecuteTime": {
     "end_time": "2024-11-23T20:23:02.005876Z",
     "start_time": "2024-11-23T20:23:02.004394Z"
    }
   },
   "cell_type": "code",
   "source": "",
   "id": "3ee36ca96dbcc8d3",
   "outputs": [],
   "execution_count": null
  }
 ],
 "metadata": {
  "kernelspec": {
   "display_name": "Python 3",
   "language": "python",
   "name": "python3"
  },
  "language_info": {
   "codemirror_mode": {
    "name": "ipython",
    "version": 2
   },
   "file_extension": ".py",
   "mimetype": "text/x-python",
   "name": "python",
   "nbconvert_exporter": "python",
   "pygments_lexer": "ipython2",
   "version": "2.7.6"
  }
 },
 "nbformat": 4,
 "nbformat_minor": 5
}
