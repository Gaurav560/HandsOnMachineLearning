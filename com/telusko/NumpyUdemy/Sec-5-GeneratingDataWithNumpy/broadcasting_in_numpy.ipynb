{
 "cells": [
  {
   "metadata": {
    "ExecuteTime": {
     "end_time": "2024-11-25T12:08:35.916877Z",
     "start_time": "2024-11-25T12:08:35.914775Z"
    }
   },
   "cell_type": "code",
   "source": "#to provide operation on dissimilar arrays in numpy, broadcasting is used.",
   "id": "2495efebc6637491",
   "outputs": [],
   "execution_count": 17
  },
  {
   "metadata": {},
   "cell_type": "markdown",
   "source": [
    "# Broadcasting In Numpy\n",
    "\n",
    " - The main idea is simple: the smaller array is stretched (broadcasted) to match the shape of the larger array so operations can work. If it’s not possible to stretch the smaller array, you’ll get a broadcasting error.\n",
    "\n",
    "- The best way to get good at broadcasting is by practicing a lot, imagining and building intuition over time.\n",
    "\n",
    "## but if one still persists to learn broadcasting rules:\n",
    "\n",
    "For broadcasting to work, NumPy applies these rules to align the shapes of the arrays:\n",
    "\n",
    "- Right Alignment: Starting from the trailing dimensions, NumPy compares each dimension of the arrays.\n",
    "- Matching Dimensions:\n",
    "If two dimensions are the same, they are compatible.\n",
    "If one of the dimensions is 1, it is stretched to match the other dimension.\n",
    "If the dimensions are different and none of them is 1, broadcasting fails, and a ValueError is raised.\n",
    "- Adding New Dimensions: If one array has fewer dimensions than the other, new axes (of size 1) are added to the left of the smaller array's shape.\n"
   ],
   "id": "a54b63f7500ce75f"
  },
  {
   "metadata": {
    "collapsed": true,
    "ExecuteTime": {
     "end_time": "2024-11-25T12:08:35.935605Z",
     "start_time": "2024-11-25T12:08:35.933654Z"
    }
   },
   "cell_type": "code",
   "source": "import numpy as np",
   "id": "initial_id",
   "outputs": [],
   "execution_count": 18
  },
  {
   "metadata": {
    "ExecuteTime": {
     "end_time": "2024-11-25T12:08:35.941852Z",
     "start_time": "2024-11-25T12:08:35.938699Z"
    }
   },
   "cell_type": "code",
   "source": [
    "#Broadcasting rules\n",
    "# 1. Shapes Need to Match\n",
    "# To do operations between two arrays, their shapes need to be the same.\n",
    "# If they’re not the same, NumPy tries to make them match using broadcasting.\n",
    "\n",
    "# 2. Broadcasting Adjustments\n",
    "# For broadcasting to work:\n",
    "# - If a dimension is the same: Cool, no problem!\n",
    "# - If a dimension is 1: It’s stretched to match the other dimension.\n",
    "# - If dimensions are different and not 1: Sorry, broadcasting fails.\n",
    "\n",
    "# 3. Add Missing Dimensions\n",
    "# If one array has fewer dimensions, NumPy pretends it has extra dimensions\n",
    "# (with size 1) at the front to match the other array’s shape.\n",
    "\n",
    "# When Does Broadcasting Fail?\n",
    "# Broadcasting fails when two dimensions:\n",
    "# - Are different, and\n",
    "# - Neither is 1.\n",
    "\n",
    "# If this happens, you’ll see an error.\n",
    "\n",
    "# Examples (Super Simple)\n",
    "\n",
    "# Example 1: It Works\n",
    "arr1 = np.array([1, 2, 3])  # Shape: (3,)\n",
    "arr2 = np.array([[10], [20], [30]])  # Shape: (3, 1)\n",
    "\n",
    "result = arr1 + arr2  # Shape: (3, 3)\n",
    "print(\"Example 1 - Broadcasting Works:\")\n",
    "print(result)\n",
    "# Output:\n",
    "# [[11 12 13]\n",
    "#  [21 22 23]\n",
    "#  [31 32 33]]\n",
    "\n",
    "# Why does it work?\n",
    "# - `arr1` is stretched to `(1, 3)` and `arr2` is stretched to `(3, 1)`.\n",
    "\n",
    "# Example 2: It Fails\n",
    "arr1 = np.array([1, 2, 3])  # Shape: (3,)\n",
    "arr2 = np.array([4, 5, 6, 7])  # Shape: (4,)\n",
    "\n",
    "try:\n",
    "    result = arr1 + arr2\n",
    "except ValueError as e:\n",
    "    print(\"\\nExample 2 - Broadcasting Fails:\")\n",
    "    print(e)\n",
    "# Error: Shapes (3,) and (4,) don’t match!\n",
    "\n",
    "# Example 3: Scalars Always Work\n",
    "arr1 = np.array([[1, 2], [3, 4]])  # Shape: (2, 2)\n",
    "scalar = 10  # Shape: ()\n",
    "\n",
    "result = arr1 + scalar  # Shape: (2, 2)\n",
    "print(\"\\nExample 3 - Scalars Always Work:\")\n",
    "print(result)\n",
    "# Output:\n",
    "# [[11 12]\n",
    "#  [13 14]]\n",
    "\n",
    "# Why does it work?\n",
    "# Scalars automatically stretch to match any array.\n",
    "\n",
    "# Remember This:\n",
    "# 1. If the shapes don’t match: NumPy tries to stretch dimensions with 1.\n",
    "# 2. If stretching works: Great! Operations proceed.\n",
    "# 3. If stretching doesn’t work: Error.\n",
    "\n",
    "# Just think of it like matching shapes and stretching smaller ones.\n",
    "# If it makes sense, NumPy will do it for you!"
   ],
   "id": "d6f43bf0e7046a66",
   "outputs": [
    {
     "name": "stdout",
     "output_type": "stream",
     "text": [
      "Example 1 - Broadcasting Works:\n",
      "[[11 12 13]\n",
      " [21 22 23]\n",
      " [31 32 33]]\n",
      "\n",
      "Example 2 - Broadcasting Fails:\n",
      "operands could not be broadcast together with shapes (3,) (4,) \n",
      "\n",
      "Example 3 - Scalars Always Work:\n",
      "[[11 12]\n",
      " [13 14]]\n"
     ]
    }
   ],
   "execution_count": 19
  },
  {
   "metadata": {
    "ExecuteTime": {
     "end_time": "2024-11-25T12:08:35.954340Z",
     "start_time": "2024-11-25T12:08:35.946929Z"
    }
   },
   "cell_type": "code",
   "source": [
    "#example-4\n",
    "arr1 = np.array([1, 2, 3])\n",
    "arr2 = np.array([4, 5, 6,7,8])\n",
    "arr1+arr2"
   ],
   "id": "49e1a23fac319f78",
   "outputs": [
    {
     "ename": "ValueError",
     "evalue": "operands could not be broadcast together with shapes (3,) (5,) ",
     "output_type": "error",
     "traceback": [
      "\u001B[0;31m---------------------------------------------------------------------------\u001B[0m",
      "\u001B[0;31mValueError\u001B[0m                                Traceback (most recent call last)",
      "Cell \u001B[0;32mIn[20], line 4\u001B[0m\n\u001B[1;32m      2\u001B[0m arr1 \u001B[38;5;241m=\u001B[39m np\u001B[38;5;241m.\u001B[39marray([\u001B[38;5;241m1\u001B[39m, \u001B[38;5;241m2\u001B[39m, \u001B[38;5;241m3\u001B[39m])\n\u001B[1;32m      3\u001B[0m arr2 \u001B[38;5;241m=\u001B[39m np\u001B[38;5;241m.\u001B[39marray([\u001B[38;5;241m4\u001B[39m, \u001B[38;5;241m5\u001B[39m, \u001B[38;5;241m6\u001B[39m,\u001B[38;5;241m7\u001B[39m,\u001B[38;5;241m8\u001B[39m])\n\u001B[0;32m----> 4\u001B[0m arr1\u001B[38;5;241m+\u001B[39marr2\n",
      "\u001B[0;31mValueError\u001B[0m: operands could not be broadcast together with shapes (3,) (5,) "
     ]
    }
   ],
   "execution_count": 20
  },
  {
   "metadata": {
    "ExecuteTime": {
     "end_time": "2024-11-25T12:08:35.962816Z",
     "start_time": "2024-11-25T06:59:40.490079Z"
    }
   },
   "cell_type": "code",
   "source": [
    "#same dimension broadcasting-1d\n",
    "#example-5\n",
    "arr1=np.array([1, 2, 3])\n",
    "arr2=np.array([4])\n",
    "arr1+arr2\n",
    "# what numpy does: the second array i.e, arr2 which is a 1*1 array is broadcast into a 1*3 array and then addition operation is happening."
   ],
   "id": "4342306ddd0d3d47",
   "outputs": [
    {
     "data": {
      "text/plain": [
       "array([5, 6, 7])"
      ]
     },
     "execution_count": 4,
     "metadata": {},
     "output_type": "execute_result"
    }
   ],
   "execution_count": 4
  },
  {
   "metadata": {
    "ExecuteTime": {
     "end_time": "2024-11-25T12:08:35.965217Z",
     "start_time": "2024-11-25T11:22:12.405727Z"
    }
   },
   "cell_type": "code",
   "source": [
    "#different dimension broadcasting-as arr1 is 2d array and arr2 is one d array\n",
    "#example-6\n",
    "arr1=np.array([[1, 2, 3],[4,5,6]])\n",
    "print(arr1.ndim)\n",
    "arr2=np.array([2,2,2])\n",
    "print(arr2.ndim)\n",
    "arr1+arr2\n",
    "# here the arr2 is broadcast by numpy from a 1*3 to 2*3 array."
   ],
   "id": "773be706f1caa67f",
   "outputs": [
    {
     "name": "stdout",
     "output_type": "stream",
     "text": [
      "2\n",
      "1\n"
     ]
    },
    {
     "data": {
      "text/plain": [
       "array([[3, 4, 5],\n",
       "       [6, 7, 8]])"
      ]
     },
     "execution_count": 2,
     "metadata": {},
     "output_type": "execute_result"
    }
   ],
   "execution_count": 2
  },
  {
   "metadata": {
    "ExecuteTime": {
     "end_time": "2024-11-25T12:08:35.965471Z",
     "start_time": "2024-11-25T07:14:22.916559Z"
    }
   },
   "cell_type": "code",
   "source": [
    "#example-7\n",
    "arr1=np.array([[1, 2],[3,4],[5,6]])\n",
    "arr2=np.array([[2],[4],[6]])\n",
    "# first array is of dimension 3*2 and second one is of 3*1, so second is broadcast to match the first array dimension. so, arr2   became [[2,2],[4,4],[6,6]] and arr1 is [[1, 2],[3,4],[5,6]].\n",
    "# now addition is possible as both array dimensions are 3*2.\n",
    "arr1+arr2"
   ],
   "id": "d9dffcb2885bbc10",
   "outputs": [
    {
     "data": {
      "text/plain": [
       "array([[ 3,  4],\n",
       "       [ 7,  8],\n",
       "       [11, 12]])"
      ]
     },
     "execution_count": 12,
     "metadata": {},
     "output_type": "execute_result"
    }
   ],
   "execution_count": 12
  },
  {
   "metadata": {
    "ExecuteTime": {
     "end_time": "2024-11-25T12:08:35.966821Z",
     "start_time": "2024-11-25T07:21:41.130489Z"
    }
   },
   "cell_type": "code",
   "source": [
    "#example-8\n",
    "arr1=np.array([[1, 2],[3,4],[5,6]]) #3*2 dimension\n",
    "arr2=np.array([2,2,2]) #1*3 dimension\n",
    "arr1+arr2\n",
    "\n",
    "# no chance that a 1*3 array could be ever broadcast to 3*2 array. that's why this error arises."
   ],
   "id": "f0ea94295ff84f4",
   "outputs": [
    {
     "ename": "ValueError",
     "evalue": "operands could not be broadcast together with shapes (3,2) (3,) ",
     "output_type": "error",
     "traceback": [
      "\u001B[0;31m---------------------------------------------------------------------------\u001B[0m",
      "\u001B[0;31mValueError\u001B[0m                                Traceback (most recent call last)",
      "Cell \u001B[0;32mIn[15], line 3\u001B[0m\n\u001B[1;32m      1\u001B[0m arr1\u001B[38;5;241m=\u001B[39mnp\u001B[38;5;241m.\u001B[39marray([[\u001B[38;5;241m1\u001B[39m, \u001B[38;5;241m2\u001B[39m],[\u001B[38;5;241m3\u001B[39m,\u001B[38;5;241m4\u001B[39m],[\u001B[38;5;241m5\u001B[39m,\u001B[38;5;241m6\u001B[39m]]) \u001B[38;5;66;03m#3*2 dimension\u001B[39;00m\n\u001B[1;32m      2\u001B[0m arr2\u001B[38;5;241m=\u001B[39mnp\u001B[38;5;241m.\u001B[39marray([\u001B[38;5;241m2\u001B[39m,\u001B[38;5;241m2\u001B[39m,\u001B[38;5;241m2\u001B[39m]) \u001B[38;5;66;03m#1*3 dimension\u001B[39;00m\n\u001B[0;32m----> 3\u001B[0m arr1\u001B[38;5;241m+\u001B[39marr2\n",
      "\u001B[0;31mValueError\u001B[0m: operands could not be broadcast together with shapes (3,2) (3,) "
     ]
    }
   ],
   "execution_count": 15
  },
  {
   "metadata": {
    "ExecuteTime": {
     "end_time": "2024-11-25T12:08:35.972250Z",
     "start_time": "2024-11-25T08:29:23.112824Z"
    }
   },
   "cell_type": "code",
   "source": [
    "#example-9\n",
    "arr1=np.array([[1, 2],[3,4],[5,6]])\n",
    "arr2=np.array([[2,2],[3,4],[5,6],[7,8]])\n",
    "arr1+arr2\n",
    "\n",
    "# Reason for Failure\n",
    "# Shape of arr1: (3, 2)\n",
    "# This means arr1 has 3 rows and 2 columns.\n",
    "#\n",
    "# Shape of arr2: (4, 2)\n",
    "# This means arr2 has 4 rows and 2 columns.\n",
    "#\n",
    "# Broadcasting Rules:\n",
    "# For broadcasting to work, NumPy compares the dimensions of the arrays from right to left:\n",
    "#\n",
    "# The dimensions must either match exactly, or\n",
    "# One of the dimensions must be 1 (so it can be stretched to match the other).\n",
    "# Here's the comparison of dimensions:\n",
    "#\n",
    "# The last dimensions (number of columns): 2 (both arrays) → Compatible.\n",
    "# The second-to-last dimensions (number of rows): 3 vs 4 → Not compatible, and neither is 1.\n",
    "# Because the number of rows (3 vs 4) is incompatible, broadcasting cannot occur, and NumPy raises a ValueError:"
   ],
   "id": "e22a6bcfa82b3092",
   "outputs": [
    {
     "ename": "ValueError",
     "evalue": "operands could not be broadcast together with shapes (3,2) (4,2) ",
     "output_type": "error",
     "traceback": [
      "\u001B[0;31m---------------------------------------------------------------------------\u001B[0m",
      "\u001B[0;31mValueError\u001B[0m                                Traceback (most recent call last)",
      "Cell \u001B[0;32mIn[34], line 3\u001B[0m\n\u001B[1;32m      1\u001B[0m arr1\u001B[38;5;241m=\u001B[39mnp\u001B[38;5;241m.\u001B[39marray([[\u001B[38;5;241m1\u001B[39m, \u001B[38;5;241m2\u001B[39m],[\u001B[38;5;241m3\u001B[39m,\u001B[38;5;241m4\u001B[39m],[\u001B[38;5;241m5\u001B[39m,\u001B[38;5;241m6\u001B[39m]])\n\u001B[1;32m      2\u001B[0m arr2\u001B[38;5;241m=\u001B[39mnp\u001B[38;5;241m.\u001B[39marray([[\u001B[38;5;241m2\u001B[39m,\u001B[38;5;241m2\u001B[39m],[\u001B[38;5;241m3\u001B[39m,\u001B[38;5;241m4\u001B[39m],[\u001B[38;5;241m5\u001B[39m,\u001B[38;5;241m6\u001B[39m],[\u001B[38;5;241m7\u001B[39m,\u001B[38;5;241m8\u001B[39m]])\n\u001B[0;32m----> 3\u001B[0m arr1\u001B[38;5;241m+\u001B[39marr2\n",
      "\u001B[0;31mValueError\u001B[0m: operands could not be broadcast together with shapes (3,2) (4,2) "
     ]
    }
   ],
   "execution_count": 34
  }
 ],
 "metadata": {
  "kernelspec": {
   "display_name": "Python 3",
   "language": "python",
   "name": "python3"
  },
  "language_info": {
   "codemirror_mode": {
    "name": "ipython",
    "version": 2
   },
   "file_extension": ".py",
   "mimetype": "text/x-python",
   "name": "python",
   "nbconvert_exporter": "python",
   "pygments_lexer": "ipython2",
   "version": "2.7.6"
  }
 },
 "nbformat": 4,
 "nbformat_minor": 5
}
