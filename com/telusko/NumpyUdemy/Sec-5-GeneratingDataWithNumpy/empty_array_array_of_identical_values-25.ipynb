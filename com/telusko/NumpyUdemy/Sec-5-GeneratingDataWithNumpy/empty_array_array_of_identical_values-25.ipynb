{
 "cells": [
  {
   "cell_type": "code",
   "id": "initial_id",
   "metadata": {
    "collapsed": true,
    "ExecuteTime": {
     "end_time": "2024-11-23T13:22:37.904232Z",
     "start_time": "2024-11-23T13:22:37.871991Z"
    }
   },
   "source": "import numpy as np",
   "outputs": [],
   "execution_count": 5
  },
  {
   "metadata": {
    "ExecuteTime": {
     "end_time": "2024-11-23T13:26:02.614925Z",
     "start_time": "2024-11-23T13:26:02.611969Z"
    }
   },
   "cell_type": "code",
   "source": [
    "#np.empty()\n",
    "#creates an \"empty\" n-d array\n",
    "#runs an array without initializing entries\n",
    "#fastest way to generate n-d array\n",
    "array_empty=np.empty(shape=(3,4))\n",
    "array_empty"
   ],
   "id": "780aeadde00f6144",
   "outputs": [
    {
     "data": {
      "text/plain": [
       "array([[0., 0., 0., 0.],\n",
       "       [0., 0., 0., 0.],\n",
       "       [0., 0., 0., 0.]])"
      ]
     },
     "execution_count": 56,
     "metadata": {},
     "output_type": "execute_result"
    }
   ],
   "execution_count": 56
  },
  {
   "metadata": {},
   "cell_type": "markdown",
   "source": "### `np.empty()` is fast because it doesn't initialize the array with specific values (like zeros or ones). Instead, it allocates memory without setting the values, meaning the array may contain random data from the previous contents of that memory. This approach improves efficiency, but it also means the array doesn't have consistent data, which can be risky if you don't overwrite it immediately. Essentially, it reuses memory without creating new data.",
   "id": "c69f05bf24642825"
  },
  {
   "metadata": {
    "ExecuteTime": {
     "end_time": "2024-11-23T17:59:26.473050Z",
     "start_time": "2024-11-23T17:59:26.470241Z"
    }
   },
   "cell_type": "code",
   "source": [
    "#np.zeros()\n",
    "#np.zeros() creates an array full of zeros\n",
    "#the only difference between np.zeros() and np.empty() will be that the output will always be zero (consistent) for np.zeros()\n",
    "#default\n",
    "\n",
    "array_zeros=np.zeros((3,4))\n",
    "\n"
   ],
   "id": "dc71d2c7a7293387",
   "outputs": [],
   "execution_count": 57
  },
  {
   "metadata": {
    "ExecuteTime": {
     "end_time": "2024-11-23T17:59:31.251107Z",
     "start_time": "2024-11-23T17:59:31.246777Z"
    }
   },
   "cell_type": "code",
   "source": "array_zeros",
   "id": "3b6e986afce6a5cd",
   "outputs": [
    {
     "data": {
      "text/plain": [
       "array([[0., 0., 0., 0.],\n",
       "       [0., 0., 0., 0.],\n",
       "       [0., 0., 0., 0.]])"
      ]
     },
     "execution_count": 58,
     "metadata": {},
     "output_type": "execute_result"
    }
   ],
   "execution_count": 58
  },
  {
   "metadata": {
    "ExecuteTime": {
     "end_time": "2024-11-23T18:03:47.134668Z",
     "start_time": "2024-11-23T18:03:47.131869Z"
    }
   },
   "cell_type": "code",
   "source": "array_zeros=np.zeros((3,4),dtype=int)",
   "id": "e4f22f12c60aec74",
   "outputs": [],
   "execution_count": 59
  },
  {
   "metadata": {
    "ExecuteTime": {
     "end_time": "2024-11-23T18:03:50.734702Z",
     "start_time": "2024-11-23T18:03:50.731222Z"
    }
   },
   "cell_type": "code",
   "source": "array_zeros",
   "id": "8a5a172babedf0ec",
   "outputs": [
    {
     "data": {
      "text/plain": [
       "array([[0, 0, 0, 0],\n",
       "       [0, 0, 0, 0],\n",
       "       [0, 0, 0, 0]])"
      ]
     },
     "execution_count": 60,
     "metadata": {},
     "output_type": "execute_result"
    }
   ],
   "execution_count": 60
  },
  {
   "metadata": {
    "ExecuteTime": {
     "end_time": "2024-11-23T18:04:29.708018Z",
     "start_time": "2024-11-23T18:04:29.705276Z"
    }
   },
   "cell_type": "code",
   "source": [
    "\n",
    "#np.ones() -similar to np.zeros . just in place of 0 it becomes 1"
   ],
   "id": "c01c1313acbe7e1a",
   "outputs": [],
   "execution_count": 61
  },
  {
   "metadata": {
    "ExecuteTime": {
     "end_time": "2024-11-23T18:04:58.935562Z",
     "start_time": "2024-11-23T18:04:58.931255Z"
    }
   },
   "cell_type": "code",
   "source": [
    "array_ones=np.ones((3,4),dtype=int)\n",
    "array_ones"
   ],
   "id": "53d0eb8b40059d47",
   "outputs": [
    {
     "data": {
      "text/plain": [
       "array([[1, 1, 1, 1],\n",
       "       [1, 1, 1, 1],\n",
       "       [1, 1, 1, 1]])"
      ]
     },
     "execution_count": 62,
     "metadata": {},
     "output_type": "execute_result"
    }
   ],
   "execution_count": 62
  },
  {
   "metadata": {
    "ExecuteTime": {
     "end_time": "2024-11-23T18:06:34.581762Z",
     "start_time": "2024-11-23T18:06:34.577726Z"
    }
   },
   "cell_type": "code",
   "source": [
    "#np.full()- generates an array filled entirely with a specific value\n",
    "#contains an additional mandatory argument called value. In the below example it is 5.\n",
    "#takes scalar values as mandatory arguments(here scalar refers to single individual values)\n",
    "array_full=np.full((3,4),5)\n",
    "array_full"
   ],
   "id": "eb2f8ae9d9a25ce",
   "outputs": [
    {
     "data": {
      "text/plain": [
       "array([[5, 5, 5, 5],\n",
       "       [5, 5, 5, 5],\n",
       "       [5, 5, 5, 5]])"
      ]
     },
     "execution_count": 63,
     "metadata": {},
     "output_type": "execute_result"
    }
   ],
   "execution_count": 63
  },
  {
   "metadata": {},
   "cell_type": "code",
   "outputs": [],
   "execution_count": null,
   "source": "",
   "id": "3eb17c40651bac09"
  }
 ],
 "metadata": {
  "kernelspec": {
   "display_name": "Python 3",
   "language": "python",
   "name": "python3"
  },
  "language_info": {
   "codemirror_mode": {
    "name": "ipython",
    "version": 2
   },
   "file_extension": ".py",
   "mimetype": "text/x-python",
   "name": "python",
   "nbconvert_exporter": "python",
   "pygments_lexer": "ipython2",
   "version": "2.7.6"
  }
 },
 "nbformat": 4,
 "nbformat_minor": 5
}
