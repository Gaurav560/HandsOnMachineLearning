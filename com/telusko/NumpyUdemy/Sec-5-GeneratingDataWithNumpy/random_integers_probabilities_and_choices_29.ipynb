{
 "cells": [
  {
   "cell_type": "code",
   "id": "initial_id",
   "metadata": {
    "collapsed": true,
    "ExecuteTime": {
     "end_time": "2024-11-24T08:10:18.988559Z",
     "start_time": "2024-11-24T08:10:18.986464Z"
    }
   },
   "source": [
    "# Different ways of generating data: new methods we can use to generate integers and probabilities\n",
    "import numpy as np\n",
    "from numpy.random import Generator as gen\n",
    "from numpy.random import PCG64 as pcg"
   ],
   "outputs": [],
   "execution_count": 34
  },
  {
   "metadata": {
    "ExecuteTime": {
     "end_time": "2024-11-24T08:10:18.993461Z",
     "start_time": "2024-11-24T08:10:18.991723Z"
    }
   },
   "cell_type": "code",
   "source": "array_rg=gen(pcg(seed=128))",
   "id": "8b5d6d9582ffd150",
   "outputs": [],
   "execution_count": 35
  },
  {
   "metadata": {},
   "cell_type": "markdown",
   "source": "",
   "id": "e21ac082df0a7e34"
  },
  {
   "metadata": {
    "ExecuteTime": {
     "end_time": "2024-11-24T08:10:19.001520Z",
     "start_time": "2024-11-24T08:10:18.998948Z"
    }
   },
   "cell_type": "code",
   "source": [
    "# integers()- generates whole numbers. this method requires defining a fixed range of values to choose from.\n",
    "\n",
    "# if we only provides a single value, it automatically assumes we only want integers between 0 and the value itself.\n",
    "array_rg.integers(6,size=(4,4))"
   ],
   "id": "3a36bf3144765d64",
   "outputs": [
    {
     "data": {
      "text/plain": [
       "array([[4, 3, 4, 2],\n",
       "       [5, 2, 0, 2],\n",
       "       [2, 0, 1, 3],\n",
       "       [1, 5, 0, 5]])"
      ]
     },
     "execution_count": 36,
     "metadata": {},
     "output_type": "execute_result"
    }
   ],
   "execution_count": 36
  },
  {
   "metadata": {
    "ExecuteTime": {
     "end_time": "2024-11-24T08:10:19.031319Z",
     "start_time": "2024-11-24T08:10:19.028781Z"
    }
   },
   "cell_type": "code",
   "source": "array_rg.integers(low=20,high=40,size=(4,4))",
   "id": "10ab01ffa470c63b",
   "outputs": [
    {
     "data": {
      "text/plain": [
       "array([[38, 30, 39, 28],\n",
       "       [21, 37, 34, 26],\n",
       "       [27, 36, 29, 33],\n",
       "       [28, 22, 34, 25]])"
      ]
     },
     "execution_count": 37,
     "metadata": {},
     "output_type": "execute_result"
    }
   ],
   "execution_count": 37
  },
  {
   "metadata": {
    "ExecuteTime": {
     "end_time": "2024-11-24T08:10:19.075141Z",
     "start_time": "2024-11-24T08:10:19.072677Z"
    }
   },
   "cell_type": "code",
   "source": [
    "#random() method\n",
    "# the random method is not compatible between 0 and 1 since probabilities are always between 0 and 1.\n",
    "array_rg.random(size=(4,4))"
   ],
   "id": "26c8e45948fb01c7",
   "outputs": [
    {
     "data": {
      "text/plain": [
       "array([[0.97822197, 0.04673085, 0.31142437, 0.02422937],\n",
       "       [0.99297125, 0.96616327, 0.53723508, 0.98905943],\n",
       "       [0.29361544, 0.05936836, 0.58052105, 0.24448327],\n",
       "       [0.37632227, 0.3844723 , 0.92544899, 0.76470818]])"
      ]
     },
     "execution_count": 38,
     "metadata": {},
     "output_type": "execute_result"
    }
   ],
   "execution_count": 38
  },
  {
   "metadata": {
    "ExecuteTime": {
     "end_time": "2024-11-24T08:10:19.135148Z",
     "start_time": "2024-11-24T08:10:19.132687Z"
    }
   },
   "cell_type": "code",
   "source": [
    "#The choice() method is used to randomly select an element from a given sequence, such as a list, array, or tuple, mimicking the process of making an arbitrary choice.\n",
    "#It also allows specifying the probabilities associated with each element, enabling more control over the random selection process.\n",
    "\n",
    "#Probability Weights: You can assign probabilities to each element, determining how likely it is to be chosen. If not specified, all elements are equally likely to be selected.\n",
    "\n",
    "array_rg.choice([4,6,8,9,10],size=(4,4))\n",
    "# this time all the elements of the array comes from the choice we had provided earlier i.e, [4,6,8,9,10]\n"
   ],
   "id": "65f60a4fcefaeac3",
   "outputs": [
    {
     "data": {
      "text/plain": [
       "array([[ 9,  4,  9, 10],\n",
       "       [ 9, 10,  6,  4],\n",
       "       [ 8,  6,  6,  8],\n",
       "       [ 9,  4, 10,  4]])"
      ]
     },
     "execution_count": 39,
     "metadata": {},
     "output_type": "execute_result"
    }
   ],
   "execution_count": 39
  },
  {
   "metadata": {
    "ExecuteTime": {
     "end_time": "2024-11-24T08:10:19.212170Z",
     "start_time": "2024-11-24T08:10:19.209514Z"
    }
   },
   "cell_type": "code",
   "source": [
    "\n",
    "choices = [1, 2, 3, 4]\n",
    "result = array_rg.choice(choices, size=(5,5))\n",
    "result\n",
    "# Each element has a 25% chance of being selected.\n"
   ],
   "id": "77cb2d714558d7a",
   "outputs": [
    {
     "data": {
      "text/plain": [
       "array([[3, 3, 4, 1, 3],\n",
       "       [4, 3, 1, 1, 3],\n",
       "       [3, 3, 1, 3, 4],\n",
       "       [4, 1, 1, 2, 3],\n",
       "       [4, 3, 1, 3, 3]])"
      ]
     },
     "execution_count": 40,
     "metadata": {},
     "output_type": "execute_result"
    }
   ],
   "execution_count": 40
  },
  {
   "metadata": {
    "ExecuteTime": {
     "end_time": "2024-11-24T08:10:19.273420Z",
     "start_time": "2024-11-24T08:10:19.270656Z"
    }
   },
   "cell_type": "code",
   "source": [
    "#example for probability weights-specifying the probability weights\n",
    "choices = ['A', 'B', 'C']\n",
    "probabilities = [0.1, 0.7, 0.2]  # B is most likely to be chosen as more probability weight is assigned.\n",
    "# note sum of all probability weights equals to 1.\n",
    "result = array_rg.choice(choices, size=(5,5), p=probabilities)\n",
    "result\n"
   ],
   "id": "d9e92a30ddd2deb0",
   "outputs": [
    {
     "data": {
      "text/plain": [
       "array([['B', 'B', 'B', 'B', 'C'],\n",
       "       ['B', 'B', 'B', 'B', 'B'],\n",
       "       ['B', 'B', 'A', 'A', 'C'],\n",
       "       ['C', 'B', 'A', 'C', 'B'],\n",
       "       ['B', 'B', 'B', 'B', 'B']], dtype='<U1')"
      ]
     },
     "execution_count": 41,
     "metadata": {},
     "output_type": "execute_result"
    }
   ],
   "execution_count": 41
  }
 ],
 "metadata": {
  "kernelspec": {
   "display_name": "Python 3",
   "language": "python",
   "name": "python3"
  },
  "language_info": {
   "codemirror_mode": {
    "name": "ipython",
    "version": 2
   },
   "file_extension": ".py",
   "mimetype": "text/x-python",
   "name": "python",
   "nbconvert_exporter": "python",
   "pygments_lexer": "ipython2",
   "version": "2.7.6"
  }
 },
 "nbformat": 4,
 "nbformat_minor": 5
}
