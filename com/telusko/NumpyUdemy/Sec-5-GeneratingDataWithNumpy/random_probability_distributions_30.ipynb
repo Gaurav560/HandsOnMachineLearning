{
 "cells": [
  {
   "cell_type": "code",
   "id": "initial_id",
   "metadata": {
    "collapsed": true,
    "ExecuteTime": {
     "end_time": "2024-11-24T11:54:55.265623Z",
     "start_time": "2024-11-24T11:54:55.262522Z"
    }
   },
   "source": [
    "#continue with generating array of random data from different probability distribution.\n",
    "import numpy as np\n",
    "from numpy.random import Generator as gen\n",
    "from numpy.random import PCG64 as pcg\n"
   ],
   "outputs": [],
   "execution_count": 34
  },
  {
   "metadata": {
    "ExecuteTime": {
     "end_time": "2024-11-24T11:54:55.287278Z",
     "start_time": "2024-11-24T11:54:55.284391Z"
    }
   },
   "cell_type": "code",
   "source": [
    "array_rg=gen(pcg(seed=246))\n",
    "array_rg\n"
   ],
   "id": "5f9ebfbf33e85f97",
   "outputs": [
    {
     "data": {
      "text/plain": [
       "Generator(PCG64) at 0x106757760"
      ]
     },
     "execution_count": 35,
     "metadata": {},
     "output_type": "execute_result"
    }
   ],
   "execution_count": 35
  },
  {
   "metadata": {},
   "cell_type": "markdown",
   "source": [
    "\n",
    "\n",
    "\n",
    "\n",
    "# Understanding Poisson Distribution in NumPy\n",
    "\n",
    "## What is Poisson Distribution?\n",
    "The **Poisson distribution** is a statistical model used to describe the probability of a certain number of events occurring within a fixed interval of time, space, or any measurable dimension. It is based on the following assumptions:\n",
    "1. **Independence**: Events occur independently of each other.\n",
    "2. **Constant Rate**: The average number of events (\\( \\lambda \\)) is consistent across intervals.\n",
    "3. **Non-Negative Counts**: The outcome is always a non-negative integer (e.g., 0, 1, 2, ...).\n",
    "\n",
    "---\n",
    "\n",
    "## Key Concepts\n",
    "- **Lambda (\\( \\lambda \\))**:\n",
    "  - Represents the **average number of events** expected in a given interval.\n",
    "  - Example: If \\( \\lambda = 1 \\), it means we expect, on average, 1 event per interval.\n",
    "\n",
    "- **Output Values**:\n",
    "  - The Poisson distribution outputs integers representing the **count of events** in an interval.\n",
    "  - ### The counts are random but centered around the value of \\( \\lambda \\).\n",
    "\n",
    "- **Typical Behavior**:\n",
    "  - For small \\( \\lambda \\) (e.g., \\( \\lambda = 1 \\)), the counts are usually low (0, 1, 2, or 3).\n",
    "  - As \\( \\lambda \\) increases, higher counts become more probable.\n",
    "\n",
    "---\n",
    "\n",
    "## Default Behavior in NumPy\n",
    "When using the Poisson distribution in NumPy:\n",
    "1. **Default Lambda**:\n",
    "   - If \\( \\lambda \\) (denoted as `lam`) is not specified, it defaults to \\( \\lambda = 1 \\).\n",
    "   - This means the distribution expects 1 event on average per interval.\n",
    "\n",
    "2. **Output Shape**:\n",
    "   - You can specify the size (shape) of the output array (e.g., a \\(3 \\times 3\\) matrix).\n",
    "   - Each element in the array represents an independent random count of events.\n",
    "\n",
    "---\n",
    "\n",
    "## Characteristics of Poisson Distribution\n",
    "1. **Cluster Around Lambda**:\n",
    "   - The majority of values will be near \\( \\lambda \\).\n",
    "   - For \\( \\lambda = 1 \\), most values are 0, 1, 2, or 3.\n",
    "\n",
    "2. **Skewness**:\n",
    "   - For smaller \\( \\lambda \\), the distribution is skewed to the right (fewer high values).\n",
    "   - As \\( \\lambda \\) increases, the distribution becomes more symmetric.\n",
    "\n",
    "3. **Real-World Examples**:\n",
    "   - Number of emails received in an hour.\n",
    "   - Number of customers arriving at a store per minute.\n",
    "   - Number of accidents on a road per day.\n",
    "\n",
    "---"
   ],
   "id": "886cae00403d7503"
  },
  {
   "metadata": {
    "ExecuteTime": {
     "end_time": "2024-11-24T11:54:55.311911Z",
     "start_time": "2024-11-24T11:54:55.309395Z"
    }
   },
   "cell_type": "code",
   "source": [
    "# generating array from poisson distribution\n",
    "# the output of an array is 0,1,2,3 because the default value of lambda is 1 as elements of array using poisson distribution is centred around lambda value.\n",
    "array_rg=gen(pcg(seed=246))\n",
    "array_rg.poisson(size=(3,3))"
   ],
   "id": "8f2660601179fa73",
   "outputs": [
    {
     "data": {
      "text/plain": [
       "array([[0, 0, 3],\n",
       "       [2, 0, 1],\n",
       "       [1, 1, 0]])"
      ]
     },
     "execution_count": 36,
     "metadata": {},
     "output_type": "execute_result"
    }
   ],
   "execution_count": 36
  },
  {
   "metadata": {
    "ExecuteTime": {
     "end_time": "2024-11-24T11:54:55.340814Z",
     "start_time": "2024-11-24T11:54:55.338250Z"
    }
   },
   "cell_type": "code",
   "source": [
    "# setting the lambda value\n",
    "array_rg=gen(pcg(seed=246))\n",
    "array_rg.poisson(lam=100,size=(3,3))"
   ],
   "id": "2a42aed817806d4b",
   "outputs": [
    {
     "data": {
      "text/plain": [
       "array([[ 92, 109, 108],\n",
       "       [ 87, 114, 102],\n",
       "       [ 96,  74,  91]])"
      ]
     },
     "execution_count": 37,
     "metadata": {},
     "output_type": "execute_result"
    }
   ],
   "execution_count": 37
  },
  {
   "metadata": {
    "ExecuteTime": {
     "end_time": "2024-11-24T11:54:55.384778Z",
     "start_time": "2024-11-24T11:54:55.382318Z"
    }
   },
   "cell_type": "code",
   "source": [
    "#Generating an array using binomial distribution\n",
    "\n",
    "# measures how many times a certain outcome can appear over a series of trials, when there are only two possible outcomes like pass or fail, head or tail etc. requires two more arguments other than size 'n' and 'p' , where n is th number of trials we are running and p is the probability of the desired outcome.\n",
    "\n",
    "array_rg=gen(pcg(seed=246))\n",
    "array_rg.binomial(n=20, p=0.7,size=(3,3))\n",
    "\n",
    "# as one can see in the output that probability is 0.7 and no of independent trails is 20 ,most of the elements in array is close to 14 which is 70 percent of 20."
   ],
   "id": "dac54fd8709684dd",
   "outputs": [
    {
     "data": {
      "text/plain": [
       "array([[15, 15, 12],\n",
       "       [13, 13, 16],\n",
       "       [12, 10, 16]])"
      ]
     },
     "execution_count": 38,
     "metadata": {},
     "output_type": "execute_result"
    }
   ],
   "execution_count": 38
  },
  {
   "metadata": {
    "ExecuteTime": {
     "end_time": "2024-11-24T11:54:55.450405Z",
     "start_time": "2024-11-24T11:54:55.447390Z"
    }
   },
   "cell_type": "code",
   "source": [
    "# simulates the outcome of a logistic distribution\n",
    "# does not require parameter like 'n' and 'p' but require parameters like loc and scale.\n",
    "\n",
    "# the loc or location parameter is centre of the distribution just like the mean or average in poisson distribution. and the scale determines the spread(width) of the distribution.\n",
    "\n",
    "array_rg=gen(pcg(seed=246))\n",
    "array_rg.logistic(loc=10,scale=2.5,size=(3,3))\n",
    "\n",
    "# one can notice in the below array that all the values fluctuate around +-2.5 of 10."
   ],
   "id": "60cd348caf919f05",
   "outputs": [
    {
     "data": {
      "text/plain": [
       "array([[ 7.28550632,  8.09899721, 13.20635804],\n",
       "       [12.35738522, 13.00231881,  6.73628199],\n",
       "       [14.16223615, 18.5972148 ,  5.24109497]])"
      ]
     },
     "execution_count": 39,
     "metadata": {},
     "output_type": "execute_result"
    }
   ],
   "execution_count": 39
  },
  {
   "metadata": {
    "ExecuteTime": {
     "end_time": "2024-11-24T11:54:55.541068Z",
     "start_time": "2024-11-24T11:54:55.539729Z"
    }
   },
   "cell_type": "code",
   "source": "",
   "id": "e5b1972bde7be843",
   "outputs": [],
   "execution_count": null
  }
 ],
 "metadata": {
  "kernelspec": {
   "display_name": "Python 3",
   "language": "python",
   "name": "python3"
  },
  "language_info": {
   "codemirror_mode": {
    "name": "ipython",
    "version": 2
   },
   "file_extension": ".py",
   "mimetype": "text/x-python",
   "name": "python",
   "nbconvert_exporter": "python",
   "pygments_lexer": "ipython2",
   "version": "2.7.6"
  }
 },
 "nbformat": 4,
 "nbformat_minor": 5
}
