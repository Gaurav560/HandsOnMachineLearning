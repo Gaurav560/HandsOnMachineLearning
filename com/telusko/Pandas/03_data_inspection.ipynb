{
 "cells": [
  {
   "metadata": {},
   "cell_type": "markdown",
   "source": "# 1. Exploring Datasets with head, tail, info, describe",
   "id": "2b87cf5bf329eab"
  },
  {
   "cell_type": "code",
   "id": "initial_id",
   "metadata": {
    "collapsed": true,
    "ExecuteTime": {
     "end_time": "2024-11-07T04:04:44.543582Z",
     "start_time": "2024-11-07T04:04:44.396045Z"
    }
   },
   "source": [
    "import pandas as pd\n",
    "\n",
    "# Load a dataset\n",
    "df = pd.read_csv('large_data.csv')"
   ],
   "outputs": [],
   "execution_count": 40
  },
  {
   "metadata": {
    "ExecuteTime": {
     "end_time": "2024-11-07T04:04:44.552917Z",
     "start_time": "2024-11-07T04:04:44.547586Z"
    }
   },
   "cell_type": "code",
   "source": [
    "# Display the first 5 rows of the DataFrame\n",
    "df.head()  # By default, head() shows the first 5 rows\n"
   ],
   "id": "a8347c052ed686c1",
   "outputs": [
    {
     "data": {
      "text/plain": [
       "   column1   column2\n",
       "0       31  0.603677\n",
       "1       60  0.216953\n",
       "2       15  0.332109\n",
       "3       51  0.307851\n",
       "4       15  0.407078"
      ],
      "text/html": [
       "<div>\n",
       "<style scoped>\n",
       "    .dataframe tbody tr th:only-of-type {\n",
       "        vertical-align: middle;\n",
       "    }\n",
       "\n",
       "    .dataframe tbody tr th {\n",
       "        vertical-align: top;\n",
       "    }\n",
       "\n",
       "    .dataframe thead th {\n",
       "        text-align: right;\n",
       "    }\n",
       "</style>\n",
       "<table border=\"1\" class=\"dataframe\">\n",
       "  <thead>\n",
       "    <tr style=\"text-align: right;\">\n",
       "      <th></th>\n",
       "      <th>column1</th>\n",
       "      <th>column2</th>\n",
       "    </tr>\n",
       "  </thead>\n",
       "  <tbody>\n",
       "    <tr>\n",
       "      <th>0</th>\n",
       "      <td>31</td>\n",
       "      <td>0.603677</td>\n",
       "    </tr>\n",
       "    <tr>\n",
       "      <th>1</th>\n",
       "      <td>60</td>\n",
       "      <td>0.216953</td>\n",
       "    </tr>\n",
       "    <tr>\n",
       "      <th>2</th>\n",
       "      <td>15</td>\n",
       "      <td>0.332109</td>\n",
       "    </tr>\n",
       "    <tr>\n",
       "      <th>3</th>\n",
       "      <td>51</td>\n",
       "      <td>0.307851</td>\n",
       "    </tr>\n",
       "    <tr>\n",
       "      <th>4</th>\n",
       "      <td>15</td>\n",
       "      <td>0.407078</td>\n",
       "    </tr>\n",
       "  </tbody>\n",
       "</table>\n",
       "</div>"
      ]
     },
     "execution_count": 41,
     "metadata": {},
     "output_type": "execute_result"
    }
   ],
   "execution_count": 41
  },
  {
   "metadata": {
    "ExecuteTime": {
     "end_time": "2024-11-07T04:04:44.582906Z",
     "start_time": "2024-11-07T04:04:44.578535Z"
    }
   },
   "cell_type": "code",
   "source": [
    "# Display the last 5 rows of the DataFrame\n",
    "df.tail()  # By default, tail() shows the last 5 rows\n"
   ],
   "id": "17a93132ebb0fb84",
   "outputs": [
    {
     "data": {
      "text/plain": [
       "        column1   column2\n",
       "999995       56  0.818686\n",
       "999996       10  0.821493\n",
       "999997       66  0.049611\n",
       "999998       78  0.378100\n",
       "999999       34  0.096513"
      ],
      "text/html": [
       "<div>\n",
       "<style scoped>\n",
       "    .dataframe tbody tr th:only-of-type {\n",
       "        vertical-align: middle;\n",
       "    }\n",
       "\n",
       "    .dataframe tbody tr th {\n",
       "        vertical-align: top;\n",
       "    }\n",
       "\n",
       "    .dataframe thead th {\n",
       "        text-align: right;\n",
       "    }\n",
       "</style>\n",
       "<table border=\"1\" class=\"dataframe\">\n",
       "  <thead>\n",
       "    <tr style=\"text-align: right;\">\n",
       "      <th></th>\n",
       "      <th>column1</th>\n",
       "      <th>column2</th>\n",
       "    </tr>\n",
       "  </thead>\n",
       "  <tbody>\n",
       "    <tr>\n",
       "      <th>999995</th>\n",
       "      <td>56</td>\n",
       "      <td>0.818686</td>\n",
       "    </tr>\n",
       "    <tr>\n",
       "      <th>999996</th>\n",
       "      <td>10</td>\n",
       "      <td>0.821493</td>\n",
       "    </tr>\n",
       "    <tr>\n",
       "      <th>999997</th>\n",
       "      <td>66</td>\n",
       "      <td>0.049611</td>\n",
       "    </tr>\n",
       "    <tr>\n",
       "      <th>999998</th>\n",
       "      <td>78</td>\n",
       "      <td>0.378100</td>\n",
       "    </tr>\n",
       "    <tr>\n",
       "      <th>999999</th>\n",
       "      <td>34</td>\n",
       "      <td>0.096513</td>\n",
       "    </tr>\n",
       "  </tbody>\n",
       "</table>\n",
       "</div>"
      ]
     },
     "execution_count": 42,
     "metadata": {},
     "output_type": "execute_result"
    }
   ],
   "execution_count": 42
  },
  {
   "metadata": {
    "ExecuteTime": {
     "end_time": "2024-11-07T04:04:44.645575Z",
     "start_time": "2024-11-07T04:04:44.635961Z"
    }
   },
   "cell_type": "code",
   "source": [
    "# Get a concise summary of the DataFrame\n",
    "df.info()"
   ],
   "id": "c7f6bcd47cb67cb7",
   "outputs": [
    {
     "name": "stdout",
     "output_type": "stream",
     "text": [
      "<class 'pandas.core.frame.DataFrame'>\n",
      "RangeIndex: 1000000 entries, 0 to 999999\n",
      "Data columns (total 2 columns):\n",
      " #   Column   Non-Null Count    Dtype  \n",
      "---  ------   --------------    -----  \n",
      " 0   column1  1000000 non-null  int64  \n",
      " 1   column2  1000000 non-null  float64\n",
      "dtypes: float64(1), int64(1)\n",
      "memory usage: 15.3 MB\n"
     ]
    }
   ],
   "execution_count": 43
  },
  {
   "metadata": {
    "ExecuteTime": {
     "end_time": "2024-11-07T04:04:44.783269Z",
     "start_time": "2024-11-07T04:04:44.714359Z"
    }
   },
   "cell_type": "code",
   "source": [
    "# Get summary statistics of numerical columns\n",
    "df.describe()\n"
   ],
   "id": "a5c9092e4fa76608",
   "outputs": [
    {
     "data": {
      "text/plain": [
       "              column1       column2\n",
       "count  1000000.000000  1.000000e+06\n",
       "mean        49.546276  5.000543e-01\n",
       "std         28.866831  2.885666e-01\n",
       "min          0.000000  3.194001e-07\n",
       "25%         25.000000  2.503711e-01\n",
       "50%         50.000000  5.000901e-01\n",
       "75%         75.000000  7.497060e-01\n",
       "max         99.000000  9.999998e-01"
      ],
      "text/html": [
       "<div>\n",
       "<style scoped>\n",
       "    .dataframe tbody tr th:only-of-type {\n",
       "        vertical-align: middle;\n",
       "    }\n",
       "\n",
       "    .dataframe tbody tr th {\n",
       "        vertical-align: top;\n",
       "    }\n",
       "\n",
       "    .dataframe thead th {\n",
       "        text-align: right;\n",
       "    }\n",
       "</style>\n",
       "<table border=\"1\" class=\"dataframe\">\n",
       "  <thead>\n",
       "    <tr style=\"text-align: right;\">\n",
       "      <th></th>\n",
       "      <th>column1</th>\n",
       "      <th>column2</th>\n",
       "    </tr>\n",
       "  </thead>\n",
       "  <tbody>\n",
       "    <tr>\n",
       "      <th>count</th>\n",
       "      <td>1000000.000000</td>\n",
       "      <td>1.000000e+06</td>\n",
       "    </tr>\n",
       "    <tr>\n",
       "      <th>mean</th>\n",
       "      <td>49.546276</td>\n",
       "      <td>5.000543e-01</td>\n",
       "    </tr>\n",
       "    <tr>\n",
       "      <th>std</th>\n",
       "      <td>28.866831</td>\n",
       "      <td>2.885666e-01</td>\n",
       "    </tr>\n",
       "    <tr>\n",
       "      <th>min</th>\n",
       "      <td>0.000000</td>\n",
       "      <td>3.194001e-07</td>\n",
       "    </tr>\n",
       "    <tr>\n",
       "      <th>25%</th>\n",
       "      <td>25.000000</td>\n",
       "      <td>2.503711e-01</td>\n",
       "    </tr>\n",
       "    <tr>\n",
       "      <th>50%</th>\n",
       "      <td>50.000000</td>\n",
       "      <td>5.000901e-01</td>\n",
       "    </tr>\n",
       "    <tr>\n",
       "      <th>75%</th>\n",
       "      <td>75.000000</td>\n",
       "      <td>7.497060e-01</td>\n",
       "    </tr>\n",
       "    <tr>\n",
       "      <th>max</th>\n",
       "      <td>99.000000</td>\n",
       "      <td>9.999998e-01</td>\n",
       "    </tr>\n",
       "  </tbody>\n",
       "</table>\n",
       "</div>"
      ]
     },
     "execution_count": 44,
     "metadata": {},
     "output_type": "execute_result"
    }
   ],
   "execution_count": 44
  },
  {
   "metadata": {},
   "cell_type": "markdown",
   "source": " # 2. DataFrame Shapes and Data Types",
   "id": "72201ee6a5cba029"
  },
  {
   "metadata": {
    "ExecuteTime": {
     "end_time": "2024-11-07T04:04:44.824199Z",
     "start_time": "2024-11-07T04:04:44.820040Z"
    }
   },
   "cell_type": "code",
   "source": [
    "# Get the number of rows and columns in the DataFrame\n",
    "df.shape"
   ],
   "id": "d610bb397512016a",
   "outputs": [
    {
     "data": {
      "text/plain": [
       "(1000000, 2)"
      ]
     },
     "execution_count": 45,
     "metadata": {},
     "output_type": "execute_result"
    }
   ],
   "execution_count": 45
  },
  {
   "metadata": {
    "ExecuteTime": {
     "end_time": "2024-11-07T04:04:44.886575Z",
     "start_time": "2024-11-07T04:04:44.882943Z"
    }
   },
   "cell_type": "code",
   "source": [
    "# Get the data types of each column\n",
    "df.dtypes"
   ],
   "id": "104d95fa2a2b2916",
   "outputs": [
    {
     "data": {
      "text/plain": [
       "column1      int64\n",
       "column2    float64\n",
       "dtype: object"
      ]
     },
     "execution_count": 46,
     "metadata": {},
     "output_type": "execute_result"
    }
   ],
   "execution_count": 46
  },
  {
   "metadata": {},
   "cell_type": "markdown",
   "source": "# 3.Checking for Missing Values, Unique Values, and Distributions",
   "id": "67adeef73c9ce013"
  },
  {
   "metadata": {
    "ExecuteTime": {
     "end_time": "2024-11-07T04:04:44.939009Z",
     "start_time": "2024-11-07T04:04:44.932509Z"
    }
   },
   "cell_type": "code",
   "source": [
    "# Check for missing values in each column\n",
    "df.isnull().sum()\n"
   ],
   "id": "8473ddb08965916f",
   "outputs": [
    {
     "data": {
      "text/plain": [
       "column1    0\n",
       "column2    0\n",
       "dtype: int64"
      ]
     },
     "execution_count": 47,
     "metadata": {},
     "output_type": "execute_result"
    }
   ],
   "execution_count": 47
  },
  {
   "metadata": {
    "ExecuteTime": {
     "end_time": "2024-11-07T04:04:45.067595Z",
     "start_time": "2024-11-07T04:04:45.013227Z"
    }
   },
   "cell_type": "code",
   "source": [
    "# Check the number of unique values in each column\n",
    "df.nunique()\n"
   ],
   "id": "db51aeab41498d66",
   "outputs": [
    {
     "data": {
      "text/plain": [
       "column1        100\n",
       "column2    1000000\n",
       "dtype: int64"
      ]
     },
     "execution_count": 48,
     "metadata": {},
     "output_type": "execute_result"
    }
   ],
   "execution_count": 48
  },
  {
   "metadata": {
    "ExecuteTime": {
     "end_time": "2024-11-07T04:04:45.140292Z",
     "start_time": "2024-11-07T04:04:45.132616Z"
    }
   },
   "cell_type": "code",
   "source": [
    "# Get value counts for a specific column (e.g., 'column1').\n",
    "# counts the occurrences of each unique value in the specified column, which can be helpful for analyzing categorical data\n",
    "df['column1'].value_counts()"
   ],
   "id": "3dae51b77b6a57dd",
   "outputs": [
    {
     "data": {
      "text/plain": [
       "column1\n",
       "6     10312\n",
       "77    10209\n",
       "85    10195\n",
       "47    10182\n",
       "36    10181\n",
       "      ...  \n",
       "2      9795\n",
       "22     9795\n",
       "90     9762\n",
       "10     9761\n",
       "70     9640\n",
       "Name: count, Length: 100, dtype: int64"
      ]
     },
     "execution_count": 49,
     "metadata": {},
     "output_type": "execute_result"
    }
   ],
   "execution_count": 49
  },
  {
   "metadata": {},
   "cell_type": "markdown",
   "source": [
    "# 4. Examining Data Distribution with Histograms\n",
    "\n"
   ],
   "id": "4495851806ce7165"
  },
  {
   "metadata": {
    "ExecuteTime": {
     "end_time": "2024-11-07T04:04:45.395618Z",
     "start_time": "2024-11-07T04:04:45.196321Z"
    }
   },
   "cell_type": "code",
   "source": [
    "import matplotlib.pyplot as plt\n",
    "\n",
    "# Plot histograms for all numerical columns in the DataFrame\n",
    "# figsize=(10, 8) sets the overall width and height of the figure to 10 inches by 8 inches.\n",
    "# This size applies to the entire grid of histograms, not each individual histogram.\n",
    "df.hist(figsize=(10, 8))\n",
    "\n",
    "# Adjust layout to prevent overlap of subplots and ensure readability\n",
    "plt.tight_layout()\n",
    "\n",
    "# Display the plot on the screen\n",
    "plt.show()"
   ],
   "id": "7bddd23d3a06cb9b",
   "outputs": [
    {
     "data": {
      "text/plain": [
       "<Figure size 1000x800 with 2 Axes>"
      ],
      "image/png": "[encoded data removed]"
     },
     "metadata": {},
     "output_type": "display_data"
    }
   ],
   "execution_count": 50
  },
  {
   "metadata": {},
   "cell_type": "markdown",
   "source": "#### for above histogram: Uniform Distribution: Both histograms show a nearly uniform distribution, where each value or range of values appears with almost the same frequency. This suggests that the data in both columns is generated randomly within specific ranges (0-100 for column1 and 0-1 for column2).",
   "id": "5cae4a0355cf8d3f"
  },
  {
   "metadata": {
    "ExecuteTime": {
     "end_time": "2024-11-07T04:04:45.516523Z",
     "start_time": "2024-11-07T04:04:45.513881Z"
    }
   },
   "cell_type": "code",
   "source": "",
   "id": "3e45a23a2f136b2c",
   "outputs": [],
   "execution_count": null
  }
 ],
 "metadata": {
  "kernelspec": {
   "display_name": "Python 3",
   "language": "python",
   "name": "python3"
  },
  "language_info": {
   "codemirror_mode": {
    "name": "ipython",
    "version": 2
   },
   "file_extension": ".py",
   "mimetype": "text/x-python",
   "name": "python",
   "nbconvert_exporter": "python",
   "pygments_lexer": "ipython2",
   "version": "2.7.6"
  }
 },
 "nbformat": 4,
 "nbformat_minor": 5
}
