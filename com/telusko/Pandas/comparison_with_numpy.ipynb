{
 "cells": [
  {
   "metadata": {},
   "cell_type": "markdown",
   "source": [
    "# 1. Data Structure Flexibility\n",
    "\n",
    "- **NumPy**: Primarily uses arrays, which are highly efficient but require all data to be of the same type (e.g., all integers or all floats).\n",
    "- **Pandas**: Introduces the DataFrame (a table with rows and columns) and Series (a labeled list), which can handle mixed data types (e.g., strings, integers, floats in the same table). This flexibility makes it much better for working with real-world, heterogeneous datasets.\n"
   ],
   "id": "42e17c22e638f8a3"
  },
  {
   "metadata": {
    "ExecuteTime": {
     "end_time": "2024-11-04T06:22:26.598068Z",
     "start_time": "2024-11-04T06:22:26.593448Z"
    }
   },
   "cell_type": "code",
   "source": [
    "# NumPy Example\n",
    "import numpy as np\n",
    "\n",
    "# Creating a 2D array with only integers\n",
    "data = np.array([[1, 2, 3], [4, 5, 6]])\n",
    "data\n"
   ],
   "id": "58f8a9370f732785",
   "outputs": [
    {
     "data": {
      "text/plain": [
       "array([[1, 2, 3],\n",
       "       [4, 5, 6]])"
      ]
     },
     "execution_count": 18,
     "metadata": {},
     "output_type": "execute_result"
    }
   ],
   "execution_count": 18
  },
  {
   "metadata": {
    "ExecuteTime": {
     "end_time": "2024-11-04T06:22:26.657846Z",
     "start_time": "2024-11-04T06:22:26.653307Z"
    }
   },
   "cell_type": "code",
   "source": [
    "# Pandas Example\n",
    "import pandas as pd\n",
    "\n",
    "# Creating a DataFrame with mixed data types\n",
    "data = pd.DataFrame({\n",
    "    'Name': ['Alice', 'Bob'],\n",
    "    'Age': [25, 30],\n",
    "    'Salary': [50000, 60000]\n",
    "})\n",
    "data\n"
   ],
   "id": "6eba486354d2e2d0",
   "outputs": [
    {
     "data": {
      "text/plain": [
       "    Name  Age  Salary\n",
       "0  Alice   25   50000\n",
       "1    Bob   30   60000"
      ],
      "text/html": [
       "<div>\n",
       "<style scoped>\n",
       "    .dataframe tbody tr th:only-of-type {\n",
       "        vertical-align: middle;\n",
       "    }\n",
       "\n",
       "    .dataframe tbody tr th {\n",
       "        vertical-align: top;\n",
       "    }\n",
       "\n",
       "    .dataframe thead th {\n",
       "        text-align: right;\n",
       "    }\n",
       "</style>\n",
       "<table border=\"1\" class=\"dataframe\">\n",
       "  <thead>\n",
       "    <tr style=\"text-align: right;\">\n",
       "      <th></th>\n",
       "      <th>Name</th>\n",
       "      <th>Age</th>\n",
       "      <th>Salary</th>\n",
       "    </tr>\n",
       "  </thead>\n",
       "  <tbody>\n",
       "    <tr>\n",
       "      <th>0</th>\n",
       "      <td>Alice</td>\n",
       "      <td>25</td>\n",
       "      <td>50000</td>\n",
       "    </tr>\n",
       "    <tr>\n",
       "      <th>1</th>\n",
       "      <td>Bob</td>\n",
       "      <td>30</td>\n",
       "      <td>60000</td>\n",
       "    </tr>\n",
       "  </tbody>\n",
       "</table>\n",
       "</div>"
      ]
     },
     "execution_count": 19,
     "metadata": {},
     "output_type": "execute_result"
    }
   ],
   "execution_count": 19
  },
  {
   "metadata": {},
   "cell_type": "markdown",
   "source": [
    "# 2. Handling Missing Data\n",
    "\n",
    "- **NumPy**: Doesn’t have built-in support for missing values, which can complicate data analysis. If data is incomplete, handling gaps often requires extra steps and custom code.\n",
    "- **Pandas**: Has built-in methods (`fillna`, `dropna`) for filling or removing missing data, making it easier to work with incomplete datasets and reducing the need for extra coding.\n"
   ],
   "id": "f3e85c9ac3476c9b"
  },
  {
   "metadata": {
    "ExecuteTime": {
     "end_time": "2024-11-04T06:22:26.703131Z",
     "start_time": "2024-11-04T06:22:26.698693Z"
    }
   },
   "cell_type": "code",
   "source": [
    "# NumPy Example\n",
    "import numpy as np\n",
    "\n",
    "# Creating an array with a NaN value (requires float type)\n",
    "data = np.array([1, 2, np.nan, 4])\n",
    "print(data)\n",
    "\n",
    "# Handling missing data manually\n",
    "data = np.nan_to_num(data)  # Replace NaN with 0\n",
    "print(data)\n"
   ],
   "id": "61f60ede12368c68",
   "outputs": [
    {
     "name": "stdout",
     "output_type": "stream",
     "text": [
      "[ 1.  2. nan  4.]\n",
      "[1. 2. 0. 4.]\n"
     ]
    }
   ],
   "execution_count": 20
  },
  {
   "metadata": {
    "ExecuteTime": {
     "end_time": "2024-11-04T06:22:26.752725Z",
     "start_time": "2024-11-04T06:22:26.746831Z"
    }
   },
   "cell_type": "code",
   "source": [
    "# Pandas Example\n",
    "import pandas as pd\n",
    "import numpy as np\n",
    "\n",
    "# Creating a DataFrame with missing values\n",
    "data = pd.DataFrame({\n",
    "    'Name': ['Alice', 'Bob', 'Charlie'],\n",
    "    'Age': [25, np.nan, 35]\n",
    "})\n",
    "print(data)\n",
    "\n",
    "# Handling missing data in a simple way\n",
    "data = data.fillna(0)  # Fill NaNs with 0\n",
    "data\n"
   ],
   "id": "a7d33aca82d01ebf",
   "outputs": [
    {
     "name": "stdout",
     "output_type": "stream",
     "text": [
      "      Name   Age\n",
      "0    Alice  25.0\n",
      "1      Bob   NaN\n",
      "2  Charlie  35.0\n"
     ]
    },
    {
     "data": {
      "text/plain": [
       "      Name   Age\n",
       "0    Alice  25.0\n",
       "1      Bob   0.0\n",
       "2  Charlie  35.0"
      ],
      "text/html": [
       "<div>\n",
       "<style scoped>\n",
       "    .dataframe tbody tr th:only-of-type {\n",
       "        vertical-align: middle;\n",
       "    }\n",
       "\n",
       "    .dataframe tbody tr th {\n",
       "        vertical-align: top;\n",
       "    }\n",
       "\n",
       "    .dataframe thead th {\n",
       "        text-align: right;\n",
       "    }\n",
       "</style>\n",
       "<table border=\"1\" class=\"dataframe\">\n",
       "  <thead>\n",
       "    <tr style=\"text-align: right;\">\n",
       "      <th></th>\n",
       "      <th>Name</th>\n",
       "      <th>Age</th>\n",
       "    </tr>\n",
       "  </thead>\n",
       "  <tbody>\n",
       "    <tr>\n",
       "      <th>0</th>\n",
       "      <td>Alice</td>\n",
       "      <td>25.0</td>\n",
       "    </tr>\n",
       "    <tr>\n",
       "      <th>1</th>\n",
       "      <td>Bob</td>\n",
       "      <td>0.0</td>\n",
       "    </tr>\n",
       "    <tr>\n",
       "      <th>2</th>\n",
       "      <td>Charlie</td>\n",
       "      <td>35.0</td>\n",
       "    </tr>\n",
       "  </tbody>\n",
       "</table>\n",
       "</div>"
      ]
     },
     "execution_count": 21,
     "metadata": {},
     "output_type": "execute_result"
    }
   ],
   "execution_count": 21
  },
  {
   "metadata": {},
   "cell_type": "markdown",
   "source": [
    "# 3.Label-Based Indexing\n",
    "\n",
    "- **NumPy**: Uses position-based indexing (i.e., rows and columns are accessed by their number positions), which can lead to errors and make code harder to understand, especially with large datasets.\n",
    "- **Pandas**: Allows both position-based and label-based indexing, letting you access data by names (e.g., column names or row labels), which improves readability and accuracy in data selection.\n"
   ],
   "id": "458556da947562e4"
  },
  {
   "metadata": {
    "ExecuteTime": {
     "end_time": "2024-11-04T06:22:26.823573Z",
     "start_time": "2024-11-04T06:22:26.814685Z"
    }
   },
   "cell_type": "code",
   "source": [
    "# NumPy Example\n",
    "import numpy as np\n",
    "\n",
    "data = np.array([[10, 20, 30], [40, 50, 60]])\n",
    "\n",
    "# Accessing by position\n",
    "data[0, 1]  # Output: 20\n"
   ],
   "id": "a8779993d855f848",
   "outputs": [
    {
     "data": {
      "text/plain": [
       "np.int64(20)"
      ]
     },
     "execution_count": 22,
     "metadata": {},
     "output_type": "execute_result"
    }
   ],
   "execution_count": 22
  },
  {
   "metadata": {
    "ExecuteTime": {
     "end_time": "2024-11-04T06:22:26.890473Z",
     "start_time": "2024-11-04T06:22:26.886358Z"
    }
   },
   "cell_type": "code",
   "source": [
    "# Pandas Example\n",
    "import pandas as pd\n",
    "\n",
    "data = pd.DataFrame({\n",
    "    'A': [10, 40],\n",
    "    'B': [20, 50],\n",
    "    'C': [30, 60]\n",
    "}, index=['Row1', 'Row2'])\n",
    "\n",
    "# Accessing by label\n",
    "data.loc['Row1', 'B']  # Output: 20\n"
   ],
   "id": "c5ac3deb398e1f1d",
   "outputs": [
    {
     "data": {
      "text/plain": [
       "np.int64(20)"
      ]
     },
     "execution_count": 23,
     "metadata": {},
     "output_type": "execute_result"
    }
   ],
   "execution_count": 23
  },
  {
   "metadata": {},
   "cell_type": "markdown",
   "source": [
    "# 4. Data Manipulation and Transformation\n",
    "\n",
    "- **NumPy**: Supports mathematical operations on arrays but doesn’t have tools for data manipulation tasks, like merging, grouping, or pivoting tables.\n",
    "- **Pandas**: Offers easy-to-use, powerful methods for complex data manipulation, such as merging datasets, grouping rows by a specific column, and creating pivot tables. These tools are crucial for cleaning and organizing data in a structured way.\n"
   ],
   "id": "c745de71ec48f710"
  },
  {
   "metadata": {
    "ExecuteTime": {
     "end_time": "2024-11-04T06:22:26.929665Z",
     "start_time": "2024-11-04T06:22:26.925478Z"
    }
   },
   "cell_type": "code",
   "source": [
    "# NumPy Example\n",
    "import numpy as np\n",
    "\n",
    "# Creating two arrays\n",
    "data1 = np.array([1, 2, 3])\n",
    "data2 = np.array([4, 5, 6])\n",
    "\n",
    "# Basic operation (element-wise addition)\n",
    "result = data1 + data2\n",
    "result\n"
   ],
   "id": "ab756cf1560b659e",
   "outputs": [
    {
     "data": {
      "text/plain": [
       "array([5, 7, 9])"
      ]
     },
     "execution_count": 24,
     "metadata": {},
     "output_type": "execute_result"
    }
   ],
   "execution_count": 24
  },
  {
   "metadata": {
    "ExecuteTime": {
     "end_time": "2024-11-04T06:22:26.946626Z",
     "start_time": "2024-11-04T06:22:26.940973Z"
    }
   },
   "cell_type": "code",
   "source": [
    "# Pandas Example\n",
    "import pandas as pd\n",
    "\n",
    "# Creating two DataFrames\n",
    "data1 = pd.DataFrame({'A': [1, 2], 'B': [3, 4]})\n",
    "data2 = pd.DataFrame({'A': [5, 6], 'B': [7, 8]})\n",
    "\n",
    "# Merging DataFrames\n",
    "merged_data = pd.concat([data1, data2], ignore_index=True)\n",
    "merged_data\n"
   ],
   "id": "358fe20f2525bf52",
   "outputs": [
    {
     "data": {
      "text/plain": [
       "   A  B\n",
       "0  1  3\n",
       "1  2  4\n",
       "2  5  7\n",
       "3  6  8"
      ],
      "text/html": [
       "<div>\n",
       "<style scoped>\n",
       "    .dataframe tbody tr th:only-of-type {\n",
       "        vertical-align: middle;\n",
       "    }\n",
       "\n",
       "    .dataframe tbody tr th {\n",
       "        vertical-align: top;\n",
       "    }\n",
       "\n",
       "    .dataframe thead th {\n",
       "        text-align: right;\n",
       "    }\n",
       "</style>\n",
       "<table border=\"1\" class=\"dataframe\">\n",
       "  <thead>\n",
       "    <tr style=\"text-align: right;\">\n",
       "      <th></th>\n",
       "      <th>A</th>\n",
       "      <th>B</th>\n",
       "    </tr>\n",
       "  </thead>\n",
       "  <tbody>\n",
       "    <tr>\n",
       "      <th>0</th>\n",
       "      <td>1</td>\n",
       "      <td>3</td>\n",
       "    </tr>\n",
       "    <tr>\n",
       "      <th>1</th>\n",
       "      <td>2</td>\n",
       "      <td>4</td>\n",
       "    </tr>\n",
       "    <tr>\n",
       "      <th>2</th>\n",
       "      <td>5</td>\n",
       "      <td>7</td>\n",
       "    </tr>\n",
       "    <tr>\n",
       "      <th>3</th>\n",
       "      <td>6</td>\n",
       "      <td>8</td>\n",
       "    </tr>\n",
       "  </tbody>\n",
       "</table>\n",
       "</div>"
      ]
     },
     "execution_count": 25,
     "metadata": {},
     "output_type": "execute_result"
    }
   ],
   "execution_count": 25
  },
  {
   "metadata": {},
   "cell_type": "markdown",
   "source": [
    "# 5. Time-Series Analysis\n",
    "\n",
    "- **NumPy**: Can handle arrays with timestamps but lacks advanced support for analyzing time-based data.\n",
    "- **Pandas**: Has extensive time-series functionality, including time-based indexing, resampling, and rolling window calculations, making it much easier to analyze trends over time.\n"
   ],
   "id": "fd8789e794c4ef90"
  },
  {
   "metadata": {
    "ExecuteTime": {
     "end_time": "2024-11-04T06:24:48.596771Z",
     "start_time": "2024-11-04T06:24:48.592815Z"
    }
   },
   "cell_type": "code",
   "source": [
    "# NumPy Example\n",
    "import numpy as np\n",
    "\n",
    "# Creating a simple array with timestamp-like values\n",
    "data = np.array(['2023-01-01', '2023-01-02', '2023-01-03'], dtype='datetime64[D]')\n",
    "print(data)\n",
    "\n",
    "# Cannot perform complex time-series operations\n"
   ],
   "id": "6e237be474f40c08",
   "outputs": [
    {
     "name": "stdout",
     "output_type": "stream",
     "text": [
      "['2023-01-01' '2023-01-02' '2023-01-03']\n"
     ]
    }
   ],
   "execution_count": 31
  },
  {
   "metadata": {},
   "cell_type": "markdown",
   "source": "",
   "id": "d0ef77df5aa4e84d"
  },
  {
   "metadata": {
    "ExecuteTime": {
     "end_time": "2024-11-04T06:24:36.988957Z",
     "start_time": "2024-11-04T06:24:36.983226Z"
    }
   },
   "cell_type": "code",
   "source": [
    "# Pandas Example\n",
    "import pandas as pd\n",
    "\n",
    "# Creating a DataFrame with time-series data\n",
    "date_range = pd.date_range(start='2023-01-01', periods=3)\n",
    "data = pd.DataFrame({\n",
    "    'Date': date_range,\n",
    "    'Value': [10, 20, 30]\n",
    "})\n",
    "data"
   ],
   "id": "99dce84890d700da",
   "outputs": [
    {
     "data": {
      "text/plain": [
       "        Date  Value\n",
       "0 2023-01-01     10\n",
       "1 2023-01-02     20\n",
       "2 2023-01-03     30"
      ],
      "text/html": [
       "<div>\n",
       "<style scoped>\n",
       "    .dataframe tbody tr th:only-of-type {\n",
       "        vertical-align: middle;\n",
       "    }\n",
       "\n",
       "    .dataframe tbody tr th {\n",
       "        vertical-align: top;\n",
       "    }\n",
       "\n",
       "    .dataframe thead th {\n",
       "        text-align: right;\n",
       "    }\n",
       "</style>\n",
       "<table border=\"1\" class=\"dataframe\">\n",
       "  <thead>\n",
       "    <tr style=\"text-align: right;\">\n",
       "      <th></th>\n",
       "      <th>Date</th>\n",
       "      <th>Value</th>\n",
       "    </tr>\n",
       "  </thead>\n",
       "  <tbody>\n",
       "    <tr>\n",
       "      <th>0</th>\n",
       "      <td>2023-01-01</td>\n",
       "      <td>10</td>\n",
       "    </tr>\n",
       "    <tr>\n",
       "      <th>1</th>\n",
       "      <td>2023-01-02</td>\n",
       "      <td>20</td>\n",
       "    </tr>\n",
       "    <tr>\n",
       "      <th>2</th>\n",
       "      <td>2023-01-03</td>\n",
       "      <td>30</td>\n",
       "    </tr>\n",
       "  </tbody>\n",
       "</table>\n",
       "</div>"
      ]
     },
     "execution_count": 29,
     "metadata": {},
     "output_type": "execute_result"
    }
   ],
   "execution_count": 29
  },
  {
   "metadata": {},
   "cell_type": "markdown",
   "source": "",
   "id": "2a5e07f3315fe878"
  },
  {
   "metadata": {
    "ExecuteTime": {
     "end_time": "2024-11-04T06:24:42.441017Z",
     "start_time": "2024-11-04T06:24:42.434393Z"
    }
   },
   "cell_type": "code",
   "source": [
    "# Resampling data to calculate weekly averages\n",
    "data.set_index('Date', inplace=True)\n",
    "weekly_data = data.resample('W').mean()\n",
    "weekly_data"
   ],
   "id": "3e6211c1f23c2549",
   "outputs": [
    {
     "data": {
      "text/plain": [
       "            Value\n",
       "Date             \n",
       "2023-01-01   10.0\n",
       "2023-01-08   25.0"
      ],
      "text/html": [
       "<div>\n",
       "<style scoped>\n",
       "    .dataframe tbody tr th:only-of-type {\n",
       "        vertical-align: middle;\n",
       "    }\n",
       "\n",
       "    .dataframe tbody tr th {\n",
       "        vertical-align: top;\n",
       "    }\n",
       "\n",
       "    .dataframe thead th {\n",
       "        text-align: right;\n",
       "    }\n",
       "</style>\n",
       "<table border=\"1\" class=\"dataframe\">\n",
       "  <thead>\n",
       "    <tr style=\"text-align: right;\">\n",
       "      <th></th>\n",
       "      <th>Value</th>\n",
       "    </tr>\n",
       "    <tr>\n",
       "      <th>Date</th>\n",
       "      <th></th>\n",
       "    </tr>\n",
       "  </thead>\n",
       "  <tbody>\n",
       "    <tr>\n",
       "      <th>2023-01-01</th>\n",
       "      <td>10.0</td>\n",
       "    </tr>\n",
       "    <tr>\n",
       "      <th>2023-01-08</th>\n",
       "      <td>25.0</td>\n",
       "    </tr>\n",
       "  </tbody>\n",
       "</table>\n",
       "</div>"
      ]
     },
     "execution_count": 30,
     "metadata": {},
     "output_type": "execute_result"
    }
   ],
   "execution_count": 30
  },
  {
   "metadata": {},
   "cell_type": "markdown",
   "source": [
    "### 6. Data Alignment and Indexing on Merge\n",
    "\n",
    "- **NumPy**: Requires manual alignment of data if arrays from different sources need to be combined or reshaped, which can be complex.\n",
    "- **Pandas**: Automatically aligns data based on row and column labels during merges and transformations, saving time and reducing potential errors.\n"
   ],
   "id": "a3b5a0738c61e777"
  },
  {
   "metadata": {
    "ExecuteTime": {
     "end_time": "2024-11-04T06:26:11.498577Z",
     "start_time": "2024-11-04T06:26:11.495136Z"
    }
   },
   "cell_type": "code",
   "source": [
    "# NumPy Example\n",
    "import numpy as np\n",
    "\n",
    "# Manually aligning data by ensuring shape match\n",
    "data1 = np.array([1, 2, 3])\n",
    "data2 = np.array([4, 5, 6])\n",
    "\n",
    "# Simple concatenation if shapes match\n",
    "merged_data = np.concatenate((data1, data2))\n",
    "print(merged_data)\n"
   ],
   "id": "cf915d3825f7112a",
   "outputs": [
    {
     "name": "stdout",
     "output_type": "stream",
     "text": [
      "[1 2 3 4 5 6]\n"
     ]
    }
   ],
   "execution_count": 32
  },
  {
   "metadata": {
    "ExecuteTime": {
     "end_time": "2024-11-04T06:26:49.843480Z",
     "start_time": "2024-11-04T06:26:49.837568Z"
    }
   },
   "cell_type": "code",
   "source": [
    "# Pandas Example\n",
    "import pandas as pd\n",
    "\n",
    "# Creating two DataFrames with different indexes\n",
    "data1 = pd.DataFrame({'A': [1, 2]}, index=['Row1', 'Row2'])\n",
    "data2 = pd.DataFrame({'B': [3, 4]}, index=['Row1', 'Row3'])\n",
    "\n",
    "# Merging based on index alignment\n",
    "aligned_data = pd.concat([data1, data2], axis=1)\n",
    "aligned_data\n"
   ],
   "id": "56defd9664bac6ea",
   "outputs": [
    {
     "data": {
      "text/plain": [
       "        A    B\n",
       "Row1  1.0  3.0\n",
       "Row2  2.0  NaN\n",
       "Row3  NaN  4.0"
      ],
      "text/html": [
       "<div>\n",
       "<style scoped>\n",
       "    .dataframe tbody tr th:only-of-type {\n",
       "        vertical-align: middle;\n",
       "    }\n",
       "\n",
       "    .dataframe tbody tr th {\n",
       "        vertical-align: top;\n",
       "    }\n",
       "\n",
       "    .dataframe thead th {\n",
       "        text-align: right;\n",
       "    }\n",
       "</style>\n",
       "<table border=\"1\" class=\"dataframe\">\n",
       "  <thead>\n",
       "    <tr style=\"text-align: right;\">\n",
       "      <th></th>\n",
       "      <th>A</th>\n",
       "      <th>B</th>\n",
       "    </tr>\n",
       "  </thead>\n",
       "  <tbody>\n",
       "    <tr>\n",
       "      <th>Row1</th>\n",
       "      <td>1.0</td>\n",
       "      <td>3.0</td>\n",
       "    </tr>\n",
       "    <tr>\n",
       "      <th>Row2</th>\n",
       "      <td>2.0</td>\n",
       "      <td>NaN</td>\n",
       "    </tr>\n",
       "    <tr>\n",
       "      <th>Row3</th>\n",
       "      <td>NaN</td>\n",
       "      <td>4.0</td>\n",
       "    </tr>\n",
       "  </tbody>\n",
       "</table>\n",
       "</div>"
      ]
     },
     "execution_count": 37,
     "metadata": {},
     "output_type": "execute_result"
    }
   ],
   "execution_count": 37
  },
  {
   "metadata": {},
   "cell_type": "code",
   "outputs": [],
   "execution_count": null,
   "source": "",
   "id": "122ba916e0dd5b"
  }
 ],
 "metadata": {
  "kernelspec": {
   "display_name": "Python 3",
   "language": "python",
   "name": "python3"
  },
  "language_info": {
   "codemirror_mode": {
    "name": "ipython",
    "version": 2
   },
   "file_extension": ".py",
   "mimetype": "text/x-python",
   "name": "python",
   "nbconvert_exporter": "python",
   "pygments_lexer": "ipython2",
   "version": "2.7.6"
  }
 },
 "nbformat": 4,
 "nbformat_minor": 5
}
