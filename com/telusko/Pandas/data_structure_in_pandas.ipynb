{
 "cells": [
  {
   "metadata": {},
   "cell_type": "markdown",
   "source": "# Topic 1:Data Structure in Pandas",
   "id": "dbd8a716f255b9d4"
  },
  {
   "metadata": {},
   "cell_type": "markdown",
   "source": [
    "# 1. Series: Creating, Manipulating, and Exploring Series\n",
    "#### A Series in Pandas is a one-dimensional labeled array, capable of holding any data type (integers, strings, floats, etc.)."
   ],
   "id": "444c18e5eefef7c3"
  },
  {
   "metadata": {},
   "cell_type": "markdown",
   "source": "## 1.1 Creating Series",
   "id": "f5053622b418414a"
  },
  {
   "metadata": {
    "ExecuteTime": {
     "end_time": "2024-11-04T11:40:30.781913Z",
     "start_time": "2024-11-04T11:40:30.777315Z"
    }
   },
   "cell_type": "code",
   "source": [
    "import pandas as pd\n",
    "\n",
    "# Creating a Series from a list\n",
    "data_list = [10, 20, 30, 40, 50]\n",
    "series_from_list = pd.Series(data_list, name=\"Numbers\")\n",
    "series_from_list\n"
   ],
   "id": "c0336387cfc91b4d",
   "outputs": [
    {
     "data": {
      "text/plain": [
       "0    10\n",
       "1    20\n",
       "2    30\n",
       "3    40\n",
       "4    50\n",
       "Name: Numbers, dtype: int64"
      ]
     },
     "execution_count": 107,
     "metadata": {},
     "output_type": "execute_result"
    }
   ],
   "execution_count": 107
  },
  {
   "metadata": {},
   "cell_type": "markdown",
   "source": "",
   "id": "324afb518d77e975"
  },
  {
   "metadata": {
    "ExecuteTime": {
     "end_time": "2024-11-04T11:40:30.808940Z",
     "start_time": "2024-11-04T11:40:30.804142Z"
    }
   },
   "cell_type": "code",
   "source": [
    "# Creating a Series from a dictionary\n",
    "data_dict = {'a': 1, 'b': 2, 'c': 3}\n",
    "series_from_dict = pd.Series(data_dict, name=\"Alphabet Numbers\")\n",
    "series_from_dict"
   ],
   "id": "83a303ba1abedcfd",
   "outputs": [
    {
     "data": {
      "text/plain": [
       "a    1\n",
       "b    2\n",
       "c    3\n",
       "Name: Alphabet Numbers, dtype: int64"
      ]
     },
     "execution_count": 108,
     "metadata": {},
     "output_type": "execute_result"
    }
   ],
   "execution_count": 108
  },
  {
   "metadata": {},
   "cell_type": "markdown",
   "source": "",
   "id": "376c3eec89852ca7"
  },
  {
   "metadata": {
    "ExecuteTime": {
     "end_time": "2024-11-04T11:40:30.859455Z",
     "start_time": "2024-11-04T11:40:30.855673Z"
    }
   },
   "cell_type": "code",
   "source": [
    "# Creating a Series with custom index\n",
    "custom_index_series = pd.Series([100, 200, 300], index=['X', 'Y', 'Z'], name=\"Custom Indexed Series\")\n",
    "custom_index_series"
   ],
   "id": "96c239a1cf675551",
   "outputs": [
    {
     "data": {
      "text/plain": [
       "X    100\n",
       "Y    200\n",
       "Z    300\n",
       "Name: Custom Indexed Series, dtype: int64"
      ]
     },
     "execution_count": 109,
     "metadata": {},
     "output_type": "execute_result"
    }
   ],
   "execution_count": 109
  },
  {
   "metadata": {},
   "cell_type": "markdown",
   "source": "",
   "id": "2494979f35dce325"
  },
  {
   "metadata": {},
   "cell_type": "markdown",
   "source": "## 1.3 Manipulating Series",
   "id": "e6ba08ffb42afe75"
  },
  {
   "metadata": {
    "ExecuteTime": {
     "end_time": "2024-11-04T11:40:30.942539Z",
     "start_time": "2024-11-04T11:40:30.939536Z"
    }
   },
   "cell_type": "code",
   "source": [
    "# Accessing elements\n",
    "print(\"\\nAccessing element at index 2:\", series_from_list[2])  # Using positional index\n",
    "print(\"Accessing element with label 'b':\", series_from_dict['b'])  # Using label-based index"
   ],
   "id": "aa2a44310ef33fd7",
   "outputs": [
    {
     "name": "stdout",
     "output_type": "stream",
     "text": [
      "\n",
      "Accessing element at index 2: 30\n",
      "Accessing element with label 'b': 2\n"
     ]
    }
   ],
   "execution_count": 110
  },
  {
   "metadata": {},
   "cell_type": "markdown",
   "source": "",
   "id": "da85e8c982a1e366"
  },
  {
   "metadata": {
    "ExecuteTime": {
     "end_time": "2024-11-04T11:40:31.025569Z",
     "start_time": "2024-11-04T11:40:31.022128Z"
    }
   },
   "cell_type": "code",
   "source": [
    "# Basic operations\n",
    "print(\"\\nSum of elements in series_from_list:\", series_from_list.sum())\n",
    "print(\"Mean of elements in series_from_list:\", series_from_list.mean())"
   ],
   "id": "3acbb96596ad6aff",
   "outputs": [
    {
     "name": "stdout",
     "output_type": "stream",
     "text": [
      "\n",
      "Sum of elements in series_from_list: 150\n",
      "Mean of elements in series_from_list: 30.0\n"
     ]
    }
   ],
   "execution_count": 111
  },
  {
   "metadata": {},
   "cell_type": "markdown",
   "source": "",
   "id": "14223e77e05f404"
  },
  {
   "metadata": {
    "ExecuteTime": {
     "end_time": "2024-11-04T11:40:31.092349Z",
     "start_time": "2024-11-04T11:40:31.088736Z"
    }
   },
   "cell_type": "code",
   "source": [
    "# Vectorized operations\n",
    "#Series multiplied by 2-does not changes the original series\n",
    "series_from_list * 2"
   ],
   "id": "540a2bf66fb907a2",
   "outputs": [
    {
     "data": {
      "text/plain": [
       "0     20\n",
       "1     40\n",
       "2     60\n",
       "3     80\n",
       "4    100\n",
       "Name: Numbers, dtype: int64"
      ]
     },
     "execution_count": 112,
     "metadata": {},
     "output_type": "execute_result"
    }
   ],
   "execution_count": 112
  },
  {
   "metadata": {},
   "cell_type": "markdown",
   "source": "## 1.3 Exploring Series",
   "id": "a7e3b8e823b6a323"
  },
  {
   "metadata": {
    "ExecuteTime": {
     "end_time": "2024-11-04T11:40:31.152661Z",
     "start_time": "2024-11-04T11:40:31.148815Z"
    }
   },
   "cell_type": "code",
   "source": [
    "# Checking for null values\n",
    "series_from_list.isnull()"
   ],
   "id": "b743e5304b68754e",
   "outputs": [
    {
     "data": {
      "text/plain": [
       "0    False\n",
       "1    False\n",
       "2    False\n",
       "3    False\n",
       "4    False\n",
       "Name: Numbers, dtype: bool"
      ]
     },
     "execution_count": 113,
     "metadata": {},
     "output_type": "execute_result"
    }
   ],
   "execution_count": 113
  },
  {
   "metadata": {
    "ExecuteTime": {
     "end_time": "2024-11-04T11:40:31.213566Z",
     "start_time": "2024-11-04T11:40:31.207674Z"
    }
   },
   "cell_type": "code",
   "source": [
    "# Getting summary statistics\n",
    "series_from_list.describe()"
   ],
   "id": "321bb262e7cdddf7",
   "outputs": [
    {
     "data": {
      "text/plain": [
       "count     5.000000\n",
       "mean     30.000000\n",
       "std      15.811388\n",
       "min      10.000000\n",
       "25%      20.000000\n",
       "50%      30.000000\n",
       "75%      40.000000\n",
       "max      50.000000\n",
       "Name: Numbers, dtype: float64"
      ]
     },
     "execution_count": 114,
     "metadata": {},
     "output_type": "execute_result"
    }
   ],
   "execution_count": 114
  },
  {
   "metadata": {},
   "cell_type": "markdown",
   "source": [
    "# 2. DataFrame: Creating DataFrames from Various Data Sources\n",
    "#### pandas uses data such as CSV or TSV files or a SQL (Structured Query Language) database and turns them into a Python object with rows and columns known as a DataFrame. These objects are quite similar to tables available in statistical software (e.g., Excel or SPSS). Similar to the way Excel works, pandas DataFrames allow you to store and manipulate tabular data in rows of observations and columns of variables, as well as to extract valuable information from the given data set"
   ],
   "id": "4969c8d16a84ad6f"
  },
  {
   "metadata": {
    "ExecuteTime": {
     "end_time": "2024-11-04T11:40:31.298868Z",
     "start_time": "2024-11-04T11:40:31.293059Z"
    }
   },
   "cell_type": "code",
   "source": [
    "# Creating a DataFrame from a list of lists\n",
    "data = [[1, 'Navin', 23], [2, 'Bob', 25], [3, 'Charlie', 24]]\n",
    "df_from_list = pd.DataFrame(data, columns=['ID', 'Name', 'Age'])\n",
    "df_from_list\n"
   ],
   "id": "5db4766ab791f041",
   "outputs": [
    {
     "data": {
      "text/plain": [
       "   ID     Name  Age\n",
       "0   1    Navin   23\n",
       "1   2      Bob   25\n",
       "2   3  Charlie   24"
      ],
      "text/html": [
       "<div>\n",
       "<style scoped>\n",
       "    .dataframe tbody tr th:only-of-type {\n",
       "        vertical-align: middle;\n",
       "    }\n",
       "\n",
       "    .dataframe tbody tr th {\n",
       "        vertical-align: top;\n",
       "    }\n",
       "\n",
       "    .dataframe thead th {\n",
       "        text-align: right;\n",
       "    }\n",
       "</style>\n",
       "<table border=\"1\" class=\"dataframe\">\n",
       "  <thead>\n",
       "    <tr style=\"text-align: right;\">\n",
       "      <th></th>\n",
       "      <th>ID</th>\n",
       "      <th>Name</th>\n",
       "      <th>Age</th>\n",
       "    </tr>\n",
       "  </thead>\n",
       "  <tbody>\n",
       "    <tr>\n",
       "      <th>0</th>\n",
       "      <td>1</td>\n",
       "      <td>Navin</td>\n",
       "      <td>23</td>\n",
       "    </tr>\n",
       "    <tr>\n",
       "      <th>1</th>\n",
       "      <td>2</td>\n",
       "      <td>Bob</td>\n",
       "      <td>25</td>\n",
       "    </tr>\n",
       "    <tr>\n",
       "      <th>2</th>\n",
       "      <td>3</td>\n",
       "      <td>Charlie</td>\n",
       "      <td>24</td>\n",
       "    </tr>\n",
       "  </tbody>\n",
       "</table>\n",
       "</div>"
      ]
     },
     "execution_count": 115,
     "metadata": {},
     "output_type": "execute_result"
    }
   ],
   "execution_count": 115
  },
  {
   "metadata": {
    "ExecuteTime": {
     "end_time": "2024-11-04T11:40:31.379022Z",
     "start_time": "2024-11-04T11:40:31.373870Z"
    }
   },
   "cell_type": "code",
   "source": [
    "# Creating a DataFrame from a dictionary\n",
    "data_dict = {\n",
    "    'Name': ['Navin', 'Chris', 'Frank'],\n",
    "    'Age': [29, 30, 24],\n",
    "    'Score': [85, 90, 88]\n",
    "}\n",
    "df_from_dict = pd.DataFrame(data_dict)\n",
    "df_from_dict\n"
   ],
   "id": "d5e09778840f38d0",
   "outputs": [
    {
     "data": {
      "text/plain": [
       "    Name  Age  Score\n",
       "0  Navin   29     85\n",
       "1  Chris   30     90\n",
       "2  Frank   24     88"
      ],
      "text/html": [
       "<div>\n",
       "<style scoped>\n",
       "    .dataframe tbody tr th:only-of-type {\n",
       "        vertical-align: middle;\n",
       "    }\n",
       "\n",
       "    .dataframe tbody tr th {\n",
       "        vertical-align: top;\n",
       "    }\n",
       "\n",
       "    .dataframe thead th {\n",
       "        text-align: right;\n",
       "    }\n",
       "</style>\n",
       "<table border=\"1\" class=\"dataframe\">\n",
       "  <thead>\n",
       "    <tr style=\"text-align: right;\">\n",
       "      <th></th>\n",
       "      <th>Name</th>\n",
       "      <th>Age</th>\n",
       "      <th>Score</th>\n",
       "    </tr>\n",
       "  </thead>\n",
       "  <tbody>\n",
       "    <tr>\n",
       "      <th>0</th>\n",
       "      <td>Navin</td>\n",
       "      <td>29</td>\n",
       "      <td>85</td>\n",
       "    </tr>\n",
       "    <tr>\n",
       "      <th>1</th>\n",
       "      <td>Chris</td>\n",
       "      <td>30</td>\n",
       "      <td>90</td>\n",
       "    </tr>\n",
       "    <tr>\n",
       "      <th>2</th>\n",
       "      <td>Frank</td>\n",
       "      <td>24</td>\n",
       "      <td>88</td>\n",
       "    </tr>\n",
       "  </tbody>\n",
       "</table>\n",
       "</div>"
      ]
     },
     "execution_count": 116,
     "metadata": {},
     "output_type": "execute_result"
    }
   ],
   "execution_count": 116
  },
  {
   "metadata": {
    "ExecuteTime": {
     "end_time": "2024-11-04T11:40:31.455185Z",
     "start_time": "2024-11-04T11:40:31.448649Z"
    }
   },
   "cell_type": "code",
   "source": [
    "# Assuming you have a CSV file named 'office.csv' in your working directory\n",
    "#Creating a data frame from csv file\n",
    "df_from_csv = pd.read_csv('office.csv')\n",
    "df_from_csv\n"
   ],
   "id": "a7d98a28629ae533",
   "outputs": [
    {
     "data": {
      "text/plain": [
       "           name  marks       city\n",
       "0        Gaurav     96       Gaya\n",
       "1     Navin Sir     98  Bengaluru\n",
       "2  Harsh Bhaiya     85    Jodhpur\n",
       "3        Sushil     88    Bikaner"
      ],
      "text/html": [
       "<div>\n",
       "<style scoped>\n",
       "    .dataframe tbody tr th:only-of-type {\n",
       "        vertical-align: middle;\n",
       "    }\n",
       "\n",
       "    .dataframe tbody tr th {\n",
       "        vertical-align: top;\n",
       "    }\n",
       "\n",
       "    .dataframe thead th {\n",
       "        text-align: right;\n",
       "    }\n",
       "</style>\n",
       "<table border=\"1\" class=\"dataframe\">\n",
       "  <thead>\n",
       "    <tr style=\"text-align: right;\">\n",
       "      <th></th>\n",
       "      <th>name</th>\n",
       "      <th>marks</th>\n",
       "      <th>city</th>\n",
       "    </tr>\n",
       "  </thead>\n",
       "  <tbody>\n",
       "    <tr>\n",
       "      <th>0</th>\n",
       "      <td>Gaurav</td>\n",
       "      <td>96</td>\n",
       "      <td>Gaya</td>\n",
       "    </tr>\n",
       "    <tr>\n",
       "      <th>1</th>\n",
       "      <td>Navin Sir</td>\n",
       "      <td>98</td>\n",
       "      <td>Bengaluru</td>\n",
       "    </tr>\n",
       "    <tr>\n",
       "      <th>2</th>\n",
       "      <td>Harsh Bhaiya</td>\n",
       "      <td>85</td>\n",
       "      <td>Jodhpur</td>\n",
       "    </tr>\n",
       "    <tr>\n",
       "      <th>3</th>\n",
       "      <td>Sushil</td>\n",
       "      <td>88</td>\n",
       "      <td>Bikaner</td>\n",
       "    </tr>\n",
       "  </tbody>\n",
       "</table>\n",
       "</div>"
      ]
     },
     "execution_count": 117,
     "metadata": {},
     "output_type": "execute_result"
    }
   ],
   "execution_count": 117
  },
  {
   "metadata": {},
   "cell_type": "markdown",
   "source": [
    "# 3. Indexing In Pandas:  Setting, Resetting, and Understanding Index\n",
    "#### The index of a DataFrame is a series of labels that identify each row. The labels can be integers, strings, or any other hashable type. The index is used for label-based access and alignment, and can be accessed or modified using this attribute. Returns: pandas.Index\n",
    "\n"
   ],
   "id": "5361c23684be15b2"
  },
  {
   "metadata": {},
   "cell_type": "markdown",
   "source": "### 3.1 Setting an Index",
   "id": "747df9bee3950055"
  },
  {
   "metadata": {
    "ExecuteTime": {
     "end_time": "2024-11-04T11:40:31.575320Z",
     "start_time": "2024-11-04T11:40:31.570323Z"
    }
   },
   "cell_type": "code",
   "source": [
    "# Setting the 'Name' column as the index\n",
    "df_with_index = df_from_dict.set_index('Name')\n",
    "df_with_index\n"
   ],
   "id": "3f8e283e72762289",
   "outputs": [
    {
     "data": {
      "text/plain": [
       "       Age  Score\n",
       "Name             \n",
       "Navin   29     85\n",
       "Chris   30     90\n",
       "Frank   24     88"
      ],
      "text/html": [
       "<div>\n",
       "<style scoped>\n",
       "    .dataframe tbody tr th:only-of-type {\n",
       "        vertical-align: middle;\n",
       "    }\n",
       "\n",
       "    .dataframe tbody tr th {\n",
       "        vertical-align: top;\n",
       "    }\n",
       "\n",
       "    .dataframe thead th {\n",
       "        text-align: right;\n",
       "    }\n",
       "</style>\n",
       "<table border=\"1\" class=\"dataframe\">\n",
       "  <thead>\n",
       "    <tr style=\"text-align: right;\">\n",
       "      <th></th>\n",
       "      <th>Age</th>\n",
       "      <th>Score</th>\n",
       "    </tr>\n",
       "    <tr>\n",
       "      <th>Name</th>\n",
       "      <th></th>\n",
       "      <th></th>\n",
       "    </tr>\n",
       "  </thead>\n",
       "  <tbody>\n",
       "    <tr>\n",
       "      <th>Navin</th>\n",
       "      <td>29</td>\n",
       "      <td>85</td>\n",
       "    </tr>\n",
       "    <tr>\n",
       "      <th>Chris</th>\n",
       "      <td>30</td>\n",
       "      <td>90</td>\n",
       "    </tr>\n",
       "    <tr>\n",
       "      <th>Frank</th>\n",
       "      <td>24</td>\n",
       "      <td>88</td>\n",
       "    </tr>\n",
       "  </tbody>\n",
       "</table>\n",
       "</div>"
      ]
     },
     "execution_count": 118,
     "metadata": {},
     "output_type": "execute_result"
    }
   ],
   "execution_count": 118
  },
  {
   "metadata": {},
   "cell_type": "markdown",
   "source": "### 3.2 Resetting an Index",
   "id": "41272465f0ca8af4"
  },
  {
   "metadata": {
    "ExecuteTime": {
     "end_time": "2024-11-04T11:40:31.693849Z",
     "start_time": "2024-11-04T11:40:31.688281Z"
    }
   },
   "cell_type": "code",
   "source": [
    "# Resetting the index back to default integer index\n",
    "df_reset_index = df_with_index.reset_index()\n",
    "df_reset_index\n"
   ],
   "id": "a8f0ceada6303ea8",
   "outputs": [
    {
     "data": {
      "text/plain": [
       "    Name  Age  Score\n",
       "0  Navin   29     85\n",
       "1  Chris   30     90\n",
       "2  Frank   24     88"
      ],
      "text/html": [
       "<div>\n",
       "<style scoped>\n",
       "    .dataframe tbody tr th:only-of-type {\n",
       "        vertical-align: middle;\n",
       "    }\n",
       "\n",
       "    .dataframe tbody tr th {\n",
       "        vertical-align: top;\n",
       "    }\n",
       "\n",
       "    .dataframe thead th {\n",
       "        text-align: right;\n",
       "    }\n",
       "</style>\n",
       "<table border=\"1\" class=\"dataframe\">\n",
       "  <thead>\n",
       "    <tr style=\"text-align: right;\">\n",
       "      <th></th>\n",
       "      <th>Name</th>\n",
       "      <th>Age</th>\n",
       "      <th>Score</th>\n",
       "    </tr>\n",
       "  </thead>\n",
       "  <tbody>\n",
       "    <tr>\n",
       "      <th>0</th>\n",
       "      <td>Navin</td>\n",
       "      <td>29</td>\n",
       "      <td>85</td>\n",
       "    </tr>\n",
       "    <tr>\n",
       "      <th>1</th>\n",
       "      <td>Chris</td>\n",
       "      <td>30</td>\n",
       "      <td>90</td>\n",
       "    </tr>\n",
       "    <tr>\n",
       "      <th>2</th>\n",
       "      <td>Frank</td>\n",
       "      <td>24</td>\n",
       "      <td>88</td>\n",
       "    </tr>\n",
       "  </tbody>\n",
       "</table>\n",
       "</div>"
      ]
     },
     "execution_count": 119,
     "metadata": {},
     "output_type": "execute_result"
    }
   ],
   "execution_count": 119
  },
  {
   "metadata": {},
   "cell_type": "markdown",
   "source": "### 3.3 Importance of Index in Data Selection and Filtering",
   "id": "41ef04f22983bbad"
  },
  {
   "metadata": {
    "ExecuteTime": {
     "end_time": "2024-11-04T11:40:31.770156Z",
     "start_time": "2024-11-04T11:40:31.765796Z"
    }
   },
   "cell_type": "code",
   "source": [
    "# Accessing a row using label-based indexing with loc\n",
    "#loc and iloc are two primary methods in Pandas for accessing rows and columns in a DataFrame\n",
    "df_with_index.loc['Navin']"
   ],
   "id": "d7f6a419446c46bd",
   "outputs": [
    {
     "data": {
      "text/plain": [
       "Age      29\n",
       "Score    85\n",
       "Name: Navin, dtype: int64"
      ]
     },
     "execution_count": 120,
     "metadata": {},
     "output_type": "execute_result"
    }
   ],
   "execution_count": 120
  },
  {
   "metadata": {},
   "cell_type": "markdown",
   "source": "",
   "id": "e6a2a5bb6c0c3dcf"
  },
  {
   "metadata": {
    "ExecuteTime": {
     "end_time": "2024-11-04T11:40:31.849113Z",
     "start_time": "2024-11-04T11:40:31.844619Z"
    }
   },
   "cell_type": "code",
   "source": [
    "# Accessing a row by position using iloc\n",
    "#iloc is used to access data by integer location, similar to how you would use indexing with lists.\n",
    "df_from_list.iloc[0]"
   ],
   "id": "9a0bd9465f2bfc03",
   "outputs": [
    {
     "data": {
      "text/plain": [
       "ID          1\n",
       "Name    Navin\n",
       "Age        23\n",
       "Name: 0, dtype: object"
      ]
     },
     "execution_count": 121,
     "metadata": {},
     "output_type": "execute_result"
    }
   ],
   "execution_count": 121
  },
  {
   "metadata": {},
   "cell_type": "markdown",
   "source": "",
   "id": "12bf64c075307692"
  },
  {
   "metadata": {
    "ExecuteTime": {
     "end_time": "2024-11-04T11:40:31.962921Z",
     "start_time": "2024-11-04T11:40:31.957681Z"
    }
   },
   "cell_type": "code",
   "source": [
    "# Slicing rows based on labels\n",
    "df_with_index.loc['Navin':'Chris']"
   ],
   "id": "a186c369c4f15895",
   "outputs": [
    {
     "data": {
      "text/plain": [
       "       Age  Score\n",
       "Name             \n",
       "Navin   29     85\n",
       "Chris   30     90"
      ],
      "text/html": [
       "<div>\n",
       "<style scoped>\n",
       "    .dataframe tbody tr th:only-of-type {\n",
       "        vertical-align: middle;\n",
       "    }\n",
       "\n",
       "    .dataframe tbody tr th {\n",
       "        vertical-align: top;\n",
       "    }\n",
       "\n",
       "    .dataframe thead th {\n",
       "        text-align: right;\n",
       "    }\n",
       "</style>\n",
       "<table border=\"1\" class=\"dataframe\">\n",
       "  <thead>\n",
       "    <tr style=\"text-align: right;\">\n",
       "      <th></th>\n",
       "      <th>Age</th>\n",
       "      <th>Score</th>\n",
       "    </tr>\n",
       "    <tr>\n",
       "      <th>Name</th>\n",
       "      <th></th>\n",
       "      <th></th>\n",
       "    </tr>\n",
       "  </thead>\n",
       "  <tbody>\n",
       "    <tr>\n",
       "      <th>Navin</th>\n",
       "      <td>29</td>\n",
       "      <td>85</td>\n",
       "    </tr>\n",
       "    <tr>\n",
       "      <th>Chris</th>\n",
       "      <td>30</td>\n",
       "      <td>90</td>\n",
       "    </tr>\n",
       "  </tbody>\n",
       "</table>\n",
       "</div>"
      ]
     },
     "execution_count": 122,
     "metadata": {},
     "output_type": "execute_result"
    }
   ],
   "execution_count": 122
  }
 ],
 "metadata": {
  "kernelspec": {
   "display_name": "Python 3",
   "language": "python",
   "name": "python3"
  },
  "language_info": {
   "codemirror_mode": {
    "name": "ipython",
    "version": 2
   },
   "file_extension": ".py",
   "mimetype": "text/x-python",
   "name": "python",
   "nbconvert_exporter": "python",
   "pygments_lexer": "ipython2",
   "version": "2.7.6"
  }
 },
 "nbformat": 4,
 "nbformat_minor": 5
}
