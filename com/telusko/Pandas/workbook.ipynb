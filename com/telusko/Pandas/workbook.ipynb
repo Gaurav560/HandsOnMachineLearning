{
 "cells": [
  {
   "metadata": {},
   "cell_type": "markdown",
   "source": [
    "# Pandas: \n",
    "#### Pandas is an opensource data analysis library written in Python. leverages the power and speed of numpy to make data analysis and preprocessing easy for data scientist. It provides rich and highly robust data operations. Numpy written in C."
   ],
   "id": "13559ea659fb88"
  },
  {
   "metadata": {},
   "cell_type": "markdown",
   "source": "## Data structure in Pandas",
   "id": "de06a0035675360b"
  },
  {
   "metadata": {},
   "cell_type": "markdown",
   "source": [
    "#### Pandas has two main data structures that make working with data easy and intuitive:\n",
    "\n",
    "### Series:\n",
    "\n",
    "- A Series is like a list of values, but each value has a label, called an \"index.\"\n",
    "- Similar to single column of data with labeled rows.\n",
    "- You can access values by their labels, making data retrieval quick and readable.\n"
   ],
   "id": "fa2fe41ef210b11a"
  },
  {
   "metadata": {
    "ExecuteTime": {
     "end_time": "2024-11-04T07:42:48.817569Z",
     "start_time": "2024-11-04T07:42:48.812535Z"
    }
   },
   "cell_type": "code",
   "source": [
    "import pandas as pd\n",
    "\n",
    "# Creating a Series\n",
    "series = pd.Series([10, 20, 30], index=['A', 'B', 'C'])\n",
    "print(type(series))\n",
    "series\n"
   ],
   "id": "f1f4ff067fcc3040",
   "outputs": [
    {
     "name": "stdout",
     "output_type": "stream",
     "text": [
      "<class 'pandas.core.series.Series'>\n"
     ]
    },
    {
     "data": {
      "text/plain": [
       "A    10\n",
       "B    20\n",
       "C    30\n",
       "dtype: int64"
      ]
     },
     "execution_count": 187,
     "metadata": {},
     "output_type": "execute_result"
    }
   ],
   "execution_count": 187
  },
  {
   "metadata": {
    "collapsed": true,
    "ExecuteTime": {
     "end_time": "2024-11-04T07:42:48.851261Z",
     "start_time": "2024-11-04T07:42:48.847742Z"
    }
   },
   "cell_type": "code",
   "source": "pd.__version__",
   "id": "initial_id",
   "outputs": [
    {
     "data": {
      "text/plain": [
       "'2.2.3'"
      ]
     },
     "execution_count": 188,
     "metadata": {},
     "output_type": "execute_result"
    }
   ],
   "execution_count": 188
  },
  {
   "metadata": {},
   "cell_type": "markdown",
   "source": [
    "### DataFrame:\n",
    "\n",
    "- A DataFrame is like a table with rows and columns, where each column is a Series.\n",
    "- It can hold data of different types (e.g., text, numbers) in each column.\n",
    "- DataFrames have both row and column labels, which makes it easier to access and manipulate data based on these labels."
   ],
   "id": "69c3438876122cf3"
  },
  {
   "metadata": {
    "ExecuteTime": {
     "end_time": "2024-11-04T07:42:48.890798Z",
     "start_time": "2024-11-04T07:42:48.886015Z"
    }
   },
   "cell_type": "code",
   "source": [
    "import pandas as pd\n",
    "\n",
    "# Creating a DataFrame from a dictionary\n",
    "data = {\n",
    "    'Name': ['Navin', 'Sam', 'Charlie'],\n",
    "    'Age': [32, 30, 35],\n",
    "    'City': ['New York', 'Los Angeles', 'Chicago']\n",
    "}\n",
    "print(type(data))\n",
    "df = pd.DataFrame(data)\n",
    "df\n"
   ],
   "id": "f68e6fc0ddc7f11d",
   "outputs": [
    {
     "name": "stdout",
     "output_type": "stream",
     "text": [
      "<class 'dict'>\n"
     ]
    },
    {
     "data": {
      "text/plain": [
       "      Name  Age         City\n",
       "0    Navin   32     New York\n",
       "1      Sam   30  Los Angeles\n",
       "2  Charlie   35      Chicago"
      ],
      "text/html": [
       "<div>\n",
       "<style scoped>\n",
       "    .dataframe tbody tr th:only-of-type {\n",
       "        vertical-align: middle;\n",
       "    }\n",
       "\n",
       "    .dataframe tbody tr th {\n",
       "        vertical-align: top;\n",
       "    }\n",
       "\n",
       "    .dataframe thead th {\n",
       "        text-align: right;\n",
       "    }\n",
       "</style>\n",
       "<table border=\"1\" class=\"dataframe\">\n",
       "  <thead>\n",
       "    <tr style=\"text-align: right;\">\n",
       "      <th></th>\n",
       "      <th>Name</th>\n",
       "      <th>Age</th>\n",
       "      <th>City</th>\n",
       "    </tr>\n",
       "  </thead>\n",
       "  <tbody>\n",
       "    <tr>\n",
       "      <th>0</th>\n",
       "      <td>Navin</td>\n",
       "      <td>32</td>\n",
       "      <td>New York</td>\n",
       "    </tr>\n",
       "    <tr>\n",
       "      <th>1</th>\n",
       "      <td>Sam</td>\n",
       "      <td>30</td>\n",
       "      <td>Los Angeles</td>\n",
       "    </tr>\n",
       "    <tr>\n",
       "      <th>2</th>\n",
       "      <td>Charlie</td>\n",
       "      <td>35</td>\n",
       "      <td>Chicago</td>\n",
       "    </tr>\n",
       "  </tbody>\n",
       "</table>\n",
       "</div>"
      ]
     },
     "execution_count": 189,
     "metadata": {},
     "output_type": "execute_result"
    }
   ],
   "execution_count": 189
  },
  {
   "metadata": {
    "ExecuteTime": {
     "end_time": "2024-11-04T07:42:48.993717Z",
     "start_time": "2024-11-04T07:42:48.990938Z"
    }
   },
   "cell_type": "code",
   "source": "type(df)",
   "id": "f43ad67fae42afcc",
   "outputs": [
    {
     "data": {
      "text/plain": [
       "pandas.core.frame.DataFrame"
      ]
     },
     "execution_count": 190,
     "metadata": {},
     "output_type": "execute_result"
    }
   ],
   "execution_count": 190
  },
  {
   "metadata": {
    "ExecuteTime": {
     "end_time": "2024-11-04T07:42:49.049842Z",
     "start_time": "2024-11-04T07:42:49.045873Z"
    }
   },
   "cell_type": "code",
   "source": [
    "# tells data types of each column\n",
    "df.dtypes\n"
   ],
   "id": "3dd2dcdac47c224f",
   "outputs": [
    {
     "data": {
      "text/plain": [
       "Name    object\n",
       "Age      int64\n",
       "City    object\n",
       "dtype: object"
      ]
     },
     "execution_count": 191,
     "metadata": {},
     "output_type": "execute_result"
    }
   ],
   "execution_count": 191
  },
  {
   "metadata": {},
   "cell_type": "markdown",
   "source": "",
   "id": "922a5491f7f09614"
  },
  {
   "metadata": {},
   "cell_type": "markdown",
   "source": "### Creating a large dataframe",
   "id": "ed15b1bbf1af03b9"
  },
  {
   "metadata": {
    "ExecuteTime": {
     "end_time": "2024-11-04T07:42:49.144142Z",
     "start_time": "2024-11-04T07:42:49.136358Z"
    }
   },
   "cell_type": "code",
   "source": [
    "import numpy as np\n",
    "df1=pd.DataFrame(np.random.randn(1110,10),columns=['A','B','C','D','E','F','G','H','I','J'],index=[np.arange(1110)])\n",
    "\n",
    "# Multiplying each value by 100\n",
    "df1 = df1 * 100\n",
    "df1.head()"
   ],
   "id": "ca25bb16732e5226",
   "outputs": [
    {
     "data": {
      "text/plain": [
       "            A           B          C           D           E           F  \\\n",
       "0  -49.550300   94.033351  51.801003    6.302811 -193.876938 -203.353006   \n",
       "1 -134.167892   47.617980  86.874029  110.635254  149.527943   61.302466   \n",
       "2 -104.877785  -43.633596  59.167541  -67.685991 -107.514726   33.605000   \n",
       "3  -55.401966 -158.611824 -24.752201 -207.463013   31.573769   15.391590   \n",
       "4  -62.112350 -156.129359 -28.835745   36.540755 -127.615464    1.061238   \n",
       "\n",
       "            G           H           I           J  \n",
       "0  182.765482   36.082115  181.613638  -85.116671  \n",
       "1  -32.897669  -13.177029   16.297715  -53.357741  \n",
       "2   15.253928   39.043326  108.130387   56.759205  \n",
       "3  174.776584   -4.560032 -134.683225  241.276564  \n",
       "4   19.534054 -105.777215  -92.797891 -135.763248  "
      ],
      "text/html": [
       "<div>\n",
       "<style scoped>\n",
       "    .dataframe tbody tr th:only-of-type {\n",
       "        vertical-align: middle;\n",
       "    }\n",
       "\n",
       "    .dataframe tbody tr th {\n",
       "        vertical-align: top;\n",
       "    }\n",
       "\n",
       "    .dataframe thead th {\n",
       "        text-align: right;\n",
       "    }\n",
       "</style>\n",
       "<table border=\"1\" class=\"dataframe\">\n",
       "  <thead>\n",
       "    <tr style=\"text-align: right;\">\n",
       "      <th></th>\n",
       "      <th>A</th>\n",
       "      <th>B</th>\n",
       "      <th>C</th>\n",
       "      <th>D</th>\n",
       "      <th>E</th>\n",
       "      <th>F</th>\n",
       "      <th>G</th>\n",
       "      <th>H</th>\n",
       "      <th>I</th>\n",
       "      <th>J</th>\n",
       "    </tr>\n",
       "  </thead>\n",
       "  <tbody>\n",
       "    <tr>\n",
       "      <th>0</th>\n",
       "      <td>-49.550300</td>\n",
       "      <td>94.033351</td>\n",
       "      <td>51.801003</td>\n",
       "      <td>6.302811</td>\n",
       "      <td>-193.876938</td>\n",
       "      <td>-203.353006</td>\n",
       "      <td>182.765482</td>\n",
       "      <td>36.082115</td>\n",
       "      <td>181.613638</td>\n",
       "      <td>-85.116671</td>\n",
       "    </tr>\n",
       "    <tr>\n",
       "      <th>1</th>\n",
       "      <td>-134.167892</td>\n",
       "      <td>47.617980</td>\n",
       "      <td>86.874029</td>\n",
       "      <td>110.635254</td>\n",
       "      <td>149.527943</td>\n",
       "      <td>61.302466</td>\n",
       "      <td>-32.897669</td>\n",
       "      <td>-13.177029</td>\n",
       "      <td>16.297715</td>\n",
       "      <td>-53.357741</td>\n",
       "    </tr>\n",
       "    <tr>\n",
       "      <th>2</th>\n",
       "      <td>-104.877785</td>\n",
       "      <td>-43.633596</td>\n",
       "      <td>59.167541</td>\n",
       "      <td>-67.685991</td>\n",
       "      <td>-107.514726</td>\n",
       "      <td>33.605000</td>\n",
       "      <td>15.253928</td>\n",
       "      <td>39.043326</td>\n",
       "      <td>108.130387</td>\n",
       "      <td>56.759205</td>\n",
       "    </tr>\n",
       "    <tr>\n",
       "      <th>3</th>\n",
       "      <td>-55.401966</td>\n",
       "      <td>-158.611824</td>\n",
       "      <td>-24.752201</td>\n",
       "      <td>-207.463013</td>\n",
       "      <td>31.573769</td>\n",
       "      <td>15.391590</td>\n",
       "      <td>174.776584</td>\n",
       "      <td>-4.560032</td>\n",
       "      <td>-134.683225</td>\n",
       "      <td>241.276564</td>\n",
       "    </tr>\n",
       "    <tr>\n",
       "      <th>4</th>\n",
       "      <td>-62.112350</td>\n",
       "      <td>-156.129359</td>\n",
       "      <td>-28.835745</td>\n",
       "      <td>36.540755</td>\n",
       "      <td>-127.615464</td>\n",
       "      <td>1.061238</td>\n",
       "      <td>19.534054</td>\n",
       "      <td>-105.777215</td>\n",
       "      <td>-92.797891</td>\n",
       "      <td>-135.763248</td>\n",
       "    </tr>\n",
       "  </tbody>\n",
       "</table>\n",
       "</div>"
      ]
     },
     "execution_count": 192,
     "metadata": {},
     "output_type": "execute_result"
    }
   ],
   "execution_count": 192
  },
  {
   "metadata": {
    "ExecuteTime": {
     "end_time": "2024-11-04T07:42:49.224628Z",
     "start_time": "2024-11-04T07:42:49.220707Z"
    }
   },
   "cell_type": "code",
   "source": "df1.dtypes",
   "id": "7e7428836c8f947",
   "outputs": [
    {
     "data": {
      "text/plain": [
       "A    float64\n",
       "B    float64\n",
       "C    float64\n",
       "D    float64\n",
       "E    float64\n",
       "F    float64\n",
       "G    float64\n",
       "H    float64\n",
       "I    float64\n",
       "J    float64\n",
       "dtype: object"
      ]
     },
     "execution_count": 193,
     "metadata": {},
     "output_type": "execute_result"
    }
   ],
   "execution_count": 193
  },
  {
   "metadata": {
    "ExecuteTime": {
     "end_time": "2024-11-04T07:42:49.338490Z",
     "start_time": "2024-11-04T07:42:49.333198Z"
    }
   },
   "cell_type": "code",
   "source": [
    "#changing the data type of column A to Object from float\n",
    "df1.at[0,'A']=\"gaurav\"\n",
    "df1.dtypes"
   ],
   "id": "81786e00a9b89684",
   "outputs": [
    {
     "name": "stderr",
     "output_type": "stream",
     "text": [
      "C:\\Users\\gshar\\AppData\\Local\\Temp\\ipykernel_11464\\1809650201.py:2: FutureWarning: Setting an item of incompatible dtype is deprecated and will raise an error in a future version of pandas. Value 'gaurav' has dtype incompatible with float64, please explicitly cast to a compatible dtype first.\n",
      "  df1.at[0,'A']=\"gaurav\"\n"
     ]
    },
    {
     "data": {
      "text/plain": [
       "A     object\n",
       "B    float64\n",
       "C    float64\n",
       "D    float64\n",
       "E    float64\n",
       "F    float64\n",
       "G    float64\n",
       "H    float64\n",
       "I    float64\n",
       "J    float64\n",
       "dtype: object"
      ]
     },
     "execution_count": 194,
     "metadata": {},
     "output_type": "execute_result"
    }
   ],
   "execution_count": 194
  },
  {
   "metadata": {
    "ExecuteTime": {
     "end_time": "2024-11-04T07:42:49.452632Z",
     "start_time": "2024-11-04T07:42:49.445351Z"
    }
   },
   "cell_type": "code",
   "source": "df1.head()",
   "id": "daae705dae5e071b",
   "outputs": [
    {
     "data": {
      "text/plain": [
       "            A           B          C           D           E           F  \\\n",
       "0      gaurav   94.033351  51.801003    6.302811 -193.876938 -203.353006   \n",
       "1 -134.167892   47.617980  86.874029  110.635254  149.527943   61.302466   \n",
       "2 -104.877785  -43.633596  59.167541  -67.685991 -107.514726   33.605000   \n",
       "3  -55.401966 -158.611824 -24.752201 -207.463013   31.573769   15.391590   \n",
       "4   -62.11235 -156.129359 -28.835745   36.540755 -127.615464    1.061238   \n",
       "\n",
       "            G           H           I           J  \n",
       "0  182.765482   36.082115  181.613638  -85.116671  \n",
       "1  -32.897669  -13.177029   16.297715  -53.357741  \n",
       "2   15.253928   39.043326  108.130387   56.759205  \n",
       "3  174.776584   -4.560032 -134.683225  241.276564  \n",
       "4   19.534054 -105.777215  -92.797891 -135.763248  "
      ],
      "text/html": [
       "<div>\n",
       "<style scoped>\n",
       "    .dataframe tbody tr th:only-of-type {\n",
       "        vertical-align: middle;\n",
       "    }\n",
       "\n",
       "    .dataframe tbody tr th {\n",
       "        vertical-align: top;\n",
       "    }\n",
       "\n",
       "    .dataframe thead th {\n",
       "        text-align: right;\n",
       "    }\n",
       "</style>\n",
       "<table border=\"1\" class=\"dataframe\">\n",
       "  <thead>\n",
       "    <tr style=\"text-align: right;\">\n",
       "      <th></th>\n",
       "      <th>A</th>\n",
       "      <th>B</th>\n",
       "      <th>C</th>\n",
       "      <th>D</th>\n",
       "      <th>E</th>\n",
       "      <th>F</th>\n",
       "      <th>G</th>\n",
       "      <th>H</th>\n",
       "      <th>I</th>\n",
       "      <th>J</th>\n",
       "    </tr>\n",
       "  </thead>\n",
       "  <tbody>\n",
       "    <tr>\n",
       "      <th>0</th>\n",
       "      <td>gaurav</td>\n",
       "      <td>94.033351</td>\n",
       "      <td>51.801003</td>\n",
       "      <td>6.302811</td>\n",
       "      <td>-193.876938</td>\n",
       "      <td>-203.353006</td>\n",
       "      <td>182.765482</td>\n",
       "      <td>36.082115</td>\n",
       "      <td>181.613638</td>\n",
       "      <td>-85.116671</td>\n",
       "    </tr>\n",
       "    <tr>\n",
       "      <th>1</th>\n",
       "      <td>-134.167892</td>\n",
       "      <td>47.617980</td>\n",
       "      <td>86.874029</td>\n",
       "      <td>110.635254</td>\n",
       "      <td>149.527943</td>\n",
       "      <td>61.302466</td>\n",
       "      <td>-32.897669</td>\n",
       "      <td>-13.177029</td>\n",
       "      <td>16.297715</td>\n",
       "      <td>-53.357741</td>\n",
       "    </tr>\n",
       "    <tr>\n",
       "      <th>2</th>\n",
       "      <td>-104.877785</td>\n",
       "      <td>-43.633596</td>\n",
       "      <td>59.167541</td>\n",
       "      <td>-67.685991</td>\n",
       "      <td>-107.514726</td>\n",
       "      <td>33.605000</td>\n",
       "      <td>15.253928</td>\n",
       "      <td>39.043326</td>\n",
       "      <td>108.130387</td>\n",
       "      <td>56.759205</td>\n",
       "    </tr>\n",
       "    <tr>\n",
       "      <th>3</th>\n",
       "      <td>-55.401966</td>\n",
       "      <td>-158.611824</td>\n",
       "      <td>-24.752201</td>\n",
       "      <td>-207.463013</td>\n",
       "      <td>31.573769</td>\n",
       "      <td>15.391590</td>\n",
       "      <td>174.776584</td>\n",
       "      <td>-4.560032</td>\n",
       "      <td>-134.683225</td>\n",
       "      <td>241.276564</td>\n",
       "    </tr>\n",
       "    <tr>\n",
       "      <th>4</th>\n",
       "      <td>-62.11235</td>\n",
       "      <td>-156.129359</td>\n",
       "      <td>-28.835745</td>\n",
       "      <td>36.540755</td>\n",
       "      <td>-127.615464</td>\n",
       "      <td>1.061238</td>\n",
       "      <td>19.534054</td>\n",
       "      <td>-105.777215</td>\n",
       "      <td>-92.797891</td>\n",
       "      <td>-135.763248</td>\n",
       "    </tr>\n",
       "  </tbody>\n",
       "</table>\n",
       "</div>"
      ]
     },
     "execution_count": 195,
     "metadata": {},
     "output_type": "execute_result"
    }
   ],
   "execution_count": 195
  },
  {
   "metadata": {
    "ExecuteTime": {
     "end_time": "2024-11-04T07:42:49.546747Z",
     "start_time": "2024-11-04T07:42:49.542743Z"
    }
   },
   "cell_type": "code",
   "source": "df1.index",
   "id": "1dcf6b30a408e394",
   "outputs": [
    {
     "data": {
      "text/plain": [
       "MultiIndex([(   0,),\n",
       "            (   1,),\n",
       "            (   2,),\n",
       "            (   3,),\n",
       "            (   4,),\n",
       "            (   5,),\n",
       "            (   6,),\n",
       "            (   7,),\n",
       "            (   8,),\n",
       "            (   9,),\n",
       "            ...\n",
       "            (1100,),\n",
       "            (1101,),\n",
       "            (1102,),\n",
       "            (1103,),\n",
       "            (1104,),\n",
       "            (1105,),\n",
       "            (1106,),\n",
       "            (1107,),\n",
       "            (1108,),\n",
       "            (1109,)],\n",
       "           length=1110)"
      ]
     },
     "execution_count": 196,
     "metadata": {},
     "output_type": "execute_result"
    }
   ],
   "execution_count": 196
  },
  {
   "metadata": {
    "ExecuteTime": {
     "end_time": "2024-11-04T07:42:49.738461Z",
     "start_time": "2024-11-04T07:42:49.734203Z"
    }
   },
   "cell_type": "code",
   "source": [
    "df1 = df1.reset_index(drop=True)\n",
    "df1.index"
   ],
   "id": "f9da932a6953de17",
   "outputs": [
    {
     "data": {
      "text/plain": [
       "RangeIndex(start=0, stop=1110, step=1)"
      ]
     },
     "execution_count": 197,
     "metadata": {},
     "output_type": "execute_result"
    }
   ],
   "execution_count": 197
  },
  {
   "metadata": {
    "ExecuteTime": {
     "end_time": "2024-11-04T07:42:49.917133Z",
     "start_time": "2024-11-04T07:42:49.913624Z"
    }
   },
   "cell_type": "code",
   "source": "df1.columns",
   "id": "36667812498a50d",
   "outputs": [
    {
     "data": {
      "text/plain": [
       "Index(['A', 'B', 'C', 'D', 'E', 'F', 'G', 'H', 'I', 'J'], dtype='object')"
      ]
     },
     "execution_count": 198,
     "metadata": {},
     "output_type": "execute_result"
    }
   ],
   "execution_count": 198
  },
  {
   "metadata": {
    "ExecuteTime": {
     "end_time": "2024-11-04T07:42:50.054256Z",
     "start_time": "2024-11-04T07:42:50.049396Z"
    }
   },
   "cell_type": "code",
   "source": [
    "#to convert dataframe into numpy array\n",
    "df1.to_numpy()"
   ],
   "id": "b5df4f4ebd2b0b3a",
   "outputs": [
    {
     "data": {
      "text/plain": [
       "array([['gaurav', 94.03335123818556, 51.80100271517086, ...,\n",
       "        36.08211456470777, 181.61363757100295, -85.11667134012782],\n",
       "       [-134.1678921206389, 47.61798027251673, 86.87402935639817, ...,\n",
       "        -13.177028867640553, 16.29771537007029, -53.35774118441458],\n",
       "       [-104.87778524931856, -43.63359581880376, 59.16754058029133, ...,\n",
       "        39.043326011586984, 108.13038698513652, 56.75920468413991],\n",
       "       ...,\n",
       "       [86.5593079841271, 42.47579357104807, 15.698198618537122, ...,\n",
       "        -71.66328341436831, -32.76676719603097, 184.07904118156958],\n",
       "       [193.13664287253428, -28.438763888997563, -8.522000105585626, ...,\n",
       "        120.80873087034793, 49.59221357821795, -32.76982874382773],\n",
       "       [-22.61375552056046, -13.434235906916737, -90.34273625675851, ...,\n",
       "        75.36426964251288, -51.59480970195192, -4.4058962384444245]],\n",
       "      dtype=object)"
      ]
     },
     "execution_count": 199,
     "metadata": {},
     "output_type": "execute_result"
    }
   ],
   "execution_count": 199
  },
  {
   "metadata": {
    "ExecuteTime": {
     "end_time": "2024-11-04T07:42:50.099282Z",
     "start_time": "2024-11-04T07:42:50.096523Z"
    }
   },
   "cell_type": "code",
   "source": [
    "#Another Example\n",
    "dict_new={\n",
    "    \"name\":['Gaurav','Navin Sir','Harsh Bhaiya','Sushil'],\n",
    "    \"marks\":[96,98,85,88],\n",
    "    \"city\":['Gaya','Bengaluru','Jodhpur','Bikaner']\n",
    "    \n",
    "}"
   ],
   "id": "7939361a5289c95b",
   "outputs": [],
   "execution_count": 200
  },
  {
   "metadata": {
    "ExecuteTime": {
     "end_time": "2024-11-04T07:42:50.174030Z",
     "start_time": "2024-11-04T07:42:50.171342Z"
    }
   },
   "cell_type": "code",
   "source": "dframe=pd.DataFrame(dict_new)",
   "id": "e12d9b07b8460a8c",
   "outputs": [],
   "execution_count": 201
  },
  {
   "metadata": {
    "ExecuteTime": {
     "end_time": "2024-11-04T07:42:50.236064Z",
     "start_time": "2024-11-04T07:42:50.230037Z"
    }
   },
   "cell_type": "code",
   "source": "dframe",
   "id": "22a0bff70f85cd90",
   "outputs": [
    {
     "data": {
      "text/plain": [
       "           name  marks       city\n",
       "0        Gaurav     96       Gaya\n",
       "1     Navin Sir     98  Bengaluru\n",
       "2  Harsh Bhaiya     85    Jodhpur\n",
       "3        Sushil     88    Bikaner"
      ],
      "text/html": [
       "<div>\n",
       "<style scoped>\n",
       "    .dataframe tbody tr th:only-of-type {\n",
       "        vertical-align: middle;\n",
       "    }\n",
       "\n",
       "    .dataframe tbody tr th {\n",
       "        vertical-align: top;\n",
       "    }\n",
       "\n",
       "    .dataframe thead th {\n",
       "        text-align: right;\n",
       "    }\n",
       "</style>\n",
       "<table border=\"1\" class=\"dataframe\">\n",
       "  <thead>\n",
       "    <tr style=\"text-align: right;\">\n",
       "      <th></th>\n",
       "      <th>name</th>\n",
       "      <th>marks</th>\n",
       "      <th>city</th>\n",
       "    </tr>\n",
       "  </thead>\n",
       "  <tbody>\n",
       "    <tr>\n",
       "      <th>0</th>\n",
       "      <td>Gaurav</td>\n",
       "      <td>96</td>\n",
       "      <td>Gaya</td>\n",
       "    </tr>\n",
       "    <tr>\n",
       "      <th>1</th>\n",
       "      <td>Navin Sir</td>\n",
       "      <td>98</td>\n",
       "      <td>Bengaluru</td>\n",
       "    </tr>\n",
       "    <tr>\n",
       "      <th>2</th>\n",
       "      <td>Harsh Bhaiya</td>\n",
       "      <td>85</td>\n",
       "      <td>Jodhpur</td>\n",
       "    </tr>\n",
       "    <tr>\n",
       "      <th>3</th>\n",
       "      <td>Sushil</td>\n",
       "      <td>88</td>\n",
       "      <td>Bikaner</td>\n",
       "    </tr>\n",
       "  </tbody>\n",
       "</table>\n",
       "</div>"
      ]
     },
     "execution_count": 202,
     "metadata": {},
     "output_type": "execute_result"
    }
   ],
   "execution_count": 202
  },
  {
   "metadata": {
    "ExecuteTime": {
     "end_time": "2024-11-04T07:42:50.275676Z",
     "start_time": "2024-11-04T07:42:50.272716Z"
    }
   },
   "cell_type": "code",
   "source": [
    "#we can convert this data frame to any file format. Let's say we want to convert it into .csv\n",
    "#index means row in general and column ko column hi bolte hain.\n",
    "dframe.to_csv('office.csv',index=False)"
   ],
   "id": "500feaf9e7c82e30",
   "outputs": [],
   "execution_count": 203
  },
  {
   "metadata": {
    "ExecuteTime": {
     "end_time": "2024-11-04T07:42:50.327166Z",
     "start_time": "2024-11-04T07:42:50.321988Z"
    }
   },
   "cell_type": "code",
   "source": "dframe.head(2)",
   "id": "5325db5a4b9f6961",
   "outputs": [
    {
     "data": {
      "text/plain": [
       "        name  marks       city\n",
       "0     Gaurav     96       Gaya\n",
       "1  Navin Sir     98  Bengaluru"
      ],
      "text/html": [
       "<div>\n",
       "<style scoped>\n",
       "    .dataframe tbody tr th:only-of-type {\n",
       "        vertical-align: middle;\n",
       "    }\n",
       "\n",
       "    .dataframe tbody tr th {\n",
       "        vertical-align: top;\n",
       "    }\n",
       "\n",
       "    .dataframe thead th {\n",
       "        text-align: right;\n",
       "    }\n",
       "</style>\n",
       "<table border=\"1\" class=\"dataframe\">\n",
       "  <thead>\n",
       "    <tr style=\"text-align: right;\">\n",
       "      <th></th>\n",
       "      <th>name</th>\n",
       "      <th>marks</th>\n",
       "      <th>city</th>\n",
       "    </tr>\n",
       "  </thead>\n",
       "  <tbody>\n",
       "    <tr>\n",
       "      <th>0</th>\n",
       "      <td>Gaurav</td>\n",
       "      <td>96</td>\n",
       "      <td>Gaya</td>\n",
       "    </tr>\n",
       "    <tr>\n",
       "      <th>1</th>\n",
       "      <td>Navin Sir</td>\n",
       "      <td>98</td>\n",
       "      <td>Bengaluru</td>\n",
       "    </tr>\n",
       "  </tbody>\n",
       "</table>\n",
       "</div>"
      ]
     },
     "execution_count": 204,
     "metadata": {},
     "output_type": "execute_result"
    }
   ],
   "execution_count": 204
  },
  {
   "metadata": {
    "ExecuteTime": {
     "end_time": "2024-11-04T07:42:50.422106Z",
     "start_time": "2024-11-04T07:42:50.416455Z"
    }
   },
   "cell_type": "code",
   "source": "dframe.tail(2)",
   "id": "caf1ed39f425e5c7",
   "outputs": [
    {
     "data": {
      "text/plain": [
       "           name  marks     city\n",
       "2  Harsh Bhaiya     85  Jodhpur\n",
       "3        Sushil     88  Bikaner"
      ],
      "text/html": [
       "<div>\n",
       "<style scoped>\n",
       "    .dataframe tbody tr th:only-of-type {\n",
       "        vertical-align: middle;\n",
       "    }\n",
       "\n",
       "    .dataframe tbody tr th {\n",
       "        vertical-align: top;\n",
       "    }\n",
       "\n",
       "    .dataframe thead th {\n",
       "        text-align: right;\n",
       "    }\n",
       "</style>\n",
       "<table border=\"1\" class=\"dataframe\">\n",
       "  <thead>\n",
       "    <tr style=\"text-align: right;\">\n",
       "      <th></th>\n",
       "      <th>name</th>\n",
       "      <th>marks</th>\n",
       "      <th>city</th>\n",
       "    </tr>\n",
       "  </thead>\n",
       "  <tbody>\n",
       "    <tr>\n",
       "      <th>2</th>\n",
       "      <td>Harsh Bhaiya</td>\n",
       "      <td>85</td>\n",
       "      <td>Jodhpur</td>\n",
       "    </tr>\n",
       "    <tr>\n",
       "      <th>3</th>\n",
       "      <td>Sushil</td>\n",
       "      <td>88</td>\n",
       "      <td>Bikaner</td>\n",
       "    </tr>\n",
       "  </tbody>\n",
       "</table>\n",
       "</div>"
      ]
     },
     "execution_count": 205,
     "metadata": {},
     "output_type": "execute_result"
    }
   ],
   "execution_count": 205
  },
  {
   "metadata": {
    "ExecuteTime": {
     "end_time": "2024-11-04T07:42:50.514870Z",
     "start_time": "2024-11-04T07:42:50.506323Z"
    }
   },
   "cell_type": "code",
   "source": [
    "#it does a numerical analysis\n",
    "dframe.describe()"
   ],
   "id": "8323ade3fd28b4c5",
   "outputs": [
    {
     "data": {
      "text/plain": [
       "           marks\n",
       "count   4.000000\n",
       "mean   91.750000\n",
       "std     6.238322\n",
       "min    85.000000\n",
       "25%    87.250000\n",
       "50%    92.000000\n",
       "75%    96.500000\n",
       "max    98.000000"
      ],
      "text/html": [
       "<div>\n",
       "<style scoped>\n",
       "    .dataframe tbody tr th:only-of-type {\n",
       "        vertical-align: middle;\n",
       "    }\n",
       "\n",
       "    .dataframe tbody tr th {\n",
       "        vertical-align: top;\n",
       "    }\n",
       "\n",
       "    .dataframe thead th {\n",
       "        text-align: right;\n",
       "    }\n",
       "</style>\n",
       "<table border=\"1\" class=\"dataframe\">\n",
       "  <thead>\n",
       "    <tr style=\"text-align: right;\">\n",
       "      <th></th>\n",
       "      <th>marks</th>\n",
       "    </tr>\n",
       "  </thead>\n",
       "  <tbody>\n",
       "    <tr>\n",
       "      <th>count</th>\n",
       "      <td>4.000000</td>\n",
       "    </tr>\n",
       "    <tr>\n",
       "      <th>mean</th>\n",
       "      <td>91.750000</td>\n",
       "    </tr>\n",
       "    <tr>\n",
       "      <th>std</th>\n",
       "      <td>6.238322</td>\n",
       "    </tr>\n",
       "    <tr>\n",
       "      <th>min</th>\n",
       "      <td>85.000000</td>\n",
       "    </tr>\n",
       "    <tr>\n",
       "      <th>25%</th>\n",
       "      <td>87.250000</td>\n",
       "    </tr>\n",
       "    <tr>\n",
       "      <th>50%</th>\n",
       "      <td>92.000000</td>\n",
       "    </tr>\n",
       "    <tr>\n",
       "      <th>75%</th>\n",
       "      <td>96.500000</td>\n",
       "    </tr>\n",
       "    <tr>\n",
       "      <th>max</th>\n",
       "      <td>98.000000</td>\n",
       "    </tr>\n",
       "  </tbody>\n",
       "</table>\n",
       "</div>"
      ]
     },
     "execution_count": 206,
     "metadata": {},
     "output_type": "execute_result"
    }
   ],
   "execution_count": 206
  },
  {
   "metadata": {
    "ExecuteTime": {
     "end_time": "2024-11-04T07:42:50.612611Z",
     "start_time": "2024-11-04T07:42:50.608908Z"
    }
   },
   "cell_type": "code",
   "source": [
    "#to read a csv file\n",
    "flight_details=pd.read_csv('flight_details.csv');"
   ],
   "id": "246e63f7972d64c2",
   "outputs": [],
   "execution_count": 207
  },
  {
   "metadata": {
    "ExecuteTime": {
     "end_time": "2024-11-04T07:42:50.688705Z",
     "start_time": "2024-11-04T07:42:50.683966Z"
    }
   },
   "cell_type": "code",
   "source": "flight_details",
   "id": "7f103e2f5cfcbfe3",
   "outputs": [
    {
     "data": {
      "text/plain": [
       "  flight_no  price destination\n",
       "0    GS1234   9600        Gaya\n",
       "1    NR1234   9800   Bengaluru\n",
       "2    HB1234   8500     Jodhpur\n",
       "3    SR1234   8800     Bikaner"
      ],
      "text/html": [
       "<div>\n",
       "<style scoped>\n",
       "    .dataframe tbody tr th:only-of-type {\n",
       "        vertical-align: middle;\n",
       "    }\n",
       "\n",
       "    .dataframe tbody tr th {\n",
       "        vertical-align: top;\n",
       "    }\n",
       "\n",
       "    .dataframe thead th {\n",
       "        text-align: right;\n",
       "    }\n",
       "</style>\n",
       "<table border=\"1\" class=\"dataframe\">\n",
       "  <thead>\n",
       "    <tr style=\"text-align: right;\">\n",
       "      <th></th>\n",
       "      <th>flight_no</th>\n",
       "      <th>price</th>\n",
       "      <th>destination</th>\n",
       "    </tr>\n",
       "  </thead>\n",
       "  <tbody>\n",
       "    <tr>\n",
       "      <th>0</th>\n",
       "      <td>GS1234</td>\n",
       "      <td>9600</td>\n",
       "      <td>Gaya</td>\n",
       "    </tr>\n",
       "    <tr>\n",
       "      <th>1</th>\n",
       "      <td>NR1234</td>\n",
       "      <td>9800</td>\n",
       "      <td>Bengaluru</td>\n",
       "    </tr>\n",
       "    <tr>\n",
       "      <th>2</th>\n",
       "      <td>HB1234</td>\n",
       "      <td>8500</td>\n",
       "      <td>Jodhpur</td>\n",
       "    </tr>\n",
       "    <tr>\n",
       "      <th>3</th>\n",
       "      <td>SR1234</td>\n",
       "      <td>8800</td>\n",
       "      <td>Bikaner</td>\n",
       "    </tr>\n",
       "  </tbody>\n",
       "</table>\n",
       "</div>"
      ]
     },
     "execution_count": 208,
     "metadata": {},
     "output_type": "execute_result"
    }
   ],
   "execution_count": 208
  },
  {
   "metadata": {
    "ExecuteTime": {
     "end_time": "2024-11-04T07:42:50.768290Z",
     "start_time": "2024-11-04T07:42:50.764515Z"
    }
   },
   "cell_type": "code",
   "source": "flight_details['price']",
   "id": "2f3dbb0ddfab88c3",
   "outputs": [
    {
     "data": {
      "text/plain": [
       "0    9600\n",
       "1    9800\n",
       "2    8500\n",
       "3    8800\n",
       "Name: price, dtype: int64"
      ]
     },
     "execution_count": 209,
     "metadata": {},
     "output_type": "execute_result"
    }
   ],
   "execution_count": 209
  },
  {
   "metadata": {
    "ExecuteTime": {
     "end_time": "2024-11-04T07:42:50.821378Z",
     "start_time": "2024-11-04T07:42:50.818340Z"
    }
   },
   "cell_type": "code",
   "source": "flight_details['price'][2]=10000",
   "id": "5631e2121bf447a8",
   "outputs": [
    {
     "name": "stderr",
     "output_type": "stream",
     "text": [
      "C:\\Users\\gshar\\AppData\\Local\\Temp\\ipykernel_11464\\3132491848.py:1: SettingWithCopyWarning: \n",
      "A value is trying to be set on a copy of a slice from a DataFrame\n",
      "\n",
      "See the caveats in the documentation: https://pandas.pydata.org/pandas-docs/stable/user_guide/indexing.html#returning-a-view-versus-a-copy\n",
      "  flight_details['price'][2]=10000\n"
     ]
    }
   ],
   "execution_count": 210
  },
  {
   "metadata": {
    "ExecuteTime": {
     "end_time": "2024-11-04T07:42:50.910415Z",
     "start_time": "2024-11-04T07:42:50.904922Z"
    }
   },
   "cell_type": "code",
   "source": "flight_details",
   "id": "934ccbbaff77dd1d",
   "outputs": [
    {
     "data": {
      "text/plain": [
       "  flight_no  price destination\n",
       "0    GS1234   9600        Gaya\n",
       "1    NR1234   9800   Bengaluru\n",
       "2    HB1234  10000     Jodhpur\n",
       "3    SR1234   8800     Bikaner"
      ],
      "text/html": [
       "<div>\n",
       "<style scoped>\n",
       "    .dataframe tbody tr th:only-of-type {\n",
       "        vertical-align: middle;\n",
       "    }\n",
       "\n",
       "    .dataframe tbody tr th {\n",
       "        vertical-align: top;\n",
       "    }\n",
       "\n",
       "    .dataframe thead th {\n",
       "        text-align: right;\n",
       "    }\n",
       "</style>\n",
       "<table border=\"1\" class=\"dataframe\">\n",
       "  <thead>\n",
       "    <tr style=\"text-align: right;\">\n",
       "      <th></th>\n",
       "      <th>flight_no</th>\n",
       "      <th>price</th>\n",
       "      <th>destination</th>\n",
       "    </tr>\n",
       "  </thead>\n",
       "  <tbody>\n",
       "    <tr>\n",
       "      <th>0</th>\n",
       "      <td>GS1234</td>\n",
       "      <td>9600</td>\n",
       "      <td>Gaya</td>\n",
       "    </tr>\n",
       "    <tr>\n",
       "      <th>1</th>\n",
       "      <td>NR1234</td>\n",
       "      <td>9800</td>\n",
       "      <td>Bengaluru</td>\n",
       "    </tr>\n",
       "    <tr>\n",
       "      <th>2</th>\n",
       "      <td>HB1234</td>\n",
       "      <td>10000</td>\n",
       "      <td>Jodhpur</td>\n",
       "    </tr>\n",
       "    <tr>\n",
       "      <th>3</th>\n",
       "      <td>SR1234</td>\n",
       "      <td>8800</td>\n",
       "      <td>Bikaner</td>\n",
       "    </tr>\n",
       "  </tbody>\n",
       "</table>\n",
       "</div>"
      ]
     },
     "execution_count": 211,
     "metadata": {},
     "output_type": "execute_result"
    }
   ],
   "execution_count": 211
  },
  {
   "metadata": {},
   "cell_type": "markdown",
   "source": "### to change the index of data frame",
   "id": "d71464261ff904b9"
  },
  {
   "metadata": {
    "ExecuteTime": {
     "end_time": "2024-11-04T07:42:50.981874Z",
     "start_time": "2024-11-04T07:42:50.978428Z"
    }
   },
   "cell_type": "code",
   "source": "flight_details.index=['first','second','third','fourth']",
   "id": "7a7e474136c6b8eb",
   "outputs": [],
   "execution_count": 212
  },
  {
   "metadata": {
    "ExecuteTime": {
     "end_time": "2024-11-04T07:42:51.031020Z",
     "start_time": "2024-11-04T07:42:51.026320Z"
    }
   },
   "cell_type": "code",
   "source": "flight_details",
   "id": "3d3f84a6c2b9b197",
   "outputs": [
    {
     "data": {
      "text/plain": [
       "       flight_no  price destination\n",
       "first     GS1234   9600        Gaya\n",
       "second    NR1234   9800   Bengaluru\n",
       "third     HB1234  10000     Jodhpur\n",
       "fourth    SR1234   8800     Bikaner"
      ],
      "text/html": [
       "<div>\n",
       "<style scoped>\n",
       "    .dataframe tbody tr th:only-of-type {\n",
       "        vertical-align: middle;\n",
       "    }\n",
       "\n",
       "    .dataframe tbody tr th {\n",
       "        vertical-align: top;\n",
       "    }\n",
       "\n",
       "    .dataframe thead th {\n",
       "        text-align: right;\n",
       "    }\n",
       "</style>\n",
       "<table border=\"1\" class=\"dataframe\">\n",
       "  <thead>\n",
       "    <tr style=\"text-align: right;\">\n",
       "      <th></th>\n",
       "      <th>flight_no</th>\n",
       "      <th>price</th>\n",
       "      <th>destination</th>\n",
       "    </tr>\n",
       "  </thead>\n",
       "  <tbody>\n",
       "    <tr>\n",
       "      <th>first</th>\n",
       "      <td>GS1234</td>\n",
       "      <td>9600</td>\n",
       "      <td>Gaya</td>\n",
       "    </tr>\n",
       "    <tr>\n",
       "      <th>second</th>\n",
       "      <td>NR1234</td>\n",
       "      <td>9800</td>\n",
       "      <td>Bengaluru</td>\n",
       "    </tr>\n",
       "    <tr>\n",
       "      <th>third</th>\n",
       "      <td>HB1234</td>\n",
       "      <td>10000</td>\n",
       "      <td>Jodhpur</td>\n",
       "    </tr>\n",
       "    <tr>\n",
       "      <th>fourth</th>\n",
       "      <td>SR1234</td>\n",
       "      <td>8800</td>\n",
       "      <td>Bikaner</td>\n",
       "    </tr>\n",
       "  </tbody>\n",
       "</table>\n",
       "</div>"
      ]
     },
     "execution_count": 213,
     "metadata": {},
     "output_type": "execute_result"
    }
   ],
   "execution_count": 213
  }
 ],
 "metadata": {
  "kernelspec": {
   "display_name": "Python 3",
   "language": "python",
   "name": "python3"
  },
  "language_info": {
   "codemirror_mode": {
    "name": "ipython",
    "version": 2
   },
   "file_extension": ".py",
   "mimetype": "text/x-python",
   "name": "python",
   "nbconvert_exporter": "python",
   "pygments_lexer": "ipython2",
   "version": "2.7.6"
  }
 },
 "nbformat": 4,
 "nbformat_minor": 5
}
