{
 "cells": [
  {
   "metadata": {},
   "cell_type": "markdown",
   "source": [
    "# Pandas: \n",
    "#### Pandas is an opensource data analysis library written in Python. leverages the power and speed of numpy to make data analysis and preprocessing easy for data scientist. It provides rich and highly robust data operations. Numpy written in C."
   ],
   "id": "13559ea659fb88"
  },
  {
   "metadata": {},
   "cell_type": "markdown",
   "source": "## Data structure in Pandas",
   "id": "de06a0035675360b"
  },
  {
   "metadata": {},
   "cell_type": "markdown",
   "source": [
    "#### Pandas has two main data structures that make working with data easy and intuitive:\n",
    "\n",
    "### Series:\n",
    "\n",
    "- A Series is like a list of values, but each value has a label, called an \"index.\"\n",
    "- Similar to single column of data with labeled rows.\n",
    "- You can access values by their labels, making data retrieval quick and readable.\n"
   ],
   "id": "fa2fe41ef210b11a"
  },
  {
   "metadata": {
    "ExecuteTime": {
     "end_time": "2024-11-04T06:53:08.160489Z",
     "start_time": "2024-11-04T06:53:08.155758Z"
    }
   },
   "cell_type": "code",
   "source": [
    "import pandas as pd\n",
    "\n",
    "# Creating a Series\n",
    "series = pd.Series([10, 20, 30], index=['A', 'B', 'C'])\n",
    "print(type(series))\n",
    "series\n"
   ],
   "id": "f1f4ff067fcc3040",
   "outputs": [
    {
     "name": "stdout",
     "output_type": "stream",
     "text": [
      "<class 'pandas.core.series.Series'>\n"
     ]
    },
    {
     "data": {
      "text/plain": [
       "A    10\n",
       "B    20\n",
       "C    30\n",
       "dtype: int64"
      ]
     },
     "execution_count": 64,
     "metadata": {},
     "output_type": "execute_result"
    }
   ],
   "execution_count": 64
  },
  {
   "metadata": {},
   "cell_type": "markdown",
   "source": [
    "### DataFrame:\n",
    "\n",
    "- A DataFrame is like a table with rows and columns, where each column is a Series.\n",
    "- It can hold data of different types (e.g., text, numbers) in each column.\n",
    "- DataFrames have both row and column labels, which makes it easier to access and manipulate data based on these labels."
   ],
   "id": "69c3438876122cf3"
  },
  {
   "metadata": {
    "ExecuteTime": {
     "end_time": "2024-11-04T06:53:08.209723Z",
     "start_time": "2024-11-04T06:53:08.202470Z"
    }
   },
   "cell_type": "code",
   "source": [
    "import pandas as pd\n",
    "\n",
    "# Creating a DataFrame\n",
    "data = {\n",
    "    'Name': ['Alice', 'Bob', 'Charlie'],\n",
    "    'Age': [25, 30, 35],\n",
    "    'City': ['New York', 'Los Angeles', 'Chicago']\n",
    "}\n",
    "print(type(data))\n",
    "df = pd.DataFrame(data)\n",
    "df\n"
   ],
   "id": "f68e6fc0ddc7f11d",
   "outputs": [
    {
     "name": "stdout",
     "output_type": "stream",
     "text": [
      "<class 'dict'>\n"
     ]
    },
    {
     "data": {
      "text/plain": [
       "      Name  Age         City\n",
       "0    Alice   25     New York\n",
       "1      Bob   30  Los Angeles\n",
       "2  Charlie   35      Chicago"
      ],
      "text/html": [
       "<div>\n",
       "<style scoped>\n",
       "    .dataframe tbody tr th:only-of-type {\n",
       "        vertical-align: middle;\n",
       "    }\n",
       "\n",
       "    .dataframe tbody tr th {\n",
       "        vertical-align: top;\n",
       "    }\n",
       "\n",
       "    .dataframe thead th {\n",
       "        text-align: right;\n",
       "    }\n",
       "</style>\n",
       "<table border=\"1\" class=\"dataframe\">\n",
       "  <thead>\n",
       "    <tr style=\"text-align: right;\">\n",
       "      <th></th>\n",
       "      <th>Name</th>\n",
       "      <th>Age</th>\n",
       "      <th>City</th>\n",
       "    </tr>\n",
       "  </thead>\n",
       "  <tbody>\n",
       "    <tr>\n",
       "      <th>0</th>\n",
       "      <td>Alice</td>\n",
       "      <td>25</td>\n",
       "      <td>New York</td>\n",
       "    </tr>\n",
       "    <tr>\n",
       "      <th>1</th>\n",
       "      <td>Bob</td>\n",
       "      <td>30</td>\n",
       "      <td>Los Angeles</td>\n",
       "    </tr>\n",
       "    <tr>\n",
       "      <th>2</th>\n",
       "      <td>Charlie</td>\n",
       "      <td>35</td>\n",
       "      <td>Chicago</td>\n",
       "    </tr>\n",
       "  </tbody>\n",
       "</table>\n",
       "</div>"
      ]
     },
     "execution_count": 65,
     "metadata": {},
     "output_type": "execute_result"
    }
   ],
   "execution_count": 65
  },
  {
   "metadata": {
    "ExecuteTime": {
     "end_time": "2024-11-04T06:53:08.359668Z",
     "start_time": "2024-11-04T06:53:08.356098Z"
    }
   },
   "cell_type": "code",
   "source": "type(df)",
   "id": "f43ad67fae42afcc",
   "outputs": [
    {
     "data": {
      "text/plain": [
       "pandas.core.frame.DataFrame"
      ]
     },
     "execution_count": 66,
     "metadata": {},
     "output_type": "execute_result"
    }
   ],
   "execution_count": 66
  },
  {
   "metadata": {},
   "cell_type": "markdown",
   "source": "",
   "id": "922a5491f7f09614"
  },
  {
   "metadata": {
    "collapsed": true,
    "ExecuteTime": {
     "end_time": "2024-11-04T06:53:08.519592Z",
     "start_time": "2024-11-04T06:53:08.516206Z"
    }
   },
   "cell_type": "code",
   "source": "pd.__version__",
   "id": "initial_id",
   "outputs": [
    {
     "data": {
      "text/plain": [
       "'2.2.3'"
      ]
     },
     "execution_count": 67,
     "metadata": {},
     "output_type": "execute_result"
    }
   ],
   "execution_count": 67
  },
  {
   "metadata": {
    "ExecuteTime": {
     "end_time": "2024-11-04T06:53:08.634709Z",
     "start_time": "2024-11-04T06:53:08.631547Z"
    }
   },
   "cell_type": "code",
   "source": [
    "dict_new={\n",
    "    \"name\":['Gaurav','Navin Sir','Harsh Bhaiya','Sushil'],\n",
    "    \"marks\":[96,98,85,88],\n",
    "    \"city\":['Gaya','Bengaluru','Jodhpur','Bikaner']\n",
    "    \n",
    "}"
   ],
   "id": "7939361a5289c95b",
   "outputs": [],
   "execution_count": 68
  },
  {
   "metadata": {
    "ExecuteTime": {
     "end_time": "2024-11-04T06:53:08.676064Z",
     "start_time": "2024-11-04T06:53:08.673713Z"
    }
   },
   "cell_type": "code",
   "source": "dframe=pd.DataFrame(dict_new)",
   "id": "e12d9b07b8460a8c",
   "outputs": [],
   "execution_count": 69
  },
  {
   "metadata": {
    "ExecuteTime": {
     "end_time": "2024-11-04T06:53:08.719211Z",
     "start_time": "2024-11-04T06:53:08.712022Z"
    }
   },
   "cell_type": "code",
   "source": "dframe",
   "id": "22a0bff70f85cd90",
   "outputs": [
    {
     "data": {
      "text/plain": [
       "           name  marks       city\n",
       "0        Gaurav     96       Gaya\n",
       "1     Navin Sir     98  Bengaluru\n",
       "2  Harsh Bhaiya     85    Jodhpur\n",
       "3        Sushil     88    Bikaner"
      ],
      "text/html": [
       "<div>\n",
       "<style scoped>\n",
       "    .dataframe tbody tr th:only-of-type {\n",
       "        vertical-align: middle;\n",
       "    }\n",
       "\n",
       "    .dataframe tbody tr th {\n",
       "        vertical-align: top;\n",
       "    }\n",
       "\n",
       "    .dataframe thead th {\n",
       "        text-align: right;\n",
       "    }\n",
       "</style>\n",
       "<table border=\"1\" class=\"dataframe\">\n",
       "  <thead>\n",
       "    <tr style=\"text-align: right;\">\n",
       "      <th></th>\n",
       "      <th>name</th>\n",
       "      <th>marks</th>\n",
       "      <th>city</th>\n",
       "    </tr>\n",
       "  </thead>\n",
       "  <tbody>\n",
       "    <tr>\n",
       "      <th>0</th>\n",
       "      <td>Gaurav</td>\n",
       "      <td>96</td>\n",
       "      <td>Gaya</td>\n",
       "    </tr>\n",
       "    <tr>\n",
       "      <th>1</th>\n",
       "      <td>Navin Sir</td>\n",
       "      <td>98</td>\n",
       "      <td>Bengaluru</td>\n",
       "    </tr>\n",
       "    <tr>\n",
       "      <th>2</th>\n",
       "      <td>Harsh Bhaiya</td>\n",
       "      <td>85</td>\n",
       "      <td>Jodhpur</td>\n",
       "    </tr>\n",
       "    <tr>\n",
       "      <th>3</th>\n",
       "      <td>Sushil</td>\n",
       "      <td>88</td>\n",
       "      <td>Bikaner</td>\n",
       "    </tr>\n",
       "  </tbody>\n",
       "</table>\n",
       "</div>"
      ]
     },
     "execution_count": 70,
     "metadata": {},
     "output_type": "execute_result"
    }
   ],
   "execution_count": 70
  },
  {
   "metadata": {
    "ExecuteTime": {
     "end_time": "2024-11-04T06:53:08.758995Z",
     "start_time": "2024-11-04T06:53:08.753827Z"
    }
   },
   "cell_type": "code",
   "source": [
    "#we can convert this data frame to any file format. Let's say we want to convert it into .csv\n",
    "#index means row in general and column ko column hi bolte hain.\n",
    "dframe.to_csv('office.csv',index=False)"
   ],
   "id": "500feaf9e7c82e30",
   "outputs": [],
   "execution_count": 71
  },
  {
   "metadata": {
    "ExecuteTime": {
     "end_time": "2024-11-04T06:53:08.794466Z",
     "start_time": "2024-11-04T06:53:08.790334Z"
    }
   },
   "cell_type": "code",
   "source": "dframe.head(2)",
   "id": "5325db5a4b9f6961",
   "outputs": [
    {
     "data": {
      "text/plain": [
       "        name  marks       city\n",
       "0     Gaurav     96       Gaya\n",
       "1  Navin Sir     98  Bengaluru"
      ],
      "text/html": [
       "<div>\n",
       "<style scoped>\n",
       "    .dataframe tbody tr th:only-of-type {\n",
       "        vertical-align: middle;\n",
       "    }\n",
       "\n",
       "    .dataframe tbody tr th {\n",
       "        vertical-align: top;\n",
       "    }\n",
       "\n",
       "    .dataframe thead th {\n",
       "        text-align: right;\n",
       "    }\n",
       "</style>\n",
       "<table border=\"1\" class=\"dataframe\">\n",
       "  <thead>\n",
       "    <tr style=\"text-align: right;\">\n",
       "      <th></th>\n",
       "      <th>name</th>\n",
       "      <th>marks</th>\n",
       "      <th>city</th>\n",
       "    </tr>\n",
       "  </thead>\n",
       "  <tbody>\n",
       "    <tr>\n",
       "      <th>0</th>\n",
       "      <td>Gaurav</td>\n",
       "      <td>96</td>\n",
       "      <td>Gaya</td>\n",
       "    </tr>\n",
       "    <tr>\n",
       "      <th>1</th>\n",
       "      <td>Navin Sir</td>\n",
       "      <td>98</td>\n",
       "      <td>Bengaluru</td>\n",
       "    </tr>\n",
       "  </tbody>\n",
       "</table>\n",
       "</div>"
      ]
     },
     "execution_count": 72,
     "metadata": {},
     "output_type": "execute_result"
    }
   ],
   "execution_count": 72
  },
  {
   "metadata": {
    "ExecuteTime": {
     "end_time": "2024-11-04T06:53:08.865906Z",
     "start_time": "2024-11-04T06:53:08.857470Z"
    }
   },
   "cell_type": "code",
   "source": "dframe.tail(2)",
   "id": "caf1ed39f425e5c7",
   "outputs": [
    {
     "data": {
      "text/plain": [
       "           name  marks     city\n",
       "2  Harsh Bhaiya     85  Jodhpur\n",
       "3        Sushil     88  Bikaner"
      ],
      "text/html": [
       "<div>\n",
       "<style scoped>\n",
       "    .dataframe tbody tr th:only-of-type {\n",
       "        vertical-align: middle;\n",
       "    }\n",
       "\n",
       "    .dataframe tbody tr th {\n",
       "        vertical-align: top;\n",
       "    }\n",
       "\n",
       "    .dataframe thead th {\n",
       "        text-align: right;\n",
       "    }\n",
       "</style>\n",
       "<table border=\"1\" class=\"dataframe\">\n",
       "  <thead>\n",
       "    <tr style=\"text-align: right;\">\n",
       "      <th></th>\n",
       "      <th>name</th>\n",
       "      <th>marks</th>\n",
       "      <th>city</th>\n",
       "    </tr>\n",
       "  </thead>\n",
       "  <tbody>\n",
       "    <tr>\n",
       "      <th>2</th>\n",
       "      <td>Harsh Bhaiya</td>\n",
       "      <td>85</td>\n",
       "      <td>Jodhpur</td>\n",
       "    </tr>\n",
       "    <tr>\n",
       "      <th>3</th>\n",
       "      <td>Sushil</td>\n",
       "      <td>88</td>\n",
       "      <td>Bikaner</td>\n",
       "    </tr>\n",
       "  </tbody>\n",
       "</table>\n",
       "</div>"
      ]
     },
     "execution_count": 73,
     "metadata": {},
     "output_type": "execute_result"
    }
   ],
   "execution_count": 73
  },
  {
   "metadata": {
    "ExecuteTime": {
     "end_time": "2024-11-04T06:53:08.960166Z",
     "start_time": "2024-11-04T06:53:08.954102Z"
    }
   },
   "cell_type": "code",
   "source": [
    "#it does a numerical analysis\n",
    "dframe.describe()"
   ],
   "id": "8323ade3fd28b4c5",
   "outputs": [
    {
     "data": {
      "text/plain": [
       "           marks\n",
       "count   4.000000\n",
       "mean   91.750000\n",
       "std     6.238322\n",
       "min    85.000000\n",
       "25%    87.250000\n",
       "50%    92.000000\n",
       "75%    96.500000\n",
       "max    98.000000"
      ],
      "text/html": [
       "<div>\n",
       "<style scoped>\n",
       "    .dataframe tbody tr th:only-of-type {\n",
       "        vertical-align: middle;\n",
       "    }\n",
       "\n",
       "    .dataframe tbody tr th {\n",
       "        vertical-align: top;\n",
       "    }\n",
       "\n",
       "    .dataframe thead th {\n",
       "        text-align: right;\n",
       "    }\n",
       "</style>\n",
       "<table border=\"1\" class=\"dataframe\">\n",
       "  <thead>\n",
       "    <tr style=\"text-align: right;\">\n",
       "      <th></th>\n",
       "      <th>marks</th>\n",
       "    </tr>\n",
       "  </thead>\n",
       "  <tbody>\n",
       "    <tr>\n",
       "      <th>count</th>\n",
       "      <td>4.000000</td>\n",
       "    </tr>\n",
       "    <tr>\n",
       "      <th>mean</th>\n",
       "      <td>91.750000</td>\n",
       "    </tr>\n",
       "    <tr>\n",
       "      <th>std</th>\n",
       "      <td>6.238322</td>\n",
       "    </tr>\n",
       "    <tr>\n",
       "      <th>min</th>\n",
       "      <td>85.000000</td>\n",
       "    </tr>\n",
       "    <tr>\n",
       "      <th>25%</th>\n",
       "      <td>87.250000</td>\n",
       "    </tr>\n",
       "    <tr>\n",
       "      <th>50%</th>\n",
       "      <td>92.000000</td>\n",
       "    </tr>\n",
       "    <tr>\n",
       "      <th>75%</th>\n",
       "      <td>96.500000</td>\n",
       "    </tr>\n",
       "    <tr>\n",
       "      <th>max</th>\n",
       "      <td>98.000000</td>\n",
       "    </tr>\n",
       "  </tbody>\n",
       "</table>\n",
       "</div>"
      ]
     },
     "execution_count": 74,
     "metadata": {},
     "output_type": "execute_result"
    }
   ],
   "execution_count": 74
  },
  {
   "metadata": {
    "ExecuteTime": {
     "end_time": "2024-11-04T06:53:09.014778Z",
     "start_time": "2024-11-04T06:53:09.011122Z"
    }
   },
   "cell_type": "code",
   "source": [
    "#to read a csv file\n",
    "flight_details=pd.read_csv('flight_details.csv');"
   ],
   "id": "246e63f7972d64c2",
   "outputs": [],
   "execution_count": 75
  },
  {
   "metadata": {
    "ExecuteTime": {
     "end_time": "2024-11-04T06:53:09.066181Z",
     "start_time": "2024-11-04T06:53:09.061424Z"
    }
   },
   "cell_type": "code",
   "source": "flight_details",
   "id": "7f103e2f5cfcbfe3",
   "outputs": [
    {
     "data": {
      "text/plain": [
       "  flight_no  price destination\n",
       "0    GS1234   9600        Gaya\n",
       "1    NR1234   9800   Bengaluru\n",
       "2    HB1234   8500     Jodhpur\n",
       "3    SR1234   8800     Bikaner"
      ],
      "text/html": [
       "<div>\n",
       "<style scoped>\n",
       "    .dataframe tbody tr th:only-of-type {\n",
       "        vertical-align: middle;\n",
       "    }\n",
       "\n",
       "    .dataframe tbody tr th {\n",
       "        vertical-align: top;\n",
       "    }\n",
       "\n",
       "    .dataframe thead th {\n",
       "        text-align: right;\n",
       "    }\n",
       "</style>\n",
       "<table border=\"1\" class=\"dataframe\">\n",
       "  <thead>\n",
       "    <tr style=\"text-align: right;\">\n",
       "      <th></th>\n",
       "      <th>flight_no</th>\n",
       "      <th>price</th>\n",
       "      <th>destination</th>\n",
       "    </tr>\n",
       "  </thead>\n",
       "  <tbody>\n",
       "    <tr>\n",
       "      <th>0</th>\n",
       "      <td>GS1234</td>\n",
       "      <td>9600</td>\n",
       "      <td>Gaya</td>\n",
       "    </tr>\n",
       "    <tr>\n",
       "      <th>1</th>\n",
       "      <td>NR1234</td>\n",
       "      <td>9800</td>\n",
       "      <td>Bengaluru</td>\n",
       "    </tr>\n",
       "    <tr>\n",
       "      <th>2</th>\n",
       "      <td>HB1234</td>\n",
       "      <td>8500</td>\n",
       "      <td>Jodhpur</td>\n",
       "    </tr>\n",
       "    <tr>\n",
       "      <th>3</th>\n",
       "      <td>SR1234</td>\n",
       "      <td>8800</td>\n",
       "      <td>Bikaner</td>\n",
       "    </tr>\n",
       "  </tbody>\n",
       "</table>\n",
       "</div>"
      ]
     },
     "execution_count": 76,
     "metadata": {},
     "output_type": "execute_result"
    }
   ],
   "execution_count": 76
  },
  {
   "metadata": {
    "ExecuteTime": {
     "end_time": "2024-11-04T06:53:09.119656Z",
     "start_time": "2024-11-04T06:53:09.115900Z"
    }
   },
   "cell_type": "code",
   "source": "flight_details['price']",
   "id": "2f3dbb0ddfab88c3",
   "outputs": [
    {
     "data": {
      "text/plain": [
       "0    9600\n",
       "1    9800\n",
       "2    8500\n",
       "3    8800\n",
       "Name: price, dtype: int64"
      ]
     },
     "execution_count": 77,
     "metadata": {},
     "output_type": "execute_result"
    }
   ],
   "execution_count": 77
  },
  {
   "metadata": {
    "ExecuteTime": {
     "end_time": "2024-11-04T06:53:09.182937Z",
     "start_time": "2024-11-04T06:53:09.179302Z"
    }
   },
   "cell_type": "code",
   "source": "flight_details['price'][2]=10000",
   "id": "5631e2121bf447a8",
   "outputs": [
    {
     "name": "stderr",
     "output_type": "stream",
     "text": [
      "C:\\Users\\gshar\\AppData\\Local\\Temp\\ipykernel_11464\\3132491848.py:1: SettingWithCopyWarning: \n",
      "A value is trying to be set on a copy of a slice from a DataFrame\n",
      "\n",
      "See the caveats in the documentation: https://pandas.pydata.org/pandas-docs/stable/user_guide/indexing.html#returning-a-view-versus-a-copy\n",
      "  flight_details['price'][2]=10000\n"
     ]
    }
   ],
   "execution_count": 78
  },
  {
   "metadata": {
    "ExecuteTime": {
     "end_time": "2024-11-04T06:53:09.253675Z",
     "start_time": "2024-11-04T06:53:09.249021Z"
    }
   },
   "cell_type": "code",
   "source": "flight_details",
   "id": "934ccbbaff77dd1d",
   "outputs": [
    {
     "data": {
      "text/plain": [
       "  flight_no  price destination\n",
       "0    GS1234   9600        Gaya\n",
       "1    NR1234   9800   Bengaluru\n",
       "2    HB1234  10000     Jodhpur\n",
       "3    SR1234   8800     Bikaner"
      ],
      "text/html": [
       "<div>\n",
       "<style scoped>\n",
       "    .dataframe tbody tr th:only-of-type {\n",
       "        vertical-align: middle;\n",
       "    }\n",
       "\n",
       "    .dataframe tbody tr th {\n",
       "        vertical-align: top;\n",
       "    }\n",
       "\n",
       "    .dataframe thead th {\n",
       "        text-align: right;\n",
       "    }\n",
       "</style>\n",
       "<table border=\"1\" class=\"dataframe\">\n",
       "  <thead>\n",
       "    <tr style=\"text-align: right;\">\n",
       "      <th></th>\n",
       "      <th>flight_no</th>\n",
       "      <th>price</th>\n",
       "      <th>destination</th>\n",
       "    </tr>\n",
       "  </thead>\n",
       "  <tbody>\n",
       "    <tr>\n",
       "      <th>0</th>\n",
       "      <td>GS1234</td>\n",
       "      <td>9600</td>\n",
       "      <td>Gaya</td>\n",
       "    </tr>\n",
       "    <tr>\n",
       "      <th>1</th>\n",
       "      <td>NR1234</td>\n",
       "      <td>9800</td>\n",
       "      <td>Bengaluru</td>\n",
       "    </tr>\n",
       "    <tr>\n",
       "      <th>2</th>\n",
       "      <td>HB1234</td>\n",
       "      <td>10000</td>\n",
       "      <td>Jodhpur</td>\n",
       "    </tr>\n",
       "    <tr>\n",
       "      <th>3</th>\n",
       "      <td>SR1234</td>\n",
       "      <td>8800</td>\n",
       "      <td>Bikaner</td>\n",
       "    </tr>\n",
       "  </tbody>\n",
       "</table>\n",
       "</div>"
      ]
     },
     "execution_count": 79,
     "metadata": {},
     "output_type": "execute_result"
    }
   ],
   "execution_count": 79
  },
  {
   "metadata": {},
   "cell_type": "markdown",
   "source": "### to change the index of data frame",
   "id": "d71464261ff904b9"
  },
  {
   "metadata": {
    "ExecuteTime": {
     "end_time": "2024-11-04T06:53:09.332688Z",
     "start_time": "2024-11-04T06:53:09.328581Z"
    }
   },
   "cell_type": "code",
   "source": "flight_details.index=['first','second','third','fourth']",
   "id": "7a7e474136c6b8eb",
   "outputs": [],
   "execution_count": 80
  },
  {
   "metadata": {
    "ExecuteTime": {
     "end_time": "2024-11-04T06:53:09.365922Z",
     "start_time": "2024-11-04T06:53:09.360638Z"
    }
   },
   "cell_type": "code",
   "source": "flight_details",
   "id": "3d3f84a6c2b9b197",
   "outputs": [
    {
     "data": {
      "text/plain": [
       "       flight_no  price destination\n",
       "first     GS1234   9600        Gaya\n",
       "second    NR1234   9800   Bengaluru\n",
       "third     HB1234  10000     Jodhpur\n",
       "fourth    SR1234   8800     Bikaner"
      ],
      "text/html": [
       "<div>\n",
       "<style scoped>\n",
       "    .dataframe tbody tr th:only-of-type {\n",
       "        vertical-align: middle;\n",
       "    }\n",
       "\n",
       "    .dataframe tbody tr th {\n",
       "        vertical-align: top;\n",
       "    }\n",
       "\n",
       "    .dataframe thead th {\n",
       "        text-align: right;\n",
       "    }\n",
       "</style>\n",
       "<table border=\"1\" class=\"dataframe\">\n",
       "  <thead>\n",
       "    <tr style=\"text-align: right;\">\n",
       "      <th></th>\n",
       "      <th>flight_no</th>\n",
       "      <th>price</th>\n",
       "      <th>destination</th>\n",
       "    </tr>\n",
       "  </thead>\n",
       "  <tbody>\n",
       "    <tr>\n",
       "      <th>first</th>\n",
       "      <td>GS1234</td>\n",
       "      <td>9600</td>\n",
       "      <td>Gaya</td>\n",
       "    </tr>\n",
       "    <tr>\n",
       "      <th>second</th>\n",
       "      <td>NR1234</td>\n",
       "      <td>9800</td>\n",
       "      <td>Bengaluru</td>\n",
       "    </tr>\n",
       "    <tr>\n",
       "      <th>third</th>\n",
       "      <td>HB1234</td>\n",
       "      <td>10000</td>\n",
       "      <td>Jodhpur</td>\n",
       "    </tr>\n",
       "    <tr>\n",
       "      <th>fourth</th>\n",
       "      <td>SR1234</td>\n",
       "      <td>8800</td>\n",
       "      <td>Bikaner</td>\n",
       "    </tr>\n",
       "  </tbody>\n",
       "</table>\n",
       "</div>"
      ]
     },
     "execution_count": 81,
     "metadata": {},
     "output_type": "execute_result"
    }
   ],
   "execution_count": 81
  }
 ],
 "metadata": {
  "kernelspec": {
   "display_name": "Python 3",
   "language": "python",
   "name": "python3"
  },
  "language_info": {
   "codemirror_mode": {
    "name": "ipython",
    "version": 2
   },
   "file_extension": ".py",
   "mimetype": "text/x-python",
   "name": "python",
   "nbconvert_exporter": "python",
   "pygments_lexer": "ipython2",
   "version": "2.7.6"
  }
 },
 "nbformat": 4,
 "nbformat_minor": 5
}
