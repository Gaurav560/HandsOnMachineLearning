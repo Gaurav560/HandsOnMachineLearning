{
 "cells": [
  {
   "cell_type": "code",
   "id": "initial_id",
   "metadata": {
    "collapsed": true,
    "ExecuteTime": {
     "end_time": "2024-10-30T09:29:15.925060Z",
     "start_time": "2024-10-30T09:29:15.922344Z"
    }
   },
   "source": [
    "import pandas as pd\n",
    "pd.__version__"
   ],
   "outputs": [
    {
     "data": {
      "text/plain": [
       "'2.2.3'"
      ]
     },
     "execution_count": 20,
     "metadata": {},
     "output_type": "execute_result"
    }
   ],
   "execution_count": 20
  },
  {
   "metadata": {
    "ExecuteTime": {
     "end_time": "2024-10-30T09:29:15.953617Z",
     "start_time": "2024-10-30T09:29:15.949679Z"
    }
   },
   "cell_type": "code",
   "source": [
    "dict_new={\n",
    "    \"name\":['Gaurav','Navin Sir','Harsh Bhaiya','Sushil'],\n",
    "    \"marks\":[96,98,85,88],\n",
    "    \"city\":['Gaya','Bengaluru','Jodhpur','Bikaner']\n",
    "    \n",
    "}"
   ],
   "id": "7939361a5289c95b",
   "outputs": [],
   "execution_count": 21
  },
  {
   "metadata": {
    "ExecuteTime": {
     "end_time": "2024-10-30T09:29:16.055206Z",
     "start_time": "2024-10-30T09:29:16.051348Z"
    }
   },
   "cell_type": "code",
   "source": "dframe=pd.DataFrame(dict_new)",
   "id": "e12d9b07b8460a8c",
   "outputs": [],
   "execution_count": 22
  },
  {
   "metadata": {
    "ExecuteTime": {
     "end_time": "2024-10-30T09:29:16.071895Z",
     "start_time": "2024-10-30T09:29:16.065970Z"
    }
   },
   "cell_type": "code",
   "source": "dframe",
   "id": "22a0bff70f85cd90",
   "outputs": [
    {
     "data": {
      "text/plain": [
       "           name  marks       city\n",
       "0        Gaurav     96       Gaya\n",
       "1     Navin Sir     98  Bengaluru\n",
       "2  Harsh Bhaiya     85    Jodhpur\n",
       "3        Sushil     88    Bikaner"
      ],
      "text/html": [
       "<div>\n",
       "<style scoped>\n",
       "    .dataframe tbody tr th:only-of-type {\n",
       "        vertical-align: middle;\n",
       "    }\n",
       "\n",
       "    .dataframe tbody tr th {\n",
       "        vertical-align: top;\n",
       "    }\n",
       "\n",
       "    .dataframe thead th {\n",
       "        text-align: right;\n",
       "    }\n",
       "</style>\n",
       "<table border=\"1\" class=\"dataframe\">\n",
       "  <thead>\n",
       "    <tr style=\"text-align: right;\">\n",
       "      <th></th>\n",
       "      <th>name</th>\n",
       "      <th>marks</th>\n",
       "      <th>city</th>\n",
       "    </tr>\n",
       "  </thead>\n",
       "  <tbody>\n",
       "    <tr>\n",
       "      <th>0</th>\n",
       "      <td>Gaurav</td>\n",
       "      <td>96</td>\n",
       "      <td>Gaya</td>\n",
       "    </tr>\n",
       "    <tr>\n",
       "      <th>1</th>\n",
       "      <td>Navin Sir</td>\n",
       "      <td>98</td>\n",
       "      <td>Bengaluru</td>\n",
       "    </tr>\n",
       "    <tr>\n",
       "      <th>2</th>\n",
       "      <td>Harsh Bhaiya</td>\n",
       "      <td>85</td>\n",
       "      <td>Jodhpur</td>\n",
       "    </tr>\n",
       "    <tr>\n",
       "      <th>3</th>\n",
       "      <td>Sushil</td>\n",
       "      <td>88</td>\n",
       "      <td>Bikaner</td>\n",
       "    </tr>\n",
       "  </tbody>\n",
       "</table>\n",
       "</div>"
      ]
     },
     "execution_count": 23,
     "metadata": {},
     "output_type": "execute_result"
    }
   ],
   "execution_count": 23
  },
  {
   "metadata": {
    "ExecuteTime": {
     "end_time": "2024-10-30T09:29:16.114175Z",
     "start_time": "2024-10-30T09:29:16.106965Z"
    }
   },
   "cell_type": "code",
   "source": [
    "#we can convert this data frame to any file format. Let's say we want to convert it into .csv\n",
    "#index means row in general and column ko column hi bolte hain.\n",
    "dframe.to_csv('office.csv',index=False)"
   ],
   "id": "500feaf9e7c82e30",
   "outputs": [],
   "execution_count": 24
  },
  {
   "metadata": {
    "ExecuteTime": {
     "end_time": "2024-10-30T09:29:16.162240Z",
     "start_time": "2024-10-30T09:29:16.157118Z"
    }
   },
   "cell_type": "code",
   "source": "dframe.head(2)",
   "id": "5325db5a4b9f6961",
   "outputs": [
    {
     "data": {
      "text/plain": [
       "        name  marks       city\n",
       "0     Gaurav     96       Gaya\n",
       "1  Navin Sir     98  Bengaluru"
      ],
      "text/html": [
       "<div>\n",
       "<style scoped>\n",
       "    .dataframe tbody tr th:only-of-type {\n",
       "        vertical-align: middle;\n",
       "    }\n",
       "\n",
       "    .dataframe tbody tr th {\n",
       "        vertical-align: top;\n",
       "    }\n",
       "\n",
       "    .dataframe thead th {\n",
       "        text-align: right;\n",
       "    }\n",
       "</style>\n",
       "<table border=\"1\" class=\"dataframe\">\n",
       "  <thead>\n",
       "    <tr style=\"text-align: right;\">\n",
       "      <th></th>\n",
       "      <th>name</th>\n",
       "      <th>marks</th>\n",
       "      <th>city</th>\n",
       "    </tr>\n",
       "  </thead>\n",
       "  <tbody>\n",
       "    <tr>\n",
       "      <th>0</th>\n",
       "      <td>Gaurav</td>\n",
       "      <td>96</td>\n",
       "      <td>Gaya</td>\n",
       "    </tr>\n",
       "    <tr>\n",
       "      <th>1</th>\n",
       "      <td>Navin Sir</td>\n",
       "      <td>98</td>\n",
       "      <td>Bengaluru</td>\n",
       "    </tr>\n",
       "  </tbody>\n",
       "</table>\n",
       "</div>"
      ]
     },
     "execution_count": 25,
     "metadata": {},
     "output_type": "execute_result"
    }
   ],
   "execution_count": 25
  },
  {
   "metadata": {
    "ExecuteTime": {
     "end_time": "2024-10-30T09:29:16.248064Z",
     "start_time": "2024-10-30T09:29:16.242435Z"
    }
   },
   "cell_type": "code",
   "source": "dframe.tail(2)",
   "id": "caf1ed39f425e5c7",
   "outputs": [
    {
     "data": {
      "text/plain": [
       "           name  marks     city\n",
       "2  Harsh Bhaiya     85  Jodhpur\n",
       "3        Sushil     88  Bikaner"
      ],
      "text/html": [
       "<div>\n",
       "<style scoped>\n",
       "    .dataframe tbody tr th:only-of-type {\n",
       "        vertical-align: middle;\n",
       "    }\n",
       "\n",
       "    .dataframe tbody tr th {\n",
       "        vertical-align: top;\n",
       "    }\n",
       "\n",
       "    .dataframe thead th {\n",
       "        text-align: right;\n",
       "    }\n",
       "</style>\n",
       "<table border=\"1\" class=\"dataframe\">\n",
       "  <thead>\n",
       "    <tr style=\"text-align: right;\">\n",
       "      <th></th>\n",
       "      <th>name</th>\n",
       "      <th>marks</th>\n",
       "      <th>city</th>\n",
       "    </tr>\n",
       "  </thead>\n",
       "  <tbody>\n",
       "    <tr>\n",
       "      <th>2</th>\n",
       "      <td>Harsh Bhaiya</td>\n",
       "      <td>85</td>\n",
       "      <td>Jodhpur</td>\n",
       "    </tr>\n",
       "    <tr>\n",
       "      <th>3</th>\n",
       "      <td>Sushil</td>\n",
       "      <td>88</td>\n",
       "      <td>Bikaner</td>\n",
       "    </tr>\n",
       "  </tbody>\n",
       "</table>\n",
       "</div>"
      ]
     },
     "execution_count": 26,
     "metadata": {},
     "output_type": "execute_result"
    }
   ],
   "execution_count": 26
  },
  {
   "metadata": {
    "ExecuteTime": {
     "end_time": "2024-10-30T09:29:16.353960Z",
     "start_time": "2024-10-30T09:29:16.347215Z"
    }
   },
   "cell_type": "code",
   "source": [
    "#it does a numerical analysis\n",
    "dframe.describe()"
   ],
   "id": "8323ade3fd28b4c5",
   "outputs": [
    {
     "data": {
      "text/plain": [
       "           marks\n",
       "count   4.000000\n",
       "mean   91.750000\n",
       "std     6.238322\n",
       "min    85.000000\n",
       "25%    87.250000\n",
       "50%    92.000000\n",
       "75%    96.500000\n",
       "max    98.000000"
      ],
      "text/html": [
       "<div>\n",
       "<style scoped>\n",
       "    .dataframe tbody tr th:only-of-type {\n",
       "        vertical-align: middle;\n",
       "    }\n",
       "\n",
       "    .dataframe tbody tr th {\n",
       "        vertical-align: top;\n",
       "    }\n",
       "\n",
       "    .dataframe thead th {\n",
       "        text-align: right;\n",
       "    }\n",
       "</style>\n",
       "<table border=\"1\" class=\"dataframe\">\n",
       "  <thead>\n",
       "    <tr style=\"text-align: right;\">\n",
       "      <th></th>\n",
       "      <th>marks</th>\n",
       "    </tr>\n",
       "  </thead>\n",
       "  <tbody>\n",
       "    <tr>\n",
       "      <th>count</th>\n",
       "      <td>4.000000</td>\n",
       "    </tr>\n",
       "    <tr>\n",
       "      <th>mean</th>\n",
       "      <td>91.750000</td>\n",
       "    </tr>\n",
       "    <tr>\n",
       "      <th>std</th>\n",
       "      <td>6.238322</td>\n",
       "    </tr>\n",
       "    <tr>\n",
       "      <th>min</th>\n",
       "      <td>85.000000</td>\n",
       "    </tr>\n",
       "    <tr>\n",
       "      <th>25%</th>\n",
       "      <td>87.250000</td>\n",
       "    </tr>\n",
       "    <tr>\n",
       "      <th>50%</th>\n",
       "      <td>92.000000</td>\n",
       "    </tr>\n",
       "    <tr>\n",
       "      <th>75%</th>\n",
       "      <td>96.500000</td>\n",
       "    </tr>\n",
       "    <tr>\n",
       "      <th>max</th>\n",
       "      <td>98.000000</td>\n",
       "    </tr>\n",
       "  </tbody>\n",
       "</table>\n",
       "</div>"
      ]
     },
     "execution_count": 27,
     "metadata": {},
     "output_type": "execute_result"
    }
   ],
   "execution_count": 27
  },
  {
   "metadata": {
    "ExecuteTime": {
     "end_time": "2024-10-30T09:30:00.970134Z",
     "start_time": "2024-10-30T09:30:00.965988Z"
    }
   },
   "cell_type": "code",
   "source": [
    "#to read a csv file\n",
    "flight_details=pd.read_csv('flight_details.csv');"
   ],
   "id": "246e63f7972d64c2",
   "outputs": [],
   "execution_count": 30
  },
  {
   "metadata": {
    "ExecuteTime": {
     "end_time": "2024-10-30T09:30:04.101727Z",
     "start_time": "2024-10-30T09:30:04.096875Z"
    }
   },
   "cell_type": "code",
   "source": "flight_details",
   "id": "7f103e2f5cfcbfe3",
   "outputs": [
    {
     "data": {
      "text/plain": [
       "  flight_no  price destination\n",
       "0    GS1234   9600        Gaya\n",
       "1    NR1234   9800   Bengaluru\n",
       "2    HB1234   8500     Jodhpur\n",
       "3    SR1234   8800     Bikaner"
      ],
      "text/html": [
       "<div>\n",
       "<style scoped>\n",
       "    .dataframe tbody tr th:only-of-type {\n",
       "        vertical-align: middle;\n",
       "    }\n",
       "\n",
       "    .dataframe tbody tr th {\n",
       "        vertical-align: top;\n",
       "    }\n",
       "\n",
       "    .dataframe thead th {\n",
       "        text-align: right;\n",
       "    }\n",
       "</style>\n",
       "<table border=\"1\" class=\"dataframe\">\n",
       "  <thead>\n",
       "    <tr style=\"text-align: right;\">\n",
       "      <th></th>\n",
       "      <th>flight_no</th>\n",
       "      <th>price</th>\n",
       "      <th>destination</th>\n",
       "    </tr>\n",
       "  </thead>\n",
       "  <tbody>\n",
       "    <tr>\n",
       "      <th>0</th>\n",
       "      <td>GS1234</td>\n",
       "      <td>9600</td>\n",
       "      <td>Gaya</td>\n",
       "    </tr>\n",
       "    <tr>\n",
       "      <th>1</th>\n",
       "      <td>NR1234</td>\n",
       "      <td>9800</td>\n",
       "      <td>Bengaluru</td>\n",
       "    </tr>\n",
       "    <tr>\n",
       "      <th>2</th>\n",
       "      <td>HB1234</td>\n",
       "      <td>8500</td>\n",
       "      <td>Jodhpur</td>\n",
       "    </tr>\n",
       "    <tr>\n",
       "      <th>3</th>\n",
       "      <td>SR1234</td>\n",
       "      <td>8800</td>\n",
       "      <td>Bikaner</td>\n",
       "    </tr>\n",
       "  </tbody>\n",
       "</table>\n",
       "</div>"
      ]
     },
     "execution_count": 31,
     "metadata": {},
     "output_type": "execute_result"
    }
   ],
   "execution_count": 31
  },
  {
   "metadata": {
    "ExecuteTime": {
     "end_time": "2024-10-30T09:31:56.936957Z",
     "start_time": "2024-10-30T09:31:56.929547Z"
    }
   },
   "cell_type": "code",
   "source": "flight_details['price']",
   "id": "2f3dbb0ddfab88c3",
   "outputs": [
    {
     "data": {
      "text/plain": [
       "0    9600\n",
       "1    9800\n",
       "2    8500\n",
       "3    8800\n",
       "Name: price, dtype: int64"
      ]
     },
     "execution_count": 35,
     "metadata": {},
     "output_type": "execute_result"
    }
   ],
   "execution_count": 35
  },
  {
   "metadata": {
    "ExecuteTime": {
     "end_time": "2024-10-30T09:33:12.282640Z",
     "start_time": "2024-10-30T09:33:12.279339Z"
    }
   },
   "cell_type": "code",
   "source": "flight_details['price'][2]=10000",
   "id": "5631e2121bf447a8",
   "outputs": [
    {
     "name": "stderr",
     "output_type": "stream",
     "text": [
      "C:\\Users\\gshar\\AppData\\Local\\Temp\\ipykernel_19748\\3132491848.py:1: SettingWithCopyWarning: \n",
      "A value is trying to be set on a copy of a slice from a DataFrame\n",
      "\n",
      "See the caveats in the documentation: https://pandas.pydata.org/pandas-docs/stable/user_guide/indexing.html#returning-a-view-versus-a-copy\n",
      "  flight_details['price'][2]=10000\n"
     ]
    }
   ],
   "execution_count": 36
  },
  {
   "metadata": {
    "ExecuteTime": {
     "end_time": "2024-10-30T09:33:17.380467Z",
     "start_time": "2024-10-30T09:33:17.375069Z"
    }
   },
   "cell_type": "code",
   "source": "flight_details",
   "id": "934ccbbaff77dd1d",
   "outputs": [
    {
     "data": {
      "text/plain": [
       "  flight_no  price destination\n",
       "0    GS1234   9600        Gaya\n",
       "1    NR1234   9800   Bengaluru\n",
       "2    HB1234  10000     Jodhpur\n",
       "3    SR1234   8800     Bikaner"
      ],
      "text/html": [
       "<div>\n",
       "<style scoped>\n",
       "    .dataframe tbody tr th:only-of-type {\n",
       "        vertical-align: middle;\n",
       "    }\n",
       "\n",
       "    .dataframe tbody tr th {\n",
       "        vertical-align: top;\n",
       "    }\n",
       "\n",
       "    .dataframe thead th {\n",
       "        text-align: right;\n",
       "    }\n",
       "</style>\n",
       "<table border=\"1\" class=\"dataframe\">\n",
       "  <thead>\n",
       "    <tr style=\"text-align: right;\">\n",
       "      <th></th>\n",
       "      <th>flight_no</th>\n",
       "      <th>price</th>\n",
       "      <th>destination</th>\n",
       "    </tr>\n",
       "  </thead>\n",
       "  <tbody>\n",
       "    <tr>\n",
       "      <th>0</th>\n",
       "      <td>GS1234</td>\n",
       "      <td>9600</td>\n",
       "      <td>Gaya</td>\n",
       "    </tr>\n",
       "    <tr>\n",
       "      <th>1</th>\n",
       "      <td>NR1234</td>\n",
       "      <td>9800</td>\n",
       "      <td>Bengaluru</td>\n",
       "    </tr>\n",
       "    <tr>\n",
       "      <th>2</th>\n",
       "      <td>HB1234</td>\n",
       "      <td>10000</td>\n",
       "      <td>Jodhpur</td>\n",
       "    </tr>\n",
       "    <tr>\n",
       "      <th>3</th>\n",
       "      <td>SR1234</td>\n",
       "      <td>8800</td>\n",
       "      <td>Bikaner</td>\n",
       "    </tr>\n",
       "  </tbody>\n",
       "</table>\n",
       "</div>"
      ]
     },
     "execution_count": 37,
     "metadata": {},
     "output_type": "execute_result"
    }
   ],
   "execution_count": 37
  },
  {
   "metadata": {},
   "cell_type": "code",
   "outputs": [],
   "execution_count": null,
   "source": "",
   "id": "37c6df2c7cafe33f"
  }
 ],
 "metadata": {
  "kernelspec": {
   "display_name": "Python 3",
   "language": "python",
   "name": "python3"
  },
  "language_info": {
   "codemirror_mode": {
    "name": "ipython",
    "version": 2
   },
   "file_extension": ".py",
   "mimetype": "text/x-python",
   "name": "python",
   "nbconvert_exporter": "python",
   "pygments_lexer": "ipython2",
   "version": "2.7.6"
  }
 },
 "nbformat": 4,
 "nbformat_minor": 5
}
