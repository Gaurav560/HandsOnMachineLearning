{
 "cells": [
  {
   "metadata": {},
   "cell_type": "markdown",
   "source": "#  Intro to Numpy-Video1",
   "id": "8b2b52f590776ef6"
  },
  {
   "metadata": {},
   "cell_type": "markdown",
   "source": "## Benefits of using NumPy over standard Python lists",
   "id": "777eab03f07ca6a8"
  },
  {
   "metadata": {},
   "cell_type": "markdown",
   "source": [
    "####  NumPy Arrays use C-style static arrays, which means they are more memory efficient. In a NumPy array, the data is stored directly in contiguous blocks of memory, not references to objects. This is why NumPy arrays are faster for numerical operations: they avoid the overhead of handling references and can leverage low-level optimizations.\n",
    "\n",
    "#### In contrast, Python lists are dynamic arrays. Every time the list grows beyond its current capacity, Python doubles the size of the array to accommodate more elements. Python lists are referential arrays, meaning they store references (or pointers) to the actual data, not the data itself. When you access an item in a Python list, you first retrieve the reference (or address) of the data and then access the actual data."
   ],
   "id": "45630c21cffbd99e"
  },
  {
   "metadata": {},
   "cell_type": "markdown",
   "source": "## Numpy Array vs Python List (Speed)",
   "id": "52a2c8a245866823"
  },
  {
   "metadata": {
    "ExecuteTime": {
     "end_time": "2024-10-27T14:16:43.711824Z",
     "start_time": "2024-10-27T14:16:09.197092Z"
    }
   },
   "cell_type": "code",
   "source": [
    "#running the code using python list\n",
    "a=[i for i in range(100000000)]\n",
    "b=[i for i in range(100000000,200000000)]\n",
    "c=[]\n",
    "import time\n",
    "start = time.time()\n",
    "for i in range (len(a)):\n",
    "    c.append(a[i]+b[i])\n",
    "print(time.time()-start)"
   ],
   "id": "a5937644b8aea1a5",
   "outputs": [
    {
     "name": "stdout",
     "output_type": "stream",
     "text": [
      "25.306196928024292\n"
     ]
    }
   ],
   "execution_count": 141
  },
  {
   "metadata": {
    "ExecuteTime": {
     "end_time": "2024-10-27T14:16:50.795654Z",
     "start_time": "2024-10-27T14:16:44.003324Z"
    }
   },
   "cell_type": "code",
   "source": [
    "#doing the same work with numpy array\n",
    "\n",
    "import numpy as np\n",
    "a=np.arange(100000000)\n",
    "b=np.arange(100000000,200000000)\n",
    "start=time.time()\n",
    "c=a+b\n",
    "print(time.time()-start)"
   ],
   "id": "1440267af6539bb6",
   "outputs": [
    {
     "name": "stdout",
     "output_type": "stream",
     "text": [
      "2.259840965270996\n"
     ]
    }
   ],
   "execution_count": 142
  },
  {
   "metadata": {},
   "cell_type": "markdown",
   "source": "##  Numpy Array vs Python List (Memory)",
   "id": "cb2b59c7d7795181"
  },
  {
   "metadata": {
    "ExecuteTime": {
     "end_time": "2024-10-27T14:16:51.401569Z",
     "start_time": "2024-10-27T14:16:50.852065Z"
    }
   },
   "cell_type": "code",
   "source": [
    "# in python lists\n",
    "a=[i for i in range(10000000)]\n",
    "import sys\n",
    "sys.getsizeof(a)\n",
    "#gives size in bytes"
   ],
   "id": "fce05adfb941259f",
   "outputs": [
    {
     "data": {
      "text/plain": [
       "89095160"
      ]
     },
     "execution_count": 143,
     "metadata": {},
     "output_type": "execute_result"
    }
   ],
   "execution_count": 143
  },
  {
   "metadata": {
    "ExecuteTime": {
     "end_time": "2024-10-27T14:16:51.578913Z",
     "start_time": "2024-10-27T14:16:51.445541Z"
    }
   },
   "cell_type": "code",
   "source": [
    "#in numpy arrays(we can reduce the total size by changing the dtype thus it will take less memory)\n",
    "a= np.arange(10000000,dtype=np.int32)\n",
    "sys.getsizeof(a)"
   ],
   "id": "70e34429323985f9",
   "outputs": [
    {
     "data": {
      "text/plain": [
       "40000112"
      ]
     },
     "execution_count": 144,
     "metadata": {},
     "output_type": "execute_result"
    }
   ],
   "execution_count": 144
  },
  {
   "metadata": {},
   "cell_type": "markdown",
   "source": [
    "# Numpy Array vs Python Array Comparison(Speed)\n",
    "### Note: Python does not have built-in support for Arrays, but Python Lists can be used instead.\n",
    "\n",
    "#### Python includes an array module that provides a more efficient way to store homogeneous data types (all elements of the same type). However, it is less commonly used than lists.\n",
    "#### Note: List can store heterogeneous data\n",
    "\n",
    "#### In the below example, you can see that numpy array speed is almost 65 times than python array. this is not concrete but a rough estimation of how speed of numpy array is much more significant as compared with python array.\n"
   ],
   "id": "33c23623a6411440"
  },
  {
   "metadata": {
    "ExecuteTime": {
     "end_time": "2024-10-27T14:16:51.619805Z",
     "start_time": "2024-10-27T14:16:51.613814Z"
    }
   },
   "cell_type": "code",
   "source": "from array import array",
   "id": "1f750b2b544b2104",
   "outputs": [],
   "execution_count": 145
  },
  {
   "metadata": {
    "ExecuteTime": {
     "end_time": "2024-10-27T14:16:52.464916Z",
     "start_time": "2024-10-27T14:16:51.648615Z"
    }
   },
   "cell_type": "code",
   "source": [
    "# Define the size of the array\n",
    "size = 10_000_000\n",
    "\n",
    "# Creating a Python array with integers\n",
    "python_array = array('i', range(size))\n",
    "\n",
    "# Creating a NumPy array with integers\n",
    "numpy_array = np.arange(size)\n"
   ],
   "id": "d7dfbeb80b9bd1fc",
   "outputs": [],
   "execution_count": 146
  },
  {
   "metadata": {
    "ExecuteTime": {
     "end_time": "2024-10-27T14:16:52.485254Z",
     "start_time": "2024-10-27T14:16:52.476508Z"
    }
   },
   "cell_type": "code",
   "source": [
    "# Function to multiply each element by 2 in a Python array\n",
    "def multiply_python_array(arr):\n",
    "    for i in range(len(arr)):\n",
    "        arr[i] = arr[i] * 2\n",
    "\n",
    "# Function to multiply each element by 2 in a NumPy array\n",
    "def multiply_numpy_array(arr):\n",
    "    arr *= 2"
   ],
   "id": "68d9c0b9b85242b2",
   "outputs": [],
   "execution_count": 147
  },
  {
   "metadata": {
    "ExecuteTime": {
     "end_time": "2024-10-27T14:16:53.759627Z",
     "start_time": "2024-10-27T14:16:52.536097Z"
    }
   },
   "cell_type": "code",
   "source": [
    "# Measuring time for Python array\n",
    "start_time = time.time()\n",
    "multiply_python_array(python_array)\n",
    "python_time = time.time() - start_time\n",
    "f\"time consumed by python array: {python_time:.6f}\"\n"
   ],
   "id": "1c6750a8ec0c5db1",
   "outputs": [
    {
     "data": {
      "text/plain": [
       "'time consumed by python array: 1.218110'"
      ]
     },
     "execution_count": 148,
     "metadata": {},
     "output_type": "execute_result"
    }
   ],
   "execution_count": 148
  },
  {
   "metadata": {
    "ExecuteTime": {
     "end_time": "2024-10-27T14:16:53.972213Z",
     "start_time": "2024-10-27T14:16:53.956079Z"
    }
   },
   "cell_type": "code",
   "source": [
    "# Measuring time for NumPy array\n",
    "start_time = time.time()\n",
    "multiply_numpy_array(numpy_array)\n",
    "numpy_time = time.time() - start_time\n",
    "f\"time consumed by numpy array: {numpy_time:.6f}\"\n"
   ],
   "id": "d9fb4d0530a4364e",
   "outputs": [
    {
     "data": {
      "text/plain": [
       "'time consumed by numpy array: 0.011012'"
      ]
     },
     "execution_count": 149,
     "metadata": {},
     "output_type": "execute_result"
    }
   ],
   "execution_count": 149
  },
  {
   "metadata": {},
   "cell_type": "markdown",
   "source": [
    "# Numpy vs Python Array Module Memory Consumption Comparison\n",
    "\n",
    "#### The primary advantage of NumPy over the Python array module is functionality, not basic memory efficiency as no such significant differences can be observed But in some cases it can vary but that is not the significant point here. :\n",
    "### Functionalities: \n",
    "#### NumPy supports multi-dimensional arrays (matrices, tensors).\n",
    "#### It offers a vast array of operations and mathematical functions optimized for performance.\n",
    "#### It supports different data types and broadcasting capabilities that the basic array module does not"
   ],
   "id": "3895a3ee9d215836"
  },
  {
   "metadata": {
    "ExecuteTime": {
     "end_time": "2024-10-27T14:16:54.054616Z",
     "start_time": "2024-10-27T14:16:54.048028Z"
    }
   },
   "cell_type": "code",
   "source": [
    "# Getting the memory usage of the Python array\n",
    "python_array_memory = sys.getsizeof(python_array) + (python_array.itemsize * len(python_array))\n",
    "f\"Memory usage for Python array: {python_array_memory / (1024 ** 2):.2f} MB\"\n"
   ],
   "id": "6d9dff960e46714d",
   "outputs": [
    {
     "data": {
      "text/plain": [
       "'Memory usage for Python array: 77.22 MB'"
      ]
     },
     "execution_count": 150,
     "metadata": {},
     "output_type": "execute_result"
    }
   ],
   "execution_count": 150
  },
  {
   "metadata": {
    "ExecuteTime": {
     "end_time": "2024-10-27T14:16:54.145805Z",
     "start_time": "2024-10-27T14:16:54.140202Z"
    }
   },
   "cell_type": "code",
   "source": [
    "# Getting the memory usage of the NumPy array\n",
    "numpy_array_memory = numpy_array.nbytes\n",
    "f\"Memory usage for NumPy array: {numpy_array_memory / (1024 ** 2):.2f} MB\"\n"
   ],
   "id": "c0a5e82e63f7644a",
   "outputs": [
    {
     "data": {
      "text/plain": [
       "'Memory usage for NumPy array: 76.29 MB'"
      ]
     },
     "execution_count": 151,
     "metadata": {},
     "output_type": "execute_result"
    }
   ],
   "execution_count": 151
  },
  {
   "metadata": {},
   "cell_type": "markdown",
   "source": [
    "# Numpy Creation Methods\n",
    "\n",
    "1. From a list using `np.array()`\n",
    "2. Using `np.arange()`\n",
    "3. Using `np.zeros()` or `np.ones()`\n",
    "4. Using `np.linspace()`\n",
    "5. Using `np.random.rand()`\n",
    "\n",
    "```python\n",
    "import numpy as np\n",
    "arr = np.array([1, 2, 3, 4])"
   ],
   "id": "6135440d18485be7"
  },
  {
   "metadata": {},
   "cell_type": "markdown",
   "source": "## 1. Creating a numpy array: Conversion from other python structures",
   "id": "82ca883ac78a16ee"
  },
  {
   "metadata": {
    "ExecuteTime": {
     "end_time": "2024-10-27T14:16:54.242810Z",
     "start_time": "2024-10-27T14:16:54.232301Z"
    }
   },
   "cell_type": "code",
   "source": [
    "import numpy as np   \n",
    "numpy_array=np.array([[1,2,4],[2,4,2],[9,8,6]])\n",
    "numpy_array"
   ],
   "id": "80a286114edd6a5a",
   "outputs": [
    {
     "data": {
      "text/plain": [
       "array([[1, 2, 4],\n",
       "       [2, 4, 2],\n",
       "       [9, 8, 6]])"
      ]
     },
     "execution_count": 152,
     "metadata": {},
     "output_type": "execute_result"
    }
   ],
   "execution_count": 152
  },
  {
   "metadata": {},
   "cell_type": "markdown",
   "source": "# Numpy Array Attributes",
   "id": "a3752cf94ef170f0"
  },
  {
   "metadata": {
    "ExecuteTime": {
     "end_time": "2024-10-27T14:16:54.364690Z",
     "start_time": "2024-10-27T14:16:54.357884Z"
    }
   },
   "cell_type": "code",
   "source": "numpy_array.dtype",
   "id": "b47ad1a2157cab8d",
   "outputs": [
    {
     "data": {
      "text/plain": [
       "dtype('int64')"
      ]
     },
     "execution_count": 153,
     "metadata": {},
     "output_type": "execute_result"
    }
   ],
   "execution_count": 153
  },
  {
   "metadata": {
    "ExecuteTime": {
     "end_time": "2024-10-27T14:16:54.388216Z",
     "start_time": "2024-10-27T14:16:54.383759Z"
    }
   },
   "cell_type": "code",
   "source": "numpy_array.shape",
   "id": "392eb0a4b747cc03",
   "outputs": [
    {
     "data": {
      "text/plain": [
       "(3, 3)"
      ]
     },
     "execution_count": 154,
     "metadata": {},
     "output_type": "execute_result"
    }
   ],
   "execution_count": 154
  },
  {
   "metadata": {
    "ExecuteTime": {
     "end_time": "2024-10-27T14:16:54.605240Z",
     "start_time": "2024-10-27T14:16:54.600345Z"
    }
   },
   "cell_type": "code",
   "source": "numpy_array.size",
   "id": "51718ffe6e137924",
   "outputs": [
    {
     "data": {
      "text/plain": [
       "9"
      ]
     },
     "execution_count": 155,
     "metadata": {},
     "output_type": "execute_result"
    }
   ],
   "execution_count": 155
  },
  {
   "metadata": {
    "ExecuteTime": {
     "end_time": "2024-10-27T14:16:54.829352Z",
     "start_time": "2024-10-27T14:16:54.824108Z"
    }
   },
   "cell_type": "code",
   "source": "numpy_array.ndim",
   "id": "11b85c5abb23843f",
   "outputs": [
    {
     "data": {
      "text/plain": [
       "2"
      ]
     },
     "execution_count": 156,
     "metadata": {},
     "output_type": "execute_result"
    }
   ],
   "execution_count": 156
  },
  {
   "metadata": {},
   "cell_type": "markdown",
   "source": "## 2. Creating a numpy array- through np.zeros and np.ones",
   "id": "f0183de81713ad04"
  },
  {
   "metadata": {
    "ExecuteTime": {
     "end_time": "2024-10-27T14:16:54.975878Z",
     "start_time": "2024-10-27T14:16:54.972885Z"
    }
   },
   "cell_type": "code",
   "source": "zeros=np.zeros((2,3))",
   "id": "693b7d1b08b6834c",
   "outputs": [],
   "execution_count": 157
  },
  {
   "metadata": {
    "ExecuteTime": {
     "end_time": "2024-10-27T14:16:55.042571Z",
     "start_time": "2024-10-27T14:16:55.037339Z"
    }
   },
   "cell_type": "code",
   "source": "zeros",
   "id": "1ab7d8b85da17a44",
   "outputs": [
    {
     "data": {
      "text/plain": [
       "array([[0., 0., 0.],\n",
       "       [0., 0., 0.]])"
      ]
     },
     "execution_count": 158,
     "metadata": {},
     "output_type": "execute_result"
    }
   ],
   "execution_count": 158
  },
  {
   "metadata": {
    "ExecuteTime": {
     "end_time": "2024-10-27T14:16:55.487944Z",
     "start_time": "2024-10-27T14:16:55.482985Z"
    }
   },
   "cell_type": "code",
   "source": "zeros.dtype",
   "id": "9175cac7879fa176",
   "outputs": [
    {
     "data": {
      "text/plain": [
       "dtype('float64')"
      ]
     },
     "execution_count": 159,
     "metadata": {},
     "output_type": "execute_result"
    }
   ],
   "execution_count": 159
  },
  {
   "metadata": {
    "ExecuteTime": {
     "end_time": "2024-10-27T14:16:55.652250Z",
     "start_time": "2024-10-27T14:16:55.649032Z"
    }
   },
   "cell_type": "code",
   "source": "ones=np.ones((3,4),dtype=int)",
   "id": "54d21d7694e4fead",
   "outputs": [],
   "execution_count": 160
  },
  {
   "metadata": {
    "ExecuteTime": {
     "end_time": "2024-10-27T14:16:55.833800Z",
     "start_time": "2024-10-27T14:16:55.828294Z"
    }
   },
   "cell_type": "code",
   "source": "ones",
   "id": "d5eb8e71e23f5cb9",
   "outputs": [
    {
     "data": {
      "text/plain": [
       "array([[1, 1, 1, 1],\n",
       "       [1, 1, 1, 1],\n",
       "       [1, 1, 1, 1]])"
      ]
     },
     "execution_count": 161,
     "metadata": {},
     "output_type": "execute_result"
    }
   ],
   "execution_count": 161
  },
  {
   "metadata": {
    "ExecuteTime": {
     "end_time": "2024-10-27T14:16:56.042200Z",
     "start_time": "2024-10-27T14:16:56.036546Z"
    }
   },
   "cell_type": "code",
   "source": "ones.dtype",
   "id": "3e9feb6004f61b84",
   "outputs": [
    {
     "data": {
      "text/plain": [
       "dtype('int64')"
      ]
     },
     "execution_count": 162,
     "metadata": {},
     "output_type": "execute_result"
    }
   ],
   "execution_count": 162
  },
  {
   "metadata": {},
   "cell_type": "markdown",
   "source": "## 3. creating numpy array: using np.arange",
   "id": "4d6c541b59da3332"
  },
  {
   "metadata": {
    "ExecuteTime": {
     "end_time": "2024-10-27T14:16:56.149647Z",
     "start_time": "2024-10-27T14:16:56.145176Z"
    }
   },
   "cell_type": "code",
   "source": [
    "rng=np.arange(12)\n",
    "rng"
   ],
   "id": "a0f78244ae37a929",
   "outputs": [
    {
     "data": {
      "text/plain": [
       "array([ 0,  1,  2,  3,  4,  5,  6,  7,  8,  9, 10, 11])"
      ]
     },
     "execution_count": 163,
     "metadata": {},
     "output_type": "execute_result"
    }
   ],
   "execution_count": 163
  },
  {
   "metadata": {},
   "cell_type": "markdown",
   "source": "## 4. creating numpy array using np.linspace() ",
   "id": "1721dbcec63099d8"
  },
  {
   "metadata": {
    "ExecuteTime": {
     "end_time": "2024-10-27T14:16:56.274515Z",
     "start_time": "2024-10-27T14:16:56.269995Z"
    }
   },
   "cell_type": "code",
   "source": "lspace=np.linspace(1,4,12)",
   "id": "4394ed9edd9a168",
   "outputs": [],
   "execution_count": 164
  },
  {
   "metadata": {
    "ExecuteTime": {
     "end_time": "2024-10-27T14:16:56.367582Z",
     "start_time": "2024-10-27T14:16:56.362185Z"
    }
   },
   "cell_type": "code",
   "source": [
    "#ye mujhe 1 se le ke 5 tak equally linearly spaced 12 elements dega.\n",
    "lspace"
   ],
   "id": "e6c34896464a4e2c",
   "outputs": [
    {
     "data": {
      "text/plain": [
       "array([1.        , 1.27272727, 1.54545455, 1.81818182, 2.09090909,\n",
       "       2.36363636, 2.63636364, 2.90909091, 3.18181818, 3.45454545,\n",
       "       3.72727273, 4.        ])"
      ]
     },
     "execution_count": 165,
     "metadata": {},
     "output_type": "execute_result"
    }
   ],
   "execution_count": 165
  },
  {
   "metadata": {},
   "cell_type": "markdown",
   "source": "## 5. creaating numpy array using np.empty()",
   "id": "1b9784ef0572dbdd"
  },
  {
   "metadata": {
    "ExecuteTime": {
     "end_time": "2024-10-27T14:16:56.444351Z",
     "start_time": "2024-10-27T14:16:56.438781Z"
    }
   },
   "cell_type": "code",
   "source": [
    "emp=np.empty((2,2))\n",
    "emp\n",
    "#it gives empty array of 3*3 with random values."
   ],
   "id": "109c13289c172216",
   "outputs": [
    {
     "data": {
      "text/plain": [
       "array([[0.0e+000, 4.9e-324],\n",
       "       [9.9e-324, 1.5e-323]])"
      ]
     },
     "execution_count": 166,
     "metadata": {},
     "output_type": "execute_result"
    }
   ],
   "execution_count": 166
  },
  {
   "metadata": {
    "ExecuteTime": {
     "end_time": "2024-10-27T14:16:56.565123Z",
     "start_time": "2024-10-27T14:16:56.559925Z"
    }
   },
   "cell_type": "code",
   "source": [
    "empty_like=np.empty_like(lspace)\n",
    "#takes array as an argument. what it does is:\n",
    "# it returns a new array with the same shape and type as the input array (lspace),\n",
    "# but without initializing its values, meaning the contents of the returned array are random.\n",
    "\n",
    "empty_like"
   ],
   "id": "80757e7f5647571c",
   "outputs": [
    {
     "data": {
      "text/plain": [
       "array([1.        , 1.27272727, 1.54545455, 1.81818182, 2.09090909,\n",
       "       2.36363636, 2.63636364, 2.90909091, 3.18181818, 3.45454545,\n",
       "       3.72727273, 4.        ])"
      ]
     },
     "execution_count": 167,
     "metadata": {},
     "output_type": "execute_result"
    }
   ],
   "execution_count": 167
  },
  {
   "metadata": {},
   "cell_type": "markdown",
   "source": "## 6. creating numpy array with np.identity()",
   "id": "72e99389f4bf1e2c"
  },
  {
   "metadata": {
    "ExecuteTime": {
     "end_time": "2024-10-27T14:16:56.667542Z",
     "start_time": "2024-10-27T14:16:56.661949Z"
    }
   },
   "cell_type": "code",
   "source": [
    "ide=np.identity(5,dtype=int)\n",
    "# returns an identity matrix of 5*5 , index starting from 0\n",
    "ide"
   ],
   "id": "4dce0eafa6e070b3",
   "outputs": [
    {
     "data": {
      "text/plain": [
       "array([[1, 0, 0, 0, 0],\n",
       "       [0, 1, 0, 0, 0],\n",
       "       [0, 0, 1, 0, 0],\n",
       "       [0, 0, 0, 1, 0],\n",
       "       [0, 0, 0, 0, 1]])"
      ]
     },
     "execution_count": 168,
     "metadata": {},
     "output_type": "execute_result"
    }
   ],
   "execution_count": 168
  },
  {
   "metadata": {},
   "cell_type": "markdown",
   "source": "",
   "id": "e7f7d18f2b4ec635"
  },
  {
   "metadata": {},
   "cell_type": "markdown",
   "source": "",
   "id": "13805408f1a28404"
  },
  {
   "metadata": {
    "ExecuteTime": {
     "end_time": "2024-10-27T14:16:56.784428Z",
     "start_time": "2024-10-27T14:16:56.782204Z"
    }
   },
   "cell_type": "code",
   "source": "",
   "id": "7d0e279168ff2df7",
   "outputs": [],
   "execution_count": null
  }
 ],
 "metadata": {
  "kernelspec": {
   "display_name": "Python 3",
   "language": "python",
   "name": "python3"
  },
  "language_info": {
   "codemirror_mode": {
    "name": "ipython",
    "version": 2
   },
   "file_extension": ".py",
   "mimetype": "text/x-python",
   "name": "python",
   "nbconvert_exporter": "python",
   "pygments_lexer": "ipython2",
   "version": "2.7.6"
  }
 },
 "nbformat": 4,
 "nbformat_minor": 5
}
