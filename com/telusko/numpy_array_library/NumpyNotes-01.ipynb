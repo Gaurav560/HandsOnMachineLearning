{
 "cells": [
  {
   "metadata": {},
   "cell_type": "markdown",
   "source": "#  Intro to Numpy-Video1",
   "id": "8b2b52f590776ef6"
  },
  {
   "metadata": {},
   "cell_type": "markdown",
   "source": "## Benefits of using NumPy over standard Python lists",
   "id": "777eab03f07ca6a8"
  },
  {
   "metadata": {},
   "cell_type": "markdown",
   "source": [
    "####  NumPy Arrays use C-style static arrays, which means they are more memory efficient. In a NumPy array, the data is stored directly in contiguous blocks of memory, not references to objects. This is why NumPy arrays are faster for numerical operations: they avoid the overhead of handling references and can leverage low-level optimizations.\n",
    "\n",
    "#### In contrast, Python lists are dynamic arrays. Every time the list grows beyond its current capacity, Python doubles the size of the array to accommodate more elements. Python lists are referential arrays, meaning they store references (or pointers) to the actual data, not the data itself. When you access an item in a Python list, you first retrieve the reference (or address) of the data and then access the actual data."
   ],
   "id": "45630c21cffbd99e"
  },
  {
   "metadata": {},
   "cell_type": "markdown",
   "source": "## Numpy Array vs Python List (Speed)",
   "id": "52a2c8a245866823"
  },
  {
   "metadata": {
    "ExecuteTime": {
     "end_time": "2024-10-24T07:10:00.257135Z",
     "start_time": "2024-10-24T07:09:30.609576Z"
    }
   },
   "cell_type": "code",
   "source": [
    "#running the code using python list\n",
    "a=[i for i in range(100000000)]\n",
    "b=[i for i in range(100000000,200000000)]\n",
    "c=[]\n",
    "import time\n",
    "start = time.time()\n",
    "for i in range (len(a)):\n",
    "    c.append(a[i]+b[i])\n",
    "print(time.time()-start)"
   ],
   "id": "a5937644b8aea1a5",
   "outputs": [
    {
     "name": "stdout",
     "output_type": "stream",
     "text": [
      "21.640979766845703\n"
     ]
    }
   ],
   "execution_count": 72
  },
  {
   "metadata": {
    "ExecuteTime": {
     "end_time": "2024-10-24T07:10:06.275447Z",
     "start_time": "2024-10-24T07:10:01.235718Z"
    }
   },
   "cell_type": "code",
   "source": [
    "#doing the same work with numpy array\n",
    "\n",
    "import numpy as np\n",
    "a=np.arange(100000000)\n",
    "b=np.arange(100000000,200000000)\n",
    "start=time.time()\n",
    "c=a+b\n",
    "print(time.time()-start)"
   ],
   "id": "1440267af6539bb6",
   "outputs": [
    {
     "name": "stdout",
     "output_type": "stream",
     "text": [
      "1.338000774383545\n"
     ]
    }
   ],
   "execution_count": 73
  },
  {
   "metadata": {},
   "cell_type": "markdown",
   "source": "##  Numpy Array vs Python List (Memory)",
   "id": "cb2b59c7d7795181"
  },
  {
   "metadata": {
    "ExecuteTime": {
     "end_time": "2024-10-24T07:10:06.748916Z",
     "start_time": "2024-10-24T07:10:06.359447Z"
    }
   },
   "cell_type": "code",
   "source": [
    "# in python lists\n",
    "a=[i for i in range(10000000)]\n",
    "import sys\n",
    "sys.getsizeof(a)\n",
    "#gives size in bytes"
   ],
   "id": "fce05adfb941259f",
   "outputs": [
    {
     "data": {
      "text/plain": [
       "89095160"
      ]
     },
     "execution_count": 74,
     "metadata": {},
     "output_type": "execute_result"
    }
   ],
   "execution_count": 74
  },
  {
   "metadata": {
    "ExecuteTime": {
     "end_time": "2024-10-24T07:10:06.912643Z",
     "start_time": "2024-10-24T07:10:06.830139Z"
    }
   },
   "cell_type": "code",
   "source": [
    "#in numpy arrays(we can reduce the total size by changing the dtype thus it will take less memory)\n",
    "a= np.arange(10000000,dtype=np.int32)\n",
    "sys.getsizeof(a)"
   ],
   "id": "70e34429323985f9",
   "outputs": [
    {
     "data": {
      "text/plain": [
       "40000112"
      ]
     },
     "execution_count": 75,
     "metadata": {},
     "output_type": "execute_result"
    }
   ],
   "execution_count": 75
  },
  {
   "metadata": {},
   "cell_type": "markdown",
   "source": [
    "# Numpy Creation Methods\n",
    "\n",
    "1. From a list using `np.array()`\n",
    "2. Using `np.arange()`\n",
    "3. Using `np.zeros()` or `np.ones()`\n",
    "4. Using `np.linspace()`\n",
    "5. Using `np.random.rand()`\n",
    "\n",
    "```python\n",
    "import numpy as np\n",
    "arr = np.array([1, 2, 3, 4])"
   ],
   "id": "6135440d18485be7"
  },
  {
   "metadata": {},
   "cell_type": "markdown",
   "source": "## 1. Creating a numpy array: Conversion from other python structures",
   "id": "82ca883ac78a16ee"
  },
  {
   "metadata": {
    "ExecuteTime": {
     "end_time": "2024-10-24T07:10:07.003613Z",
     "start_time": "2024-10-24T07:10:07.000074Z"
    }
   },
   "cell_type": "code",
   "source": [
    "import numpy as np   \n",
    "numpy_array=np.array([[1,2,4],[2,4,2],[9,8,6]])\n",
    "numpy_array"
   ],
   "id": "80a286114edd6a5a",
   "outputs": [
    {
     "data": {
      "text/plain": [
       "array([[1, 2, 4],\n",
       "       [2, 4, 2],\n",
       "       [9, 8, 6]])"
      ]
     },
     "execution_count": 76,
     "metadata": {},
     "output_type": "execute_result"
    }
   ],
   "execution_count": 76
  },
  {
   "metadata": {},
   "cell_type": "markdown",
   "source": "# Numpy Array Attributes",
   "id": "a3752cf94ef170f0"
  },
  {
   "metadata": {
    "ExecuteTime": {
     "end_time": "2024-10-24T07:10:07.058640Z",
     "start_time": "2024-10-24T07:10:07.054472Z"
    }
   },
   "cell_type": "code",
   "source": "numpy_array.dtype",
   "id": "b47ad1a2157cab8d",
   "outputs": [
    {
     "data": {
      "text/plain": [
       "dtype('int64')"
      ]
     },
     "execution_count": 77,
     "metadata": {},
     "output_type": "execute_result"
    }
   ],
   "execution_count": 77
  },
  {
   "metadata": {
    "ExecuteTime": {
     "end_time": "2024-10-24T07:10:07.070130Z",
     "start_time": "2024-10-24T07:10:07.065644Z"
    }
   },
   "cell_type": "code",
   "source": "numpy_array.shape",
   "id": "392eb0a4b747cc03",
   "outputs": [
    {
     "data": {
      "text/plain": [
       "(3, 3)"
      ]
     },
     "execution_count": 78,
     "metadata": {},
     "output_type": "execute_result"
    }
   ],
   "execution_count": 78
  },
  {
   "metadata": {
    "ExecuteTime": {
     "end_time": "2024-10-24T07:10:07.441164Z",
     "start_time": "2024-10-24T07:10:07.436623Z"
    }
   },
   "cell_type": "code",
   "source": "numpy_array.size",
   "id": "51718ffe6e137924",
   "outputs": [
    {
     "data": {
      "text/plain": [
       "9"
      ]
     },
     "execution_count": 79,
     "metadata": {},
     "output_type": "execute_result"
    }
   ],
   "execution_count": 79
  },
  {
   "metadata": {
    "ExecuteTime": {
     "end_time": "2024-10-24T07:10:07.519110Z",
     "start_time": "2024-10-24T07:10:07.513142Z"
    }
   },
   "cell_type": "code",
   "source": "numpy_array.ndim",
   "id": "11b85c5abb23843f",
   "outputs": [
    {
     "data": {
      "text/plain": [
       "2"
      ]
     },
     "execution_count": 80,
     "metadata": {},
     "output_type": "execute_result"
    }
   ],
   "execution_count": 80
  },
  {
   "metadata": {},
   "cell_type": "markdown",
   "source": "## 2. Creating a numpy array- through np.zeros and np.ones",
   "id": "f0183de81713ad04"
  },
  {
   "metadata": {
    "ExecuteTime": {
     "end_time": "2024-10-24T07:10:07.578477Z",
     "start_time": "2024-10-24T07:10:07.574611Z"
    }
   },
   "cell_type": "code",
   "source": "zeros=np.zeros((2,3))",
   "id": "693b7d1b08b6834c",
   "outputs": [],
   "execution_count": 81
  },
  {
   "metadata": {
    "ExecuteTime": {
     "end_time": "2024-10-24T07:10:07.610952Z",
     "start_time": "2024-10-24T07:10:07.607305Z"
    }
   },
   "cell_type": "code",
   "source": "zeros",
   "id": "1ab7d8b85da17a44",
   "outputs": [
    {
     "data": {
      "text/plain": [
       "array([[0., 0., 0.],\n",
       "       [0., 0., 0.]])"
      ]
     },
     "execution_count": 82,
     "metadata": {},
     "output_type": "execute_result"
    }
   ],
   "execution_count": 82
  },
  {
   "metadata": {
    "ExecuteTime": {
     "end_time": "2024-10-24T07:10:07.672046Z",
     "start_time": "2024-10-24T07:10:07.667092Z"
    }
   },
   "cell_type": "code",
   "source": "zeros.dtype",
   "id": "9175cac7879fa176",
   "outputs": [
    {
     "data": {
      "text/plain": [
       "dtype('float64')"
      ]
     },
     "execution_count": 83,
     "metadata": {},
     "output_type": "execute_result"
    }
   ],
   "execution_count": 83
  },
  {
   "metadata": {
    "ExecuteTime": {
     "end_time": "2024-10-24T07:10:07.722978Z",
     "start_time": "2024-10-24T07:10:07.719774Z"
    }
   },
   "cell_type": "code",
   "source": "ones=np.ones((3,4),dtype=int)",
   "id": "54d21d7694e4fead",
   "outputs": [],
   "execution_count": 84
  },
  {
   "metadata": {
    "ExecuteTime": {
     "end_time": "2024-10-24T07:10:07.810842Z",
     "start_time": "2024-10-24T07:10:07.807346Z"
    }
   },
   "cell_type": "code",
   "source": "ones",
   "id": "d5eb8e71e23f5cb9",
   "outputs": [
    {
     "data": {
      "text/plain": [
       "array([[1, 1, 1, 1],\n",
       "       [1, 1, 1, 1],\n",
       "       [1, 1, 1, 1]])"
      ]
     },
     "execution_count": 85,
     "metadata": {},
     "output_type": "execute_result"
    }
   ],
   "execution_count": 85
  },
  {
   "metadata": {
    "ExecuteTime": {
     "end_time": "2024-10-24T07:10:07.869409Z",
     "start_time": "2024-10-24T07:10:07.866322Z"
    }
   },
   "cell_type": "code",
   "source": "ones.dtype",
   "id": "3e9feb6004f61b84",
   "outputs": [
    {
     "data": {
      "text/plain": [
       "dtype('int64')"
      ]
     },
     "execution_count": 86,
     "metadata": {},
     "output_type": "execute_result"
    }
   ],
   "execution_count": 86
  },
  {
   "metadata": {},
   "cell_type": "markdown",
   "source": "## 3. creating numpy array: using np.arange",
   "id": "4d6c541b59da3332"
  },
  {
   "metadata": {
    "ExecuteTime": {
     "end_time": "2024-10-24T07:10:07.927662Z",
     "start_time": "2024-10-24T07:10:07.924359Z"
    }
   },
   "cell_type": "code",
   "source": [
    "rng=np.arange(12)\n",
    "rng"
   ],
   "id": "a0f78244ae37a929",
   "outputs": [
    {
     "data": {
      "text/plain": [
       "array([ 0,  1,  2,  3,  4,  5,  6,  7,  8,  9, 10, 11])"
      ]
     },
     "execution_count": 87,
     "metadata": {},
     "output_type": "execute_result"
    }
   ],
   "execution_count": 87
  },
  {
   "metadata": {},
   "cell_type": "markdown",
   "source": "## 4. creating numpy array using np.linspace() ",
   "id": "1721dbcec63099d8"
  },
  {
   "metadata": {
    "ExecuteTime": {
     "end_time": "2024-10-24T07:10:08.018973Z",
     "start_time": "2024-10-24T07:10:08.015557Z"
    }
   },
   "cell_type": "code",
   "source": "lspace=np.linspace(1,4,12)",
   "id": "4394ed9edd9a168",
   "outputs": [],
   "execution_count": 88
  },
  {
   "metadata": {
    "ExecuteTime": {
     "end_time": "2024-10-24T07:10:08.073984Z",
     "start_time": "2024-10-24T07:10:08.070276Z"
    }
   },
   "cell_type": "code",
   "source": [
    "#ye mujhe 1 se le ke 5 tak equally linearly spaced 12 elements dega.\n",
    "lspace"
   ],
   "id": "e6c34896464a4e2c",
   "outputs": [
    {
     "data": {
      "text/plain": [
       "array([1.        , 1.27272727, 1.54545455, 1.81818182, 2.09090909,\n",
       "       2.36363636, 2.63636364, 2.90909091, 3.18181818, 3.45454545,\n",
       "       3.72727273, 4.        ])"
      ]
     },
     "execution_count": 89,
     "metadata": {},
     "output_type": "execute_result"
    }
   ],
   "execution_count": 89
  },
  {
   "metadata": {},
   "cell_type": "markdown",
   "source": "## 5. creaating numpy array using np.empty()",
   "id": "1b9784ef0572dbdd"
  },
  {
   "metadata": {
    "ExecuteTime": {
     "end_time": "2024-10-24T07:10:08.131064Z",
     "start_time": "2024-10-24T07:10:08.126989Z"
    }
   },
   "cell_type": "code",
   "source": [
    "emp=np.empty((2,2))\n",
    "emp\n",
    "#it gives empty array of 3*3 with random values."
   ],
   "id": "109c13289c172216",
   "outputs": [
    {
     "data": {
      "text/plain": [
       "array([[0.0e+000, 4.9e-324],\n",
       "       [9.9e-324, 1.5e-323]])"
      ]
     },
     "execution_count": 90,
     "metadata": {},
     "output_type": "execute_result"
    }
   ],
   "execution_count": 90
  },
  {
   "metadata": {
    "ExecuteTime": {
     "end_time": "2024-10-24T07:10:08.194Z",
     "start_time": "2024-10-24T07:10:08.189517Z"
    }
   },
   "cell_type": "code",
   "source": [
    "empty_like=np.empty_like(lspace)\n",
    "#takes array as an argument. what it does is:\n",
    "# it returns a new array with the same shape and type as the input array (lspace),\n",
    "# but without initializing its values, meaning the contents of the returned array are random.\n",
    "\n",
    "empty_like"
   ],
   "id": "80757e7f5647571c",
   "outputs": [
    {
     "data": {
      "text/plain": [
       "array([1.        , 1.27272727, 1.54545455, 1.81818182, 2.09090909,\n",
       "       2.36363636, 2.63636364, 2.90909091, 3.18181818, 3.45454545,\n",
       "       3.72727273, 4.        ])"
      ]
     },
     "execution_count": 91,
     "metadata": {},
     "output_type": "execute_result"
    }
   ],
   "execution_count": 91
  },
  {
   "metadata": {},
   "cell_type": "markdown",
   "source": "## 6. creating numpy array with np.identity()",
   "id": "72e99389f4bf1e2c"
  },
  {
   "metadata": {
    "ExecuteTime": {
     "end_time": "2024-10-24T07:10:08.239772Z",
     "start_time": "2024-10-24T07:10:08.235306Z"
    }
   },
   "cell_type": "code",
   "source": [
    "ide=np.identity(5,dtype=int)\n",
    "# returns an identity matrix of 5*5 , index starting from 0\n",
    "ide"
   ],
   "id": "4dce0eafa6e070b3",
   "outputs": [
    {
     "data": {
      "text/plain": [
       "array([[1, 0, 0, 0, 0],\n",
       "       [0, 1, 0, 0, 0],\n",
       "       [0, 0, 1, 0, 0],\n",
       "       [0, 0, 0, 1, 0],\n",
       "       [0, 0, 0, 0, 1]])"
      ]
     },
     "execution_count": 92,
     "metadata": {},
     "output_type": "execute_result"
    }
   ],
   "execution_count": 92
  },
  {
   "metadata": {},
   "cell_type": "markdown",
   "source": "",
   "id": "e7f7d18f2b4ec635"
  },
  {
   "metadata": {},
   "cell_type": "markdown",
   "source": "",
   "id": "13805408f1a28404"
  },
  {
   "metadata": {
    "ExecuteTime": {
     "end_time": "2024-10-24T07:10:08.325502Z",
     "start_time": "2024-10-24T07:10:08.323850Z"
    }
   },
   "cell_type": "code",
   "source": "",
   "id": "7d0e279168ff2df7",
   "outputs": [],
   "execution_count": null
  }
 ],
 "metadata": {
  "kernelspec": {
   "display_name": "Python 3",
   "language": "python",
   "name": "python3"
  },
  "language_info": {
   "codemirror_mode": {
    "name": "ipython",
    "version": 2
   },
   "file_extension": ".py",
   "mimetype": "text/x-python",
   "name": "python",
   "nbconvert_exporter": "python",
   "pygments_lexer": "ipython2",
   "version": "2.7.6"
  }
 },
 "nbformat": 4,
 "nbformat_minor": 5
}
