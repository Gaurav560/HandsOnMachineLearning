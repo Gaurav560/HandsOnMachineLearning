{
 "cells": [
  {
   "metadata": {},
   "cell_type": "markdown",
   "source": "# Numpy Array Manipulation- Video2\n",
   "id": "c41cce0fed0b552e"
  },
  {
   "metadata": {
    "ExecuteTime": {
     "end_time": "2024-10-24T09:11:39.696963Z",
     "start_time": "2024-10-24T09:11:39.694240Z"
    }
   },
   "cell_type": "code",
   "source": "import numpy as np",
   "id": "a0d12b69845d5ec",
   "outputs": [],
   "execution_count": 206
  },
  {
   "metadata": {},
   "cell_type": "markdown",
   "source": "# Reshaping Arrays: reshape(),ravel(), flatten()",
   "id": "3804be1b72b19e1b"
  },
  {
   "metadata": {
    "ExecuteTime": {
     "end_time": "2024-10-24T09:11:39.729301Z",
     "start_time": "2024-10-24T09:11:39.726099Z"
    }
   },
   "cell_type": "code",
   "source": [
    "#Reshaping Arrays\n",
    "print(\"RESHAPING ARRAYS\")\n",
    "\n",
    "# Create a sample array\n",
    "arr = np.array([1, 2, 3, 4, 5, 6, 7, 8, 9, 10, 11, 12])\n",
    "\n",
    "# reshape() \n",
    "reshaped = arr.reshape(3, 4)  # Reshape to 3x4 matrix\n",
    "reshaped\n"
   ],
   "id": "48ff6c69b571d701",
   "outputs": [
    {
     "name": "stdout",
     "output_type": "stream",
     "text": [
      "RESHAPING ARRAYS\n"
     ]
    },
    {
     "data": {
      "text/plain": [
       "array([[ 1,  2,  3,  4],\n",
       "       [ 5,  6,  7,  8],\n",
       "       [ 9, 10, 11, 12]])"
      ]
     },
     "execution_count": 207,
     "metadata": {},
     "output_type": "execute_result"
    }
   ],
   "execution_count": 207
  },
  {
   "metadata": {
    "ExecuteTime": {
     "end_time": "2024-10-24T09:11:39.777817Z",
     "start_time": "2024-10-24T09:11:39.774068Z"
    }
   },
   "cell_type": "code",
   "source": [
    "# ravel() - Flatten array to 1D (returns view when possible)\n",
    "raveled = reshaped.ravel()\n",
    "raveled"
   ],
   "id": "91b3e722475b9701",
   "outputs": [
    {
     "data": {
      "text/plain": [
       "array([ 1,  2,  3,  4,  5,  6,  7,  8,  9, 10, 11, 12])"
      ]
     },
     "execution_count": 208,
     "metadata": {},
     "output_type": "execute_result"
    }
   ],
   "execution_count": 208
  },
  {
   "metadata": {
    "ExecuteTime": {
     "end_time": "2024-10-24T09:11:39.824388Z",
     "start_time": "2024-10-24T09:11:39.820784Z"
    }
   },
   "cell_type": "code",
   "source": [
    "# flatten() - Flatten array to 1D (always returns copy)\n",
    "flattened = reshaped.flatten()\n",
    "flattened"
   ],
   "id": "d1f9497283da59f1",
   "outputs": [
    {
     "data": {
      "text/plain": [
       "array([ 1,  2,  3,  4,  5,  6,  7,  8,  9, 10, 11, 12])"
      ]
     },
     "execution_count": 209,
     "metadata": {},
     "output_type": "execute_result"
    }
   ],
   "execution_count": 209
  },
  {
   "metadata": {},
   "cell_type": "markdown",
   "source": [
    "## Difference between ravel() and flatten()\n",
    "Memory Behavior:\n",
    "\n",
    "ravel() returns a view of the original array when possible (memory efficient)\n",
    "whereas flatten() always returns a copy of the array (new memory allocation)\n",
    "\n",
    "\n",
    "Performance:\n",
    "\n",
    "ravel() is generally faster since it doesn't copy data\n",
    "whereas flatten() is slower since it always creates a copy\n",
    "\n",
    "\n",
    "Use Cases:\n",
    "\n",
    "Use ravel() when you want to modify the original array\n",
    "whereas flatten() when you want to ensure the original array remains unchanged\n",
    "\n",
    "\n",
    "Memory Layout:\n",
    "\n",
    "ravel() may return a view or a copy depending on the array's memory layout\n",
    " whereas flatten() gives you control over the memory layout with order parameter ('C' for row-major, 'F' for column-major)\n",
    " \n",
    "### note: \n",
    "The phrase \"when possible\" in the context of ravel() refers to the conditions under which NumPy can return a view of the original array instead of making a copy.\n",
    "\n",
    "Conditions for Returning a View:\n",
    "Contiguous Memory:\n",
    "\n",
    "For ravel() to return a view, the original array must be stored in contiguous memory. This means that the data should be laid out in a continuous block of memory without any gaps.\n",
    "Arrays that are created using certain slicing operations, or those that have been transposed (like switching rows and columns), may not be contiguous.\n",
    "           \n",
    "Array Structure:\n",
    "\n",
    "If the array is a simple structure (e.g., created from a single call to np.array()), it's more likely to be contiguous and thus will allow ravel() to return a view.\n",
    "If the array is multi-dimensional but not laid out in a straightforward manner, such as a non-contiguous view or an array created from other arrays that were not contiguous, ravel() will return a copy."
   ],
   "id": "74ced82ea25ed97b"
  },
  {
   "metadata": {
    "ExecuteTime": {
     "end_time": "2024-10-24T09:11:39.880271Z",
     "start_time": "2024-10-24T09:11:39.875392Z"
    }
   },
   "cell_type": "code",
   "source": [
    "print(\"DIFFERENCE BETWEEN RAVEL() AND FLATTEN()\")\n",
    "\n",
    "# Using ravel()\n",
    "raveled = arr.ravel()\n",
    "print(\"\\nAfter ravel():\", raveled)\n",
    "\n",
    "# Using flatten()\n",
    "flattened = arr.flatten()\n",
    "print(\"\\nAfter flatten():\", flattened)\n",
    "\n",
    "# Key Difference: Memory Behavior\n",
    "print(\"\\nDEMONSTRATING MEMORY BEHAVIOR\")\n",
    "print(\"-\" * 50)\n",
    "\n",
    "# Modify raveled array\n",
    "print(\"Original array before modification:\\n\", arr)\n",
    "raveled[0] = 99\n",
    "print(\"\\nOriginal array after modifying raveled array:\\n\", arr)  # Original array changes\n",
    "\n",
    "# Reset array\n",
    "arr = np.array([1, 2, 3, 4, 5, 6, 7, 8, 9, 10, 11, 12])\n",
    "\n",
    "# Modify flattened array\n",
    "flattened = arr.flatten()\n",
    "flattened[0] = 99\n",
    "print(\"\\nOriginal array after modifying flattened array:\\n\", arr)  # Original array unchanged"
   ],
   "id": "35647498211973b6",
   "outputs": [
    {
     "name": "stdout",
     "output_type": "stream",
     "text": [
      "DIFFERENCE BETWEEN RAVEL() AND FLATTEN()\n",
      "\n",
      "After ravel(): [ 1  2  3  4  5  6  7  8  9 10 11 12]\n",
      "\n",
      "After flatten(): [ 1  2  3  4  5  6  7  8  9 10 11 12]\n",
      "\n",
      "DEMONSTRATING MEMORY BEHAVIOR\n",
      "--------------------------------------------------\n",
      "Original array before modification:\n",
      " [ 1  2  3  4  5  6  7  8  9 10 11 12]\n",
      "\n",
      "Original array after modifying raveled array:\n",
      " [99  2  3  4  5  6  7  8  9 10 11 12]\n",
      "\n",
      "Original array after modifying flattened array:\n",
      " [ 1  2  3  4  5  6  7  8  9 10 11 12]\n"
     ]
    }
   ],
   "execution_count": 210
  },
  {
   "metadata": {},
   "cell_type": "markdown",
   "source": "#  Indexing and Slicing",
   "id": "e9fa88d0a1937c3d"
  },
  {
   "metadata": {
    "ExecuteTime": {
     "end_time": "2024-10-24T09:11:39.902001Z",
     "start_time": "2024-10-24T09:11:39.898610Z"
    }
   },
   "cell_type": "code",
   "source": [
    "print(\"INDEXING AND SLICING\")\n",
    "print(\"-\" * 50)\n",
    "\n",
    "# Create a 2D array\n",
    "arr_2d = np.array([[1, 2, 3, 4],\n",
    "                   [5, 6, 7, 8],\n",
    "                   [9, 10, 11, 12]])\n",
    "print(\"2D array:\\n\", arr_2d)\n"
   ],
   "id": "a9bd3f86b6ac28ee",
   "outputs": [
    {
     "name": "stdout",
     "output_type": "stream",
     "text": [
      "INDEXING AND SLICING\n",
      "--------------------------------------------------\n",
      "2D array:\n",
      " [[ 1  2  3  4]\n",
      " [ 5  6  7  8]\n",
      " [ 9 10 11 12]]\n"
     ]
    }
   ],
   "execution_count": 211
  },
  {
   "metadata": {
    "ExecuteTime": {
     "end_time": "2024-10-24T09:11:39.948265Z",
     "start_time": "2024-10-24T09:11:39.945271Z"
    }
   },
   "cell_type": "code",
   "source": [
    "# Basic indexing\n",
    "print(\"\\nElement at position (1,2):\", arr_2d[1, 2])"
   ],
   "id": "bb76a016171ca141",
   "outputs": [
    {
     "name": "stdout",
     "output_type": "stream",
     "text": [
      "\n",
      "Element at position (1,2): 7\n"
     ]
    }
   ],
   "execution_count": 212
  },
  {
   "metadata": {
    "ExecuteTime": {
     "end_time": "2024-10-24T09:11:39.980075Z",
     "start_time": "2024-10-24T09:11:39.977110Z"
    }
   },
   "cell_type": "code",
   "source": [
    "# Slicing\n",
    "print(\"\\nFirst two rows, last two columns:\\n\", arr_2d[0:2, 2:4])"
   ],
   "id": "e7b2ca4de436f6d0",
   "outputs": [
    {
     "name": "stdout",
     "output_type": "stream",
     "text": [
      "\n",
      "First two rows, last two columns:\n",
      " [[3 4]\n",
      " [7 8]]\n"
     ]
    }
   ],
   "execution_count": 213
  },
  {
   "metadata": {
    "ExecuteTime": {
     "end_time": "2024-10-24T09:11:40.010118Z",
     "start_time": "2024-10-24T09:11:40.007309Z"
    }
   },
   "cell_type": "code",
   "source": [
    "# Boolean indexing\n",
    "print(\"\\nElements greater than 6:\\n\", arr_2d[arr_2d > 6])"
   ],
   "id": "585ac5005220dd37",
   "outputs": [
    {
     "name": "stdout",
     "output_type": "stream",
     "text": [
      "\n",
      "Elements greater than 6:\n",
      " [ 7  8  9 10 11 12]\n"
     ]
    }
   ],
   "execution_count": 214
  },
  {
   "metadata": {},
   "cell_type": "markdown",
   "source": "#  Broadcasting",
   "id": "dafdf1f1283c9760"
  },
  {
   "metadata": {
    "ExecuteTime": {
     "end_time": "2024-10-24T09:11:40.049638Z",
     "start_time": "2024-10-24T09:11:40.045636Z"
    }
   },
   "cell_type": "code",
   "source": [
    "print(\"BROADCASTING\")\n",
    "print(\"-\" * 50)\n",
    "\n",
    "# Create arrays of different shapes\n",
    "arr1 = np.array([[1, 2, 3],\n",
    "                 [4, 5, 6]])  # 2x3 array\n",
    "arr2 = np.array([10, 20, 30])  # 1D array\n",
    "\n",
    "# Broadcasting operation\n",
    "result = arr1 + arr2  # arr2 is broadcast to match arr1's shape\n",
    "result"
   ],
   "id": "1451756198b93f29",
   "outputs": [
    {
     "name": "stdout",
     "output_type": "stream",
     "text": [
      "BROADCASTING\n",
      "--------------------------------------------------\n"
     ]
    },
    {
     "data": {
      "text/plain": [
       "array([[11, 22, 33],\n",
       "       [14, 25, 36]])"
      ]
     },
     "execution_count": 215,
     "metadata": {},
     "output_type": "execute_result"
    }
   ],
   "execution_count": 215
  },
  {
   "metadata": {},
   "cell_type": "markdown",
   "source": [
    "# Array Concatenation and Splitting\n",
    " ## axis:\n",
    "  ###  axis=0: Concatenates along the rows (vertically).\n",
    "  ###  axis=1: Concatenates along the columns (horizontally)."
   ],
   "id": "f344da29e6003086"
  },
  {
   "metadata": {
    "ExecuteTime": {
     "end_time": "2024-10-24T09:11:40.119497Z",
     "start_time": "2024-10-24T09:11:40.116167Z"
    }
   },
   "cell_type": "code",
   "source": [
    "print(\"ARRAY CONCATENATION AND SPLITTING\")\n",
    "print(\"-\" * 50)\n",
    "\n",
    "# Create arrays\n",
    "arr1 = np.array([[1, 2], \n",
    "                 [3, 4]])\n",
    "arr2 = np.array([[5, 6], \n",
    "                 [7, 8]])\n",
    "\n",
    "# concatenate()\n",
    "concat_horizontal = np.concatenate((arr1, arr2), axis=1)\n",
    "print(\"Horizontal concatenation:\\n\", concat_horizontal)"
   ],
   "id": "188123522ad96672",
   "outputs": [
    {
     "name": "stdout",
     "output_type": "stream",
     "text": [
      "ARRAY CONCATENATION AND SPLITTING\n",
      "--------------------------------------------------\n",
      "Horizontal concatenation:\n",
      " [[1 2 5 6]\n",
      " [3 4 7 8]]\n"
     ]
    }
   ],
   "execution_count": 216
  },
  {
   "metadata": {
    "ExecuteTime": {
     "end_time": "2024-10-24T09:11:40.157596Z",
     "start_time": "2024-10-24T09:11:40.154861Z"
    }
   },
   "cell_type": "code",
   "source": [
    "# Stack them along a new axis\n",
    "stacked = np.stack((arr1, arr2), axis=0)\n",
    "stacked"
   ],
   "id": "7d0aebfe862686d9",
   "outputs": [
    {
     "data": {
      "text/plain": [
       "array([[[1, 2],\n",
       "        [3, 4]],\n",
       "\n",
       "       [[5, 6],\n",
       "        [7, 8]]])"
      ]
     },
     "execution_count": 217,
     "metadata": {},
     "output_type": "execute_result"
    }
   ],
   "execution_count": 217
  },
  {
   "metadata": {
    "ExecuteTime": {
     "end_time": "2024-10-24T09:11:40.204402Z",
     "start_time": "2024-10-24T09:11:40.201601Z"
    }
   },
   "cell_type": "code",
   "source": [
    "# vstack() - Vertical stacking\n",
    "vstacked = np.vstack((arr1, arr2))\n",
    "vstacked"
   ],
   "id": "cb45b8fcb693071",
   "outputs": [
    {
     "data": {
      "text/plain": [
       "array([[1, 2],\n",
       "       [3, 4],\n",
       "       [5, 6],\n",
       "       [7, 8]])"
      ]
     },
     "execution_count": 218,
     "metadata": {},
     "output_type": "execute_result"
    }
   ],
   "execution_count": 218
  },
  {
   "metadata": {
    "ExecuteTime": {
     "end_time": "2024-10-24T09:11:40.252577Z",
     "start_time": "2024-10-24T09:11:40.249103Z"
    }
   },
   "cell_type": "code",
   "source": [
    "# hstack() - Horizontal stacking\n",
    "hstacked = np.hstack((arr1, arr2))\n",
    "hstacked"
   ],
   "id": "b42bef12b64085f5",
   "outputs": [
    {
     "data": {
      "text/plain": [
       "array([[1, 2, 5, 6],\n",
       "       [3, 4, 7, 8]])"
      ]
     },
     "execution_count": 219,
     "metadata": {},
     "output_type": "execute_result"
    }
   ],
   "execution_count": 219
  },
  {
   "metadata": {},
   "cell_type": "markdown",
   "source": [
    "### note: For both stacking methods, the input arrays must have compatible dimensions:\n",
    "\n",
    "#### For vertical stacking, the arrays must have the same number of columns.\n",
    "#### For horizontal stacking, the arrays must have the same number of rows."
   ],
   "id": "25e27bb96cb7fd2a"
  },
  {
   "metadata": {},
   "cell_type": "markdown",
   "source": "# Splitting Arrays",
   "id": "97cbb6b83a65d250"
  },
  {
   "metadata": {
    "ExecuteTime": {
     "end_time": "2024-10-24T09:11:40.299068Z",
     "start_time": "2024-10-24T09:11:40.295888Z"
    }
   },
   "cell_type": "code",
   "source": [
    "# Split horizontally into 4 parts\n",
    "hsplit = np.hsplit(concat_horizontal, 4)"
   ],
   "id": "dcfcc22679fc1447",
   "outputs": [],
   "execution_count": 220
  },
  {
   "metadata": {
    "ExecuteTime": {
     "end_time": "2024-10-24T09:11:40.361888Z",
     "start_time": "2024-10-24T09:11:40.358747Z"
    }
   },
   "cell_type": "code",
   "source": [
    "print(\"\\nHorizontal split:\")\n",
    "print(\"First part:\", hsplit[0])"
   ],
   "id": "7237b4c4e197d2f7",
   "outputs": [
    {
     "name": "stdout",
     "output_type": "stream",
     "text": [
      "\n",
      "Horizontal split:\n",
      "First part: [[1]\n",
      " [3]]\n"
     ]
    }
   ],
   "execution_count": 221
  },
  {
   "metadata": {
    "ExecuteTime": {
     "end_time": "2024-10-24T09:11:40.416937Z",
     "start_time": "2024-10-24T09:11:40.413892Z"
    }
   },
   "cell_type": "code",
   "source": "print(\"Second part:\\n\", hsplit[1])",
   "id": "72b1c9ef2af1efc9",
   "outputs": [
    {
     "name": "stdout",
     "output_type": "stream",
     "text": [
      "Second part:\n",
      " [[2]\n",
      " [4]]\n"
     ]
    }
   ],
   "execution_count": 222
  },
  {
   "metadata": {
    "ExecuteTime": {
     "end_time": "2024-10-24T09:11:40.434292Z",
     "start_time": "2024-10-24T09:11:40.431426Z"
    }
   },
   "cell_type": "code",
   "source": "print(\"Third part:\\n\", hsplit[2])",
   "id": "38031af187077b2f",
   "outputs": [
    {
     "name": "stdout",
     "output_type": "stream",
     "text": [
      "Third part:\n",
      " [[5]\n",
      " [7]]\n"
     ]
    }
   ],
   "execution_count": 223
  },
  {
   "metadata": {
    "ExecuteTime": {
     "end_time": "2024-10-24T09:11:40.471216Z",
     "start_time": "2024-10-24T09:11:40.467587Z"
    }
   },
   "cell_type": "code",
   "source": "print(\"Fourth part:\\n\", hsplit[3])",
   "id": "92ee00dcfccd3399",
   "outputs": [
    {
     "name": "stdout",
     "output_type": "stream",
     "text": [
      "Fourth part:\n",
      " [[6]\n",
      " [8]]\n"
     ]
    }
   ],
   "execution_count": 224
  },
  {
   "metadata": {},
   "cell_type": "markdown",
   "source": "# Combined Operations Example",
   "id": "a261b464b6b28c8a"
  },
  {
   "metadata": {
    "ExecuteTime": {
     "end_time": "2024-10-24T09:11:40.510642Z",
     "start_time": "2024-10-24T09:11:40.507611Z"
    }
   },
   "cell_type": "code",
   "source": [
    "print(\"COMBINED OPERATIONS EXAMPLE\")\n",
    "print(\"-\" * 50)\n",
    "\n",
    "# Create a complex array\n",
    "complex_arr = np.arange(24).reshape(4, 6)\n",
    "print(\"Original array:\\n\", complex_arr)\n",
    "\n"
   ],
   "id": "523d1eccf3aed7f2",
   "outputs": [
    {
     "name": "stdout",
     "output_type": "stream",
     "text": [
      "COMBINED OPERATIONS EXAMPLE\n",
      "--------------------------------------------------\n",
      "Original array:\n",
      " [[ 0  1  2  3  4  5]\n",
      " [ 6  7  8  9 10 11]\n",
      " [12 13 14 15 16 17]\n",
      " [18 19 20 21 22 23]]\n"
     ]
    }
   ],
   "execution_count": 225
  },
  {
   "metadata": {
    "ExecuteTime": {
     "end_time": "2024-10-24T09:11:40.532171Z",
     "start_time": "2024-10-24T09:11:40.528773Z"
    }
   },
   "cell_type": "code",
   "source": [
    "# Split into three parts horizontally\n",
    "splits = np.hsplit(complex_arr, 3)\n",
    "splits"
   ],
   "id": "6b11f46f004b4ca8",
   "outputs": [
    {
     "data": {
      "text/plain": [
       "[array([[ 0,  1],\n",
       "        [ 6,  7],\n",
       "        [12, 13],\n",
       "        [18, 19]]),\n",
       " array([[ 2,  3],\n",
       "        [ 8,  9],\n",
       "        [14, 15],\n",
       "        [20, 21]]),\n",
       " array([[ 4,  5],\n",
       "        [10, 11],\n",
       "        [16, 17],\n",
       "        [22, 23]])]"
      ]
     },
     "execution_count": 226,
     "metadata": {},
     "output_type": "execute_result"
    }
   ],
   "execution_count": 226
  },
  {
   "metadata": {
    "ExecuteTime": {
     "end_time": "2024-10-24T09:11:40.571614Z",
     "start_time": "2024-10-24T09:11:40.567630Z"
    }
   },
   "cell_type": "code",
   "source": [
    "# Perform operations on each split\n",
    "processed_splits = [split * 2 for split in splits]\n",
    "processed_splits"
   ],
   "id": "8dcca8dfcd6d1585",
   "outputs": [
    {
     "data": {
      "text/plain": [
       "[array([[ 0,  2],\n",
       "        [12, 14],\n",
       "        [24, 26],\n",
       "        [36, 38]]),\n",
       " array([[ 4,  6],\n",
       "        [16, 18],\n",
       "        [28, 30],\n",
       "        [40, 42]]),\n",
       " array([[ 8, 10],\n",
       "        [20, 22],\n",
       "        [32, 34],\n",
       "        [44, 46]])]"
      ]
     },
     "execution_count": 227,
     "metadata": {},
     "output_type": "execute_result"
    }
   ],
   "execution_count": 227
  },
  {
   "metadata": {
    "ExecuteTime": {
     "end_time": "2024-10-24T09:11:40.600688Z",
     "start_time": "2024-10-24T09:11:40.596784Z"
    }
   },
   "cell_type": "code",
   "source": [
    "# Stack them vertically\n",
    "final_result = np.vstack(processed_splits)\n",
    "print(\"\\nFinal result after splitting, processing, and stacking:\\n\", final_result)"
   ],
   "id": "827b5653b0cf882f",
   "outputs": [
    {
     "name": "stdout",
     "output_type": "stream",
     "text": [
      "\n",
      "Final result after splitting, processing, and stacking:\n",
      " [[ 0  2]\n",
      " [12 14]\n",
      " [24 26]\n",
      " [36 38]\n",
      " [ 4  6]\n",
      " [16 18]\n",
      " [28 30]\n",
      " [40 42]\n",
      " [ 8 10]\n",
      " [20 22]\n",
      " [32 34]\n",
      " [44 46]]\n"
     ]
    }
   ],
   "execution_count": 228
  }
 ],
 "metadata": {
  "kernelspec": {
   "display_name": "Python 3",
   "language": "python",
   "name": "python3"
  },
  "language_info": {
   "codemirror_mode": {
    "name": "ipython",
    "version": 2
   },
   "file_extension": ".py",
   "mimetype": "text/x-python",
   "name": "python",
   "nbconvert_exporter": "python",
   "pygments_lexer": "ipython2",
   "version": "2.7.6"
  }
 },
 "nbformat": 4,
 "nbformat_minor": 5
}
