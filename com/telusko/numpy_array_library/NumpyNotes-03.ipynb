{
 "cells": [
  {
   "metadata": {},
   "cell_type": "markdown",
   "source": "# Mathematical Operations in Numpy",
   "id": "5e5ea1e983f65ec2"
  },
  {
   "metadata": {
    "ExecuteTime": {
     "end_time": "2024-10-25T05:16:44.682951Z",
     "start_time": "2024-10-25T05:16:44.681003Z"
    }
   },
   "cell_type": "code",
   "source": [
    "import numpy as np\n",
    "from numpy import dtype"
   ],
   "id": "6128900b5c5c446f",
   "outputs": [],
   "execution_count": 106
  },
  {
   "metadata": {},
   "cell_type": "markdown",
   "source": "## Element-wise Operations",
   "id": "f421ff7e0f568d72"
  },
  {
   "metadata": {
    "ExecuteTime": {
     "end_time": "2024-10-25T05:16:44.702156Z",
     "start_time": "2024-10-25T05:16:44.698955Z"
    }
   },
   "cell_type": "code",
   "source": [
    "#Element-wise Addition\n",
    "a = np.array([1, 2, 3])\n",
    "b = np.array([4, 5, 6])\n",
    "addition_result = a + b\n",
    "addition_result\n"
   ],
   "id": "caa66c2326f521b9",
   "outputs": [
    {
     "data": {
      "text/plain": [
       "array([5, 7, 9])"
      ]
     },
     "execution_count": 107,
     "metadata": {},
     "output_type": "execute_result"
    }
   ],
   "execution_count": 107
  },
  {
   "metadata": {
    "ExecuteTime": {
     "end_time": "2024-10-25T05:16:44.737236Z",
     "start_time": "2024-10-25T05:16:44.734060Z"
    }
   },
   "cell_type": "code",
   "source": [
    "# Element-wise Subtraction\n",
    "subtraction_result = a - b\n",
    "subtraction_result"
   ],
   "id": "71ace3f3f9059b92",
   "outputs": [
    {
     "data": {
      "text/plain": [
       "array([-3, -3, -3])"
      ]
     },
     "execution_count": 108,
     "metadata": {},
     "output_type": "execute_result"
    }
   ],
   "execution_count": 108
  },
  {
   "metadata": {
    "ExecuteTime": {
     "end_time": "2024-10-25T05:16:44.764301Z",
     "start_time": "2024-10-25T05:16:44.761240Z"
    }
   },
   "cell_type": "code",
   "source": [
    "#  Element-wise Multiplication\n",
    "multiplication_result = a * b\n",
    "multiplication_result"
   ],
   "id": "3c27ebe6fed9edf8",
   "outputs": [
    {
     "data": {
      "text/plain": [
       "array([ 4, 10, 18])"
      ]
     },
     "execution_count": 109,
     "metadata": {},
     "output_type": "execute_result"
    }
   ],
   "execution_count": 109
  },
  {
   "metadata": {
    "ExecuteTime": {
     "end_time": "2024-10-25T05:16:44.800555Z",
     "start_time": "2024-10-25T05:16:44.796925Z"
    }
   },
   "cell_type": "code",
   "source": [
    "#  Element-wise Division\n",
    "division_result = a / b\n",
    "division_result"
   ],
   "id": "a28a46d7af8b468b",
   "outputs": [
    {
     "data": {
      "text/plain": [
       "array([0.25, 0.4 , 0.5 ])"
      ]
     },
     "execution_count": 110,
     "metadata": {},
     "output_type": "execute_result"
    }
   ],
   "execution_count": 110
  },
  {
   "metadata": {
    "ExecuteTime": {
     "end_time": "2024-10-25T05:16:44.827990Z",
     "start_time": "2024-10-25T05:16:44.824560Z"
    }
   },
   "cell_type": "code",
   "source": [
    "# Element-wise Exponentiation\n",
    "exponentiation_result = a ** 2\n",
    "exponentiation_result"
   ],
   "id": "17a5f65b5a817f72",
   "outputs": [
    {
     "data": {
      "text/plain": [
       "array([1, 4, 9])"
      ]
     },
     "execution_count": 111,
     "metadata": {},
     "output_type": "execute_result"
    }
   ],
   "execution_count": 111
  },
  {
   "metadata": {},
   "cell_type": "markdown",
   "source": [
    "## Universal Functions (ufuncs)\n",
    "### \n",
    "### Radians and degrees are two units used to measure angles.\n",
    "\n",
    "### Degrees:\n",
    "\n",
    "#### A circle is divided into 360 equal parts, and each part is called a degree (°). So, one complete revolution around a circle is 360°.\n",
    "\n",
    "### Radians:\n",
    "\n",
    "#### A radian is based on the radius of a circle. It is the angle subtended by an arc whose length is equal to the radius of the circle. \n",
    "### There are 2π radians in a complete revolution around a circle.\n"
   ],
   "id": "a871770a587a2af6"
  },
  {
   "metadata": {},
   "cell_type": "markdown",
   "source": "## pi=180 degrees",
   "id": "8d6b2cb60d41fcee"
  },
  {
   "metadata": {},
   "cell_type": "markdown",
   "source": "### 1. Sine Function",
   "id": "f57fbb8dcac30fc4"
  },
  {
   "metadata": {
    "ExecuteTime": {
     "end_time": "2024-10-25T05:16:44.864182Z",
     "start_time": "2024-10-25T05:16:44.861126Z"
    }
   },
   "cell_type": "code",
   "source": [
    "# Sine Function\n",
    "angles = np.array([0, np.pi/2, np.pi])\n",
    "sine_result = np.sin(angles)\n",
    "sine_result\n"
   ],
   "id": "2c6a4c3b4af31550",
   "outputs": [
    {
     "data": {
      "text/plain": [
       "array([0.0000000e+00, 1.0000000e+00, 1.2246468e-16])"
      ]
     },
     "execution_count": 112,
     "metadata": {},
     "output_type": "execute_result"
    }
   ],
   "execution_count": 112
  },
  {
   "metadata": {},
   "cell_type": "markdown",
   "source": "### 2.Cos Function",
   "id": "1028eb2ca51ebdd6"
  },
  {
   "metadata": {
    "ExecuteTime": {
     "end_time": "2024-10-25T05:16:44.906968Z",
     "start_time": "2024-10-25T05:16:44.903764Z"
    }
   },
   "cell_type": "code",
   "source": [
    "#Cosine Function\n",
    "cosine_result = np.cos(angles)\n",
    "cosine_result\n"
   ],
   "id": "d4f3e186517bd7f5",
   "outputs": [
    {
     "data": {
      "text/plain": [
       "array([ 1.000000e+00,  6.123234e-17, -1.000000e+00])"
      ]
     },
     "execution_count": 113,
     "metadata": {},
     "output_type": "execute_result"
    }
   ],
   "execution_count": 113
  },
  {
   "metadata": {},
   "cell_type": "markdown",
   "source": [
    "### 3. Exponential Function\n",
    "#### The exponential function is $e^x$, where e is Euler's number (approximately 2.71828), and x is the element of the array."
   ],
   "id": "e3b0b877908929fb"
  },
  {
   "metadata": {
    "ExecuteTime": {
     "end_time": "2024-10-25T05:16:44.937792Z",
     "start_time": "2024-10-25T05:16:44.934442Z"
    }
   },
   "cell_type": "code",
   "source": [
    "# Exponential Function\n",
    "# numpy array a is defined at the start of this jupyter notebook.\n",
    "exponential_result = np.exp(a)\n",
    "exponential_result\n"
   ],
   "id": "653ac25085c5ca1f",
   "outputs": [
    {
     "data": {
      "text/plain": [
       "array([ 2.71828183,  7.3890561 , 20.08553692])"
      ]
     },
     "execution_count": 114,
     "metadata": {},
     "output_type": "execute_result"
    }
   ],
   "execution_count": 114
  },
  {
   "metadata": {},
   "cell_type": "markdown",
   "source": [
    "### 4. Logarithm Function  np.log() function:\n",
    "#### np.log() calculates the natural logarithm (logarithm base e) of each element in the input array. The natural logarithm of a number x is written as ln(x), and it is the inverse of the exponential function $𝑒^x$ .The logarithm of x, where 𝑥=0, is undefined because the natural logarithm of zero approaches negative infinity."
   ],
   "id": "65d981b837267638"
  },
  {
   "metadata": {
    "ExecuteTime": {
     "end_time": "2024-10-25T05:16:44.969847Z",
     "start_time": "2024-10-25T05:16:44.966721Z"
    }
   },
   "cell_type": "code",
   "source": [
    "#Logarithm Function\n",
    "logarithm_result = np.log(a)  # you can add 1 to each element using a+1 to avoid log(0)\n",
    "logarithm_result\n"
   ],
   "id": "cc34caa9e8471f35",
   "outputs": [
    {
     "data": {
      "text/plain": [
       "array([0.        , 0.69314718, 1.09861229])"
      ]
     },
     "execution_count": 115,
     "metadata": {},
     "output_type": "execute_result"
    }
   ],
   "execution_count": 115
  },
  {
   "metadata": {},
   "cell_type": "markdown",
   "source": [
    "## Linear Algebra Functions\n",
    "\n",
    "\n",
    "\n",
    "### 1. Dot Product\n",
    "\n",
    "#### np.dot(a, b) computes the dot product of arrays a and b.\n",
    "#### If a and b are both 1D arrays, it performs the traditional dot product of vectors.\n",
    "#### If a and b are both 2D arrays, it performs matrix multiplication."
   ],
   "id": "ca7d4e77f046ebd6"
  },
  {
   "metadata": {
    "ExecuteTime": {
     "end_time": "2024-10-25T05:16:45.004788Z",
     "start_time": "2024-10-25T05:16:45.001218Z"
    }
   },
   "cell_type": "code",
   "source": [
    "#  Dot Product\n",
    "dot_product_result = np.dot(a, b)\n",
    "dot_product_result\n"
   ],
   "id": "5973b7e1fbb238db",
   "outputs": [
    {
     "data": {
      "text/plain": [
       "np.int64(32)"
      ]
     },
     "execution_count": 116,
     "metadata": {},
     "output_type": "execute_result"
    }
   ],
   "execution_count": 116
  },
  {
   "metadata": {},
   "cell_type": "markdown",
   "source": "### 2. Matrix Inversion",
   "id": "436f483ecfe8023f"
  },
  {
   "metadata": {
    "ExecuteTime": {
     "end_time": "2024-10-25T05:16:45.033192Z",
     "start_time": "2024-10-25T05:16:45.029721Z"
    }
   },
   "cell_type": "code",
   "source": [
    "#  Matrix Inversion\n",
    "matrix = np.array([[1, 2], [3, 4]])\n",
    "inverse_result = np.linalg.inv(matrix)\n",
    "inverse_result\n"
   ],
   "id": "73d6b6aaf886e2d8",
   "outputs": [
    {
     "data": {
      "text/plain": [
       "array([[-2. ,  1. ],\n",
       "       [ 1.5, -0.5]])"
      ]
     },
     "execution_count": 117,
     "metadata": {},
     "output_type": "execute_result"
    }
   ],
   "execution_count": 117
  },
  {
   "metadata": {},
   "cell_type": "markdown",
   "source": [
    "### 3. Solving Linear Equations with `np.linalg.solve` in NumPy\n",
    "\n",
    "When working with systems of linear equations in Python, `np.linalg.solve` is your go-to function for finding solutions efficiently. It is designed to solve equations of the form:\n",
    "\n",
    "\\[\n",
    "Ax = B\n",
    "\\]\n",
    "\n",
    "Where:\n",
    "- **A**: is the coefficient matrix (square and invertible).\n",
    "- **B**: is a vector or matrix representing known values.\n",
    "- **x**: is the unknown variable vector that you're solving for.\n",
    "\n",
    "\n",
    "Instead of manually computing the inverse of a matrix (which can be computationally expensive and numerically unstable), `np.linalg.solve` solves the system directly, providing a faster and more accurate solution.\n",
    " \n",
    "A: The coefficient matrix (must be square).If A is not invertible, np.linalg.solve will throw a LinAlgError, indicating that the matrix is singular.\n",
    "\n",
    "B: The dependent variable values (a vector or matrix)\n",
    "\n",
    "### Syntax\n",
    "\n",
    "```python\n",
    "np.linalg.solve(A, B)\n",
    "\n",
    "\n"
   ],
   "id": "9114ec8cfc588756"
  },
  {
   "metadata": {
    "ExecuteTime": {
     "end_time": "2024-10-25T05:16:45.066153Z",
     "start_time": "2024-10-25T05:16:45.062485Z"
    }
   },
   "cell_type": "code",
   "source": [
    "#np.linalg.solve()\n",
    "import numpy as np\n",
    "\n",
    "# Coefficient matrix A and constant matrix B\n",
    "A = np.array([[2, 3], [1, -4]])\n",
    "B = np.array([8, -2])\n",
    "\n",
    "# Solving for x\n",
    "x = np.linalg.solve(A, B)\n",
    "print(x)  # Output: [x_value, y_value]\n",
    "\n"
   ],
   "id": "2244c6406411a792",
   "outputs": [
    {
     "name": "stdout",
     "output_type": "stream",
     "text": [
      "[2.36363636 1.09090909]\n"
     ]
    }
   ],
   "execution_count": 118
  },
  {
   "metadata": {},
   "cell_type": "markdown",
   "source": "# Statistical Functions",
   "id": "2f80482216e5e093"
  },
  {
   "metadata": {},
   "cell_type": "markdown",
   "source": [
    "### 1. `np.mean()`\n",
    "\n",
    "This function computes the average of all the elements in the array. The arithmetic mean is the sum of the elements divided by the number of elements.\n"
   ],
   "id": "9399da24eba76041"
  },
  {
   "metadata": {
    "ExecuteTime": {
     "end_time": "2024-10-25T05:16:45.102918Z",
     "start_time": "2024-10-25T05:16:45.099079Z"
    }
   },
   "cell_type": "code",
   "source": [
    "arr = np.array([1, 2, 3, 4, 5])\n",
    "mean_value = np.mean(arr)\n",
    "mean_value  # Output: 3.0"
   ],
   "id": "1fd94e9991b6c6e1",
   "outputs": [
    {
     "data": {
      "text/plain": [
       "np.float64(3.0)"
      ]
     },
     "execution_count": 119,
     "metadata": {},
     "output_type": "execute_result"
    }
   ],
   "execution_count": 119
  },
  {
   "metadata": {},
   "cell_type": "markdown",
   "source": [
    "### `np.mean()` for 2D Arrays\n",
    "In a 2D array, `np.mean()` can compute:\n",
    "\n",
    "1. The overall mean of all elements in the array.\n",
    "2. The mean along a specified axis:\n",
    "   - **axis=0**: Calculates the mean along each column.\n",
    "   - **axis=1**: Calculates the mean along each row.\n",
    "\n",
    "Using `axis` makes it easy to get the mean of rows or columns in matrices.\n"
   ],
   "id": "d2092f6016478abc"
  },
  {
   "metadata": {
    "ExecuteTime": {
     "end_time": "2024-10-25T05:16:45.177434Z",
     "start_time": "2024-10-25T05:16:45.173923Z"
    }
   },
   "cell_type": "code",
   "source": [
    "arr_2d = np.array([[1, 2, 3], [4, 5, 6], [7, 8, 9]])\n",
    "overall_mean = np.mean(arr_2d)\n",
    "overall_mean  # Output: 5.0\n"
   ],
   "id": "a474907734f73d",
   "outputs": [
    {
     "data": {
      "text/plain": [
       "np.float64(5.0)"
      ]
     },
     "execution_count": 120,
     "metadata": {},
     "output_type": "execute_result"
    }
   ],
   "execution_count": 120
  },
  {
   "metadata": {},
   "cell_type": "markdown",
   "source": [
    "### 2. `np.median()`\n",
    "The `np.median()` function finds the median, which is the middle value of the array when sorted. If the array has an even number of elements, it returns the average of the two middle values.\n"
   ],
   "id": "d8e751840c5fd944"
  },
  {
   "metadata": {
    "ExecuteTime": {
     "end_time": "2024-10-25T05:16:45.205356Z",
     "start_time": "2024-10-25T05:16:45.202205Z"
    }
   },
   "cell_type": "code",
   "source": [
    "arr = np.array([1, 3, 3, 6, 7, 8, 9])\n",
    "median_value = np.median(arr)\n",
    "median_value  # Output: 6.0\n"
   ],
   "id": "e7ee51b250c3978",
   "outputs": [
    {
     "data": {
      "text/plain": [
       "np.float64(6.0)"
      ]
     },
     "execution_count": 121,
     "metadata": {},
     "output_type": "execute_result"
    }
   ],
   "execution_count": 121
  },
  {
   "metadata": {},
   "cell_type": "markdown",
   "source": [
    "### `np.median()` for 2D Arrays\n",
    "For a 2D array, `np.median()` can calculate:\n",
    "\n",
    "1. The median of all elements in the array.\n",
    "2. The median along a specific axis:\n",
    "   - **axis=0**: Calculates the median for each column.\n",
    "   - **axis=1**: Calculates the median for each row.\n"
   ],
   "id": "170798961c12fde7"
  },
  {
   "metadata": {
    "ExecuteTime": {
     "end_time": "2024-10-25T05:16:45.238481Z",
     "start_time": "2024-10-25T05:16:45.235370Z"
    }
   },
   "cell_type": "code",
   "source": [
    "overall_median = np.median(arr_2d,axis=1)\n",
    "overall_median\n"
   ],
   "id": "98bad9f8d69f8bd1",
   "outputs": [
    {
     "data": {
      "text/plain": [
       "array([2., 5., 8.])"
      ]
     },
     "execution_count": 122,
     "metadata": {},
     "output_type": "execute_result"
    }
   ],
   "execution_count": 122
  },
  {
   "metadata": {},
   "cell_type": "markdown",
   "source": [
    "### In the context of NumPy arrays:\n",
    "\n",
    "Axis 0 refers to the vertical axis (rows).\n",
    "Axis 1 refers to the horizontal axis (columns)"
   ],
   "id": "9cece94fea64288c"
  },
  {
   "metadata": {},
   "cell_type": "markdown",
   "source": [
    "### 3. `np.std()`\n",
    "The `np.std()` function computes the standard deviation, which measures how spread out the numbers are from the mean. A lower value indicates that the data points are close to the mean, while a higher value indicates more spread.\n"
   ],
   "id": "d243897772ac96f2"
  },
  {
   "metadata": {
    "ExecuteTime": {
     "end_time": "2024-10-25T05:16:45.272602Z",
     "start_time": "2024-10-25T05:16:45.268585Z"
    }
   },
   "cell_type": "code",
   "source": [
    "arr = np.array([1, 2, 3, 4, 5])\n",
    "std_value = np.std(arr)\n",
    "std_value  # Output: 1.4142135623730951\n"
   ],
   "id": "3c88458807a78fb9",
   "outputs": [
    {
     "data": {
      "text/plain": [
       "np.float64(1.4142135623730951)"
      ]
     },
     "execution_count": 123,
     "metadata": {},
     "output_type": "execute_result"
    }
   ],
   "execution_count": 123
  },
  {
   "metadata": {},
   "cell_type": "markdown",
   "source": [
    "### `np.std()` for 2D Arrays\n",
    "For a 2D array, `np.std()` computes the standard deviation, which can measure:\n",
    "\n",
    "1. The overall spread of all elements.\n",
    "2. The spread along a specified axis:\n",
    "   - **axis=0**: Calculates standard deviation for each column.(vertical axis)\n",
    "   - **axis=1**: Calculates standard deviation for each row. (horizontal axis)\n"
   ],
   "id": "8f31fd2d29e6ff4"
  },
  {
   "metadata": {
    "ExecuteTime": {
     "end_time": "2024-10-25T05:16:45.299069Z",
     "start_time": "2024-10-25T05:16:45.295289Z"
    }
   },
   "cell_type": "code",
   "source": [
    "overall_std = np.std(arr_2d)\n",
    "overall_std  # Output: 2.581988897471611"
   ],
   "id": "5b1c8e386afb616",
   "outputs": [
    {
     "data": {
      "text/plain": [
       "np.float64(2.581988897471611)"
      ]
     },
     "execution_count": 124,
     "metadata": {},
     "output_type": "execute_result"
    }
   ],
   "execution_count": 124
  },
  {
   "metadata": {
    "ExecuteTime": {
     "end_time": "2024-10-25T05:16:45.322115Z",
     "start_time": "2024-10-25T05:16:45.318420Z"
    }
   },
   "cell_type": "code",
   "source": [
    "column_std = np.std(arr_2d, axis=0)\n",
    "column_std  # Output: [2.44948974 2.44948974 2.44948974]"
   ],
   "id": "d60d493a196a0e4",
   "outputs": [
    {
     "data": {
      "text/plain": [
       "array([2.44948974, 2.44948974, 2.44948974])"
      ]
     },
     "execution_count": 125,
     "metadata": {},
     "output_type": "execute_result"
    }
   ],
   "execution_count": 125
  },
  {
   "metadata": {},
   "cell_type": "markdown",
   "source": [
    "### 4. `np.sum()`\n",
    "The `np.sum()` function returns the sum of all elements in the array. It can also sum along specific axes for multi-dimensional arrays.\n"
   ],
   "id": "13e620c8d4b5e60d"
  },
  {
   "metadata": {
    "ExecuteTime": {
     "end_time": "2024-10-25T05:16:45.358228Z",
     "start_time": "2024-10-25T05:16:45.354636Z"
    }
   },
   "cell_type": "code",
   "source": [
    "arr = np.array([1, 2, 3, 4, 5])\n",
    "sum_value = np.sum(arr)\n",
    "sum_value  # Output: 15\n"
   ],
   "id": "6a18e05b5f7c94e1",
   "outputs": [
    {
     "data": {
      "text/plain": [
       "np.int64(15)"
      ]
     },
     "execution_count": 126,
     "metadata": {},
     "output_type": "execute_result"
    }
   ],
   "execution_count": 126
  },
  {
   "metadata": {},
   "cell_type": "markdown",
   "source": [
    "### `np.sum()` for 2D Arrays\n",
    "For a 2D array, `np.sum()` can calculate:\n",
    "\n",
    "1. The total sum of all elements in the array.\n",
    "2. The sum along a specific axis:\n",
    "   - **axis=0**: Calculates the sum for each column.\n",
    "   - **axis=1**: Calculates the sum for each row.\n"
   ],
   "id": "1616d3145dc31f8c"
  },
  {
   "metadata": {
    "ExecuteTime": {
     "end_time": "2024-10-25T05:16:45.457435Z",
     "start_time": "2024-10-25T05:16:45.454279Z"
    }
   },
   "cell_type": "code",
   "source": [
    "overall_sum = np.sum(arr_2d)\n",
    "print(overall_sum)  # Output: 45\n"
   ],
   "id": "aee95442c329aa76",
   "outputs": [
    {
     "name": "stdout",
     "output_type": "stream",
     "text": [
      "45\n"
     ]
    }
   ],
   "execution_count": 127
  },
  {
   "metadata": {
    "ExecuteTime": {
     "end_time": "2024-10-25T05:16:45.501598Z",
     "start_time": "2024-10-25T05:16:45.497327Z"
    }
   },
   "cell_type": "code",
   "source": [
    "row_sum = np.sum(arr_2d, axis=1)\n",
    "row_sum  # Output: [ 6 15 24]\n"
   ],
   "id": "d434f5ab81e00988",
   "outputs": [
    {
     "data": {
      "text/plain": [
       "array([ 6, 15, 24])"
      ]
     },
     "execution_count": 128,
     "metadata": {},
     "output_type": "execute_result"
    }
   ],
   "execution_count": 128
  }
 ],
 "metadata": {
  "kernelspec": {
   "display_name": "Python 3",
   "language": "python",
   "name": "python3"
  },
  "language_info": {
   "codemirror_mode": {
    "name": "ipython",
    "version": 2
   },
   "file_extension": ".py",
   "mimetype": "text/x-python",
   "name": "python",
   "nbconvert_exporter": "python",
   "pygments_lexer": "ipython2",
   "version": "2.7.6"
  }
 },
 "nbformat": 4,
 "nbformat_minor": 5
}
