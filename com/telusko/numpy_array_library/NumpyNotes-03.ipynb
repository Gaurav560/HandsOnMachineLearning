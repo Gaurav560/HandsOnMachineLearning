{
 "cells": [
  {
   "metadata": {},
   "cell_type": "markdown",
   "source": "# Mathematical Operations in Numpy",
   "id": "5e5ea1e983f65ec2"
  },
  {
   "metadata": {
    "ExecuteTime": {
     "end_time": "2024-10-24T09:28:45.869481Z",
     "start_time": "2024-10-24T09:28:45.866932Z"
    }
   },
   "cell_type": "code",
   "source": "import numpy as np",
   "id": "6128900b5c5c446f",
   "outputs": [],
   "execution_count": 17
  },
  {
   "metadata": {},
   "cell_type": "markdown",
   "source": "## Element-wise Operations",
   "id": "f421ff7e0f568d72"
  },
  {
   "metadata": {
    "ExecuteTime": {
     "end_time": "2024-10-24T09:28:45.885705Z",
     "start_time": "2024-10-24T09:28:45.882517Z"
    }
   },
   "cell_type": "code",
   "source": [
    "# Cell 2: Element-wise Addition\n",
    "a = np.array([1, 2, 3])\n",
    "b = np.array([4, 5, 6])\n",
    "addition_result = a + b\n",
    "addition_result\n"
   ],
   "id": "caa66c2326f521b9",
   "outputs": [
    {
     "data": {
      "text/plain": [
       "array([5, 7, 9])"
      ]
     },
     "execution_count": 18,
     "metadata": {},
     "output_type": "execute_result"
    }
   ],
   "execution_count": 18
  },
  {
   "metadata": {
    "ExecuteTime": {
     "end_time": "2024-10-24T09:28:45.987779Z",
     "start_time": "2024-10-24T09:28:45.982487Z"
    }
   },
   "cell_type": "code",
   "source": [
    "# Cell 3: Element-wise Subtraction\n",
    "subtraction_result = a - b\n",
    "subtraction_result"
   ],
   "id": "71ace3f3f9059b92",
   "outputs": [
    {
     "data": {
      "text/plain": [
       "array([-3, -3, -3])"
      ]
     },
     "execution_count": 19,
     "metadata": {},
     "output_type": "execute_result"
    }
   ],
   "execution_count": 19
  },
  {
   "metadata": {
    "ExecuteTime": {
     "end_time": "2024-10-24T09:28:46.096402Z",
     "start_time": "2024-10-24T09:28:46.092248Z"
    }
   },
   "cell_type": "code",
   "source": [
    "# Cell 4: Element-wise Multiplication\n",
    "multiplication_result = a * b\n",
    "multiplication_result"
   ],
   "id": "3c27ebe6fed9edf8",
   "outputs": [
    {
     "data": {
      "text/plain": [
       "array([ 4, 10, 18])"
      ]
     },
     "execution_count": 20,
     "metadata": {},
     "output_type": "execute_result"
    }
   ],
   "execution_count": 20
  },
  {
   "metadata": {
    "ExecuteTime": {
     "end_time": "2024-10-24T09:28:46.145786Z",
     "start_time": "2024-10-24T09:28:46.141500Z"
    }
   },
   "cell_type": "code",
   "source": [
    "# Cell 5: Element-wise Division\n",
    "division_result = a / b\n",
    "division_result"
   ],
   "id": "a28a46d7af8b468b",
   "outputs": [
    {
     "data": {
      "text/plain": [
       "array([0.25, 0.4 , 0.5 ])"
      ]
     },
     "execution_count": 21,
     "metadata": {},
     "output_type": "execute_result"
    }
   ],
   "execution_count": 21
  },
  {
   "metadata": {
    "ExecuteTime": {
     "end_time": "2024-10-24T09:28:46.210490Z",
     "start_time": "2024-10-24T09:28:46.206261Z"
    }
   },
   "cell_type": "code",
   "source": [
    "# Cell 6: Element-wise Exponentiation\n",
    "exponentiation_result = a ** 2\n",
    "exponentiation_result"
   ],
   "id": "17a5f65b5a817f72",
   "outputs": [
    {
     "data": {
      "text/plain": [
       "array([1, 4, 9])"
      ]
     },
     "execution_count": 22,
     "metadata": {},
     "output_type": "execute_result"
    }
   ],
   "execution_count": 22
  },
  {
   "metadata": {},
   "cell_type": "markdown",
   "source": "## Universal Functions (ufuncs)",
   "id": "a871770a587a2af6"
  },
  {
   "metadata": {},
   "cell_type": "code",
   "outputs": [],
   "execution_count": null,
   "source": "",
   "id": "2c6a4c3b4af31550"
  }
 ],
 "metadata": {
  "kernelspec": {
   "display_name": "Python 3",
   "language": "python",
   "name": "python3"
  },
  "language_info": {
   "codemirror_mode": {
    "name": "ipython",
    "version": 2
   },
   "file_extension": ".py",
   "mimetype": "text/x-python",
   "name": "python",
   "nbconvert_exporter": "python",
   "pygments_lexer": "ipython2",
   "version": "2.7.6"
  }
 },
 "nbformat": 4,
 "nbformat_minor": 5
}
