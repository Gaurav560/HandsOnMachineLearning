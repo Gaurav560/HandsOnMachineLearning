{
 "cells": [
  {
   "metadata": {},
   "cell_type": "markdown",
   "source": "# Mathematical Operations in Numpy",
   "id": "5e5ea1e983f65ec2"
  },
  {
   "metadata": {
    "ExecuteTime": {
     "end_time": "2024-10-24T19:30:09.824228Z",
     "start_time": "2024-10-24T19:30:09.821916Z"
    }
   },
   "cell_type": "code",
   "source": "import numpy as np",
   "id": "6128900b5c5c446f",
   "outputs": [],
   "execution_count": 18
  },
  {
   "metadata": {},
   "cell_type": "markdown",
   "source": "## Element-wise Operations",
   "id": "f421ff7e0f568d72"
  },
  {
   "metadata": {
    "ExecuteTime": {
     "end_time": "2024-10-24T19:30:09.839682Z",
     "start_time": "2024-10-24T19:30:09.836232Z"
    }
   },
   "cell_type": "code",
   "source": [
    "#Element-wise Addition\n",
    "a = np.array([1, 2, 3])\n",
    "b = np.array([4, 5, 6])\n",
    "addition_result = a + b\n",
    "addition_result\n"
   ],
   "id": "caa66c2326f521b9",
   "outputs": [
    {
     "data": {
      "text/plain": [
       "array([5, 7, 9])"
      ]
     },
     "execution_count": 19,
     "metadata": {},
     "output_type": "execute_result"
    }
   ],
   "execution_count": 19
  },
  {
   "metadata": {
    "ExecuteTime": {
     "end_time": "2024-10-24T19:30:09.871689Z",
     "start_time": "2024-10-24T19:30:09.865272Z"
    }
   },
   "cell_type": "code",
   "source": [
    "# Element-wise Subtraction\n",
    "subtraction_result = a - b\n",
    "subtraction_result"
   ],
   "id": "71ace3f3f9059b92",
   "outputs": [
    {
     "data": {
      "text/plain": [
       "array([-3, -3, -3])"
      ]
     },
     "execution_count": 20,
     "metadata": {},
     "output_type": "execute_result"
    }
   ],
   "execution_count": 20
  },
  {
   "metadata": {
    "ExecuteTime": {
     "end_time": "2024-10-24T19:30:09.948074Z",
     "start_time": "2024-10-24T19:30:09.944698Z"
    }
   },
   "cell_type": "code",
   "source": [
    "#  Element-wise Multiplication\n",
    "multiplication_result = a * b\n",
    "multiplication_result"
   ],
   "id": "3c27ebe6fed9edf8",
   "outputs": [
    {
     "data": {
      "text/plain": [
       "array([ 4, 10, 18])"
      ]
     },
     "execution_count": 21,
     "metadata": {},
     "output_type": "execute_result"
    }
   ],
   "execution_count": 21
  },
  {
   "metadata": {
    "ExecuteTime": {
     "end_time": "2024-10-24T19:30:09.971838Z",
     "start_time": "2024-10-24T19:30:09.968703Z"
    }
   },
   "cell_type": "code",
   "source": [
    "#  Element-wise Division\n",
    "division_result = a / b\n",
    "division_result"
   ],
   "id": "a28a46d7af8b468b",
   "outputs": [
    {
     "data": {
      "text/plain": [
       "array([0.25, 0.4 , 0.5 ])"
      ]
     },
     "execution_count": 22,
     "metadata": {},
     "output_type": "execute_result"
    }
   ],
   "execution_count": 22
  },
  {
   "metadata": {
    "ExecuteTime": {
     "end_time": "2024-10-24T19:30:10.070635Z",
     "start_time": "2024-10-24T19:30:10.065982Z"
    }
   },
   "cell_type": "code",
   "source": [
    "# Element-wise Exponentiation\n",
    "exponentiation_result = a ** 2\n",
    "exponentiation_result"
   ],
   "id": "17a5f65b5a817f72",
   "outputs": [
    {
     "data": {
      "text/plain": [
       "array([1, 4, 9])"
      ]
     },
     "execution_count": 23,
     "metadata": {},
     "output_type": "execute_result"
    }
   ],
   "execution_count": 23
  },
  {
   "metadata": {},
   "cell_type": "markdown",
   "source": [
    "## Universal Functions (ufuncs)\n",
    "### \n",
    "### Radians and degrees are two units used to measure angles.\n",
    "\n",
    "### Degrees:\n",
    "\n",
    "#### A circle is divided into 360 equal parts, and each part is called a degree (°). So, one complete revolution around a circle is 360°.\n",
    "\n",
    "### Radians:\n",
    "\n",
    "#### A radian is based on the radius of a circle. It is the angle subtended by an arc whose length is equal to the radius of the circle. \n",
    "### There are 2π radians in a complete revolution around a circle.\n"
   ],
   "id": "a871770a587a2af6"
  },
  {
   "metadata": {},
   "cell_type": "markdown",
   "source": "## pi=180 degrees",
   "id": "8d6b2cb60d41fcee"
  },
  {
   "metadata": {},
   "cell_type": "markdown",
   "source": "### 1. Sine Function",
   "id": "f57fbb8dcac30fc4"
  },
  {
   "metadata": {
    "ExecuteTime": {
     "end_time": "2024-10-24T19:30:10.215780Z",
     "start_time": "2024-10-24T19:30:10.211020Z"
    }
   },
   "cell_type": "code",
   "source": [
    "# Sine Function\n",
    "angles = np.array([0, np.pi/2, np.pi])\n",
    "sine_result = np.sin(angles)\n",
    "sine_result\n"
   ],
   "id": "2c6a4c3b4af31550",
   "outputs": [
    {
     "data": {
      "text/plain": [
       "array([0.0000000e+00, 1.0000000e+00, 1.2246468e-16])"
      ]
     },
     "execution_count": 24,
     "metadata": {},
     "output_type": "execute_result"
    }
   ],
   "execution_count": 24
  },
  {
   "metadata": {},
   "cell_type": "markdown",
   "source": "### 2.Cos Function",
   "id": "1028eb2ca51ebdd6"
  },
  {
   "metadata": {
    "ExecuteTime": {
     "end_time": "2024-10-24T19:30:10.277911Z",
     "start_time": "2024-10-24T19:30:10.272947Z"
    }
   },
   "cell_type": "code",
   "source": [
    "#Cosine Function\n",
    "cosine_result = np.cos(angles)\n",
    "cosine_result\n"
   ],
   "id": "d4f3e186517bd7f5",
   "outputs": [
    {
     "data": {
      "text/plain": [
       "array([ 1.000000e+00,  6.123234e-17, -1.000000e+00])"
      ]
     },
     "execution_count": 25,
     "metadata": {},
     "output_type": "execute_result"
    }
   ],
   "execution_count": 25
  },
  {
   "metadata": {},
   "cell_type": "markdown",
   "source": [
    "### 3. Exponential Function\n",
    "#### The exponential function is $e^x$, where e is Euler's number (approximately 2.71828), and x is the element of the array."
   ],
   "id": "e3b0b877908929fb"
  },
  {
   "metadata": {
    "ExecuteTime": {
     "end_time": "2024-10-24T19:30:10.337943Z",
     "start_time": "2024-10-24T19:30:10.333458Z"
    }
   },
   "cell_type": "code",
   "source": [
    "# Exponential Function\n",
    "# numpy array a is defined at the start of this jupyter notebook.\n",
    "exponential_result = np.exp(a)\n",
    "exponential_result\n"
   ],
   "id": "653ac25085c5ca1f",
   "outputs": [
    {
     "data": {
      "text/plain": [
       "array([ 2.71828183,  7.3890561 , 20.08553692])"
      ]
     },
     "execution_count": 26,
     "metadata": {},
     "output_type": "execute_result"
    }
   ],
   "execution_count": 26
  },
  {
   "metadata": {},
   "cell_type": "markdown",
   "source": [
    "### 4. Logarithm Function  np.log() function:\n",
    "#### np.log() calculates the natural logarithm (logarithm base e) of each element in the input array. The natural logarithm of a number x is written as ln(x), and it is the inverse of the exponential function $𝑒^x$ .The logarithm of x, where 𝑥=0, is undefined because the natural logarithm of zero approaches negative infinity."
   ],
   "id": "65d981b837267638"
  },
  {
   "metadata": {
    "ExecuteTime": {
     "end_time": "2024-10-24T19:30:10.372462Z",
     "start_time": "2024-10-24T19:30:10.365976Z"
    }
   },
   "cell_type": "code",
   "source": [
    "#Logarithm Function\n",
    "logarithm_result = np.log(a)  # you can add 1 to avoid log(0)\n",
    "logarithm_result\n"
   ],
   "id": "cc34caa9e8471f35",
   "outputs": [
    {
     "data": {
      "text/plain": [
       "array([0.        , 0.69314718, 1.09861229])"
      ]
     },
     "execution_count": 27,
     "metadata": {},
     "output_type": "execute_result"
    }
   ],
   "execution_count": 27
  },
  {
   "metadata": {},
   "cell_type": "markdown",
   "source": [
    "## Linear Algebra Functions\n",
    "\n",
    "\n",
    "\n",
    "### 1. Dot Product\n",
    "\n",
    "#### np.dot(a, b) computes the dot product of arrays a and b.\n",
    "#### If a and b are both 1D arrays, it performs the traditional dot product of vectors.\n",
    "#### If a and b are both 2D arrays, it performs matrix multiplication."
   ],
   "id": "ca7d4e77f046ebd6"
  },
  {
   "metadata": {
    "ExecuteTime": {
     "end_time": "2024-10-24T19:30:10.388083Z",
     "start_time": "2024-10-24T19:30:10.384468Z"
    }
   },
   "cell_type": "code",
   "source": [
    "#  Dot Product\n",
    "dot_product_result = np.dot(a, b)\n",
    "dot_product_result\n"
   ],
   "id": "5973b7e1fbb238db",
   "outputs": [
    {
     "data": {
      "text/plain": [
       "np.int64(32)"
      ]
     },
     "execution_count": 28,
     "metadata": {},
     "output_type": "execute_result"
    }
   ],
   "execution_count": 28
  },
  {
   "metadata": {},
   "cell_type": "markdown",
   "source": "### 2. Matrix Inversion",
   "id": "436f483ecfe8023f"
  },
  {
   "metadata": {
    "ExecuteTime": {
     "end_time": "2024-10-24T19:30:10.417Z",
     "start_time": "2024-10-24T19:30:10.413192Z"
    }
   },
   "cell_type": "code",
   "source": [
    "# Cell 12: Matrix Inversion\n",
    "matrix = np.array([[1, 2], [3, 4]])\n",
    "inverse_result = np.linalg.inv(matrix)\n",
    "inverse_result\n"
   ],
   "id": "73d6b6aaf886e2d8",
   "outputs": [
    {
     "data": {
      "text/plain": [
       "array([[-2. ,  1. ],\n",
       "       [ 1.5, -0.5]])"
      ]
     },
     "execution_count": 29,
     "metadata": {},
     "output_type": "execute_result"
    }
   ],
   "execution_count": 29
  }
 ],
 "metadata": {
  "kernelspec": {
   "display_name": "Python 3",
   "language": "python",
   "name": "python3"
  },
  "language_info": {
   "codemirror_mode": {
    "name": "ipython",
    "version": 2
   },
   "file_extension": ".py",
   "mimetype": "text/x-python",
   "name": "python",
   "nbconvert_exporter": "python",
   "pygments_lexer": "ipython2",
   "version": "2.7.6"
  }
 },
 "nbformat": 4,
 "nbformat_minor": 5
}
