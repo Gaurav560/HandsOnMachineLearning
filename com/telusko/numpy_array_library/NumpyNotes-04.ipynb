{
 "cells": [
  {
   "metadata": {},
   "cell_type": "markdown",
   "source": "# Working with Data",
   "id": "d3f9bb4c87733502"
  },
  {
   "metadata": {},
   "cell_type": "markdown",
   "source": [
    "### 1.  Loading Data Using `np.loadtxt()`\n",
    "\n",
    "\n"
   ],
   "id": "f012802c83619d1a"
  },
  {
   "metadata": {
    "ExecuteTime": {
     "end_time": "2024-10-25T07:05:52.831168Z",
     "start_time": "2024-10-25T07:05:52.827835Z"
    }
   },
   "cell_type": "code",
   "source": [
    "import numpy as np\n",
    "\n",
    "# Load data from a file named data.txt, assuming it's space-separated\n",
    "data = np.loadtxt(\"data.txt\")\n",
    "data"
   ],
   "id": "9b3ea062f846f343",
   "outputs": [
    {
     "data": {
      "text/plain": [
       "array([[1. , 2.5, 3.1],\n",
       "       [4.2, 5.3, 6.4],\n",
       "       [7.5, 8.8, 9.9]])"
      ]
     },
     "execution_count": 21,
     "metadata": {},
     "output_type": "execute_result"
    }
   ],
   "execution_count": 21
  },
  {
   "metadata": {},
   "cell_type": "markdown",
   "source": [
    "### 2.  Loading Data Using `np.genfromtxt()`\n",
    "## -----------------------------------------------\n",
    "\n",
    "#### np.genfromtxt() reads data while handling missing values.\n",
    "#### delimiter specifies how values are separated (e.g., commas).\n",
    "#### Missing entries are represented as np.nan in the array\n"
   ],
   "id": "63a206c79799f960"
  },
  {
   "metadata": {
    "ExecuteTime": {
     "end_time": "2024-10-25T07:05:52.859649Z",
     "start_time": "2024-10-25T07:05:52.855594Z"
    }
   },
   "cell_type": "code",
   "source": [
    "# Load data with missing values from a file named data_with_missing.txt, treating empty cells as np.nan\n",
    "data = np.genfromtxt(\"data_with_missing.txt\", delimiter=\",\")\n",
    "data"
   ],
   "id": "bb96d1bc4511f66f",
   "outputs": [
    {
     "data": {
      "text/plain": [
       "array([[1. , 2.5, 3.1],\n",
       "       [4.2, nan, 6.4],\n",
       "       [7.5, 8.8, 9.9]])"
      ]
     },
     "execution_count": 22,
     "metadata": {},
     "output_type": "execute_result"
    }
   ],
   "execution_count": 22
  },
  {
   "metadata": {},
   "cell_type": "markdown",
   "source": "### 3.  Saving Data Using `np.savetxt()`\n",
   "id": "96f3e62b781a92d6"
  },
  {
   "metadata": {
    "ExecuteTime": {
     "end_time": "2024-10-25T07:05:52.911702Z",
     "start_time": "2024-10-25T07:05:52.908480Z"
    }
   },
   "cell_type": "code",
   "source": [
    "# Create some data\n",
    "data = np.array([[1.0, 2.5, 3.1], [4.2, 5.3, 6.4], [7.5, 8.8, 9.9]])\n",
    "\n",
    "# Save to a file with comma as a delimiter. it will automatically create a csv file if there will be none and save the array data to it.\n",
    "np.savetxt(\"saved_data.csv\", data, delimiter=\",\")"
   ],
   "id": "f0b20fb6483e2ace",
   "outputs": [],
   "execution_count": 23
  },
  {
   "metadata": {},
   "cell_type": "markdown",
   "source": "### 4. Working with CSV and delimited files: Loading a CSV File\n",
   "id": "e43961e04fa82c30"
  },
  {
   "metadata": {
    "ExecuteTime": {
     "end_time": "2024-10-25T07:05:52.959321Z",
     "start_time": "2024-10-25T07:05:52.955267Z"
    }
   },
   "cell_type": "code",
   "source": [
    "# Load data from a CSV file\n",
    "data = np.loadtxt(\"saved_data.csv\", delimiter=\",\")\n",
    "data"
   ],
   "id": "8ef9bf1ef3522cd9",
   "outputs": [
    {
     "data": {
      "text/plain": [
       "array([[1. , 2.5, 3.1],\n",
       "       [4.2, 5.3, 6.4],\n",
       "       [7.5, 8.8, 9.9]])"
      ]
     },
     "execution_count": 24,
     "metadata": {},
     "output_type": "execute_result"
    }
   ],
   "execution_count": 24
  },
  {
   "metadata": {},
   "cell_type": "markdown",
   "source": [
    "### 5.  Handling Missing Data with `np.nan`\n",
    "#### This is useful for cleaning data before analysis"
   ],
   "id": "456a0d3948326c0a"
  },
  {
   "metadata": {
    "ExecuteTime": {
     "end_time": "2024-10-25T07:05:53.024063Z",
     "start_time": "2024-10-25T07:05:53.020532Z"
    }
   },
   "cell_type": "code",
   "source": [
    "# Example array with np.nan representing missing data\n",
    "data_with_nan = np.array([[1.0, 2.5, np.nan], [4.2, np.nan, 6.4], [7.5, 8.8, 9.9]])\n",
    "\n",
    "# Check for missing values\n",
    "np.isnan(data_with_nan)"
   ],
   "id": "d9169c2629cfe7f9",
   "outputs": [
    {
     "data": {
      "text/plain": [
       "array([[False, False,  True],\n",
       "       [False,  True, False],\n",
       "       [False, False, False]])"
      ]
     },
     "execution_count": 25,
     "metadata": {},
     "output_type": "execute_result"
    }
   ],
   "execution_count": 25
  },
  {
   "metadata": {
    "ExecuteTime": {
     "end_time": "2024-10-25T07:05:53.090459Z",
     "start_time": "2024-10-25T07:05:53.087550Z"
    }
   },
   "cell_type": "code",
   "source": [
    "# Fill missing values (e.g., replace np.nan with 0)\n",
    "filled_data = np.nan_to_num(data_with_nan, nan=0.0)\n",
    "filled_data"
   ],
   "id": "9b2df2f9138b8f9d",
   "outputs": [
    {
     "data": {
      "text/plain": [
       "array([[1. , 2.5, 0. ],\n",
       "       [4.2, 0. , 6.4],\n",
       "       [7.5, 8.8, 9.9]])"
      ]
     },
     "execution_count": 26,
     "metadata": {},
     "output_type": "execute_result"
    }
   ],
   "execution_count": 26
  }
 ],
 "metadata": {
  "kernelspec": {
   "display_name": "Python 3",
   "language": "python",
   "name": "python3"
  },
  "language_info": {
   "codemirror_mode": {
    "name": "ipython",
    "version": 2
   },
   "file_extension": ".py",
   "mimetype": "text/x-python",
   "name": "python",
   "nbconvert_exporter": "python",
   "pygments_lexer": "ipython2",
   "version": "2.7.6"
  }
 },
 "nbformat": 4,
 "nbformat_minor": 5
}
