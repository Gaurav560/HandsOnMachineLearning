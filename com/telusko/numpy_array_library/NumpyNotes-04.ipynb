{
 "cells": [
  {
   "metadata": {},
   "cell_type": "markdown",
   "source": "# Working with Data",
   "id": "d3f9bb4c87733502"
  },
  {
   "metadata": {},
   "cell_type": "markdown",
   "source": [
    "### 1.  Loading Data Using `np.loadtxt()`\n",
    "\n",
    "\n"
   ],
   "id": "f012802c83619d1a"
  },
  {
   "metadata": {
    "ExecuteTime": {
     "end_time": "2024-10-25T07:23:00.048378Z",
     "start_time": "2024-10-25T07:23:00.043932Z"
    }
   },
   "cell_type": "code",
   "source": [
    "import numpy as np\n",
    "\n",
    "# Load data from a file named data.txt, assuming it's space-separated\n",
    "data = np.loadtxt(\"data.txt\")\n",
    "data"
   ],
   "id": "9b3ea062f846f343",
   "outputs": [
    {
     "data": {
      "text/plain": [
       "array([[1. , 2.5, 3.1],\n",
       "       [4.2, 5.3, 6.4],\n",
       "       [7.5, 8.8, 9.9]])"
      ]
     },
     "execution_count": 50,
     "metadata": {},
     "output_type": "execute_result"
    }
   ],
   "execution_count": 50
  },
  {
   "metadata": {},
   "cell_type": "markdown",
   "source": [
    "### 2.  Loading Data Using `np.genfromtxt()`\n",
    "## -----------------------------------------------\n",
    "\n",
    "#### np.genfromtxt() reads data while handling missing values.\n",
    "#### delimiter specifies how values are separated (e.g., commas).\n",
    "#### Missing entries are represented as np.nan in the array\n"
   ],
   "id": "63a206c79799f960"
  },
  {
   "metadata": {
    "ExecuteTime": {
     "end_time": "2024-10-25T07:23:00.076334Z",
     "start_time": "2024-10-25T07:23:00.072234Z"
    }
   },
   "cell_type": "code",
   "source": [
    "# Load data with missing values from a file named data_with_missing.txt, treating empty cells as np.nan\n",
    "data = np.genfromtxt(\"data_with_missing.txt\", delimiter=\",\")\n",
    "data"
   ],
   "id": "bb96d1bc4511f66f",
   "outputs": [
    {
     "data": {
      "text/plain": [
       "array([[1. , 2.5, 3.1],\n",
       "       [4.2, nan, 6.4],\n",
       "       [7.5, 8.8, 9.9]])"
      ]
     },
     "execution_count": 51,
     "metadata": {},
     "output_type": "execute_result"
    }
   ],
   "execution_count": 51
  },
  {
   "metadata": {},
   "cell_type": "markdown",
   "source": "### 3.  Saving Data Using `np.savetxt()`in a csv file\n",
   "id": "96f3e62b781a92d6"
  },
  {
   "metadata": {
    "ExecuteTime": {
     "end_time": "2024-10-25T07:23:00.123563Z",
     "start_time": "2024-10-25T07:23:00.119826Z"
    }
   },
   "cell_type": "code",
   "source": [
    "# Create some data\n",
    "data = np.array([[1.0, 2.5, 3.1], [4.2, 5.3, 6.4], [7.5, 8.8, 9.9]])\n",
    "\n",
    "# Save to a file with comma as a delimiter. it will automatically create a csv file if there will be none and save the array data to it.\n",
    "np.savetxt(\"saved_data.csv\", data, delimiter=\",\")"
   ],
   "id": "f0b20fb6483e2ace",
   "outputs": [],
   "execution_count": 52
  },
  {
   "metadata": {},
   "cell_type": "markdown",
   "source": "### 4. Working with CSV and delimited files: Loading a CSV File\n",
   "id": "e43961e04fa82c30"
  },
  {
   "metadata": {
    "ExecuteTime": {
     "end_time": "2024-10-25T07:23:00.174619Z",
     "start_time": "2024-10-25T07:23:00.170316Z"
    }
   },
   "cell_type": "code",
   "source": [
    "# Load data from a CSV file\n",
    "data = np.loadtxt(\"saved_data.csv\", delimiter=\",\")\n",
    "data"
   ],
   "id": "8ef9bf1ef3522cd9",
   "outputs": [
    {
     "data": {
      "text/plain": [
       "array([[1. , 2.5, 3.1],\n",
       "       [4.2, 5.3, 6.4],\n",
       "       [7.5, 8.8, 9.9]])"
      ]
     },
     "execution_count": 53,
     "metadata": {},
     "output_type": "execute_result"
    }
   ],
   "execution_count": 53
  },
  {
   "metadata": {},
   "cell_type": "markdown",
   "source": "## working with tsv file",
   "id": "f523a9877965e946"
  },
  {
   "metadata": {
    "ExecuteTime": {
     "end_time": "2024-10-25T07:23:00.249797Z",
     "start_time": "2024-10-25T07:23:00.246677Z"
    }
   },
   "cell_type": "code",
   "source": [
    "#Creating some real-world-like data (Employee ID, Age, Salary in USD)\n",
    "employee_data = np.array([\n",
    "    [101, 25, 50000],\n",
    "    [102, 30, 60000],\n",
    "    [103, 22, 45000],\n",
    "    [104, 28, 70000],\n",
    "    [105, 35, 80000]\n",
    "])"
   ],
   "id": "962f4ae8ac4cf61c",
   "outputs": [],
   "execution_count": 54
  },
  {
   "metadata": {
    "ExecuteTime": {
     "end_time": "2024-10-25T07:23:00.318365Z",
     "start_time": "2024-10-25T07:23:00.315480Z"
    }
   },
   "cell_type": "code",
   "source": [
    "#Save the employee data as a TSV file.Similar to csv, this file will also get automatically generated in working directory.\n",
    "np.savetxt(\"employee_data.tsv\", employee_data, delimiter=\"\\t\", fmt='%d')\n",
    "print(\"Employee data saved to 'employee_data.tsv'.\")"
   ],
   "id": "8a5d980804ed8d87",
   "outputs": [
    {
     "name": "stdout",
     "output_type": "stream",
     "text": [
      "Employee data saved to 'employee_data.tsv'.\n"
     ]
    }
   ],
   "execution_count": 55
  },
  {
   "metadata": {
    "ExecuteTime": {
     "end_time": "2024-10-25T07:23:00.416328Z",
     "start_time": "2024-10-25T07:23:00.411608Z"
    }
   },
   "cell_type": "code",
   "source": [
    "# Load the data from the TSV file\n",
    "loaded_employee_data = np.genfromtxt(\"employee_data.tsv\", delimiter=\"\\t\", dtype=int)\n",
    "loaded_employee_data\n"
   ],
   "id": "181b5ad1d7fda2f1",
   "outputs": [
    {
     "data": {
      "text/plain": [
       "array([[  101,    25, 50000],\n",
       "       [  102,    30, 60000],\n",
       "       [  103,    22, 45000],\n",
       "       [  104,    28, 70000],\n",
       "       [  105,    35, 80000]])"
      ]
     },
     "execution_count": 56,
     "metadata": {},
     "output_type": "execute_result"
    }
   ],
   "execution_count": 56
  },
  {
   "metadata": {},
   "cell_type": "markdown",
   "source": [
    "### 5.  Handling Missing Data with `np.nan`\n",
    "#### This is useful for cleaning data before analysis"
   ],
   "id": "456a0d3948326c0a"
  },
  {
   "metadata": {
    "ExecuteTime": {
     "end_time": "2024-10-25T07:23:00.478329Z",
     "start_time": "2024-10-25T07:23:00.474291Z"
    }
   },
   "cell_type": "code",
   "source": [
    "# Example array with np.nan representing missing data\n",
    "data_with_nan = np.array([[1.0, 2.5, np.nan], [4.2, np.nan, 6.4], [7.5, 8.8, 9.9]])\n",
    "\n",
    "# Check for missing values\n",
    "np.isnan(data_with_nan)"
   ],
   "id": "d9169c2629cfe7f9",
   "outputs": [
    {
     "data": {
      "text/plain": [
       "array([[False, False,  True],\n",
       "       [False,  True, False],\n",
       "       [False, False, False]])"
      ]
     },
     "execution_count": 57,
     "metadata": {},
     "output_type": "execute_result"
    }
   ],
   "execution_count": 57
  },
  {
   "metadata": {
    "ExecuteTime": {
     "end_time": "2024-10-25T07:23:00.541800Z",
     "start_time": "2024-10-25T07:23:00.538106Z"
    }
   },
   "cell_type": "code",
   "source": [
    "# Fill missing values (e.g., replace np.nan with 0)\n",
    "filled_data = np.nan_to_num(data_with_nan, nan=0.0)\n",
    "filled_data"
   ],
   "id": "9b2df2f9138b8f9d",
   "outputs": [
    {
     "data": {
      "text/plain": [
       "array([[1. , 2.5, 0. ],\n",
       "       [4.2, 0. , 6.4],\n",
       "       [7.5, 8.8, 9.9]])"
      ]
     },
     "execution_count": 58,
     "metadata": {},
     "output_type": "execute_result"
    }
   ],
   "execution_count": 58
  }
 ],
 "metadata": {
  "kernelspec": {
   "display_name": "Python 3",
   "language": "python",
   "name": "python3"
  },
  "language_info": {
   "codemirror_mode": {
    "name": "ipython",
    "version": 2
   },
   "file_extension": ".py",
   "mimetype": "text/x-python",
   "name": "python",
   "nbconvert_exporter": "python",
   "pygments_lexer": "ipython2",
   "version": "2.7.6"
  }
 },
 "nbformat": 4,
 "nbformat_minor": 5
}
