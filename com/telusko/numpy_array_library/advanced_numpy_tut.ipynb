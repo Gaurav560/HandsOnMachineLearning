{
 "cells": [
  {
   "metadata": {},
   "cell_type": "markdown",
   "source": "",
   "id": "397be92c02af74a7"
  },
  {
   "metadata": {},
   "cell_type": "markdown",
   "source": "# Advance Numpy ",
   "id": "9968cc8120877e05"
  },
  {
   "metadata": {},
   "cell_type": "markdown",
   "source": "## Topic1: Numpy Array vs Python List (Speed)",
   "id": "f5b1fc44430f1443"
  },
  {
   "metadata": {
    "ExecuteTime": {
     "end_time": "2024-10-21T20:26:37.513925Z",
     "start_time": "2024-10-21T20:26:04.934467Z"
    }
   },
   "cell_type": "code",
   "source": [
    "#running the code using python list\n",
    "a=[i for i in range(100000000)]\n",
    "b=[i for i in range(100000000,200000000)]\n",
    "c=[]\n",
    "import time\n",
    "start = time.time()\n",
    "for i in range (len(a)):\n",
    "    c.append(a[i]+b[i])\n",
    "print(time.time()-start)"
   ],
   "id": "fbdd1fbcaa03484a",
   "outputs": [
    {
     "name": "stdout",
     "output_type": "stream",
     "text": [
      "25.33727526664734\n"
     ]
    }
   ],
   "execution_count": 5
  },
  {
   "metadata": {
    "ExecuteTime": {
     "end_time": "2024-10-21T20:26:45.628778Z",
     "start_time": "2024-10-21T20:26:37.724236Z"
    }
   },
   "cell_type": "code",
   "source": [
    "#doing the same work with numpy array\n",
    "\n",
    "import numpy as np\n",
    "a=np.arange(100000000)\n",
    "b=np.arange(100000000,200000000)\n",
    "start=time.time()\n",
    "c=a+b\n",
    "print(time.time()-start)"
   ],
   "id": "661d78329cdb5b6c",
   "outputs": [
    {
     "name": "stdout",
     "output_type": "stream",
     "text": [
      "2.0129928588867188\n"
     ]
    }
   ],
   "execution_count": 6
  },
  {
   "metadata": {},
   "cell_type": "markdown",
   "source": [
    "###  NumPy Arrays use C-style static arrays, which means they are more memory efficient. In a NumPy array, the data is stored directly in contiguous blocks of memory, not references to objects. This is why NumPy arrays are faster for numerical operations: they avoid the overhead of handling references and can leverage low-level optimizations.\n",
    "\n",
    "### In contrast, Python lists are dynamic arrays. Every time the list grows beyond its current capacity, Python doubles the size of the array to accommodate more elements. Python lists are referential arrays, meaning they store references (or pointers) to the actual data, not the data itself. When you access an item in a Python list, you first retrieve the reference (or address) of the data and then access the actual data.\n"
   ],
   "id": "eebd1958fa7cd4fe"
  },
  {
   "metadata": {},
   "cell_type": "markdown",
   "source": "## Topic2: Numpy Array vs Python List (Memory)",
   "id": "e56fffd5f673c27d"
  },
  {
   "metadata": {
    "ExecuteTime": {
     "end_time": "2024-10-21T20:46:46.294393Z",
     "start_time": "2024-10-21T20:46:45.047784Z"
    }
   },
   "cell_type": "code",
   "source": [
    "# in python lists\n",
    "a=[i for i in range(10000000)]\n",
    "import sys\n",
    "sys.getsizeof(a)\n",
    "#gives size in bytes"
   ],
   "id": "f8a9604dc0e69cd6",
   "outputs": [
    {
     "data": {
      "text/plain": [
       "89095160"
      ]
     },
     "execution_count": 9,
     "metadata": {},
     "output_type": "execute_result"
    }
   ],
   "execution_count": 9
  },
  {
   "metadata": {
    "ExecuteTime": {
     "end_time": "2024-10-21T20:48:55.728204Z",
     "start_time": "2024-10-21T20:48:55.612460Z"
    }
   },
   "cell_type": "code",
   "source": [
    "#in numpy arrays\n",
    "a= np.arange(10000000,dtype=np.int32)\n",
    "sys.getsizeof(a)"
   ],
   "id": "79c0d47361a5e6b9",
   "outputs": [
    {
     "data": {
      "text/plain": [
       "40000112"
      ]
     },
     "execution_count": 10,
     "metadata": {},
     "output_type": "execute_result"
    }
   ],
   "execution_count": 10
  },
  {
   "metadata": {},
   "cell_type": "markdown",
   "source": "## Advanced Indexing",
   "id": "4c59406d61606221"
  },
  {
   "metadata": {
    "ExecuteTime": {
     "end_time": "2024-10-21T21:02:59.035188Z",
     "start_time": "2024-10-21T21:02:59.029682Z"
    }
   },
   "cell_type": "code",
   "source": [
    "#If you have a NumPy array and you want to access a specific item from it, this process is called indexing.\n",
    "\n",
    "#Normal Indexing and Slicing\n",
    "a=np.arange(12).reshape(4,3)\n",
    "a"
   ],
   "id": "35e74a83baf1b8b4",
   "outputs": [
    {
     "data": {
      "text/plain": [
       "array([[ 0,  1,  2],\n",
       "       [ 3,  4,  5],\n",
       "       [ 6,  7,  8],\n",
       "       [ 9, 10, 11]])"
      ]
     },
     "execution_count": 17,
     "metadata": {},
     "output_type": "execute_result"
    }
   ],
   "execution_count": 17
  },
  {
   "metadata": {
    "ExecuteTime": {
     "end_time": "2024-10-21T21:02:43.044106Z",
     "start_time": "2024-10-21T21:02:43.040106Z"
    }
   },
   "cell_type": "code",
   "source": [
    "#normal indexing\n",
    "a[1,2]"
   ],
   "id": "8c28ba6357a53622",
   "outputs": [
    {
     "data": {
      "text/plain": [
       "np.int64(5)"
      ]
     },
     "execution_count": 16,
     "metadata": {},
     "output_type": "execute_result"
    }
   ],
   "execution_count": 16
  },
  {
   "metadata": {
    "ExecuteTime": {
     "end_time": "2024-10-21T21:03:23.463955Z",
     "start_time": "2024-10-21T21:03:23.460611Z"
    }
   },
   "cell_type": "code",
   "source": [
    "#normal slicing\n",
    "a[2,2]"
   ],
   "id": "e6f1b62aea829a72",
   "outputs": [
    {
     "data": {
      "text/plain": [
       "np.int64(8)"
      ]
     },
     "execution_count": 18,
     "metadata": {},
     "output_type": "execute_result"
    }
   ],
   "execution_count": 18
  },
  {
   "metadata": {
    "ExecuteTime": {
     "end_time": "2024-10-21T21:11:20.502320Z",
     "start_time": "2024-10-21T21:11:20.484478Z"
    }
   },
   "cell_type": "code",
   "source": [
    "#basic slicing\n",
    "a[1:3,1:3]"
   ],
   "id": "102eba039e588cba",
   "outputs": [
    {
     "data": {
      "text/plain": [
       "array([[4, 5],\n",
       "       [7, 8]])"
      ]
     },
     "execution_count": 19,
     "metadata": {},
     "output_type": "execute_result"
    }
   ],
   "execution_count": 19
  },
  {
   "metadata": {},
   "cell_type": "code",
   "outputs": [],
   "execution_count": null,
   "source": "",
   "id": "2281da393988ed5c"
  }
 ],
 "metadata": {
  "kernelspec": {
   "display_name": "Python 3",
   "language": "python",
   "name": "python3"
  },
  "language_info": {
   "codemirror_mode": {
    "name": "ipython",
    "version": 2
   },
   "file_extension": ".py",
   "mimetype": "text/x-python",
   "name": "python",
   "nbconvert_exporter": "python",
   "pygments_lexer": "ipython2",
   "version": "2.7.6"
  }
 },
 "nbformat": 4,
 "nbformat_minor": 5
}
