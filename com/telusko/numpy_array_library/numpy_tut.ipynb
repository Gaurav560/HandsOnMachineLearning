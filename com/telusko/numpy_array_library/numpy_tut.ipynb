{
 "cells": [
  {
   "cell_type": "code",
   "id": "initial_id",
   "metadata": {
    "collapsed": true,
    "ExecuteTime": {
     "end_time": "2024-10-20T06:47:08.392129Z",
     "start_time": "2024-10-20T06:47:08.214881Z"
    }
   },
   "source": [
    "import numpy as np\n",
    "my_arr=np.array([[3,35,68,56]],np.int8)\n",
    "my_arr[0,2]"
   ],
   "outputs": [
    {
     "data": {
      "text/plain": [
       "68"
      ]
     },
     "execution_count": 3,
     "metadata": {},
     "output_type": "execute_result"
    }
   ],
   "execution_count": 3
  },
  {
   "metadata": {
    "ExecuteTime": {
     "end_time": "2024-10-20T06:47:08.415677Z",
     "start_time": "2024-10-20T06:47:08.402179Z"
    }
   },
   "cell_type": "code",
   "source": "my_arr.shape",
   "id": "5074960d0d18018b",
   "outputs": [
    {
     "data": {
      "text/plain": [
       "(1, 4)"
      ]
     },
     "execution_count": 4,
     "metadata": {},
     "output_type": "execute_result"
    }
   ],
   "execution_count": 4
  },
  {
   "metadata": {
    "ExecuteTime": {
     "end_time": "2024-10-20T06:47:08.479164Z",
     "start_time": "2024-10-20T06:47:08.471144Z"
    }
   },
   "cell_type": "code",
   "source": "my_arr.dtype",
   "id": "dc55fcc70779d9fa",
   "outputs": [
    {
     "data": {
      "text/plain": [
       "dtype('int8')"
      ]
     },
     "execution_count": 5,
     "metadata": {},
     "output_type": "execute_result"
    }
   ],
   "execution_count": 5
  },
  {
   "metadata": {
    "ExecuteTime": {
     "end_time": "2024-10-20T06:47:08.539532Z",
     "start_time": "2024-10-20T06:47:08.532758Z"
    }
   },
   "cell_type": "code",
   "source": [
    "my_arr[0,2]=66\n",
    "my_arr"
   ],
   "id": "bceb13e0117b217a",
   "outputs": [
    {
     "data": {
      "text/plain": [
       "array([[ 3, 35, 66, 56]], dtype=int8)"
      ]
     },
     "execution_count": 6,
     "metadata": {},
     "output_type": "execute_result"
    }
   ],
   "execution_count": 6
  },
  {
   "metadata": {},
   "cell_type": "markdown",
   "source": [
    "# NumPy Array Creation Methods\n",
    "\n",
    "## Common methods:\n",
    "1. From a list\n",
    "2. Using `np.arange()`\n",
    "3. Using `np.zeros()` or `np.ones()`\n",
    "4. Using `np.linspace()`\n",
    "5. Using `np.random.rand()`\n",
    "\n",
    "**Bold text** and *italic text* are easy to create.\n",
    "\n",
    "You can also add code snippets:\n",
    "```python\n",
    "import numpy as np\n",
    "arr = np.array([1, 2, 3, 4])"
   ],
   "id": "a74e5c671b759e50"
  },
  {
   "metadata": {},
   "cell_type": "markdown",
   "source": "# Creating a numpy aaray: Conversion from other python structures",
   "id": "8c8d8c62feaca66b"
  },
  {
   "metadata": {
    "ExecuteTime": {
     "end_time": "2024-10-20T06:47:09.036310Z",
     "start_time": "2024-10-20T06:47:09.028801Z"
    }
   },
   "cell_type": "code",
   "source": [
    "list_array=np.array([[1,2,4],[2,4,2],[9,8,6]])\n",
    "list_array"
   ],
   "id": "6d9e2264c1c8aa00",
   "outputs": [
    {
     "data": {
      "text/plain": [
       "array([[1, 2, 4],\n",
       "       [2, 4, 2],\n",
       "       [9, 8, 6]])"
      ]
     },
     "execution_count": 7,
     "metadata": {},
     "output_type": "execute_result"
    }
   ],
   "execution_count": 7
  },
  {
   "metadata": {
    "ExecuteTime": {
     "end_time": "2024-10-20T06:47:09.222069Z",
     "start_time": "2024-10-20T06:47:09.203819Z"
    }
   },
   "cell_type": "code",
   "source": "list_array.dtype",
   "id": "df3cac08fac7d8aa",
   "outputs": [
    {
     "data": {
      "text/plain": [
       "dtype('int32')"
      ]
     },
     "execution_count": 8,
     "metadata": {},
     "output_type": "execute_result"
    }
   ],
   "execution_count": 8
  },
  {
   "metadata": {
    "ExecuteTime": {
     "end_time": "2024-10-20T06:47:09.345168Z",
     "start_time": "2024-10-20T06:47:09.337177Z"
    }
   },
   "cell_type": "code",
   "source": "list_array.shape",
   "id": "5ff2e627fa4fef3a",
   "outputs": [
    {
     "data": {
      "text/plain": [
       "(3, 3)"
      ]
     },
     "execution_count": 9,
     "metadata": {},
     "output_type": "execute_result"
    }
   ],
   "execution_count": 9
  },
  {
   "metadata": {
    "ExecuteTime": {
     "end_time": "2024-10-20T06:47:09.494224Z",
     "start_time": "2024-10-20T06:47:09.487222Z"
    }
   },
   "cell_type": "code",
   "source": "list_array.size",
   "id": "438a48eff4ad50cd",
   "outputs": [
    {
     "data": {
      "text/plain": [
       "9"
      ]
     },
     "execution_count": 10,
     "metadata": {},
     "output_type": "execute_result"
    }
   ],
   "execution_count": 10
  },
  {
   "metadata": {
    "ExecuteTime": {
     "end_time": "2024-10-20T06:47:09.592220Z",
     "start_time": "2024-10-20T06:47:09.587129Z"
    }
   },
   "cell_type": "code",
   "source": "np.array({34,24,23})",
   "id": "8596387666b87e64",
   "outputs": [
    {
     "data": {
      "text/plain": [
       "array({24, 34, 23}, dtype=object)"
      ]
     },
     "execution_count": 11,
     "metadata": {},
     "output_type": "execute_result"
    }
   ],
   "execution_count": 11
  },
  {
   "metadata": {},
   "cell_type": "markdown",
   "source": "# Creating a numpy array- through Intrinsic Numpy array Creation Objects",
   "id": "18ef42c3ceefcffe"
  },
  {
   "metadata": {
    "ExecuteTime": {
     "end_time": "2024-10-20T06:47:09.662315Z",
     "start_time": "2024-10-20T06:47:09.657463Z"
    }
   },
   "cell_type": "code",
   "source": "zeros=np.zeros((2,3))",
   "id": "6a744efacdc0d81f",
   "outputs": [],
   "execution_count": 12
  },
  {
   "metadata": {
    "ExecuteTime": {
     "end_time": "2024-10-20T06:47:09.721875Z",
     "start_time": "2024-10-20T06:47:09.688752Z"
    }
   },
   "cell_type": "code",
   "source": "zeros",
   "id": "104a6765750a6772",
   "outputs": [
    {
     "data": {
      "text/plain": [
       "array([[0., 0., 0.],\n",
       "       [0., 0., 0.]])"
      ]
     },
     "execution_count": 13,
     "metadata": {},
     "output_type": "execute_result"
    }
   ],
   "execution_count": 13
  },
  {
   "metadata": {
    "ExecuteTime": {
     "end_time": "2024-10-20T06:47:09.805005Z",
     "start_time": "2024-10-20T06:47:09.798700Z"
    }
   },
   "cell_type": "code",
   "source": "zeros.dtype",
   "id": "8c9a83d77713d64e",
   "outputs": [
    {
     "data": {
      "text/plain": [
       "dtype('float64')"
      ]
     },
     "execution_count": 14,
     "metadata": {},
     "output_type": "execute_result"
    }
   ],
   "execution_count": 14
  },
  {
   "metadata": {},
   "cell_type": "markdown",
   "source": "# creating numpy array: using np.arange",
   "id": "610d079a4e7bac2f"
  },
  {
   "metadata": {
    "ExecuteTime": {
     "end_time": "2024-10-20T06:47:09.892500Z",
     "start_time": "2024-10-20T06:47:09.884498Z"
    }
   },
   "cell_type": "code",
   "source": [
    "rng=np.arange(12)\n",
    "rng"
   ],
   "id": "cd7a85b58cd5cca3",
   "outputs": [
    {
     "data": {
      "text/plain": [
       "array([ 0,  1,  2,  3,  4,  5,  6,  7,  8,  9, 10, 11])"
      ]
     },
     "execution_count": 15,
     "metadata": {},
     "output_type": "execute_result"
    }
   ],
   "execution_count": 15
  },
  {
   "metadata": {},
   "cell_type": "markdown",
   "source": "# creating numpy array using np.linspace() ",
   "id": "e6a8baf9a64b3122"
  },
  {
   "metadata": {
    "ExecuteTime": {
     "end_time": "2024-10-20T06:47:09.958742Z",
     "start_time": "2024-10-20T06:47:09.952770Z"
    }
   },
   "cell_type": "code",
   "source": [
    "lspace=np.linspace(1,5,12)\n",
    "#ye mujhe 1 se le ke 5 tak equally linearly spaced 12 elements dega.\n",
    "lspace"
   ],
   "id": "c1ad4d82ae1f225f",
   "outputs": [
    {
     "data": {
      "text/plain": [
       "array([1.        , 1.36363636, 1.72727273, 2.09090909, 2.45454545,\n",
       "       2.81818182, 3.18181818, 3.54545455, 3.90909091, 4.27272727,\n",
       "       4.63636364, 5.        ])"
      ]
     },
     "execution_count": 16,
     "metadata": {},
     "output_type": "execute_result"
    }
   ],
   "execution_count": 16
  },
  {
   "metadata": {},
   "cell_type": "markdown",
   "source": "# creaating numpy array using np.empty()",
   "id": "2aae281b26e1804f"
  },
  {
   "metadata": {
    "ExecuteTime": {
     "end_time": "2024-10-20T06:47:10.064044Z",
     "start_time": "2024-10-20T06:47:10.056975Z"
    }
   },
   "cell_type": "code",
   "source": [
    "emp=np.empty((3,3))\n",
    "emp\n",
    "#it gives empty array of 3*3 with random values."
   ],
   "id": "5f529cc0117853b7",
   "outputs": [
    {
     "data": {
      "text/plain": [
       "array([[1.01855798e-312, 1.01855798e-312, 1.01855798e-312],\n",
       "       [1.01855798e-312, 6.79038653e-313, 9.76118064e-313],\n",
       "       [1.01855798e-312, 1.01855798e-312, 1.01855798e-312]])"
      ]
     },
     "execution_count": 17,
     "metadata": {},
     "output_type": "execute_result"
    }
   ],
   "execution_count": 17
  },
  {
   "metadata": {
    "ExecuteTime": {
     "end_time": "2024-10-20T06:47:10.180940Z",
     "start_time": "2024-10-20T06:47:10.169501Z"
    }
   },
   "cell_type": "code",
   "source": [
    "empt_like=np.empty_like(lspace)\n",
    "#takes array as an argument. what it does is:\n",
    "# it returns a new array with the same shape and type as the input array (lspace),\n",
    "# but without initializing its values, meaning the contents of the returned array are random.\n",
    "\n",
    "empt_like\n"
   ],
   "id": "cbfdda2dc7ede3d",
   "outputs": [
    {
     "data": {
      "text/plain": [
       "array([1.        , 1.36363636, 1.72727273, 2.09090909, 2.45454545,\n",
       "       2.81818182, 3.18181818, 3.54545455, 3.90909091, 4.27272727,\n",
       "       4.63636364, 5.        ])"
      ]
     },
     "execution_count": 18,
     "metadata": {},
     "output_type": "execute_result"
    }
   ],
   "execution_count": 18
  },
  {
   "metadata": {},
   "cell_type": "markdown",
   "source": "# creating numpy array with np.identity()",
   "id": "9945b09c2466a4b5"
  },
  {
   "metadata": {
    "ExecuteTime": {
     "end_time": "2024-10-20T06:47:10.337097Z",
     "start_time": "2024-10-20T06:47:10.317463Z"
    }
   },
   "cell_type": "code",
   "source": [
    "ide=np.identity(10)\n",
    "# returns an identity matrix of 10*10 , index starting from 0\n",
    "ide"
   ],
   "id": "b56d5954bf5d0acf",
   "outputs": [
    {
     "data": {
      "text/plain": [
       "array([[1., 0., 0., 0., 0., 0., 0., 0., 0., 0.],\n",
       "       [0., 1., 0., 0., 0., 0., 0., 0., 0., 0.],\n",
       "       [0., 0., 1., 0., 0., 0., 0., 0., 0., 0.],\n",
       "       [0., 0., 0., 1., 0., 0., 0., 0., 0., 0.],\n",
       "       [0., 0., 0., 0., 1., 0., 0., 0., 0., 0.],\n",
       "       [0., 0., 0., 0., 0., 1., 0., 0., 0., 0.],\n",
       "       [0., 0., 0., 0., 0., 0., 1., 0., 0., 0.],\n",
       "       [0., 0., 0., 0., 0., 0., 0., 1., 0., 0.],\n",
       "       [0., 0., 0., 0., 0., 0., 0., 0., 1., 0.],\n",
       "       [0., 0., 0., 0., 0., 0., 0., 0., 0., 1.]])"
      ]
     },
     "execution_count": 19,
     "metadata": {},
     "output_type": "execute_result"
    }
   ],
   "execution_count": 19
  },
  {
   "metadata": {
    "ExecuteTime": {
     "end_time": "2024-10-20T06:49:35.861326Z",
     "start_time": "2024-10-20T06:49:35.856724Z"
    }
   },
   "cell_type": "code",
   "source": "ide.shape",
   "id": "d498a69b18717a51",
   "outputs": [
    {
     "data": {
      "text/plain": [
       "(10, 10)"
      ]
     },
     "execution_count": 20,
     "metadata": {},
     "output_type": "execute_result"
    }
   ],
   "execution_count": 20
  },
  {
   "metadata": {
    "ExecuteTime": {
     "end_time": "2024-10-20T06:49:37.414440Z",
     "start_time": "2024-10-20T06:49:37.406644Z"
    }
   },
   "cell_type": "code",
   "source": "ide.size",
   "id": "e04888e5c99c49f6",
   "outputs": [
    {
     "data": {
      "text/plain": [
       "100"
      ]
     },
     "execution_count": 21,
     "metadata": {},
     "output_type": "execute_result"
    }
   ],
   "execution_count": 21
  },
  {
   "metadata": {
    "ExecuteTime": {
     "end_time": "2024-10-20T10:32:00.709808Z",
     "start_time": "2024-10-20T10:32:00.699733Z"
    }
   },
   "cell_type": "code",
   "source": [
    "arr=np.arange(25)\n",
    "arr"
   ],
   "id": "285cb197b4195240",
   "outputs": [
    {
     "data": {
      "text/plain": [
       "array([ 0,  1,  2,  3,  4,  5,  6,  7,  8,  9, 10, 11, 12, 13, 14, 15, 16,\n",
       "       17, 18, 19, 20, 21, 22, 23, 24])"
      ]
     },
     "execution_count": 23,
     "metadata": {},
     "output_type": "execute_result"
    }
   ],
   "execution_count": 23
  },
  {
   "metadata": {
    "ExecuteTime": {
     "end_time": "2024-10-20T10:32:23.048426Z",
     "start_time": "2024-10-20T10:32:23.041112Z"
    }
   },
   "cell_type": "code",
   "source": "arr.reshape(5,5)",
   "id": "4d1e124bb027bfde",
   "outputs": [
    {
     "data": {
      "text/plain": [
       "array([[ 0,  1,  2,  3,  4],\n",
       "       [ 5,  6,  7,  8,  9],\n",
       "       [10, 11, 12, 13, 14],\n",
       "       [15, 16, 17, 18, 19],\n",
       "       [20, 21, 22, 23, 24]])"
      ]
     },
     "execution_count": 25,
     "metadata": {},
     "output_type": "execute_result"
    }
   ],
   "execution_count": 25
  },
  {
   "metadata": {
    "ExecuteTime": {
     "end_time": "2024-10-20T10:33:32.790104Z",
     "start_time": "2024-10-20T10:33:32.779019Z"
    }
   },
   "cell_type": "code",
   "source": "arr.ravel()",
   "id": "1e75591d53aeedcf",
   "outputs": [
    {
     "data": {
      "text/plain": [
       "array([ 0,  1,  2,  3,  4,  5,  6,  7,  8,  9, 10, 11, 12, 13, 14, 15, 16,\n",
       "       17, 18, 19, 20, 21, 22, 23, 24])"
      ]
     },
     "execution_count": 26,
     "metadata": {},
     "output_type": "execute_result"
    }
   ],
   "execution_count": 26
  },
  {
   "metadata": {
    "ExecuteTime": {
     "end_time": "2024-10-20T10:33:37.468626Z",
     "start_time": "2024-10-20T10:33:37.459797Z"
    }
   },
   "cell_type": "code",
   "source": "arr",
   "id": "68fe2a51fcebf76c",
   "outputs": [
    {
     "data": {
      "text/plain": [
       "array([ 0,  1,  2,  3,  4,  5,  6,  7,  8,  9, 10, 11, 12, 13, 14, 15, 16,\n",
       "       17, 18, 19, 20, 21, 22, 23, 24])"
      ]
     },
     "execution_count": 27,
     "metadata": {},
     "output_type": "execute_result"
    }
   ],
   "execution_count": 27
  },
  {
   "metadata": {
    "ExecuteTime": {
     "end_time": "2024-10-20T10:33:50.307568Z",
     "start_time": "2024-10-20T10:33:50.292430Z"
    }
   },
   "cell_type": "code",
   "source": "arr.shape",
   "id": "6fc8932b833a77ac",
   "outputs": [
    {
     "data": {
      "text/plain": [
       "(25,)"
      ]
     },
     "execution_count": 28,
     "metadata": {},
     "output_type": "execute_result"
    }
   ],
   "execution_count": 28
  },
  {
   "metadata": {},
   "cell_type": "markdown",
   "source": "# Numpy Axis",
   "id": "23a3b1b014f123a6"
  },
  {
   "metadata": {
    "ExecuteTime": {
     "end_time": "2024-10-20T10:38:48.993241Z",
     "start_time": "2024-10-20T10:38:48.983611Z"
    }
   },
   "cell_type": "code",
   "source": [
    "x=[[1,2,3],[4,5,6],[7,8,9]]\n",
    "ar=np.array(x)\n",
    "ar"
   ],
   "id": "14b27ecface889a2",
   "outputs": [
    {
     "data": {
      "text/plain": [
       "array([[1, 2, 3],\n",
       "       [4, 5, 6],\n",
       "       [7, 8, 9]])"
      ]
     },
     "execution_count": 30,
     "metadata": {},
     "output_type": "execute_result"
    }
   ],
   "execution_count": 30
  },
  {
   "metadata": {
    "ExecuteTime": {
     "end_time": "2024-10-20T10:39:22.212591Z",
     "start_time": "2024-10-20T10:39:22.200824Z"
    }
   },
   "cell_type": "code",
   "source": [
    "ar.sum(axis=0)\n",
    "#axis 0 is along rows and axis 1 is along column\n",
    "#in 1d there is not axis1 only axis0"
   ],
   "id": "c7a7528de39ce5d9",
   "outputs": [
    {
     "data": {
      "text/plain": [
       "array([12, 15, 18])"
      ]
     },
     "execution_count": 31,
     "metadata": {},
     "output_type": "execute_result"
    }
   ],
   "execution_count": 31
  },
  {
   "metadata": {
    "ExecuteTime": {
     "end_time": "2024-10-20T10:41:50.993311Z",
     "start_time": "2024-10-20T10:41:50.983614Z"
    }
   },
   "cell_type": "code",
   "source": "ar.sum(axis=1)",
   "id": "15bd1f322c1633d9",
   "outputs": [
    {
     "data": {
      "text/plain": [
       "array([ 6, 15, 24])"
      ]
     },
     "execution_count": 32,
     "metadata": {},
     "output_type": "execute_result"
    }
   ],
   "execution_count": 32
  },
  {
   "metadata": {},
   "cell_type": "markdown",
   "source": "# numpy attributes and methods",
   "id": "2eef691fb13a790e"
  },
  {
   "metadata": {
    "ExecuteTime": {
     "end_time": "2024-10-20T12:10:25.192440Z",
     "start_time": "2024-10-20T12:10:25.171805Z"
    }
   },
   "cell_type": "code",
   "source": "  #Transpose an array  ",
   "id": "d38bb40ba9b627f5",
   "outputs": [],
   "execution_count": 33
  },
  {
   "metadata": {
    "ExecuteTime": {
     "end_time": "2024-10-20T12:16:23.577825Z",
     "start_time": "2024-10-20T12:16:23.565758Z"
    }
   },
   "cell_type": "code",
   "source": "ar.T",
   "id": "b036a39adda2668d",
   "outputs": [
    {
     "data": {
      "text/plain": [
       "array([[1, 4, 7],\n",
       "       [2, 5, 8],\n",
       "       [3, 6, 9]])"
      ]
     },
     "execution_count": 34,
     "metadata": {},
     "output_type": "execute_result"
    }
   ],
   "execution_count": 34
  },
  {
   "metadata": {
    "ExecuteTime": {
     "end_time": "2024-10-20T12:17:42.099517Z",
     "start_time": "2024-10-20T12:17:42.093199Z"
    }
   },
   "cell_type": "code",
   "source": [
    "\n",
    "for item in ar.flat:\n",
    "    print(item)"
   ],
   "id": "51970a409cde3a83",
   "outputs": [
    {
     "name": "stdout",
     "output_type": "stream",
     "text": [
      "1\n",
      "2\n",
      "3\n",
      "4\n",
      "5\n",
      "6\n",
      "7\n",
      "8\n",
      "9\n"
     ]
    }
   ],
   "execution_count": 35
  },
  {
   "metadata": {
    "ExecuteTime": {
     "end_time": "2024-10-20T12:24:49.045383Z",
     "start_time": "2024-10-20T12:24:49.024282Z"
    }
   },
   "cell_type": "code",
   "source": "ar.ndim",
   "id": "39e2956bd0df997f",
   "outputs": [
    {
     "data": {
      "text/plain": [
       "2"
      ]
     },
     "execution_count": 36,
     "metadata": {},
     "output_type": "execute_result"
    }
   ],
   "execution_count": 36
  },
  {
   "metadata": {
    "ExecuteTime": {
     "end_time": "2024-10-20T12:25:22.563836Z",
     "start_time": "2024-10-20T12:25:22.545628Z"
    }
   },
   "cell_type": "code",
   "source": "ar.flatten()",
   "id": "28db54f214df2646",
   "outputs": [
    {
     "data": {
      "text/plain": [
       "array([[1, 2, 3],\n",
       "       [4, 5, 6],\n",
       "       [7, 8, 9]])"
      ]
     },
     "execution_count": 39,
     "metadata": {},
     "output_type": "execute_result"
    }
   ],
   "execution_count": 39
  },
  {
   "metadata": {
    "ExecuteTime": {
     "end_time": "2024-10-20T12:26:08.884711Z",
     "start_time": "2024-10-20T12:26:08.877436Z"
    }
   },
   "cell_type": "code",
   "source": "ar.size",
   "id": "af1eaf34507fe728",
   "outputs": [
    {
     "data": {
      "text/plain": [
       "9"
      ]
     },
     "execution_count": 40,
     "metadata": {},
     "output_type": "execute_result"
    }
   ],
   "execution_count": 40
  },
  {
   "metadata": {},
   "cell_type": "markdown",
   "source": [
    "### Attributes are properties or characteristics of a NumPy object (usually an array). They store information about the object, such as its shape, size, data type, and so on. Attributes do not perform any actions; they simply hold data. They don't have parenthesis().\n",
    "\n",
    "### where as Methods are functions associated with a NumPy object (like an array) that perform operations on that object. They can modify the object, return a new object, or perform calculations. Methods often take arguments and require parentheses for invocation"
   ],
   "id": "5cd2474d3e46a01b"
  },
  {
   "metadata": {
    "ExecuteTime": {
     "end_time": "2024-10-20T12:30:53.802928Z",
     "start_time": "2024-10-20T12:30:53.793092Z"
    }
   },
   "cell_type": "code",
   "source": "ar.nbytes ",
   "id": "73903725678ded57",
   "outputs": [
    {
     "data": {
      "text/plain": [
       "36"
      ]
     },
     "execution_count": 43,
     "metadata": {},
     "output_type": "execute_result"
    }
   ],
   "execution_count": 43
  },
  {
   "metadata": {
    "ExecuteTime": {
     "end_time": "2024-10-20T12:32:15.469630Z",
     "start_time": "2024-10-20T12:32:15.463501Z"
    }
   },
   "cell_type": "code",
   "source": [
    "ar.itemsize\n",
    "#Size of numpy array= total no of elements in the array\n",
    "#itemSize= memory used by each element\n",
    "#nbytes=size * itemSize\n",
    "#nbytes return the total memory size by array"
   ],
   "id": "4e7abece8f0093af",
   "outputs": [
    {
     "data": {
      "text/plain": [
       "4"
      ]
     },
     "execution_count": 46,
     "metadata": {},
     "output_type": "execute_result"
    }
   ],
   "execution_count": 46
  },
  {
   "metadata": {
    "ExecuteTime": {
     "end_time": "2024-10-20T12:35:43.773967Z",
     "start_time": "2024-10-20T12:35:43.767113Z"
    }
   },
   "cell_type": "code",
   "source": [
    "one=np.array([1,3,5,6,88,6])\n",
    "one"
   ],
   "id": "1f6cf26424936630",
   "outputs": [
    {
     "data": {
      "text/plain": [
       "array([ 1,  3,  5,  6, 88,  6])"
      ]
     },
     "execution_count": 48,
     "metadata": {},
     "output_type": "execute_result"
    }
   ],
   "execution_count": 48
  },
  {
   "metadata": {
    "ExecuteTime": {
     "end_time": "2024-10-20T12:38:37.898289Z",
     "start_time": "2024-10-20T12:38:37.890004Z"
    }
   },
   "cell_type": "code",
   "source": [
    "one.argmax()\n",
    "#returns the index of the maximum element in the array.\n"
   ],
   "id": "78601bb908ce11dd",
   "outputs": [
    {
     "data": {
      "text/plain": [
       "4"
      ]
     },
     "execution_count": 49,
     "metadata": {},
     "output_type": "execute_result"
    }
   ],
   "execution_count": 49
  },
  {
   "metadata": {
    "ExecuteTime": {
     "end_time": "2024-10-20T12:39:08.859028Z",
     "start_time": "2024-10-20T12:39:08.837675Z"
    }
   },
   "cell_type": "code",
   "source": [
    "ar.argmax()\n",
    "#When you apply argmax to a multi-dimensional array without specifying an axis, it treats the array as a flattened array and returns the index of the maximum value in the entire array."
   ],
   "id": "3da4cea560b081b8",
   "outputs": [
    {
     "data": {
      "text/plain": [
       "8"
      ]
     },
     "execution_count": 50,
     "metadata": {},
     "output_type": "execute_result"
    }
   ],
   "execution_count": 50
  },
  {
   "metadata": {
    "ExecuteTime": {
     "end_time": "2024-10-20T12:41:50.859686Z",
     "start_time": "2024-10-20T12:41:50.850298Z"
    }
   },
   "cell_type": "code",
   "source": [
    "one.argmin()  \n",
    "#return the index of minimum value"
   ],
   "id": "83e7d56ab11c0191",
   "outputs": [
    {
     "data": {
      "text/plain": [
       "0"
      ]
     },
     "execution_count": 51,
     "metadata": {},
     "output_type": "execute_result"
    }
   ],
   "execution_count": 51
  },
  {
   "metadata": {
    "ExecuteTime": {
     "end_time": "2024-10-20T12:43:46.567759Z",
     "start_time": "2024-10-20T12:43:46.554874Z"
    }
   },
   "cell_type": "code",
   "source": [
    "one.argsort()\n",
    "# Returns the indices that would sort the array in ascending order."
   ],
   "id": "1c942fa2dde74992",
   "outputs": [
    {
     "data": {
      "text/plain": [
       "array([0, 1, 2, 3, 5, 4], dtype=int64)"
      ]
     },
     "execution_count": 52,
     "metadata": {},
     "output_type": "execute_result"
    }
   ],
   "execution_count": 52
  },
  {
   "metadata": {
    "ExecuteTime": {
     "end_time": "2024-10-20T12:45:08.653133Z",
     "start_time": "2024-10-20T12:45:08.641589Z"
    }
   },
   "cell_type": "code",
   "source": "ar.argmin()",
   "id": "d559bb4e9795e1c9",
   "outputs": [
    {
     "data": {
      "text/plain": [
       "0"
      ]
     },
     "execution_count": 53,
     "metadata": {},
     "output_type": "execute_result"
    }
   ],
   "execution_count": 53
  },
  {
   "metadata": {
    "ExecuteTime": {
     "end_time": "2024-10-20T12:45:53.133479Z",
     "start_time": "2024-10-20T12:45:53.109768Z"
    }
   },
   "cell_type": "code",
   "source": "ar.argmax(axis=0)",
   "id": "48c8cf646b720e10",
   "outputs": [
    {
     "data": {
      "text/plain": [
       "array([2, 2, 2], dtype=int64)"
      ]
     },
     "execution_count": 54,
     "metadata": {},
     "output_type": "execute_result"
    }
   ],
   "execution_count": 54
  },
  {
   "metadata": {
    "ExecuteTime": {
     "end_time": "2024-10-20T12:46:44.916431Z",
     "start_time": "2024-10-20T12:46:44.908812Z"
    }
   },
   "cell_type": "code",
   "source": "ar.argmax(axis=1)",
   "id": "c70adce30b6544a0",
   "outputs": [
    {
     "data": {
      "text/plain": [
       "array([2, 2, 2], dtype=int64)"
      ]
     },
     "execution_count": 55,
     "metadata": {},
     "output_type": "execute_result"
    }
   ],
   "execution_count": 55
  }
 ],
 "metadata": {
  "kernelspec": {
   "display_name": "Python 3",
   "language": "python",
   "name": "python3"
  },
  "language_info": {
   "codemirror_mode": {
    "name": "ipython",
    "version": 2
   },
   "file_extension": ".py",
   "mimetype": "text/x-python",
   "name": "python",
   "nbconvert_exporter": "python",
   "pygments_lexer": "ipython2",
   "version": "2.7.6"
  }
 },
 "nbformat": 4,
 "nbformat_minor": 5
}
