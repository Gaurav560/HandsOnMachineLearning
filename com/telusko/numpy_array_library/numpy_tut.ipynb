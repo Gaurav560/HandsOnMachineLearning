{
 "cells": [
  {
   "cell_type": "code",
   "id": "initial_id",
   "metadata": {
    "collapsed": true,
    "ExecuteTime": {
     "end_time": "2024-10-20T18:05:17.389300Z",
     "start_time": "2024-10-20T18:05:16.647490Z"
    }
   },
   "source": [
    "import numpy as np\n",
    "my_arr=np.array([[3,35,68,56]],np.int8)\n",
    "my_arr[0,2]"
   ],
   "outputs": [
    {
     "data": {
      "text/plain": [
       "68"
      ]
     },
     "execution_count": 3,
     "metadata": {},
     "output_type": "execute_result"
    }
   ],
   "execution_count": 3
  },
  {
   "metadata": {
    "ExecuteTime": {
     "end_time": "2024-10-20T18:05:17.500647Z",
     "start_time": "2024-10-20T18:05:17.482932Z"
    }
   },
   "cell_type": "code",
   "source": "my_arr.shape",
   "id": "5074960d0d18018b",
   "outputs": [
    {
     "data": {
      "text/plain": [
       "(1, 4)"
      ]
     },
     "execution_count": 4,
     "metadata": {},
     "output_type": "execute_result"
    }
   ],
   "execution_count": 4
  },
  {
   "metadata": {
    "ExecuteTime": {
     "end_time": "2024-10-20T18:05:17.582592Z",
     "start_time": "2024-10-20T18:05:17.570270Z"
    }
   },
   "cell_type": "code",
   "source": "my_arr.dtype",
   "id": "dc55fcc70779d9fa",
   "outputs": [
    {
     "data": {
      "text/plain": [
       "dtype('int8')"
      ]
     },
     "execution_count": 5,
     "metadata": {},
     "output_type": "execute_result"
    }
   ],
   "execution_count": 5
  },
  {
   "metadata": {
    "ExecuteTime": {
     "end_time": "2024-10-20T18:05:17.654875Z",
     "start_time": "2024-10-20T18:05:17.638751Z"
    }
   },
   "cell_type": "code",
   "source": [
    "my_arr[0,2]=66\n",
    "my_arr"
   ],
   "id": "bceb13e0117b217a",
   "outputs": [
    {
     "data": {
      "text/plain": [
       "array([[ 3, 35, 66, 56]], dtype=int8)"
      ]
     },
     "execution_count": 6,
     "metadata": {},
     "output_type": "execute_result"
    }
   ],
   "execution_count": 6
  },
  {
   "metadata": {},
   "cell_type": "markdown",
   "source": [
    "# NumPy Array Creation Methods\n",
    "\n",
    "## Common methods:\n",
    "1. From a list\n",
    "2. Using `np.arange()`\n",
    "3. Using `np.zeros()` or `np.ones()`\n",
    "4. Using `np.linspace()`\n",
    "5. Using `np.random.rand()`\n",
    "\n",
    "**Bold text** and *italic text* are easy to create.\n",
    "\n",
    "You can also add code snippets:\n",
    "```python\n",
    "import numpy as np\n",
    "arr = np.array([1, 2, 3, 4])"
   ],
   "id": "a74e5c671b759e50"
  },
  {
   "metadata": {},
   "cell_type": "markdown",
   "source": "# Creating a numpy aaray: Conversion from other python structures",
   "id": "8c8d8c62feaca66b"
  },
  {
   "metadata": {
    "ExecuteTime": {
     "end_time": "2024-10-20T18:05:17.782385Z",
     "start_time": "2024-10-20T18:05:17.767826Z"
    }
   },
   "cell_type": "code",
   "source": [
    "list_array=np.array([[1,2,4],[2,4,2],[9,8,6]])\n",
    "list_array"
   ],
   "id": "6d9e2264c1c8aa00",
   "outputs": [
    {
     "data": {
      "text/plain": [
       "array([[1, 2, 4],\n",
       "       [2, 4, 2],\n",
       "       [9, 8, 6]])"
      ]
     },
     "execution_count": 7,
     "metadata": {},
     "output_type": "execute_result"
    }
   ],
   "execution_count": 7
  },
  {
   "metadata": {
    "ExecuteTime": {
     "end_time": "2024-10-20T18:05:18.629632Z",
     "start_time": "2024-10-20T18:05:18.617530Z"
    }
   },
   "cell_type": "code",
   "source": "list_array.dtype",
   "id": "df3cac08fac7d8aa",
   "outputs": [
    {
     "data": {
      "text/plain": [
       "dtype('int32')"
      ]
     },
     "execution_count": 8,
     "metadata": {},
     "output_type": "execute_result"
    }
   ],
   "execution_count": 8
  },
  {
   "metadata": {
    "ExecuteTime": {
     "end_time": "2024-10-20T18:05:18.683811Z",
     "start_time": "2024-10-20T18:05:18.669261Z"
    }
   },
   "cell_type": "code",
   "source": "list_array.shape",
   "id": "5ff2e627fa4fef3a",
   "outputs": [
    {
     "data": {
      "text/plain": [
       "(3, 3)"
      ]
     },
     "execution_count": 9,
     "metadata": {},
     "output_type": "execute_result"
    }
   ],
   "execution_count": 9
  },
  {
   "metadata": {
    "ExecuteTime": {
     "end_time": "2024-10-20T18:05:19.119370Z",
     "start_time": "2024-10-20T18:05:19.110751Z"
    }
   },
   "cell_type": "code",
   "source": "list_array.size",
   "id": "438a48eff4ad50cd",
   "outputs": [
    {
     "data": {
      "text/plain": [
       "9"
      ]
     },
     "execution_count": 10,
     "metadata": {},
     "output_type": "execute_result"
    }
   ],
   "execution_count": 10
  },
  {
   "metadata": {
    "ExecuteTime": {
     "end_time": "2024-10-20T18:05:20.573656Z",
     "start_time": "2024-10-20T18:05:20.559918Z"
    }
   },
   "cell_type": "code",
   "source": "np.array({34,24,23})",
   "id": "8596387666b87e64",
   "outputs": [
    {
     "data": {
      "text/plain": [
       "array({24, 34, 23}, dtype=object)"
      ]
     },
     "execution_count": 11,
     "metadata": {},
     "output_type": "execute_result"
    }
   ],
   "execution_count": 11
  },
  {
   "metadata": {},
   "cell_type": "markdown",
   "source": "# Creating a numpy array- through Intrinsic Numpy array Creation Objects",
   "id": "18ef42c3ceefcffe"
  },
  {
   "metadata": {
    "ExecuteTime": {
     "end_time": "2024-10-20T18:05:20.839520Z",
     "start_time": "2024-10-20T18:05:20.829177Z"
    }
   },
   "cell_type": "code",
   "source": "zeros=np.zeros((2,3))",
   "id": "6a744efacdc0d81f",
   "outputs": [],
   "execution_count": 12
  },
  {
   "metadata": {
    "ExecuteTime": {
     "end_time": "2024-10-20T18:05:20.995422Z",
     "start_time": "2024-10-20T18:05:20.980922Z"
    }
   },
   "cell_type": "code",
   "source": "zeros",
   "id": "104a6765750a6772",
   "outputs": [
    {
     "data": {
      "text/plain": [
       "array([[0., 0., 0.],\n",
       "       [0., 0., 0.]])"
      ]
     },
     "execution_count": 13,
     "metadata": {},
     "output_type": "execute_result"
    }
   ],
   "execution_count": 13
  },
  {
   "metadata": {
    "ExecuteTime": {
     "end_time": "2024-10-20T18:05:21.131977Z",
     "start_time": "2024-10-20T18:05:21.112578Z"
    }
   },
   "cell_type": "code",
   "source": "zeros.dtype",
   "id": "8c9a83d77713d64e",
   "outputs": [
    {
     "data": {
      "text/plain": [
       "dtype('float64')"
      ]
     },
     "execution_count": 14,
     "metadata": {},
     "output_type": "execute_result"
    }
   ],
   "execution_count": 14
  },
  {
   "metadata": {},
   "cell_type": "markdown",
   "source": "# creating numpy array: using np.arange",
   "id": "610d079a4e7bac2f"
  },
  {
   "metadata": {
    "ExecuteTime": {
     "end_time": "2024-10-20T18:05:21.383525Z",
     "start_time": "2024-10-20T18:05:21.374420Z"
    }
   },
   "cell_type": "code",
   "source": [
    "rng=np.arange(12)\n",
    "rng"
   ],
   "id": "cd7a85b58cd5cca3",
   "outputs": [
    {
     "data": {
      "text/plain": [
       "array([ 0,  1,  2,  3,  4,  5,  6,  7,  8,  9, 10, 11])"
      ]
     },
     "execution_count": 15,
     "metadata": {},
     "output_type": "execute_result"
    }
   ],
   "execution_count": 15
  },
  {
   "metadata": {},
   "cell_type": "markdown",
   "source": "# creating numpy array using np.linspace() ",
   "id": "e6a8baf9a64b3122"
  },
  {
   "metadata": {
    "ExecuteTime": {
     "end_time": "2024-10-20T18:05:21.571222Z",
     "start_time": "2024-10-20T18:05:21.553971Z"
    }
   },
   "cell_type": "code",
   "source": [
    "lspace=np.linspace(1,5,12)\n",
    "#ye mujhe 1 se le ke 5 tak equally linearly spaced 12 elements dega.\n",
    "lspace"
   ],
   "id": "c1ad4d82ae1f225f",
   "outputs": [
    {
     "data": {
      "text/plain": [
       "array([1.        , 1.36363636, 1.72727273, 2.09090909, 2.45454545,\n",
       "       2.81818182, 3.18181818, 3.54545455, 3.90909091, 4.27272727,\n",
       "       4.63636364, 5.        ])"
      ]
     },
     "execution_count": 16,
     "metadata": {},
     "output_type": "execute_result"
    }
   ],
   "execution_count": 16
  },
  {
   "metadata": {},
   "cell_type": "markdown",
   "source": "# creaating numpy array using np.empty()",
   "id": "2aae281b26e1804f"
  },
  {
   "metadata": {
    "ExecuteTime": {
     "end_time": "2024-10-20T18:05:21.638433Z",
     "start_time": "2024-10-20T18:05:21.629554Z"
    }
   },
   "cell_type": "code",
   "source": [
    "emp=np.empty((3,3))\n",
    "emp\n",
    "#it gives empty array of 3*3 with random values."
   ],
   "id": "5f529cc0117853b7",
   "outputs": [
    {
     "data": {
      "text/plain": [
       "array([[1.01855798e-312, 1.01855798e-312, 1.01855798e-312],\n",
       "       [1.01855798e-312, 6.79038653e-313, 9.76118064e-313],\n",
       "       [1.01855798e-312, 1.01855798e-312, 1.01855798e-312]])"
      ]
     },
     "execution_count": 17,
     "metadata": {},
     "output_type": "execute_result"
    }
   ],
   "execution_count": 17
  },
  {
   "metadata": {
    "ExecuteTime": {
     "end_time": "2024-10-20T18:05:21.798942Z",
     "start_time": "2024-10-20T18:05:21.780335Z"
    }
   },
   "cell_type": "code",
   "source": [
    "empt_like=np.empty_like(lspace)\n",
    "#takes array as an argument. what it does is:\n",
    "# it returns a new array with the same shape and type as the input array (lspace),\n",
    "# but without initializing its values, meaning the contents of the returned array are random.\n",
    "\n",
    "empt_like\n"
   ],
   "id": "cbfdda2dc7ede3d",
   "outputs": [
    {
     "data": {
      "text/plain": [
       "array([1.        , 1.36363636, 1.72727273, 2.09090909, 2.45454545,\n",
       "       2.81818182, 3.18181818, 3.54545455, 3.90909091, 4.27272727,\n",
       "       4.63636364, 5.        ])"
      ]
     },
     "execution_count": 18,
     "metadata": {},
     "output_type": "execute_result"
    }
   ],
   "execution_count": 18
  },
  {
   "metadata": {},
   "cell_type": "markdown",
   "source": "# creating numpy array with np.identity()",
   "id": "9945b09c2466a4b5"
  },
  {
   "metadata": {
    "ExecuteTime": {
     "end_time": "2024-10-20T18:05:22.057931Z",
     "start_time": "2024-10-20T18:05:22.040954Z"
    }
   },
   "cell_type": "code",
   "source": [
    "ide=np.identity(10)\n",
    "# returns an identity matrix of 10*10 , index starting from 0\n",
    "ide"
   ],
   "id": "b56d5954bf5d0acf",
   "outputs": [
    {
     "data": {
      "text/plain": [
       "array([[1., 0., 0., 0., 0., 0., 0., 0., 0., 0.],\n",
       "       [0., 1., 0., 0., 0., 0., 0., 0., 0., 0.],\n",
       "       [0., 0., 1., 0., 0., 0., 0., 0., 0., 0.],\n",
       "       [0., 0., 0., 1., 0., 0., 0., 0., 0., 0.],\n",
       "       [0., 0., 0., 0., 1., 0., 0., 0., 0., 0.],\n",
       "       [0., 0., 0., 0., 0., 1., 0., 0., 0., 0.],\n",
       "       [0., 0., 0., 0., 0., 0., 1., 0., 0., 0.],\n",
       "       [0., 0., 0., 0., 0., 0., 0., 1., 0., 0.],\n",
       "       [0., 0., 0., 0., 0., 0., 0., 0., 1., 0.],\n",
       "       [0., 0., 0., 0., 0., 0., 0., 0., 0., 1.]])"
      ]
     },
     "execution_count": 19,
     "metadata": {},
     "output_type": "execute_result"
    }
   ],
   "execution_count": 19
  },
  {
   "metadata": {
    "ExecuteTime": {
     "end_time": "2024-10-20T18:05:22.251356Z",
     "start_time": "2024-10-20T18:05:22.228074Z"
    }
   },
   "cell_type": "code",
   "source": "ide.shape",
   "id": "d498a69b18717a51",
   "outputs": [
    {
     "data": {
      "text/plain": [
       "(10, 10)"
      ]
     },
     "execution_count": 20,
     "metadata": {},
     "output_type": "execute_result"
    }
   ],
   "execution_count": 20
  },
  {
   "metadata": {
    "ExecuteTime": {
     "end_time": "2024-10-20T18:05:22.431778Z",
     "start_time": "2024-10-20T18:05:22.414834Z"
    }
   },
   "cell_type": "code",
   "source": "ide.size",
   "id": "e04888e5c99c49f6",
   "outputs": [
    {
     "data": {
      "text/plain": [
       "100"
      ]
     },
     "execution_count": 21,
     "metadata": {},
     "output_type": "execute_result"
    }
   ],
   "execution_count": 21
  },
  {
   "metadata": {
    "ExecuteTime": {
     "end_time": "2024-10-20T18:05:22.634969Z",
     "start_time": "2024-10-20T18:05:22.628737Z"
    }
   },
   "cell_type": "code",
   "source": [
    "arr=np.arange(25)\n",
    "arr"
   ],
   "id": "285cb197b4195240",
   "outputs": [
    {
     "data": {
      "text/plain": [
       "array([ 0,  1,  2,  3,  4,  5,  6,  7,  8,  9, 10, 11, 12, 13, 14, 15, 16,\n",
       "       17, 18, 19, 20, 21, 22, 23, 24])"
      ]
     },
     "execution_count": 22,
     "metadata": {},
     "output_type": "execute_result"
    }
   ],
   "execution_count": 22
  },
  {
   "metadata": {
    "ExecuteTime": {
     "end_time": "2024-10-20T18:05:22.715289Z",
     "start_time": "2024-10-20T18:05:22.694792Z"
    }
   },
   "cell_type": "code",
   "source": "arr.reshape(5,5)",
   "id": "4d1e124bb027bfde",
   "outputs": [
    {
     "data": {
      "text/plain": [
       "array([[ 0,  1,  2,  3,  4],\n",
       "       [ 5,  6,  7,  8,  9],\n",
       "       [10, 11, 12, 13, 14],\n",
       "       [15, 16, 17, 18, 19],\n",
       "       [20, 21, 22, 23, 24]])"
      ]
     },
     "execution_count": 23,
     "metadata": {},
     "output_type": "execute_result"
    }
   ],
   "execution_count": 23
  },
  {
   "metadata": {
    "ExecuteTime": {
     "end_time": "2024-10-20T18:05:22.867457Z",
     "start_time": "2024-10-20T18:05:22.851514Z"
    }
   },
   "cell_type": "code",
   "source": "arr.ravel()",
   "id": "1e75591d53aeedcf",
   "outputs": [
    {
     "data": {
      "text/plain": [
       "array([ 0,  1,  2,  3,  4,  5,  6,  7,  8,  9, 10, 11, 12, 13, 14, 15, 16,\n",
       "       17, 18, 19, 20, 21, 22, 23, 24])"
      ]
     },
     "execution_count": 24,
     "metadata": {},
     "output_type": "execute_result"
    }
   ],
   "execution_count": 24
  },
  {
   "metadata": {
    "ExecuteTime": {
     "end_time": "2024-10-20T18:05:23.055434Z",
     "start_time": "2024-10-20T18:05:23.049571Z"
    }
   },
   "cell_type": "code",
   "source": "arr",
   "id": "68fe2a51fcebf76c",
   "outputs": [
    {
     "data": {
      "text/plain": [
       "array([ 0,  1,  2,  3,  4,  5,  6,  7,  8,  9, 10, 11, 12, 13, 14, 15, 16,\n",
       "       17, 18, 19, 20, 21, 22, 23, 24])"
      ]
     },
     "execution_count": 25,
     "metadata": {},
     "output_type": "execute_result"
    }
   ],
   "execution_count": 25
  },
  {
   "metadata": {
    "ExecuteTime": {
     "end_time": "2024-10-20T18:05:23.200106Z",
     "start_time": "2024-10-20T18:05:23.194400Z"
    }
   },
   "cell_type": "code",
   "source": "arr.shape",
   "id": "6fc8932b833a77ac",
   "outputs": [
    {
     "data": {
      "text/plain": [
       "(25,)"
      ]
     },
     "execution_count": 26,
     "metadata": {},
     "output_type": "execute_result"
    }
   ],
   "execution_count": 26
  },
  {
   "metadata": {},
   "cell_type": "markdown",
   "source": "# Numpy Axis",
   "id": "23a3b1b014f123a6"
  },
  {
   "metadata": {
    "ExecuteTime": {
     "end_time": "2024-10-20T18:05:23.313429Z",
     "start_time": "2024-10-20T18:05:23.294855Z"
    }
   },
   "cell_type": "code",
   "source": [
    "x=[[1,2,3],[4,5,6],[7,8,9]]\n",
    "ar=np.array(x)\n",
    "ar"
   ],
   "id": "14b27ecface889a2",
   "outputs": [
    {
     "data": {
      "text/plain": [
       "array([[1, 2, 3],\n",
       "       [4, 5, 6],\n",
       "       [7, 8, 9]])"
      ]
     },
     "execution_count": 27,
     "metadata": {},
     "output_type": "execute_result"
    }
   ],
   "execution_count": 27
  },
  {
   "metadata": {
    "ExecuteTime": {
     "end_time": "2024-10-20T18:05:23.466124Z",
     "start_time": "2024-10-20T18:05:23.444536Z"
    }
   },
   "cell_type": "code",
   "source": [
    "ar.sum(axis=0)\n",
    "#axis 0 is along rows and axis 1 is along column\n",
    "#in 1d there is not axis1 only axis0"
   ],
   "id": "c7a7528de39ce5d9",
   "outputs": [
    {
     "data": {
      "text/plain": [
       "array([12, 15, 18])"
      ]
     },
     "execution_count": 28,
     "metadata": {},
     "output_type": "execute_result"
    }
   ],
   "execution_count": 28
  },
  {
   "metadata": {
    "ExecuteTime": {
     "end_time": "2024-10-20T18:05:23.623105Z",
     "start_time": "2024-10-20T18:05:23.607409Z"
    }
   },
   "cell_type": "code",
   "source": "ar.sum(axis=1)",
   "id": "15bd1f322c1633d9",
   "outputs": [
    {
     "data": {
      "text/plain": [
       "array([ 6, 15, 24])"
      ]
     },
     "execution_count": 29,
     "metadata": {},
     "output_type": "execute_result"
    }
   ],
   "execution_count": 29
  },
  {
   "metadata": {},
   "cell_type": "markdown",
   "source": "# numpy attributes and methods",
   "id": "2eef691fb13a790e"
  },
  {
   "metadata": {
    "ExecuteTime": {
     "end_time": "2024-10-20T18:05:23.746112Z",
     "start_time": "2024-10-20T18:05:23.740124Z"
    }
   },
   "cell_type": "code",
   "source": "  #Transpose an array  ",
   "id": "d38bb40ba9b627f5",
   "outputs": [],
   "execution_count": 30
  },
  {
   "metadata": {
    "ExecuteTime": {
     "end_time": "2024-10-20T18:05:23.893886Z",
     "start_time": "2024-10-20T18:05:23.885683Z"
    }
   },
   "cell_type": "code",
   "source": "ar.T",
   "id": "b036a39adda2668d",
   "outputs": [
    {
     "data": {
      "text/plain": [
       "array([[1, 4, 7],\n",
       "       [2, 5, 8],\n",
       "       [3, 6, 9]])"
      ]
     },
     "execution_count": 31,
     "metadata": {},
     "output_type": "execute_result"
    }
   ],
   "execution_count": 31
  },
  {
   "metadata": {
    "ExecuteTime": {
     "end_time": "2024-10-20T18:05:23.998676Z",
     "start_time": "2024-10-20T18:05:23.989204Z"
    }
   },
   "cell_type": "code",
   "source": [
    "\n",
    "for item in ar.flat:\n",
    "    print(item)"
   ],
   "id": "51970a409cde3a83",
   "outputs": [
    {
     "name": "stdout",
     "output_type": "stream",
     "text": [
      "1\n",
      "2\n",
      "3\n",
      "4\n",
      "5\n",
      "6\n",
      "7\n",
      "8\n",
      "9\n"
     ]
    }
   ],
   "execution_count": 32
  },
  {
   "metadata": {
    "ExecuteTime": {
     "end_time": "2024-10-20T18:05:24.170370Z",
     "start_time": "2024-10-20T18:05:24.158042Z"
    }
   },
   "cell_type": "code",
   "source": "ar.ndim",
   "id": "39e2956bd0df997f",
   "outputs": [
    {
     "data": {
      "text/plain": [
       "2"
      ]
     },
     "execution_count": 33,
     "metadata": {},
     "output_type": "execute_result"
    }
   ],
   "execution_count": 33
  },
  {
   "metadata": {
    "ExecuteTime": {
     "end_time": "2024-10-20T18:05:24.320096Z",
     "start_time": "2024-10-20T18:05:24.314391Z"
    }
   },
   "cell_type": "code",
   "source": "ar.flatten()",
   "id": "28db54f214df2646",
   "outputs": [
    {
     "data": {
      "text/plain": [
       "array([1, 2, 3, 4, 5, 6, 7, 8, 9])"
      ]
     },
     "execution_count": 34,
     "metadata": {},
     "output_type": "execute_result"
    }
   ],
   "execution_count": 34
  },
  {
   "metadata": {
    "ExecuteTime": {
     "end_time": "2024-10-20T18:05:24.436725Z",
     "start_time": "2024-10-20T18:05:24.422647Z"
    }
   },
   "cell_type": "code",
   "source": "ar.size",
   "id": "af1eaf34507fe728",
   "outputs": [
    {
     "data": {
      "text/plain": [
       "9"
      ]
     },
     "execution_count": 35,
     "metadata": {},
     "output_type": "execute_result"
    }
   ],
   "execution_count": 35
  },
  {
   "metadata": {},
   "cell_type": "markdown",
   "source": [
    "### Attributes are properties or characteristics of a NumPy object (usually an array). They store information about the object, such as its shape, size, data type, and so on. Attributes do not perform any actions; they simply hold data. They don't have parenthesis().\n",
    "\n",
    "### where as Methods are functions associated with a NumPy object (like an array) that perform operations on that object. They can modify the object, return a new object, or perform calculations. Methods often take arguments and require parentheses for invocation"
   ],
   "id": "5cd2474d3e46a01b"
  },
  {
   "metadata": {
    "ExecuteTime": {
     "end_time": "2024-10-20T18:05:24.493440Z",
     "start_time": "2024-10-20T18:05:24.485017Z"
    }
   },
   "cell_type": "code",
   "source": "ar.nbytes ",
   "id": "73903725678ded57",
   "outputs": [
    {
     "data": {
      "text/plain": [
       "36"
      ]
     },
     "execution_count": 36,
     "metadata": {},
     "output_type": "execute_result"
    }
   ],
   "execution_count": 36
  },
  {
   "metadata": {
    "ExecuteTime": {
     "end_time": "2024-10-20T18:05:24.596174Z",
     "start_time": "2024-10-20T18:05:24.581088Z"
    }
   },
   "cell_type": "code",
   "source": [
    "ar.itemsize\n",
    "#Size of numpy array= total no of elements in the array\n",
    "#itemSize= memory used by each element\n",
    "#nbytes=size * itemSize\n",
    "#nbytes return the total memory size by array"
   ],
   "id": "4e7abece8f0093af",
   "outputs": [
    {
     "data": {
      "text/plain": [
       "4"
      ]
     },
     "execution_count": 37,
     "metadata": {},
     "output_type": "execute_result"
    }
   ],
   "execution_count": 37
  },
  {
   "metadata": {
    "ExecuteTime": {
     "end_time": "2024-10-20T18:05:24.661017Z",
     "start_time": "2024-10-20T18:05:24.653890Z"
    }
   },
   "cell_type": "code",
   "source": [
    "one=np.array([1,3,5,6,88,6])\n",
    "one"
   ],
   "id": "1f6cf26424936630",
   "outputs": [
    {
     "data": {
      "text/plain": [
       "array([ 1,  3,  5,  6, 88,  6])"
      ]
     },
     "execution_count": 38,
     "metadata": {},
     "output_type": "execute_result"
    }
   ],
   "execution_count": 38
  },
  {
   "metadata": {
    "ExecuteTime": {
     "end_time": "2024-10-20T18:05:24.734366Z",
     "start_time": "2024-10-20T18:05:24.712481Z"
    }
   },
   "cell_type": "code",
   "source": [
    "one.argmax()\n",
    "#returns the index of the maximum element in the array.\n"
   ],
   "id": "78601bb908ce11dd",
   "outputs": [
    {
     "data": {
      "text/plain": [
       "4"
      ]
     },
     "execution_count": 39,
     "metadata": {},
     "output_type": "execute_result"
    }
   ],
   "execution_count": 39
  },
  {
   "metadata": {
    "ExecuteTime": {
     "end_time": "2024-10-20T18:05:24.814162Z",
     "start_time": "2024-10-20T18:05:24.795767Z"
    }
   },
   "cell_type": "code",
   "source": [
    "ar.argmax()\n",
    "#When you apply argmax to a multi-dimensional array without specifying an axis, it treats the array as a flattened array and returns the index of the maximum value in the entire array."
   ],
   "id": "3da4cea560b081b8",
   "outputs": [
    {
     "data": {
      "text/plain": [
       "8"
      ]
     },
     "execution_count": 40,
     "metadata": {},
     "output_type": "execute_result"
    }
   ],
   "execution_count": 40
  },
  {
   "metadata": {
    "ExecuteTime": {
     "end_time": "2024-10-20T18:05:24.881110Z",
     "start_time": "2024-10-20T18:05:24.858629Z"
    }
   },
   "cell_type": "code",
   "source": [
    "one.argmin()  \n",
    "#return the index of minimum value"
   ],
   "id": "83e7d56ab11c0191",
   "outputs": [
    {
     "data": {
      "text/plain": [
       "0"
      ]
     },
     "execution_count": 41,
     "metadata": {},
     "output_type": "execute_result"
    }
   ],
   "execution_count": 41
  },
  {
   "metadata": {
    "ExecuteTime": {
     "end_time": "2024-10-20T18:05:24.962742Z",
     "start_time": "2024-10-20T18:05:24.950783Z"
    }
   },
   "cell_type": "code",
   "source": [
    "one.argsort()\n",
    "# Returns the indices that would sort the array in ascending order."
   ],
   "id": "1c942fa2dde74992",
   "outputs": [
    {
     "data": {
      "text/plain": [
       "array([0, 1, 2, 3, 5, 4], dtype=int64)"
      ]
     },
     "execution_count": 42,
     "metadata": {},
     "output_type": "execute_result"
    }
   ],
   "execution_count": 42
  },
  {
   "metadata": {
    "ExecuteTime": {
     "end_time": "2024-10-20T18:05:25.567223Z",
     "start_time": "2024-10-20T18:05:25.059760Z"
    }
   },
   "cell_type": "code",
   "source": "ar.argmin()",
   "id": "d559bb4e9795e1c9",
   "outputs": [
    {
     "data": {
      "text/plain": [
       "0"
      ]
     },
     "execution_count": 43,
     "metadata": {},
     "output_type": "execute_result"
    }
   ],
   "execution_count": 43
  },
  {
   "metadata": {
    "ExecuteTime": {
     "end_time": "2024-10-20T18:05:25.858272Z",
     "start_time": "2024-10-20T18:05:25.601105Z"
    }
   },
   "cell_type": "code",
   "source": "ar.argmax(axis=0)",
   "id": "48c8cf646b720e10",
   "outputs": [
    {
     "data": {
      "text/plain": [
       "array([2, 2, 2], dtype=int64)"
      ]
     },
     "execution_count": 44,
     "metadata": {},
     "output_type": "execute_result"
    }
   ],
   "execution_count": 44
  },
  {
   "metadata": {
    "ExecuteTime": {
     "end_time": "2024-10-20T18:05:26.055741Z",
     "start_time": "2024-10-20T18:05:26.042110Z"
    }
   },
   "cell_type": "code",
   "source": "ar.argmax(axis=1)",
   "id": "c70adce30b6544a0",
   "outputs": [
    {
     "data": {
      "text/plain": [
       "array([2, 2, 2], dtype=int64)"
      ]
     },
     "execution_count": 45,
     "metadata": {},
     "output_type": "execute_result"
    }
   ],
   "execution_count": 45
  },
  {
   "metadata": {
    "ExecuteTime": {
     "end_time": "2024-10-20T18:05:26.221937Z",
     "start_time": "2024-10-20T18:05:26.202084Z"
    }
   },
   "cell_type": "code",
   "source": "ar.ravel()",
   "id": "7a7793dcc91dae49",
   "outputs": [
    {
     "data": {
      "text/plain": [
       "array([1, 2, 3, 4, 5, 6, 7, 8, 9])"
      ]
     },
     "execution_count": 46,
     "metadata": {},
     "output_type": "execute_result"
    }
   ],
   "execution_count": 46
  },
  {
   "metadata": {
    "ExecuteTime": {
     "end_time": "2024-10-20T18:05:58.801060Z",
     "start_time": "2024-10-20T18:05:58.784986Z"
    }
   },
   "cell_type": "code",
   "source": "ar.reshape((9,1))",
   "id": "2af357261112a382",
   "outputs": [
    {
     "data": {
      "text/plain": [
       "array([[1],\n",
       "       [2],\n",
       "       [3],\n",
       "       [4],\n",
       "       [5],\n",
       "       [6],\n",
       "       [7],\n",
       "       [8],\n",
       "       [9]])"
      ]
     },
     "execution_count": 47,
     "metadata": {},
     "output_type": "execute_result"
    }
   ],
   "execution_count": 47
  },
  {
   "metadata": {},
   "cell_type": "markdown",
   "source": "## Mathematical operations in Numpy",
   "id": "76d2952662f1d505"
  },
  {
   "metadata": {
    "ExecuteTime": {
     "end_time": "2024-10-20T18:16:56.275055Z",
     "start_time": "2024-10-20T18:16:56.251254Z"
    }
   },
   "cell_type": "code",
   "source": [
    "ar2=np.array([[2,56,6],[55,32,1],[45,22,56]])\n",
    "ar+ar2\n",
    "#numpy gives the advantages of matrix operations like mul,sub,add, etc\n",
    "#but in list in python it is not possible"
   ],
   "id": "6b2f4e04771f7032",
   "outputs": [
    {
     "data": {
      "text/plain": [
       "array([[ 3, 58,  9],\n",
       "       [59, 37,  7],\n",
       "       [52, 30, 65]])"
      ]
     },
     "execution_count": 48,
     "metadata": {},
     "output_type": "execute_result"
    }
   ],
   "execution_count": 48
  },
  {
   "metadata": {
    "ExecuteTime": {
     "end_time": "2024-10-20T18:19:43.883073Z",
     "start_time": "2024-10-20T18:19:43.874556Z"
    }
   },
   "cell_type": "code",
   "source": [
    "#list addition does not work .it gets extended only.\n",
    "[2,45]+[43,23]"
   ],
   "id": "ea4eec69224fc95e",
   "outputs": [
    {
     "data": {
      "text/plain": [
       "[2, 45, 43, 23]"
      ]
     },
     "execution_count": 49,
     "metadata": {},
     "output_type": "execute_result"
    }
   ],
   "execution_count": 49
  },
  {
   "metadata": {
    "ExecuteTime": {
     "end_time": "2024-10-20T18:20:16.674475Z",
     "start_time": "2024-10-20T18:20:16.663838Z"
    }
   },
   "cell_type": "code",
   "source": [
    "ar*ar2\n",
    "#element by element multiplication"
   ],
   "id": "cea915f07309cd4d",
   "outputs": [
    {
     "data": {
      "text/plain": [
       "array([[  2, 112,  18],\n",
       "       [220, 160,   6],\n",
       "       [315, 176, 504]])"
      ]
     },
     "execution_count": 50,
     "metadata": {},
     "output_type": "execute_result"
    }
   ],
   "execution_count": 50
  },
  {
   "metadata": {
    "ExecuteTime": {
     "end_time": "2024-10-20T18:21:58.951301Z",
     "start_time": "2024-10-20T18:21:58.934524Z"
    }
   },
   "cell_type": "code",
   "source": "np.sqrt(ar2)",
   "id": "7df28a1f5a49f2f9",
   "outputs": [
    {
     "data": {
      "text/plain": [
       "array([[1.41421356, 7.48331477, 2.44948974],\n",
       "       [7.41619849, 5.65685425, 1.        ],\n",
       "       [6.70820393, 4.69041576, 7.48331477]])"
      ]
     },
     "execution_count": 51,
     "metadata": {},
     "output_type": "execute_result"
    }
   ],
   "execution_count": 51
  },
  {
   "metadata": {
    "ExecuteTime": {
     "end_time": "2024-10-20T18:23:18.485771Z",
     "start_time": "2024-10-20T18:23:18.474489Z"
    }
   },
   "cell_type": "code",
   "source": "ar2.sum()",
   "id": "1bc81d6a4cbbd578",
   "outputs": [
    {
     "data": {
      "text/plain": [
       "275"
      ]
     },
     "execution_count": 54,
     "metadata": {},
     "output_type": "execute_result"
    }
   ],
   "execution_count": 54
  },
  {
   "metadata": {
    "ExecuteTime": {
     "end_time": "2024-10-20T18:23:23.564698Z",
     "start_time": "2024-10-20T18:23:23.548107Z"
    }
   },
   "cell_type": "code",
   "source": "ar2.max()",
   "id": "32cd7eae04cf51c2",
   "outputs": [
    {
     "data": {
      "text/plain": [
       "56"
      ]
     },
     "execution_count": 55,
     "metadata": {},
     "output_type": "execute_result"
    }
   ],
   "execution_count": 55
  },
  {
   "metadata": {
    "ExecuteTime": {
     "end_time": "2024-10-20T18:23:36.203371Z",
     "start_time": "2024-10-20T18:23:36.196197Z"
    }
   },
   "cell_type": "code",
   "source": "ar2.min()",
   "id": "b7a2a75ac5bf4a40",
   "outputs": [
    {
     "data": {
      "text/plain": [
       "1"
      ]
     },
     "execution_count": 56,
     "metadata": {},
     "output_type": "execute_result"
    }
   ],
   "execution_count": 56
  },
  {
   "metadata": {},
   "cell_type": "markdown",
   "source": "### how to find elements in a numpy array",
   "id": "5b1f79426b32045e"
  },
  {
   "metadata": {
    "ExecuteTime": {
     "end_time": "2024-10-20T18:32:33.830015Z",
     "start_time": "2024-10-20T18:32:33.818723Z"
    }
   },
   "cell_type": "code",
   "source": "ar2",
   "id": "81d9c72fb6024423",
   "outputs": [
    {
     "data": {
      "text/plain": [
       "array([[ 2, 56,  6],\n",
       "       [55, 32,  1],\n",
       "       [45, 22, 56]])"
      ]
     },
     "execution_count": 58,
     "metadata": {},
     "output_type": "execute_result"
    }
   ],
   "execution_count": 58
  },
  {
   "metadata": {
    "ExecuteTime": {
     "end_time": "2024-10-20T18:26:32.366983Z",
     "start_time": "2024-10-20T18:26:32.350717Z"
    }
   },
   "cell_type": "code",
   "source": "np.where(ar2>13)",
   "id": "c107a21b9ea6fe63",
   "outputs": [
    {
     "data": {
      "text/plain": [
       "(array([0, 1, 1, 2, 2, 2], dtype=int64),\n",
       " array([1, 0, 1, 0, 1, 2], dtype=int64))"
      ]
     },
     "execution_count": 57,
     "metadata": {},
     "output_type": "execute_result"
    }
   ],
   "execution_count": 57
  },
  {
   "metadata": {
    "ExecuteTime": {
     "end_time": "2024-10-20T18:34:58.853835Z",
     "start_time": "2024-10-20T18:34:58.831525Z"
    }
   },
   "cell_type": "code",
   "source": [
    "ar2[np.where(ar2>12)]\n",
    "#to get the array elements that satisfies the conditions instead of index"
   ],
   "id": "194d4bbc60621113",
   "outputs": [
    {
     "data": {
      "text/plain": [
       "array([56, 55, 32, 45, 22, 56])"
      ]
     },
     "execution_count": 62,
     "metadata": {},
     "output_type": "execute_result"
    }
   ],
   "execution_count": 62
  },
  {
   "metadata": {
    "ExecuteTime": {
     "end_time": "2024-10-20T18:37:10.909521Z",
     "start_time": "2024-10-20T18:37:10.902156Z"
    }
   },
   "cell_type": "code",
   "source": "np.count_nonzero(ar2)",
   "id": "4b49b83cb41548b0",
   "outputs": [
    {
     "data": {
      "text/plain": [
       "9"
      ]
     },
     "execution_count": 63,
     "metadata": {},
     "output_type": "execute_result"
    }
   ],
   "execution_count": 63
  },
  {
   "metadata": {
    "ExecuteTime": {
     "end_time": "2024-10-20T18:38:08.586875Z",
     "start_time": "2024-10-20T18:38:08.574862Z"
    }
   },
   "cell_type": "code",
   "source": "ar2[1,1]=0",
   "id": "cacddbfbf9c88d70",
   "outputs": [],
   "execution_count": 64
  },
  {
   "metadata": {
    "ExecuteTime": {
     "end_time": "2024-10-20T18:38:12.309806Z",
     "start_time": "2024-10-20T18:38:12.302729Z"
    }
   },
   "cell_type": "code",
   "source": "ar2",
   "id": "244026f3480bbc22",
   "outputs": [
    {
     "data": {
      "text/plain": [
       "array([[ 2, 56,  6],\n",
       "       [55,  0,  1],\n",
       "       [45, 22, 56]])"
      ]
     },
     "execution_count": 65,
     "metadata": {},
     "output_type": "execute_result"
    }
   ],
   "execution_count": 65
  },
  {
   "metadata": {},
   "cell_type": "code",
   "outputs": [],
   "execution_count": null,
   "source": "",
   "id": "bb08991936a7ea5b"
  },
  {
   "metadata": {},
   "cell_type": "markdown",
   "source": "## now we see how numpy takes less space ",
   "id": "12f18fe0754ba225"
  },
  {
   "metadata": {},
   "cell_type": "code",
   "outputs": [],
   "execution_count": null,
   "source": "import sys",
   "id": "be159be28249b0b5"
  },
  {
   "metadata": {
    "ExecuteTime": {
     "end_time": "2024-10-20T18:40:43.081328Z",
     "start_time": "2024-10-20T18:40:43.030292Z"
    }
   },
   "cell_type": "code",
   "source": "python_arr=[0,3,55,2]",
   "id": "491d27bab39aa3be",
   "outputs": [],
   "execution_count": 68
  },
  {
   "metadata": {
    "ExecuteTime": {
     "end_time": "2024-10-20T18:40:45.170492Z",
     "start_time": "2024-10-20T18:40:45.155953Z"
    }
   },
   "cell_type": "code",
   "source": "numpy_arr=np.array(python_arr)",
   "id": "ea53a55d55ac1332",
   "outputs": [],
   "execution_count": 69
  },
  {
   "metadata": {
    "ExecuteTime": {
     "end_time": "2024-10-20T18:42:20.958381Z",
     "start_time": "2024-10-20T18:42:20.945065Z"
    }
   },
   "cell_type": "code",
   "source": [
    "# calculating the size of python array\n",
    "sys.getsizeof(1)*len(python_arr)"
   ],
   "id": "1124d5cfda8825d2",
   "outputs": [
    {
     "data": {
      "text/plain": [
       "112"
      ]
     },
     "execution_count": 72,
     "metadata": {},
     "output_type": "execute_result"
    }
   ],
   "execution_count": 72
  },
  {
   "metadata": {
    "ExecuteTime": {
     "end_time": "2024-10-20T18:44:04.497532Z",
     "start_time": "2024-10-20T18:44:04.482396Z"
    }
   },
   "cell_type": "code",
   "source": [
    "#calculating the size of numpy array\n",
    "numpy_arr.itemsize *numpy_arr.size"
   ],
   "id": "a11b9927e255883e",
   "outputs": [
    {
     "data": {
      "text/plain": [
       "16"
      ]
     },
     "execution_count": 73,
     "metadata": {},
     "output_type": "execute_result"
    }
   ],
   "execution_count": 73
  },
  {
   "metadata": {
    "ExecuteTime": {
     "end_time": "2024-10-20T18:45:35.798017Z",
     "start_time": "2024-10-20T18:45:35.783380Z"
    }
   },
   "cell_type": "code",
   "source": [
    "# to convert numpy array into python list\n",
    "numpy_arr.tolist()"
   ],
   "id": "60948cc95cb9ed53",
   "outputs": [
    {
     "data": {
      "text/plain": [
       "[0, 3, 55, 2]"
      ]
     },
     "execution_count": 74,
     "metadata": {},
     "output_type": "execute_result"
    }
   ],
   "execution_count": 74
  },
  {
   "metadata": {
    "ExecuteTime": {
     "end_time": "2024-10-20T18:45:52.162733Z",
     "start_time": "2024-10-20T18:45:52.140077Z"
    }
   },
   "cell_type": "code",
   "source": "type(numpy_arr.tolist())",
   "id": "914a835dd93760d3",
   "outputs": [
    {
     "data": {
      "text/plain": [
       "list"
      ]
     },
     "execution_count": 75,
     "metadata": {},
     "output_type": "execute_result"
    }
   ],
   "execution_count": 75
  }
 ],
 "metadata": {
  "kernelspec": {
   "display_name": "Python 3",
   "language": "python",
   "name": "python3"
  },
  "language_info": {
   "codemirror_mode": {
    "name": "ipython",
    "version": 2
   },
   "file_extension": ".py",
   "mimetype": "text/x-python",
   "name": "python",
   "nbconvert_exporter": "python",
   "pygments_lexer": "ipython2",
   "version": "2.7.6"
  }
 },
 "nbformat": 4,
 "nbformat_minor": 5
}
