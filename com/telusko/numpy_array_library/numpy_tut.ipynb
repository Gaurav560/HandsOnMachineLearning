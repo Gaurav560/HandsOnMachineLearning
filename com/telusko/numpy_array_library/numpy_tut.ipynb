{
 "cells": [
  {
   "cell_type": "code",
   "id": "initial_id",
   "metadata": {
    "collapsed": true,
    "ExecuteTime": {
     "end_time": "2024-10-19T20:41:30.198580Z",
     "start_time": "2024-10-19T20:41:30.192522Z"
    }
   },
   "source": [
    "import numpy as np\n",
    "my_arr=np.array([[3,35,68,56]],np.int8)\n",
    "my_arr[0,2]"
   ],
   "outputs": [
    {
     "name": "stdout",
     "output_type": "stream",
     "text": [
      "68\n"
     ]
    },
    {
     "data": {
      "text/plain": [
       "(1, 4)"
      ]
     },
     "execution_count": 17,
     "metadata": {},
     "output_type": "execute_result"
    }
   ],
   "execution_count": 17
  },
  {
   "metadata": {
    "ExecuteTime": {
     "end_time": "2024-10-19T20:41:45.748250Z",
     "start_time": "2024-10-19T20:41:45.743153Z"
    }
   },
   "cell_type": "code",
   "source": "my_arr.shape",
   "id": "5074960d0d18018b",
   "outputs": [
    {
     "data": {
      "text/plain": [
       "(1, 4)"
      ]
     },
     "execution_count": 18,
     "metadata": {},
     "output_type": "execute_result"
    }
   ],
   "execution_count": 18
  },
  {
   "metadata": {
    "ExecuteTime": {
     "end_time": "2024-10-19T20:44:31.620726Z",
     "start_time": "2024-10-19T20:44:31.611965Z"
    }
   },
   "cell_type": "code",
   "source": "my_arr.dtype",
   "id": "dc55fcc70779d9fa",
   "outputs": [
    {
     "data": {
      "text/plain": [
       "dtype('int8')"
      ]
     },
     "execution_count": 19,
     "metadata": {},
     "output_type": "execute_result"
    }
   ],
   "execution_count": 19
  },
  {
   "metadata": {
    "ExecuteTime": {
     "end_time": "2024-10-19T20:52:49.429430Z",
     "start_time": "2024-10-19T20:52:49.414743Z"
    }
   },
   "cell_type": "code",
   "source": [
    "my_arr[0,2]=66\n",
    "my_arr"
   ],
   "id": "bceb13e0117b217a",
   "outputs": [
    {
     "data": {
      "text/plain": [
       "array([[ 3, 35, 66, 56]], dtype=int8)"
      ]
     },
     "execution_count": 22,
     "metadata": {},
     "output_type": "execute_result"
    }
   ],
   "execution_count": 22
  },
  {
   "metadata": {},
   "cell_type": "markdown",
   "source": [
    "# NumPy Array Creation Methods\n",
    "\n",
    "## Common methods:\n",
    "1. From a list\n",
    "2. Using `np.arange()`\n",
    "3. Using `np.zeros()` or `np.ones()`\n",
    "4. Using `np.linspace()`\n",
    "5. Using `np.random.rand()`\n",
    "\n",
    "**Bold text** and *italic text* are easy to create.\n",
    "\n",
    "You can also add code snippets:\n",
    "```python\n",
    "import numpy as np\n",
    "arr = np.array([1, 2, 3, 4])"
   ],
   "id": "a74e5c671b759e50"
  },
  {
   "metadata": {},
   "cell_type": "markdown",
   "source": "# Creating a numpy aaray: Conversion from other python structures",
   "id": "8c8d8c62feaca66b"
  },
  {
   "metadata": {
    "ExecuteTime": {
     "end_time": "2024-10-19T21:18:28.772981Z",
     "start_time": "2024-10-19T21:18:28.763103Z"
    }
   },
   "cell_type": "code",
   "source": [
    "list_array=np.array([[1,2,4],[2,4,2],[9,8,6]])\n",
    "list_array"
   ],
   "id": "6d9e2264c1c8aa00",
   "outputs": [
    {
     "data": {
      "text/plain": [
       "array([[1, 2, 4],\n",
       "       [2, 4, 2],\n",
       "       [9, 8, 6]])"
      ]
     },
     "execution_count": 24,
     "metadata": {},
     "output_type": "execute_result"
    }
   ],
   "execution_count": 24
  },
  {
   "metadata": {
    "ExecuteTime": {
     "end_time": "2024-10-19T21:19:13.745041Z",
     "start_time": "2024-10-19T21:19:13.734342Z"
    }
   },
   "cell_type": "code",
   "source": "list_array.dtype",
   "id": "df3cac08fac7d8aa",
   "outputs": [
    {
     "data": {
      "text/plain": [
       "dtype('int32')"
      ]
     },
     "execution_count": 25,
     "metadata": {},
     "output_type": "execute_result"
    }
   ],
   "execution_count": 25
  },
  {
   "metadata": {
    "ExecuteTime": {
     "end_time": "2024-10-19T21:19:15.487719Z",
     "start_time": "2024-10-19T21:19:15.465202Z"
    }
   },
   "cell_type": "code",
   "source": "list_array.shape",
   "id": "5ff2e627fa4fef3a",
   "outputs": [
    {
     "data": {
      "text/plain": [
       "(3, 3)"
      ]
     },
     "execution_count": 26,
     "metadata": {},
     "output_type": "execute_result"
    }
   ],
   "execution_count": 26
  },
  {
   "metadata": {
    "ExecuteTime": {
     "end_time": "2024-10-19T21:19:17.472691Z",
     "start_time": "2024-10-19T21:19:17.464941Z"
    }
   },
   "cell_type": "code",
   "source": "list_array.size",
   "id": "438a48eff4ad50cd",
   "outputs": [
    {
     "data": {
      "text/plain": [
       "9"
      ]
     },
     "execution_count": 27,
     "metadata": {},
     "output_type": "execute_result"
    }
   ],
   "execution_count": 27
  },
  {
   "metadata": {
    "ExecuteTime": {
     "end_time": "2024-10-19T21:20:03.261069Z",
     "start_time": "2024-10-19T21:20:03.253117Z"
    }
   },
   "cell_type": "code",
   "source": "np.array({34,24,23})",
   "id": "8596387666b87e64",
   "outputs": [
    {
     "data": {
      "text/plain": [
       "array({24, 34, 23}, dtype=object)"
      ]
     },
     "execution_count": 28,
     "metadata": {},
     "output_type": "execute_result"
    }
   ],
   "execution_count": 28
  },
  {
   "metadata": {},
   "cell_type": "markdown",
   "source": "# Creating a numpy array- through Intrinsic Numpy array Creation Objects",
   "id": "18ef42c3ceefcffe"
  },
  {
   "metadata": {
    "ExecuteTime": {
     "end_time": "2024-10-19T21:22:43.199569Z",
     "start_time": "2024-10-19T21:22:43.195427Z"
    }
   },
   "cell_type": "code",
   "source": "zeros=np.zeros((2,3))",
   "id": "6a744efacdc0d81f",
   "outputs": [],
   "execution_count": 33
  },
  {
   "metadata": {
    "ExecuteTime": {
     "end_time": "2024-10-19T21:22:50.288404Z",
     "start_time": "2024-10-19T21:22:50.282233Z"
    }
   },
   "cell_type": "code",
   "source": "zeros",
   "id": "104a6765750a6772",
   "outputs": [
    {
     "data": {
      "text/plain": [
       "array([[0., 0., 0.],\n",
       "       [0., 0., 0.]])"
      ]
     },
     "execution_count": 34,
     "metadata": {},
     "output_type": "execute_result"
    }
   ],
   "execution_count": 34
  },
  {
   "metadata": {
    "ExecuteTime": {
     "end_time": "2024-10-19T21:23:10.640036Z",
     "start_time": "2024-10-19T21:23:10.630987Z"
    }
   },
   "cell_type": "code",
   "source": "zeros.dtype",
   "id": "8c9a83d77713d64e",
   "outputs": [
    {
     "data": {
      "text/plain": [
       "dtype('float64')"
      ]
     },
     "execution_count": 35,
     "metadata": {},
     "output_type": "execute_result"
    }
   ],
   "execution_count": 35
  }
 ],
 "metadata": {
  "kernelspec": {
   "display_name": "Python 3",
   "language": "python",
   "name": "python3"
  },
  "language_info": {
   "codemirror_mode": {
    "name": "ipython",
    "version": 2
   },
   "file_extension": ".py",
   "mimetype": "text/x-python",
   "name": "python",
   "nbconvert_exporter": "python",
   "pygments_lexer": "ipython2",
   "version": "2.7.6"
  }
 },
 "nbformat": 4,
 "nbformat_minor": 5
}
